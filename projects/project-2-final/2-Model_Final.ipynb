{
 "cells": [
  {
   "cell_type": "code",
   "execution_count": 1,
   "metadata": {},
   "outputs": [],
   "source": [
    "import matplotlib.pyplot as plt\n",
    "import numpy as np\n",
    "import pandas as pd\n",
    "import seaborn as sns\n",
    "import statsmodels.api as sm\n",
    "from scipy import stats\n",
    "\n",
    "from sklearn.linear_model import LinearRegression, LogisticRegression, Ridge, Lasso, ElasticNet\n",
    "from sklearn.preprocessing import StandardScaler\n",
    "from sklearn.model_selection import train_test_split, GridSearchCV\n",
    "from sklearn.datasets import load_breast_cancer, load_digits, load_iris\n",
    "from sklearn.metrics import mean_squared_error\n",
    "\n",
    "from sklearn.compose import make_column_transformer\n",
    "from sklearn.impute import SimpleImputer, KNNImputer\n",
    "from sklearn.preprocessing import PolynomialFeatures, OrdinalEncoder\n",
    "\n",
    "from category_encoders import OneHotEncoder\n",
    "\n",
    "from sklearn.pipeline import make_pipeline\n",
    "import sklearn\n",
    "sklearn.set_config(display = 'diagram')\n",
    "from sklearn.feature_selection import RFE"
   ]
  },
  {
   "cell_type": "markdown",
   "metadata": {},
   "source": [
    "### Read in the data set:"
   ]
  },
  {
   "cell_type": "code",
   "execution_count": 2,
   "metadata": {},
   "outputs": [],
   "source": [
    "df = pd.read_csv('./datasets/train.csv')"
   ]
  },
  {
   "cell_type": "markdown",
   "metadata": {},
   "source": [
    "### Inspect Data:"
   ]
  },
  {
   "cell_type": "code",
   "execution_count": 3,
   "metadata": {},
   "outputs": [
    {
     "name": "stdout",
     "output_type": "stream",
     "text": [
      "<class 'pandas.core.frame.DataFrame'>\n",
      "RangeIndex: 2051 entries, 0 to 2050\n",
      "Data columns (total 81 columns):\n",
      " #   Column           Non-Null Count  Dtype  \n",
      "---  ------           --------------  -----  \n",
      " 0   Id               2051 non-null   int64  \n",
      " 1   PID              2051 non-null   int64  \n",
      " 2   MS SubClass      2051 non-null   int64  \n",
      " 3   MS Zoning        2051 non-null   object \n",
      " 4   Lot Frontage     1721 non-null   float64\n",
      " 5   Lot Area         2051 non-null   int64  \n",
      " 6   Street           2051 non-null   object \n",
      " 7   Alley            140 non-null    object \n",
      " 8   Lot Shape        2051 non-null   object \n",
      " 9   Land Contour     2051 non-null   object \n",
      " 10  Utilities        2051 non-null   object \n",
      " 11  Lot Config       2051 non-null   object \n",
      " 12  Land Slope       2051 non-null   object \n",
      " 13  Neighborhood     2051 non-null   object \n",
      " 14  Condition 1      2051 non-null   object \n",
      " 15  Condition 2      2051 non-null   object \n",
      " 16  Bldg Type        2051 non-null   object \n",
      " 17  House Style      2051 non-null   object \n",
      " 18  Overall Qual     2051 non-null   int64  \n",
      " 19  Overall Cond     2051 non-null   int64  \n",
      " 20  Year Built       2051 non-null   int64  \n",
      " 21  Year Remod/Add   2051 non-null   int64  \n",
      " 22  Roof Style       2051 non-null   object \n",
      " 23  Roof Matl        2051 non-null   object \n",
      " 24  Exterior 1st     2051 non-null   object \n",
      " 25  Exterior 2nd     2051 non-null   object \n",
      " 26  Mas Vnr Type     2029 non-null   object \n",
      " 27  Mas Vnr Area     2029 non-null   float64\n",
      " 28  Exter Qual       2051 non-null   object \n",
      " 29  Exter Cond       2051 non-null   object \n",
      " 30  Foundation       2051 non-null   object \n",
      " 31  Bsmt Qual        1996 non-null   object \n",
      " 32  Bsmt Cond        1996 non-null   object \n",
      " 33  Bsmt Exposure    1993 non-null   object \n",
      " 34  BsmtFin Type 1   1996 non-null   object \n",
      " 35  BsmtFin SF 1     2050 non-null   float64\n",
      " 36  BsmtFin Type 2   1995 non-null   object \n",
      " 37  BsmtFin SF 2     2050 non-null   float64\n",
      " 38  Bsmt Unf SF      2050 non-null   float64\n",
      " 39  Total Bsmt SF    2050 non-null   float64\n",
      " 40  Heating          2051 non-null   object \n",
      " 41  Heating QC       2051 non-null   object \n",
      " 42  Central Air      2051 non-null   object \n",
      " 43  Electrical       2051 non-null   object \n",
      " 44  1st Flr SF       2051 non-null   int64  \n",
      " 45  2nd Flr SF       2051 non-null   int64  \n",
      " 46  Low Qual Fin SF  2051 non-null   int64  \n",
      " 47  Gr Liv Area      2051 non-null   int64  \n",
      " 48  Bsmt Full Bath   2049 non-null   float64\n",
      " 49  Bsmt Half Bath   2049 non-null   float64\n",
      " 50  Full Bath        2051 non-null   int64  \n",
      " 51  Half Bath        2051 non-null   int64  \n",
      " 52  Bedroom AbvGr    2051 non-null   int64  \n",
      " 53  Kitchen AbvGr    2051 non-null   int64  \n",
      " 54  Kitchen Qual     2051 non-null   object \n",
      " 55  TotRms AbvGrd    2051 non-null   int64  \n",
      " 56  Functional       2051 non-null   object \n",
      " 57  Fireplaces       2051 non-null   int64  \n",
      " 58  Fireplace Qu     1051 non-null   object \n",
      " 59  Garage Type      1938 non-null   object \n",
      " 60  Garage Yr Blt    1937 non-null   float64\n",
      " 61  Garage Finish    1937 non-null   object \n",
      " 62  Garage Cars      2050 non-null   float64\n",
      " 63  Garage Area      2050 non-null   float64\n",
      " 64  Garage Qual      1937 non-null   object \n",
      " 65  Garage Cond      1937 non-null   object \n",
      " 66  Paved Drive      2051 non-null   object \n",
      " 67  Wood Deck SF     2051 non-null   int64  \n",
      " 68  Open Porch SF    2051 non-null   int64  \n",
      " 69  Enclosed Porch   2051 non-null   int64  \n",
      " 70  3Ssn Porch       2051 non-null   int64  \n",
      " 71  Screen Porch     2051 non-null   int64  \n",
      " 72  Pool Area        2051 non-null   int64  \n",
      " 73  Pool QC          9 non-null      object \n",
      " 74  Fence            400 non-null    object \n",
      " 75  Misc Feature     65 non-null     object \n",
      " 76  Misc Val         2051 non-null   int64  \n",
      " 77  Mo Sold          2051 non-null   int64  \n",
      " 78  Yr Sold          2051 non-null   int64  \n",
      " 79  Sale Type        2051 non-null   object \n",
      " 80  SalePrice        2051 non-null   int64  \n",
      "dtypes: float64(11), int64(28), object(42)\n",
      "memory usage: 1.3+ MB\n"
     ]
    }
   ],
   "source": [
    "pd.options.display.max_rows = None\n",
    "\n",
    "df.info()"
   ]
  },
  {
   "cell_type": "code",
   "execution_count": 4,
   "metadata": {},
   "outputs": [
    {
     "data": {
      "text/html": [
       "<div>\n",
       "<style scoped>\n",
       "    .dataframe tbody tr th:only-of-type {\n",
       "        vertical-align: middle;\n",
       "    }\n",
       "\n",
       "    .dataframe tbody tr th {\n",
       "        vertical-align: top;\n",
       "    }\n",
       "\n",
       "    .dataframe thead th {\n",
       "        text-align: right;\n",
       "    }\n",
       "</style>\n",
       "<table border=\"1\" class=\"dataframe\">\n",
       "  <thead>\n",
       "    <tr style=\"text-align: right;\">\n",
       "      <th></th>\n",
       "      <th>Id</th>\n",
       "      <th>PID</th>\n",
       "      <th>MS SubClass</th>\n",
       "      <th>Lot Frontage</th>\n",
       "      <th>Lot Area</th>\n",
       "      <th>Overall Qual</th>\n",
       "      <th>Overall Cond</th>\n",
       "      <th>Year Built</th>\n",
       "      <th>Year Remod/Add</th>\n",
       "      <th>Mas Vnr Area</th>\n",
       "      <th>...</th>\n",
       "      <th>Wood Deck SF</th>\n",
       "      <th>Open Porch SF</th>\n",
       "      <th>Enclosed Porch</th>\n",
       "      <th>3Ssn Porch</th>\n",
       "      <th>Screen Porch</th>\n",
       "      <th>Pool Area</th>\n",
       "      <th>Misc Val</th>\n",
       "      <th>Mo Sold</th>\n",
       "      <th>Yr Sold</th>\n",
       "      <th>SalePrice</th>\n",
       "    </tr>\n",
       "  </thead>\n",
       "  <tbody>\n",
       "    <tr>\n",
       "      <th>count</th>\n",
       "      <td>2051.000000</td>\n",
       "      <td>2.051000e+03</td>\n",
       "      <td>2051.000000</td>\n",
       "      <td>1721.000000</td>\n",
       "      <td>2051.000000</td>\n",
       "      <td>2051.000000</td>\n",
       "      <td>2051.000000</td>\n",
       "      <td>2051.000000</td>\n",
       "      <td>2051.000000</td>\n",
       "      <td>2029.000000</td>\n",
       "      <td>...</td>\n",
       "      <td>2051.000000</td>\n",
       "      <td>2051.000000</td>\n",
       "      <td>2051.000000</td>\n",
       "      <td>2051.000000</td>\n",
       "      <td>2051.000000</td>\n",
       "      <td>2051.000000</td>\n",
       "      <td>2051.000000</td>\n",
       "      <td>2051.000000</td>\n",
       "      <td>2051.000000</td>\n",
       "      <td>2051.000000</td>\n",
       "    </tr>\n",
       "    <tr>\n",
       "      <th>mean</th>\n",
       "      <td>1474.033642</td>\n",
       "      <td>7.135900e+08</td>\n",
       "      <td>57.008776</td>\n",
       "      <td>69.055200</td>\n",
       "      <td>10065.208191</td>\n",
       "      <td>6.112140</td>\n",
       "      <td>5.562165</td>\n",
       "      <td>1971.708922</td>\n",
       "      <td>1984.190151</td>\n",
       "      <td>99.695909</td>\n",
       "      <td>...</td>\n",
       "      <td>93.833740</td>\n",
       "      <td>47.556802</td>\n",
       "      <td>22.571916</td>\n",
       "      <td>2.591419</td>\n",
       "      <td>16.511458</td>\n",
       "      <td>2.397855</td>\n",
       "      <td>51.574354</td>\n",
       "      <td>6.219893</td>\n",
       "      <td>2007.775719</td>\n",
       "      <td>181469.701609</td>\n",
       "    </tr>\n",
       "    <tr>\n",
       "      <th>std</th>\n",
       "      <td>843.980841</td>\n",
       "      <td>1.886918e+08</td>\n",
       "      <td>42.824223</td>\n",
       "      <td>23.260653</td>\n",
       "      <td>6742.488909</td>\n",
       "      <td>1.426271</td>\n",
       "      <td>1.104497</td>\n",
       "      <td>30.177889</td>\n",
       "      <td>21.036250</td>\n",
       "      <td>174.963129</td>\n",
       "      <td>...</td>\n",
       "      <td>128.549416</td>\n",
       "      <td>66.747241</td>\n",
       "      <td>59.845110</td>\n",
       "      <td>25.229615</td>\n",
       "      <td>57.374204</td>\n",
       "      <td>37.782570</td>\n",
       "      <td>573.393985</td>\n",
       "      <td>2.744736</td>\n",
       "      <td>1.312014</td>\n",
       "      <td>79258.659352</td>\n",
       "    </tr>\n",
       "    <tr>\n",
       "      <th>min</th>\n",
       "      <td>1.000000</td>\n",
       "      <td>5.263011e+08</td>\n",
       "      <td>20.000000</td>\n",
       "      <td>21.000000</td>\n",
       "      <td>1300.000000</td>\n",
       "      <td>1.000000</td>\n",
       "      <td>1.000000</td>\n",
       "      <td>1872.000000</td>\n",
       "      <td>1950.000000</td>\n",
       "      <td>0.000000</td>\n",
       "      <td>...</td>\n",
       "      <td>0.000000</td>\n",
       "      <td>0.000000</td>\n",
       "      <td>0.000000</td>\n",
       "      <td>0.000000</td>\n",
       "      <td>0.000000</td>\n",
       "      <td>0.000000</td>\n",
       "      <td>0.000000</td>\n",
       "      <td>1.000000</td>\n",
       "      <td>2006.000000</td>\n",
       "      <td>12789.000000</td>\n",
       "    </tr>\n",
       "    <tr>\n",
       "      <th>25%</th>\n",
       "      <td>753.500000</td>\n",
       "      <td>5.284581e+08</td>\n",
       "      <td>20.000000</td>\n",
       "      <td>58.000000</td>\n",
       "      <td>7500.000000</td>\n",
       "      <td>5.000000</td>\n",
       "      <td>5.000000</td>\n",
       "      <td>1953.500000</td>\n",
       "      <td>1964.500000</td>\n",
       "      <td>0.000000</td>\n",
       "      <td>...</td>\n",
       "      <td>0.000000</td>\n",
       "      <td>0.000000</td>\n",
       "      <td>0.000000</td>\n",
       "      <td>0.000000</td>\n",
       "      <td>0.000000</td>\n",
       "      <td>0.000000</td>\n",
       "      <td>0.000000</td>\n",
       "      <td>4.000000</td>\n",
       "      <td>2007.000000</td>\n",
       "      <td>129825.000000</td>\n",
       "    </tr>\n",
       "    <tr>\n",
       "      <th>50%</th>\n",
       "      <td>1486.000000</td>\n",
       "      <td>5.354532e+08</td>\n",
       "      <td>50.000000</td>\n",
       "      <td>68.000000</td>\n",
       "      <td>9430.000000</td>\n",
       "      <td>6.000000</td>\n",
       "      <td>5.000000</td>\n",
       "      <td>1974.000000</td>\n",
       "      <td>1993.000000</td>\n",
       "      <td>0.000000</td>\n",
       "      <td>...</td>\n",
       "      <td>0.000000</td>\n",
       "      <td>27.000000</td>\n",
       "      <td>0.000000</td>\n",
       "      <td>0.000000</td>\n",
       "      <td>0.000000</td>\n",
       "      <td>0.000000</td>\n",
       "      <td>0.000000</td>\n",
       "      <td>6.000000</td>\n",
       "      <td>2008.000000</td>\n",
       "      <td>162500.000000</td>\n",
       "    </tr>\n",
       "    <tr>\n",
       "      <th>75%</th>\n",
       "      <td>2198.000000</td>\n",
       "      <td>9.071801e+08</td>\n",
       "      <td>70.000000</td>\n",
       "      <td>80.000000</td>\n",
       "      <td>11513.500000</td>\n",
       "      <td>7.000000</td>\n",
       "      <td>6.000000</td>\n",
       "      <td>2001.000000</td>\n",
       "      <td>2004.000000</td>\n",
       "      <td>161.000000</td>\n",
       "      <td>...</td>\n",
       "      <td>168.000000</td>\n",
       "      <td>70.000000</td>\n",
       "      <td>0.000000</td>\n",
       "      <td>0.000000</td>\n",
       "      <td>0.000000</td>\n",
       "      <td>0.000000</td>\n",
       "      <td>0.000000</td>\n",
       "      <td>8.000000</td>\n",
       "      <td>2009.000000</td>\n",
       "      <td>214000.000000</td>\n",
       "    </tr>\n",
       "    <tr>\n",
       "      <th>max</th>\n",
       "      <td>2930.000000</td>\n",
       "      <td>9.241520e+08</td>\n",
       "      <td>190.000000</td>\n",
       "      <td>313.000000</td>\n",
       "      <td>159000.000000</td>\n",
       "      <td>10.000000</td>\n",
       "      <td>9.000000</td>\n",
       "      <td>2010.000000</td>\n",
       "      <td>2010.000000</td>\n",
       "      <td>1600.000000</td>\n",
       "      <td>...</td>\n",
       "      <td>1424.000000</td>\n",
       "      <td>547.000000</td>\n",
       "      <td>432.000000</td>\n",
       "      <td>508.000000</td>\n",
       "      <td>490.000000</td>\n",
       "      <td>800.000000</td>\n",
       "      <td>17000.000000</td>\n",
       "      <td>12.000000</td>\n",
       "      <td>2010.000000</td>\n",
       "      <td>611657.000000</td>\n",
       "    </tr>\n",
       "  </tbody>\n",
       "</table>\n",
       "<p>8 rows × 39 columns</p>\n",
       "</div>"
      ],
      "text/plain": [
       "                Id           PID  MS SubClass  Lot Frontage       Lot Area  \\\n",
       "count  2051.000000  2.051000e+03  2051.000000   1721.000000    2051.000000   \n",
       "mean   1474.033642  7.135900e+08    57.008776     69.055200   10065.208191   \n",
       "std     843.980841  1.886918e+08    42.824223     23.260653    6742.488909   \n",
       "min       1.000000  5.263011e+08    20.000000     21.000000    1300.000000   \n",
       "25%     753.500000  5.284581e+08    20.000000     58.000000    7500.000000   \n",
       "50%    1486.000000  5.354532e+08    50.000000     68.000000    9430.000000   \n",
       "75%    2198.000000  9.071801e+08    70.000000     80.000000   11513.500000   \n",
       "max    2930.000000  9.241520e+08   190.000000    313.000000  159000.000000   \n",
       "\n",
       "       Overall Qual  Overall Cond   Year Built  Year Remod/Add  Mas Vnr Area  \\\n",
       "count   2051.000000   2051.000000  2051.000000     2051.000000   2029.000000   \n",
       "mean       6.112140      5.562165  1971.708922     1984.190151     99.695909   \n",
       "std        1.426271      1.104497    30.177889       21.036250    174.963129   \n",
       "min        1.000000      1.000000  1872.000000     1950.000000      0.000000   \n",
       "25%        5.000000      5.000000  1953.500000     1964.500000      0.000000   \n",
       "50%        6.000000      5.000000  1974.000000     1993.000000      0.000000   \n",
       "75%        7.000000      6.000000  2001.000000     2004.000000    161.000000   \n",
       "max       10.000000      9.000000  2010.000000     2010.000000   1600.000000   \n",
       "\n",
       "       ...  Wood Deck SF  Open Porch SF  Enclosed Porch   3Ssn Porch  \\\n",
       "count  ...   2051.000000    2051.000000     2051.000000  2051.000000   \n",
       "mean   ...     93.833740      47.556802       22.571916     2.591419   \n",
       "std    ...    128.549416      66.747241       59.845110    25.229615   \n",
       "min    ...      0.000000       0.000000        0.000000     0.000000   \n",
       "25%    ...      0.000000       0.000000        0.000000     0.000000   \n",
       "50%    ...      0.000000      27.000000        0.000000     0.000000   \n",
       "75%    ...    168.000000      70.000000        0.000000     0.000000   \n",
       "max    ...   1424.000000     547.000000      432.000000   508.000000   \n",
       "\n",
       "       Screen Porch    Pool Area      Misc Val      Mo Sold      Yr Sold  \\\n",
       "count   2051.000000  2051.000000   2051.000000  2051.000000  2051.000000   \n",
       "mean      16.511458     2.397855     51.574354     6.219893  2007.775719   \n",
       "std       57.374204    37.782570    573.393985     2.744736     1.312014   \n",
       "min        0.000000     0.000000      0.000000     1.000000  2006.000000   \n",
       "25%        0.000000     0.000000      0.000000     4.000000  2007.000000   \n",
       "50%        0.000000     0.000000      0.000000     6.000000  2008.000000   \n",
       "75%        0.000000     0.000000      0.000000     8.000000  2009.000000   \n",
       "max      490.000000   800.000000  17000.000000    12.000000  2010.000000   \n",
       "\n",
       "           SalePrice  \n",
       "count    2051.000000  \n",
       "mean   181469.701609  \n",
       "std     79258.659352  \n",
       "min     12789.000000  \n",
       "25%    129825.000000  \n",
       "50%    162500.000000  \n",
       "75%    214000.000000  \n",
       "max    611657.000000  \n",
       "\n",
       "[8 rows x 39 columns]"
      ]
     },
     "execution_count": 4,
     "metadata": {},
     "output_type": "execute_result"
    }
   ],
   "source": [
    "df.describe()"
   ]
  },
  {
   "cell_type": "markdown",
   "metadata": {},
   "source": [
    "### Data Cleaning:"
   ]
  },
  {
   "cell_type": "code",
   "execution_count": 5,
   "metadata": {},
   "outputs": [],
   "source": [
    "# data description of 'MS SubClass' --> (Nominal): Identifies the type of dwelling involved in the sale.\n",
    "# Showing in data set as an int, converting to object to use as classes\n",
    "\n",
    "df_clean = df\n",
    "df_clean['MS SubClass'] = df_clean['MS SubClass'].astype('object')"
   ]
  },
  {
   "cell_type": "code",
   "execution_count": 6,
   "metadata": {},
   "outputs": [
    {
     "data": {
      "text/plain": [
       "(2049, 81)"
      ]
     },
     "execution_count": 6,
     "metadata": {},
     "output_type": "execute_result"
    }
   ],
   "source": [
    "# 'Total Bsmt SF' and 'Garage Area' both have 1 NaN value each.\n",
    "# Deleting both rows --> data set from 2051 to 2049\n",
    "\n",
    "df_clean = df_clean[df_clean['Total Bsmt SF'].notna()]\n",
    "df_clean = df_clean[df_clean['Garage Area'].notna()]\n",
    "df_clean.shape"
   ]
  },
  {
   "cell_type": "code",
   "execution_count": 7,
   "metadata": {},
   "outputs": [
    {
     "data": {
      "text/plain": [
       "''"
      ]
     },
     "execution_count": 7,
     "metadata": {},
     "output_type": "execute_result"
    },
    {
     "data": {
      "image/png": "[encoded data removed]",
      "text/plain": [
       "<Figure size 720x504 with 1 Axes>"
      ]
     },
     "metadata": {
      "needs_background": "light"
     },
     "output_type": "display_data"
    }
   ],
   "source": [
    "# from data dictionary:\n",
    "# SPECIAL NOTES: There are 5 observations that an instructor may wish to remove from the data set before giving it to students (a plot of SALE PRICE versus GR LIV AREA will indicate them quickly). \n",
    "# Three of them are true outliers (Partial Sales that likely don’t represent actual market values) and two of them are simply unusual sales (very large houses priced relatively appropriately). \n",
    "# I would recommend removing any houses with more than 4000 square feet from the data set (which eliminates these 5 unusual observations) before assigning it to students.\n",
    "\n",
    "plt.figure(figsize = (10, 7))\n",
    "sns.scatterplot(data = df_clean, x = 'Gr Liv Area', y ='SalePrice')\n",
    "plt.title('Gr Liv Area and SalePrice')\n",
    ";"
   ]
  },
  {
   "cell_type": "code",
   "execution_count": 8,
   "metadata": {},
   "outputs": [
    {
     "data": {
      "text/plain": [
       "(2047, 81)"
      ]
     },
     "execution_count": 8,
     "metadata": {},
     "output_type": "execute_result"
    }
   ],
   "source": [
    "# Two outliers remain in the test data, remvoing to improve model as these will skew my results.\n",
    "\n",
    "df_clean = df_clean[df_clean['Gr Liv Area'] < 4000]\n",
    "df_clean.shape"
   ]
  },
  {
   "cell_type": "markdown",
   "metadata": {},
   "source": [
    "### Create X and y:"
   ]
  },
  {
   "cell_type": "code",
   "execution_count": 9,
   "metadata": {},
   "outputs": [],
   "source": [
    "X = df_clean[['Gr Liv Area', 'Overall Qual', 'Total Bsmt SF', 'Garage Area', 'Neighborhood', 'MS SubClass']]\n",
    "y = df_clean['SalePrice']"
   ]
  },
  {
   "cell_type": "code",
   "execution_count": 10,
   "metadata": {},
   "outputs": [
    {
     "data": {
      "image/png": "[encoded data removed]",
      "text/plain": [
       "<Figure size 720x504 with 2 Axes>"
      ]
     },
     "metadata": {
      "needs_background": "light"
     },
     "output_type": "display_data"
    }
   ],
   "source": [
    "# Checking to see if any columns are highly correlated to each other.\n",
    "# Overall Qual has some overlap, but believe it's an important feature.\n",
    "\n",
    "plt.figure(figsize = (10, 7))\n",
    "sns.heatmap(X.corr(), annot = True);"
   ]
  },
  {
   "cell_type": "code",
   "execution_count": 11,
   "metadata": {},
   "outputs": [
    {
     "data": {
      "image/png": "[encoded data removed]",
      "text/plain": [
       "<Figure size 576x432 with 2 Axes>"
      ]
     },
     "metadata": {
      "needs_background": "light"
     },
     "output_type": "display_data"
    }
   ],
   "source": [
    "# Heatmap of correlation between selected columns and Sale Price (numerical columns only)\n",
    "\n",
    "numerical_df = df_clean[['Gr Liv Area', 'Overall Qual', 'Total Bsmt SF', 'Garage Area', 'SalePrice']]\n",
    "\n",
    "\n",
    "plt.figure(figsize=(8,6))\n",
    "sns.heatmap(numerical_df.corr()[['SalePrice']].sort_values(by='SalePrice'), annot=True);"
   ]
  },
  {
   "cell_type": "code",
   "execution_count": 12,
   "metadata": {},
   "outputs": [],
   "source": [
    "X_train, X_test, y_train, y_test = train_test_split(X, y, random_state = 45)"
   ]
  },
  {
   "cell_type": "markdown",
   "metadata": {},
   "source": [
    "### Check to see if p values are low (all columns are significant):"
   ]
  },
  {
   "cell_type": "code",
   "execution_count": 13,
   "metadata": {},
   "outputs": [],
   "source": [
    "# Must OHE before running ols summary and removing one column as the reference column.\n",
    "\n",
    "ohe = OneHotEncoder(use_cat_names = True)"
   ]
  },
  {
   "cell_type": "code",
   "execution_count": 14,
   "metadata": {},
   "outputs": [
    {
     "name": "stderr",
     "output_type": "stream",
     "text": [
      "C:\\Users\\Lindsey\\anaconda3\\lib\\site-packages\\category_encoders\\utils.py:21: FutureWarning: is_categorical is deprecated and will be removed in a future version.  Use is_categorical_dtype instead\n",
      "  elif pd.api.types.is_categorical(cols):\n"
     ]
    }
   ],
   "source": [
    "X_train_encoded = ohe.fit_transform(X_train)\n",
    "X_test_encoded = ohe.transform(X_test)"
   ]
  },
  {
   "cell_type": "code",
   "execution_count": 15,
   "metadata": {},
   "outputs": [
    {
     "data": {
      "text/plain": [
       "Index(['Gr Liv Area', 'Overall Qual', 'Total Bsmt SF', 'Garage Area',\n",
       "       'Neighborhood_OldTown', 'Neighborhood_Edwards', 'Neighborhood_NAmes',\n",
       "       'Neighborhood_NWAmes', 'Neighborhood_StoneBr', 'Neighborhood_CollgCr',\n",
       "       'Neighborhood_Timber', 'Neighborhood_Crawfor', 'Neighborhood_NridgHt',\n",
       "       'Neighborhood_IDOTRR', 'Neighborhood_Sawyer', 'Neighborhood_MeadowV',\n",
       "       'Neighborhood_Veenker', 'Neighborhood_NPkVill', 'Neighborhood_Gilbert',\n",
       "       'Neighborhood_Mitchel', 'Neighborhood_BrkSide', 'Neighborhood_SawyerW',\n",
       "       'Neighborhood_NoRidge', 'Neighborhood_Somerst', 'Neighborhood_BrDale',\n",
       "       'Neighborhood_Blueste', 'Neighborhood_SWISU', 'Neighborhood_Landmrk',\n",
       "       'Neighborhood_Blmngtn', 'Neighborhood_ClearCr', 'Neighborhood_GrnHill',\n",
       "       'Neighborhood_Greens', 'MS SubClass_50.0', 'MS SubClass_20.0',\n",
       "       'MS SubClass_120.0', 'MS SubClass_60.0', 'MS SubClass_30.0',\n",
       "       'MS SubClass_70.0', 'MS SubClass_180.0', 'MS SubClass_90.0',\n",
       "       'MS SubClass_160.0', 'MS SubClass_45.0', 'MS SubClass_190.0',\n",
       "       'MS SubClass_85.0', 'MS SubClass_80.0', 'MS SubClass_40.0',\n",
       "       'MS SubClass_75.0'],\n",
       "      dtype='object')"
      ]
     },
     "execution_count": 15,
     "metadata": {},
     "output_type": "execute_result"
    }
   ],
   "source": [
    "X_train_encoded.columns"
   ]
  },
  {
   "cell_type": "code",
   "execution_count": 16,
   "metadata": {},
   "outputs": [],
   "source": [
    "X_train_encoded.drop(['Neighborhood_Sawyer', 'MS SubClass_60.0'], axis = 1, inplace = True)\n",
    "X_test_encoded.drop(['Neighborhood_Sawyer', 'MS SubClass_60.0'], axis = 1, inplace = True)"
   ]
  },
  {
   "cell_type": "code",
   "execution_count": 17,
   "metadata": {},
   "outputs": [],
   "source": [
    "X_train_encoded_const = sm.add_constant(X_train_encoded)"
   ]
  },
  {
   "cell_type": "code",
   "execution_count": 18,
   "metadata": {},
   "outputs": [],
   "source": [
    "model = sm.OLS(y_train, X_train_encoded_const).fit()"
   ]
  },
  {
   "cell_type": "code",
   "execution_count": 19,
   "metadata": {},
   "outputs": [
    {
     "data": {
      "text/html": [
       "<table class=\"simpletable\">\n",
       "<caption>OLS Regression Results</caption>\n",
       "<tr>\n",
       "  <th>Dep. Variable:</th>        <td>SalePrice</td>    <th>  R-squared:         </th> <td>   0.863</td> \n",
       "</tr>\n",
       "<tr>\n",
       "  <th>Model:</th>                   <td>OLS</td>       <th>  Adj. R-squared:    </th> <td>   0.858</td> \n",
       "</tr>\n",
       "<tr>\n",
       "  <th>Method:</th>             <td>Least Squares</td>  <th>  F-statistic:       </th> <td>   207.7</td> \n",
       "</tr>\n",
       "<tr>\n",
       "  <th>Date:</th>             <td>Mon, 19 Apr 2021</td> <th>  Prob (F-statistic):</th>  <td>  0.00</td>  \n",
       "</tr>\n",
       "<tr>\n",
       "  <th>Time:</th>                 <td>19:58:36</td>     <th>  Log-Likelihood:    </th> <td> -17915.</td> \n",
       "</tr>\n",
       "<tr>\n",
       "  <th>No. Observations:</th>      <td>  1535</td>      <th>  AIC:               </th> <td>3.592e+04</td>\n",
       "</tr>\n",
       "<tr>\n",
       "  <th>Df Residuals:</th>          <td>  1489</td>      <th>  BIC:               </th> <td>3.617e+04</td>\n",
       "</tr>\n",
       "<tr>\n",
       "  <th>Df Model:</th>              <td>    45</td>      <th>                     </th>     <td> </td>    \n",
       "</tr>\n",
       "<tr>\n",
       "  <th>Covariance Type:</th>      <td>nonrobust</td>    <th>                     </th>     <td> </td>    \n",
       "</tr>\n",
       "</table>\n",
       "<table class=\"simpletable\">\n",
       "<tr>\n",
       "            <td></td>              <th>coef</th>     <th>std err</th>      <th>t</th>      <th>P>|t|</th>  <th>[0.025</th>    <th>0.975]</th>  \n",
       "</tr>\n",
       "<tr>\n",
       "  <th>const</th>                <td>-4.913e+04</td> <td> 6363.735</td> <td>   -7.720</td> <td> 0.000</td> <td>-6.16e+04</td> <td>-3.66e+04</td>\n",
       "</tr>\n",
       "<tr>\n",
       "  <th>Gr Liv Area</th>          <td>   52.9466</td> <td>    2.787</td> <td>   18.999</td> <td> 0.000</td> <td>   47.480</td> <td>   58.413</td>\n",
       "</tr>\n",
       "<tr>\n",
       "  <th>Overall Qual</th>         <td> 1.689e+04</td> <td>  931.080</td> <td>   18.138</td> <td> 0.000</td> <td> 1.51e+04</td> <td> 1.87e+04</td>\n",
       "</tr>\n",
       "<tr>\n",
       "  <th>Total Bsmt SF</th>        <td>   29.5361</td> <td>    2.837</td> <td>   10.410</td> <td> 0.000</td> <td>   23.971</td> <td>   35.101</td>\n",
       "</tr>\n",
       "<tr>\n",
       "  <th>Garage Area</th>          <td>   35.4486</td> <td>    4.772</td> <td>    7.428</td> <td> 0.000</td> <td>   26.087</td> <td>   44.810</td>\n",
       "</tr>\n",
       "<tr>\n",
       "  <th>Neighborhood_OldTown</th> <td> -1.49e+04</td> <td> 4631.329</td> <td>   -3.217</td> <td> 0.001</td> <td> -2.4e+04</td> <td>-5815.067</td>\n",
       "</tr>\n",
       "<tr>\n",
       "  <th>Neighborhood_Edwards</th> <td>-1244.4689</td> <td> 4304.475</td> <td>   -0.289</td> <td> 0.773</td> <td>-9687.948</td> <td> 7199.010</td>\n",
       "</tr>\n",
       "<tr>\n",
       "  <th>Neighborhood_NAmes</th>   <td>-4570.5255</td> <td> 3621.478</td> <td>   -1.262</td> <td> 0.207</td> <td>-1.17e+04</td> <td> 2533.216</td>\n",
       "</tr>\n",
       "<tr>\n",
       "  <th>Neighborhood_NWAmes</th>  <td>-9827.0322</td> <td> 5047.876</td> <td>   -1.947</td> <td> 0.052</td> <td>-1.97e+04</td> <td>   74.672</td>\n",
       "</tr>\n",
       "<tr>\n",
       "  <th>Neighborhood_StoneBr</th> <td> 7.451e+04</td> <td> 7015.114</td> <td>   10.621</td> <td> 0.000</td> <td> 6.07e+04</td> <td> 8.83e+04</td>\n",
       "</tr>\n",
       "<tr>\n",
       "  <th>Neighborhood_CollgCr</th> <td> 4712.0513</td> <td> 4290.497</td> <td>    1.098</td> <td> 0.272</td> <td>-3704.010</td> <td> 1.31e+04</td>\n",
       "</tr>\n",
       "<tr>\n",
       "  <th>Neighborhood_Timber</th>  <td> 1.828e+04</td> <td> 6254.910</td> <td>    2.922</td> <td> 0.004</td> <td> 6009.458</td> <td> 3.05e+04</td>\n",
       "</tr>\n",
       "<tr>\n",
       "  <th>Neighborhood_Crawfor</th> <td> 2.415e+04</td> <td> 5575.692</td> <td>    4.332</td> <td> 0.000</td> <td> 1.32e+04</td> <td> 3.51e+04</td>\n",
       "</tr>\n",
       "<tr>\n",
       "  <th>Neighborhood_NridgHt</th> <td> 5.779e+04</td> <td> 5387.454</td> <td>   10.726</td> <td> 0.000</td> <td> 4.72e+04</td> <td> 6.84e+04</td>\n",
       "</tr>\n",
       "<tr>\n",
       "  <th>Neighborhood_IDOTRR</th>  <td>-1.302e+04</td> <td> 5698.130</td> <td>   -2.286</td> <td> 0.022</td> <td>-2.42e+04</td> <td>-1846.264</td>\n",
       "</tr>\n",
       "<tr>\n",
       "  <th>Neighborhood_MeadowV</th> <td> 1.582e+04</td> <td> 8867.846</td> <td>    1.784</td> <td> 0.075</td> <td>-1575.091</td> <td> 3.32e+04</td>\n",
       "</tr>\n",
       "<tr>\n",
       "  <th>Neighborhood_Veenker</th> <td> 1.948e+04</td> <td> 8611.465</td> <td>    2.262</td> <td> 0.024</td> <td> 2585.049</td> <td> 3.64e+04</td>\n",
       "</tr>\n",
       "<tr>\n",
       "  <th>Neighborhood_NPkVill</th> <td> 1.344e+04</td> <td> 1.02e+04</td> <td>    1.323</td> <td> 0.186</td> <td>-6485.286</td> <td> 3.34e+04</td>\n",
       "</tr>\n",
       "<tr>\n",
       "  <th>Neighborhood_Gilbert</th> <td> 1928.4832</td> <td> 4735.094</td> <td>    0.407</td> <td> 0.684</td> <td>-7359.680</td> <td> 1.12e+04</td>\n",
       "</tr>\n",
       "<tr>\n",
       "  <th>Neighborhood_Mitchel</th> <td> 3286.0215</td> <td> 4820.904</td> <td>    0.682</td> <td> 0.496</td> <td>-6170.464</td> <td> 1.27e+04</td>\n",
       "</tr>\n",
       "<tr>\n",
       "  <th>Neighborhood_BrkSide</th> <td>-1438.1111</td> <td> 5439.550</td> <td>   -0.264</td> <td> 0.792</td> <td>-1.21e+04</td> <td> 9231.884</td>\n",
       "</tr>\n",
       "<tr>\n",
       "  <th>Neighborhood_SawyerW</th> <td> -888.3955</td> <td> 5004.472</td> <td>   -0.178</td> <td> 0.859</td> <td>-1.07e+04</td> <td> 8928.169</td>\n",
       "</tr>\n",
       "<tr>\n",
       "  <th>Neighborhood_NoRidge</th> <td> 3.475e+04</td> <td> 6346.236</td> <td>    5.476</td> <td> 0.000</td> <td> 2.23e+04</td> <td> 4.72e+04</td>\n",
       "</tr>\n",
       "<tr>\n",
       "  <th>Neighborhood_Somerst</th> <td> 1.912e+04</td> <td> 4980.237</td> <td>    3.840</td> <td> 0.000</td> <td> 9355.267</td> <td> 2.89e+04</td>\n",
       "</tr>\n",
       "<tr>\n",
       "  <th>Neighborhood_BrDale</th>  <td> 1.153e+04</td> <td> 1.02e+04</td> <td>    1.127</td> <td> 0.260</td> <td>-8539.659</td> <td> 3.16e+04</td>\n",
       "</tr>\n",
       "<tr>\n",
       "  <th>Neighborhood_Blueste</th> <td>  1.47e+04</td> <td>  1.3e+04</td> <td>    1.134</td> <td> 0.257</td> <td>-1.07e+04</td> <td> 4.01e+04</td>\n",
       "</tr>\n",
       "<tr>\n",
       "  <th>Neighborhood_SWISU</th>   <td>-1.569e+04</td> <td> 7081.783</td> <td>   -2.216</td> <td> 0.027</td> <td>-2.96e+04</td> <td>-1802.001</td>\n",
       "</tr>\n",
       "<tr>\n",
       "  <th>Neighborhood_Landmrk</th> <td> 2.029e+04</td> <td> 2.95e+04</td> <td>    0.688</td> <td> 0.492</td> <td>-3.76e+04</td> <td> 7.81e+04</td>\n",
       "</tr>\n",
       "<tr>\n",
       "  <th>Neighborhood_Blmngtn</th> <td> 1.844e+04</td> <td> 8648.863</td> <td>    2.132</td> <td> 0.033</td> <td> 1478.377</td> <td> 3.54e+04</td>\n",
       "</tr>\n",
       "<tr>\n",
       "  <th>Neighborhood_ClearCr</th> <td> 3.051e+04</td> <td> 7782.692</td> <td>    3.920</td> <td> 0.000</td> <td> 1.52e+04</td> <td> 4.58e+04</td>\n",
       "</tr>\n",
       "<tr>\n",
       "  <th>Neighborhood_GrnHill</th> <td>  1.12e+05</td> <td> 2.94e+04</td> <td>    3.805</td> <td> 0.000</td> <td> 5.43e+04</td> <td>  1.7e+05</td>\n",
       "</tr>\n",
       "<tr>\n",
       "  <th>Neighborhood_Greens</th>  <td> 1.516e+04</td> <td> 1.75e+04</td> <td>    0.866</td> <td> 0.387</td> <td>-1.92e+04</td> <td> 4.95e+04</td>\n",
       "</tr>\n",
       "<tr>\n",
       "  <th>MS SubClass_50.0</th>     <td>-1.615e+04</td> <td> 4025.115</td> <td>   -4.012</td> <td> 0.000</td> <td> -2.4e+04</td> <td>-8255.147</td>\n",
       "</tr>\n",
       "<tr>\n",
       "  <th>MS SubClass_20.0</th>     <td> 1369.1878</td> <td> 3153.698</td> <td>    0.434</td> <td> 0.664</td> <td>-4816.976</td> <td> 7555.351</td>\n",
       "</tr>\n",
       "<tr>\n",
       "  <th>MS SubClass_120.0</th>    <td>-3.075e+04</td> <td> 4688.734</td> <td>   -6.557</td> <td> 0.000</td> <td>-3.99e+04</td> <td>-2.15e+04</td>\n",
       "</tr>\n",
       "<tr>\n",
       "  <th>MS SubClass_30.0</th>     <td>-3773.5021</td> <td> 5377.233</td> <td>   -0.702</td> <td> 0.483</td> <td>-1.43e+04</td> <td> 6774.255</td>\n",
       "</tr>\n",
       "<tr>\n",
       "  <th>MS SubClass_70.0</th>     <td>-1.823e+04</td> <td> 4985.521</td> <td>   -3.657</td> <td> 0.000</td> <td> -2.8e+04</td> <td>-8454.448</td>\n",
       "</tr>\n",
       "<tr>\n",
       "  <th>MS SubClass_180.0</th>    <td>-3932.1157</td> <td> 1.23e+04</td> <td>   -0.320</td> <td> 0.749</td> <td> -2.8e+04</td> <td> 2.01e+04</td>\n",
       "</tr>\n",
       "<tr>\n",
       "  <th>MS SubClass_90.0</th>     <td>  -2.8e+04</td> <td> 4694.231</td> <td>   -5.965</td> <td> 0.000</td> <td>-3.72e+04</td> <td>-1.88e+04</td>\n",
       "</tr>\n",
       "<tr>\n",
       "  <th>MS SubClass_160.0</th>    <td>-4.114e+04</td> <td> 5804.455</td> <td>   -7.087</td> <td> 0.000</td> <td>-5.25e+04</td> <td>-2.98e+04</td>\n",
       "</tr>\n",
       "<tr>\n",
       "  <th>MS SubClass_45.0</th>     <td>-3582.8008</td> <td> 1.01e+04</td> <td>   -0.355</td> <td> 0.723</td> <td>-2.34e+04</td> <td> 1.62e+04</td>\n",
       "</tr>\n",
       "<tr>\n",
       "  <th>MS SubClass_190.0</th>    <td>-1.645e+04</td> <td> 5884.233</td> <td>   -2.795</td> <td> 0.005</td> <td> -2.8e+04</td> <td>-4904.445</td>\n",
       "</tr>\n",
       "<tr>\n",
       "  <th>MS SubClass_85.0</th>     <td> 1.023e+04</td> <td> 7240.290</td> <td>    1.412</td> <td> 0.158</td> <td>-3977.062</td> <td> 2.44e+04</td>\n",
       "</tr>\n",
       "<tr>\n",
       "  <th>MS SubClass_80.0</th>     <td> -901.6350</td> <td> 4181.084</td> <td>   -0.216</td> <td> 0.829</td> <td>-9103.075</td> <td> 7299.805</td>\n",
       "</tr>\n",
       "<tr>\n",
       "  <th>MS SubClass_40.0</th>     <td>-2.605e+04</td> <td> 2.08e+04</td> <td>   -1.252</td> <td> 0.211</td> <td>-6.69e+04</td> <td> 1.48e+04</td>\n",
       "</tr>\n",
       "<tr>\n",
       "  <th>MS SubClass_75.0</th>     <td>-3.223e+04</td> <td> 9170.439</td> <td>   -3.515</td> <td> 0.000</td> <td>-5.02e+04</td> <td>-1.42e+04</td>\n",
       "</tr>\n",
       "</table>\n",
       "<table class=\"simpletable\">\n",
       "<tr>\n",
       "  <th>Omnibus:</th>       <td>283.825</td> <th>  Durbin-Watson:     </th> <td>   2.115</td>\n",
       "</tr>\n",
       "<tr>\n",
       "  <th>Prob(Omnibus):</th> <td> 0.000</td>  <th>  Jarque-Bera (JB):  </th> <td>2620.816</td>\n",
       "</tr>\n",
       "<tr>\n",
       "  <th>Skew:</th>          <td> 0.580</td>  <th>  Prob(JB):          </th> <td>    0.00</td>\n",
       "</tr>\n",
       "<tr>\n",
       "  <th>Kurtosis:</th>      <td> 9.295</td>  <th>  Cond. No.          </th> <td>8.06e+04</td>\n",
       "</tr>\n",
       "</table><br/><br/>Notes:<br/>[1] Standard Errors assume that the covariance matrix of the errors is correctly specified.<br/>[2] The condition number is large, 8.06e+04. This might indicate that there are<br/>strong multicollinearity or other numerical problems."
      ],
      "text/plain": [
       "<class 'statsmodels.iolib.summary.Summary'>\n",
       "\"\"\"\n",
       "                            OLS Regression Results                            \n",
       "==============================================================================\n",
       "Dep. Variable:              SalePrice   R-squared:                       0.863\n",
       "Model:                            OLS   Adj. R-squared:                  0.858\n",
       "Method:                 Least Squares   F-statistic:                     207.7\n",
       "Date:                Mon, 19 Apr 2021   Prob (F-statistic):               0.00\n",
       "Time:                        19:58:36   Log-Likelihood:                -17915.\n",
       "No. Observations:                1535   AIC:                         3.592e+04\n",
       "Df Residuals:                    1489   BIC:                         3.617e+04\n",
       "Df Model:                          45                                         \n",
       "Covariance Type:            nonrobust                                         \n",
       "========================================================================================\n",
       "                           coef    std err          t      P>|t|      [0.025      0.975]\n",
       "----------------------------------------------------------------------------------------\n",
       "const                -4.913e+04   6363.735     -7.720      0.000   -6.16e+04   -3.66e+04\n",
       "Gr Liv Area             52.9466      2.787     18.999      0.000      47.480      58.413\n",
       "Overall Qual          1.689e+04    931.080     18.138      0.000    1.51e+04    1.87e+04\n",
       "Total Bsmt SF           29.5361      2.837     10.410      0.000      23.971      35.101\n",
       "Garage Area             35.4486      4.772      7.428      0.000      26.087      44.810\n",
       "Neighborhood_OldTown  -1.49e+04   4631.329     -3.217      0.001    -2.4e+04   -5815.067\n",
       "Neighborhood_Edwards -1244.4689   4304.475     -0.289      0.773   -9687.948    7199.010\n",
       "Neighborhood_NAmes   -4570.5255   3621.478     -1.262      0.207   -1.17e+04    2533.216\n",
       "Neighborhood_NWAmes  -9827.0322   5047.876     -1.947      0.052   -1.97e+04      74.672\n",
       "Neighborhood_StoneBr  7.451e+04   7015.114     10.621      0.000    6.07e+04    8.83e+04\n",
       "Neighborhood_CollgCr  4712.0513   4290.497      1.098      0.272   -3704.010    1.31e+04\n",
       "Neighborhood_Timber   1.828e+04   6254.910      2.922      0.004    6009.458    3.05e+04\n",
       "Neighborhood_Crawfor  2.415e+04   5575.692      4.332      0.000    1.32e+04    3.51e+04\n",
       "Neighborhood_NridgHt  5.779e+04   5387.454     10.726      0.000    4.72e+04    6.84e+04\n",
       "Neighborhood_IDOTRR  -1.302e+04   5698.130     -2.286      0.022   -2.42e+04   -1846.264\n",
       "Neighborhood_MeadowV  1.582e+04   8867.846      1.784      0.075   -1575.091    3.32e+04\n",
       "Neighborhood_Veenker  1.948e+04   8611.465      2.262      0.024    2585.049    3.64e+04\n",
       "Neighborhood_NPkVill  1.344e+04   1.02e+04      1.323      0.186   -6485.286    3.34e+04\n",
       "Neighborhood_Gilbert  1928.4832   4735.094      0.407      0.684   -7359.680    1.12e+04\n",
       "Neighborhood_Mitchel  3286.0215   4820.904      0.682      0.496   -6170.464    1.27e+04\n",
       "Neighborhood_BrkSide -1438.1111   5439.550     -0.264      0.792   -1.21e+04    9231.884\n",
       "Neighborhood_SawyerW  -888.3955   5004.472     -0.178      0.859   -1.07e+04    8928.169\n",
       "Neighborhood_NoRidge  3.475e+04   6346.236      5.476      0.000    2.23e+04    4.72e+04\n",
       "Neighborhood_Somerst  1.912e+04   4980.237      3.840      0.000    9355.267    2.89e+04\n",
       "Neighborhood_BrDale   1.153e+04   1.02e+04      1.127      0.260   -8539.659    3.16e+04\n",
       "Neighborhood_Blueste   1.47e+04    1.3e+04      1.134      0.257   -1.07e+04    4.01e+04\n",
       "Neighborhood_SWISU   -1.569e+04   7081.783     -2.216      0.027   -2.96e+04   -1802.001\n",
       "Neighborhood_Landmrk  2.029e+04   2.95e+04      0.688      0.492   -3.76e+04    7.81e+04\n",
       "Neighborhood_Blmngtn  1.844e+04   8648.863      2.132      0.033    1478.377    3.54e+04\n",
       "Neighborhood_ClearCr  3.051e+04   7782.692      3.920      0.000    1.52e+04    4.58e+04\n",
       "Neighborhood_GrnHill   1.12e+05   2.94e+04      3.805      0.000    5.43e+04     1.7e+05\n",
       "Neighborhood_Greens   1.516e+04   1.75e+04      0.866      0.387   -1.92e+04    4.95e+04\n",
       "MS SubClass_50.0     -1.615e+04   4025.115     -4.012      0.000    -2.4e+04   -8255.147\n",
       "MS SubClass_20.0      1369.1878   3153.698      0.434      0.664   -4816.976    7555.351\n",
       "MS SubClass_120.0    -3.075e+04   4688.734     -6.557      0.000   -3.99e+04   -2.15e+04\n",
       "MS SubClass_30.0     -3773.5021   5377.233     -0.702      0.483   -1.43e+04    6774.255\n",
       "MS SubClass_70.0     -1.823e+04   4985.521     -3.657      0.000    -2.8e+04   -8454.448\n",
       "MS SubClass_180.0    -3932.1157   1.23e+04     -0.320      0.749    -2.8e+04    2.01e+04\n",
       "MS SubClass_90.0       -2.8e+04   4694.231     -5.965      0.000   -3.72e+04   -1.88e+04\n",
       "MS SubClass_160.0    -4.114e+04   5804.455     -7.087      0.000   -5.25e+04   -2.98e+04\n",
       "MS SubClass_45.0     -3582.8008   1.01e+04     -0.355      0.723   -2.34e+04    1.62e+04\n",
       "MS SubClass_190.0    -1.645e+04   5884.233     -2.795      0.005    -2.8e+04   -4904.445\n",
       "MS SubClass_85.0      1.023e+04   7240.290      1.412      0.158   -3977.062    2.44e+04\n",
       "MS SubClass_80.0      -901.6350   4181.084     -0.216      0.829   -9103.075    7299.805\n",
       "MS SubClass_40.0     -2.605e+04   2.08e+04     -1.252      0.211   -6.69e+04    1.48e+04\n",
       "MS SubClass_75.0     -3.223e+04   9170.439     -3.515      0.000   -5.02e+04   -1.42e+04\n",
       "==============================================================================\n",
       "Omnibus:                      283.825   Durbin-Watson:                   2.115\n",
       "Prob(Omnibus):                  0.000   Jarque-Bera (JB):             2620.816\n",
       "Skew:                           0.580   Prob(JB):                         0.00\n",
       "Kurtosis:                       9.295   Cond. No.                     8.06e+04\n",
       "==============================================================================\n",
       "\n",
       "Notes:\n",
       "[1] Standard Errors assume that the covariance matrix of the errors is correctly specified.\n",
       "[2] The condition number is large, 8.06e+04. This might indicate that there are\n",
       "strong multicollinearity or other numerical problems.\n",
       "\"\"\""
      ]
     },
     "execution_count": 19,
     "metadata": {},
     "output_type": "execute_result"
    }
   ],
   "source": [
    "model.summary()"
   ]
  },
  {
   "cell_type": "markdown",
   "metadata": {},
   "source": [
    "##### Conclusion:\n",
    "\n",
    "The four numerical columns all have a p-value of 0, suggesting the coefficients are significant.<br>\n",
    "\n",
    "1) Gr Liv Area (Continuous): Above grade (ground) living area square feet<br>\n",
    "2) Overall Qual (Ordinal): Rates the overall material and finish of the house<br>\n",
    "3) Total Bsmt SF (Continuous): Total square feet of basement area<br>\n",
    "4) Garage Area (Continuous): Size of garage in square feet<br>\n",
    "\n",
    "The two object columns vary on significance. <br>\n",
    "\n",
    "1) Neighborhood (Nominal): Physical locations within Ames city limits (map available)<br>\n",
    "2) MS SubClass (Nominal): Identifies the type of dwelling involved in the sale."
   ]
  },
  {
   "cell_type": "markdown",
   "metadata": {},
   "source": [
    "### Make Pipeline and Inspect with GridSearch"
   ]
  },
  {
   "cell_type": "code",
   "execution_count": 20,
   "metadata": {},
   "outputs": [
    {
     "data": {
      "text/html": [
       "<style>div.sk-top-container {color: black;background-color: white;}div.sk-toggleable {background-color: white;}label.sk-toggleable__label {cursor: pointer;display: block;width: 100%;margin-bottom: 0;padding: 0.2em 0.3em;box-sizing: border-box;text-align: center;}div.sk-toggleable__content {max-height: 0;max-width: 0;overflow: hidden;text-align: left;background-color: #f0f8ff;}div.sk-toggleable__content pre {margin: 0.2em;color: black;border-radius: 0.25em;background-color: #f0f8ff;}input.sk-toggleable__control:checked~div.sk-toggleable__content {max-height: 200px;max-width: 100%;overflow: auto;}div.sk-estimator input.sk-toggleable__control:checked~label.sk-toggleable__label {background-color: #d4ebff;}div.sk-label input.sk-toggleable__control:checked~label.sk-toggleable__label {background-color: #d4ebff;}input.sk-hidden--visually {border: 0;clip: rect(1px 1px 1px 1px);clip: rect(1px, 1px, 1px, 1px);height: 1px;margin: -1px;overflow: hidden;padding: 0;position: absolute;width: 1px;}div.sk-estimator {font-family: monospace;background-color: #f0f8ff;margin: 0.25em 0.25em;border: 1px dotted black;border-radius: 0.25em;box-sizing: border-box;}div.sk-estimator:hover {background-color: #d4ebff;}div.sk-parallel-item::after {content: \"\";width: 100%;border-bottom: 1px solid gray;flex-grow: 1;}div.sk-label:hover label.sk-toggleable__label {background-color: #d4ebff;}div.sk-serial::before {content: \"\";position: absolute;border-left: 1px solid gray;box-sizing: border-box;top: 2em;bottom: 0;left: 50%;}div.sk-serial {display: flex;flex-direction: column;align-items: center;background-color: white;}div.sk-item {z-index: 1;}div.sk-parallel {display: flex;align-items: stretch;justify-content: center;background-color: white;}div.sk-parallel-item {display: flex;flex-direction: column;position: relative;background-color: white;}div.sk-parallel-item:first-child::after {align-self: flex-end;width: 50%;}div.sk-parallel-item:last-child::after {align-self: flex-start;width: 50%;}div.sk-parallel-item:only-child::after {width: 0;}div.sk-dashed-wrapped {border: 1px dashed gray;margin: 0.2em;box-sizing: border-box;padding-bottom: 0.1em;background-color: white;position: relative;}div.sk-label label {font-family: monospace;font-weight: bold;background-color: white;display: inline-block;line-height: 1.2em;}div.sk-label-container {position: relative;z-index: 2;text-align: center;}div.sk-container {display: inline-block;position: relative;}</style><div class=\"sk-top-container\"><div class=\"sk-container\"><div class=\"sk-item sk-dashed-wrapped\"><div class=\"sk-label-container\"><div class=\"sk-label sk-toggleable\"><input class=\"sk-toggleable__control sk-hidden--visually\" id=\"dec67236-1b4e-43fa-a2a0-7ed87ad357cf\" type=\"checkbox\" ><label class=\"sk-toggleable__label\" for=\"dec67236-1b4e-43fa-a2a0-7ed87ad357cf\">Pipeline</label><div class=\"sk-toggleable__content\"><pre>Pipeline(steps=[('onehotencoder', OneHotEncoder(use_cat_names=True)),\n",
       "                ('polynomialfeatures', PolynomialFeatures()),\n",
       "                ('standardscaler', StandardScaler()),\n",
       "                ('elasticnet', ElasticNet())])</pre></div></div></div><div class=\"sk-serial\"><div class=\"sk-item\"><div class=\"sk-estimator sk-toggleable\"><input class=\"sk-toggleable__control sk-hidden--visually\" id=\"8840aca6-effa-4b41-bab5-2be8c693d23e\" type=\"checkbox\" ><label class=\"sk-toggleable__label\" for=\"8840aca6-effa-4b41-bab5-2be8c693d23e\">OneHotEncoder</label><div class=\"sk-toggleable__content\"><pre>OneHotEncoder(use_cat_names=True)</pre></div></div></div><div class=\"sk-item\"><div class=\"sk-estimator sk-toggleable\"><input class=\"sk-toggleable__control sk-hidden--visually\" id=\"592c9f58-9eb8-4ee6-82d9-82e6f2a6161e\" type=\"checkbox\" ><label class=\"sk-toggleable__label\" for=\"592c9f58-9eb8-4ee6-82d9-82e6f2a6161e\">PolynomialFeatures</label><div class=\"sk-toggleable__content\"><pre>PolynomialFeatures()</pre></div></div></div><div class=\"sk-item\"><div class=\"sk-estimator sk-toggleable\"><input class=\"sk-toggleable__control sk-hidden--visually\" id=\"6086f526-3a45-421e-b6f4-3821d52409b3\" type=\"checkbox\" ><label class=\"sk-toggleable__label\" for=\"6086f526-3a45-421e-b6f4-3821d52409b3\">StandardScaler</label><div class=\"sk-toggleable__content\"><pre>StandardScaler()</pre></div></div></div><div class=\"sk-item\"><div class=\"sk-estimator sk-toggleable\"><input class=\"sk-toggleable__control sk-hidden--visually\" id=\"17081d5c-0bba-4a44-9b39-5e5ea75fc67d\" type=\"checkbox\" ><label class=\"sk-toggleable__label\" for=\"17081d5c-0bba-4a44-9b39-5e5ea75fc67d\">ElasticNet</label><div class=\"sk-toggleable__content\"><pre>ElasticNet()</pre></div></div></div></div></div></div></div>"
      ],
      "text/plain": [
       "Pipeline(steps=[('onehotencoder', OneHotEncoder(use_cat_names=True)),\n",
       "                ('polynomialfeatures', PolynomialFeatures()),\n",
       "                ('standardscaler', StandardScaler()),\n",
       "                ('elasticnet', ElasticNet())])"
      ]
     },
     "execution_count": 20,
     "metadata": {},
     "output_type": "execute_result"
    }
   ],
   "source": [
    "# Pipeline will include polynomial features, standard scaler, and elastic net estimator.\n",
    "\n",
    "pipe = make_pipeline(OneHotEncoder(use_cat_names = True), PolynomialFeatures(), StandardScaler(), ElasticNet())\n",
    "pipe"
   ]
  },
  {
   "cell_type": "code",
   "execution_count": 21,
   "metadata": {},
   "outputs": [],
   "source": [
    "params = {\n",
    "    'polynomialfeatures__interaction_only': [True, False],\n",
    "    'elasticnet__alpha': [.01, .1, 1, 10, 100]\n",
    "}"
   ]
  },
  {
   "cell_type": "code",
   "execution_count": 22,
   "metadata": {},
   "outputs": [
    {
     "name": "stderr",
     "output_type": "stream",
     "text": [
      "C:\\Users\\Lindsey\\anaconda3\\lib\\site-packages\\category_encoders\\utils.py:21: FutureWarning: is_categorical is deprecated and will be removed in a future version.  Use is_categorical_dtype instead\n",
      "  elif pd.api.types.is_categorical(cols):\n",
      "C:\\Users\\Lindsey\\anaconda3\\lib\\site-packages\\sklearn\\linear_model\\_coordinate_descent.py:530: ConvergenceWarning: Objective did not converge. You might want to increase the number of iterations. Duality gap: 263266802458.63486, tolerance: 897255860.8991612\n",
      "  model = cd_fast.enet_coordinate_descent(\n"
     ]
    },
    {
     "data": {
      "text/html": [
       "<style>div.sk-top-container {color: black;background-color: white;}div.sk-toggleable {background-color: white;}label.sk-toggleable__label {cursor: pointer;display: block;width: 100%;margin-bottom: 0;padding: 0.2em 0.3em;box-sizing: border-box;text-align: center;}div.sk-toggleable__content {max-height: 0;max-width: 0;overflow: hidden;text-align: left;background-color: #f0f8ff;}div.sk-toggleable__content pre {margin: 0.2em;color: black;border-radius: 0.25em;background-color: #f0f8ff;}input.sk-toggleable__control:checked~div.sk-toggleable__content {max-height: 200px;max-width: 100%;overflow: auto;}div.sk-estimator input.sk-toggleable__control:checked~label.sk-toggleable__label {background-color: #d4ebff;}div.sk-label input.sk-toggleable__control:checked~label.sk-toggleable__label {background-color: #d4ebff;}input.sk-hidden--visually {border: 0;clip: rect(1px 1px 1px 1px);clip: rect(1px, 1px, 1px, 1px);height: 1px;margin: -1px;overflow: hidden;padding: 0;position: absolute;width: 1px;}div.sk-estimator {font-family: monospace;background-color: #f0f8ff;margin: 0.25em 0.25em;border: 1px dotted black;border-radius: 0.25em;box-sizing: border-box;}div.sk-estimator:hover {background-color: #d4ebff;}div.sk-parallel-item::after {content: \"\";width: 100%;border-bottom: 1px solid gray;flex-grow: 1;}div.sk-label:hover label.sk-toggleable__label {background-color: #d4ebff;}div.sk-serial::before {content: \"\";position: absolute;border-left: 1px solid gray;box-sizing: border-box;top: 2em;bottom: 0;left: 50%;}div.sk-serial {display: flex;flex-direction: column;align-items: center;background-color: white;}div.sk-item {z-index: 1;}div.sk-parallel {display: flex;align-items: stretch;justify-content: center;background-color: white;}div.sk-parallel-item {display: flex;flex-direction: column;position: relative;background-color: white;}div.sk-parallel-item:first-child::after {align-self: flex-end;width: 50%;}div.sk-parallel-item:last-child::after {align-self: flex-start;width: 50%;}div.sk-parallel-item:only-child::after {width: 0;}div.sk-dashed-wrapped {border: 1px dashed gray;margin: 0.2em;box-sizing: border-box;padding-bottom: 0.1em;background-color: white;position: relative;}div.sk-label label {font-family: monospace;font-weight: bold;background-color: white;display: inline-block;line-height: 1.2em;}div.sk-label-container {position: relative;z-index: 2;text-align: center;}div.sk-container {display: inline-block;position: relative;}</style><div class=\"sk-top-container\"><div class=\"sk-container\"><div class=\"sk-item sk-dashed-wrapped\"><div class=\"sk-label-container\"><div class=\"sk-label sk-toggleable\"><input class=\"sk-toggleable__control sk-hidden--visually\" id=\"5939493c-cab3-46f4-bcc9-c96bdd7c07d0\" type=\"checkbox\" ><label class=\"sk-toggleable__label\" for=\"5939493c-cab3-46f4-bcc9-c96bdd7c07d0\">GridSearchCV</label><div class=\"sk-toggleable__content\"><pre>GridSearchCV(estimator=Pipeline(steps=[('onehotencoder',\n",
       "                                        OneHotEncoder(use_cat_names=True)),\n",
       "                                       ('polynomialfeatures',\n",
       "                                        PolynomialFeatures()),\n",
       "                                       ('standardscaler', StandardScaler()),\n",
       "                                       ('elasticnet', ElasticNet())]),\n",
       "             n_jobs=-1,\n",
       "             param_grid={'elasticnet__alpha': [0.01, 0.1, 1, 10, 100],\n",
       "                         'polynomialfeatures__interaction_only': [True, False]})</pre></div></div></div><div class=\"sk-parallel\"><div class=\"sk-parallel-item\"><div class=\"sk-item\"><div class=\"sk-serial\"><div class=\"sk-item\"><div class=\"sk-serial\"><div class=\"sk-item\"><div class=\"sk-estimator sk-toggleable\"><input class=\"sk-toggleable__control sk-hidden--visually\" id=\"b6d7974b-945e-41e8-b691-ab931a4f537f\" type=\"checkbox\" ><label class=\"sk-toggleable__label\" for=\"b6d7974b-945e-41e8-b691-ab931a4f537f\">OneHotEncoder</label><div class=\"sk-toggleable__content\"><pre>OneHotEncoder(use_cat_names=True)</pre></div></div></div><div class=\"sk-item\"><div class=\"sk-estimator sk-toggleable\"><input class=\"sk-toggleable__control sk-hidden--visually\" id=\"268f7eca-c9cd-4512-8c7d-e9664d655c1b\" type=\"checkbox\" ><label class=\"sk-toggleable__label\" for=\"268f7eca-c9cd-4512-8c7d-e9664d655c1b\">PolynomialFeatures</label><div class=\"sk-toggleable__content\"><pre>PolynomialFeatures()</pre></div></div></div><div class=\"sk-item\"><div class=\"sk-estimator sk-toggleable\"><input class=\"sk-toggleable__control sk-hidden--visually\" id=\"7625c81d-5918-4a99-9e79-3ceefc4dfe5b\" type=\"checkbox\" ><label class=\"sk-toggleable__label\" for=\"7625c81d-5918-4a99-9e79-3ceefc4dfe5b\">StandardScaler</label><div class=\"sk-toggleable__content\"><pre>StandardScaler()</pre></div></div></div><div class=\"sk-item\"><div class=\"sk-estimator sk-toggleable\"><input class=\"sk-toggleable__control sk-hidden--visually\" id=\"19336d70-b23f-4b4e-9c92-20518ca9c6ca\" type=\"checkbox\" ><label class=\"sk-toggleable__label\" for=\"19336d70-b23f-4b4e-9c92-20518ca9c6ca\">ElasticNet</label><div class=\"sk-toggleable__content\"><pre>ElasticNet()</pre></div></div></div></div></div></div></div></div></div></div></div></div>"
      ],
      "text/plain": [
       "GridSearchCV(estimator=Pipeline(steps=[('onehotencoder',\n",
       "                                        OneHotEncoder(use_cat_names=True)),\n",
       "                                       ('polynomialfeatures',\n",
       "                                        PolynomialFeatures()),\n",
       "                                       ('standardscaler', StandardScaler()),\n",
       "                                       ('elasticnet', ElasticNet())]),\n",
       "             n_jobs=-1,\n",
       "             param_grid={'elasticnet__alpha': [0.01, 0.1, 1, 10, 100],\n",
       "                         'polynomialfeatures__interaction_only': [True, False]})"
      ]
     },
     "execution_count": 22,
     "metadata": {},
     "output_type": "execute_result"
    }
   ],
   "source": [
    "gs = GridSearchCV(pipe, params, n_jobs = -1) \n",
    "gs.fit(X_train, y_train)"
   ]
  },
  {
   "cell_type": "code",
   "execution_count": 23,
   "metadata": {},
   "outputs": [
    {
     "data": {
      "text/plain": [
       "{'elasticnet__alpha': 0.1, 'polynomialfeatures__interaction_only': True}"
      ]
     },
     "execution_count": 23,
     "metadata": {},
     "output_type": "execute_result"
    }
   ],
   "source": [
    "gs.best_params_"
   ]
  },
  {
   "cell_type": "code",
   "execution_count": 24,
   "metadata": {},
   "outputs": [
    {
     "data": {
      "text/html": [
       "<div>\n",
       "<style scoped>\n",
       "    .dataframe tbody tr th:only-of-type {\n",
       "        vertical-align: middle;\n",
       "    }\n",
       "\n",
       "    .dataframe tbody tr th {\n",
       "        vertical-align: top;\n",
       "    }\n",
       "\n",
       "    .dataframe thead th {\n",
       "        text-align: right;\n",
       "    }\n",
       "</style>\n",
       "<table border=\"1\" class=\"dataframe\">\n",
       "  <thead>\n",
       "    <tr style=\"text-align: right;\">\n",
       "      <th></th>\n",
       "      <th>mean_fit_time</th>\n",
       "      <th>std_fit_time</th>\n",
       "      <th>mean_score_time</th>\n",
       "      <th>std_score_time</th>\n",
       "      <th>param_elasticnet__alpha</th>\n",
       "      <th>param_polynomialfeatures__interaction_only</th>\n",
       "      <th>params</th>\n",
       "      <th>split0_test_score</th>\n",
       "      <th>split1_test_score</th>\n",
       "      <th>split2_test_score</th>\n",
       "      <th>split3_test_score</th>\n",
       "      <th>split4_test_score</th>\n",
       "      <th>mean_test_score</th>\n",
       "      <th>std_test_score</th>\n",
       "      <th>rank_test_score</th>\n",
       "    </tr>\n",
       "  </thead>\n",
       "  <tbody>\n",
       "    <tr>\n",
       "      <th>2</th>\n",
       "      <td>3.788035</td>\n",
       "      <td>0.302842</td>\n",
       "      <td>0.081958</td>\n",
       "      <td>0.012209</td>\n",
       "      <td>0.1</td>\n",
       "      <td>True</td>\n",
       "      <td>{'elasticnet__alpha': 0.1, 'polynomialfeatures...</td>\n",
       "      <td>0.907149</td>\n",
       "      <td>0.872617</td>\n",
       "      <td>0.858507</td>\n",
       "      <td>0.865540</td>\n",
       "      <td>0.887468</td>\n",
       "      <td>0.878256</td>\n",
       "      <td>0.017339</td>\n",
       "      <td>1</td>\n",
       "    </tr>\n",
       "    <tr>\n",
       "      <th>3</th>\n",
       "      <td>3.131014</td>\n",
       "      <td>0.326448</td>\n",
       "      <td>0.062167</td>\n",
       "      <td>0.008514</td>\n",
       "      <td>0.1</td>\n",
       "      <td>False</td>\n",
       "      <td>{'elasticnet__alpha': 0.1, 'polynomialfeatures...</td>\n",
       "      <td>0.907031</td>\n",
       "      <td>0.873483</td>\n",
       "      <td>0.853697</td>\n",
       "      <td>0.866413</td>\n",
       "      <td>0.887939</td>\n",
       "      <td>0.877713</td>\n",
       "      <td>0.018366</td>\n",
       "      <td>2</td>\n",
       "    </tr>\n",
       "    <tr>\n",
       "      <th>5</th>\n",
       "      <td>1.577299</td>\n",
       "      <td>0.125521</td>\n",
       "      <td>0.085754</td>\n",
       "      <td>0.019731</td>\n",
       "      <td>1</td>\n",
       "      <td>False</td>\n",
       "      <td>{'elasticnet__alpha': 1, 'polynomialfeatures__...</td>\n",
       "      <td>0.901980</td>\n",
       "      <td>0.866586</td>\n",
       "      <td>0.863021</td>\n",
       "      <td>0.864876</td>\n",
       "      <td>0.889165</td>\n",
       "      <td>0.877125</td>\n",
       "      <td>0.015638</td>\n",
       "      <td>3</td>\n",
       "    </tr>\n",
       "    <tr>\n",
       "      <th>4</th>\n",
       "      <td>0.935066</td>\n",
       "      <td>0.084054</td>\n",
       "      <td>0.084350</td>\n",
       "      <td>0.027092</td>\n",
       "      <td>1</td>\n",
       "      <td>True</td>\n",
       "      <td>{'elasticnet__alpha': 1, 'polynomialfeatures__...</td>\n",
       "      <td>0.898191</td>\n",
       "      <td>0.862007</td>\n",
       "      <td>0.866788</td>\n",
       "      <td>0.859041</td>\n",
       "      <td>0.885133</td>\n",
       "      <td>0.874232</td>\n",
       "      <td>0.015023</td>\n",
       "      <td>4</td>\n",
       "    </tr>\n",
       "    <tr>\n",
       "      <th>0</th>\n",
       "      <td>2.367052</td>\n",
       "      <td>0.100990</td>\n",
       "      <td>0.073958</td>\n",
       "      <td>0.009688</td>\n",
       "      <td>0.01</td>\n",
       "      <td>True</td>\n",
       "      <td>{'elasticnet__alpha': 0.01, 'polynomialfeature...</td>\n",
       "      <td>0.899367</td>\n",
       "      <td>0.863890</td>\n",
       "      <td>0.850235</td>\n",
       "      <td>0.864774</td>\n",
       "      <td>0.861700</td>\n",
       "      <td>0.867993</td>\n",
       "      <td>0.016532</td>\n",
       "      <td>5</td>\n",
       "    </tr>\n",
       "    <tr>\n",
       "      <th>1</th>\n",
       "      <td>2.420618</td>\n",
       "      <td>0.058233</td>\n",
       "      <td>0.073360</td>\n",
       "      <td>0.014549</td>\n",
       "      <td>0.01</td>\n",
       "      <td>False</td>\n",
       "      <td>{'elasticnet__alpha': 0.01, 'polynomialfeature...</td>\n",
       "      <td>0.899039</td>\n",
       "      <td>0.862517</td>\n",
       "      <td>0.846946</td>\n",
       "      <td>0.863035</td>\n",
       "      <td>0.860698</td>\n",
       "      <td>0.866447</td>\n",
       "      <td>0.017336</td>\n",
       "      <td>6</td>\n",
       "    </tr>\n",
       "    <tr>\n",
       "      <th>7</th>\n",
       "      <td>0.478327</td>\n",
       "      <td>0.032330</td>\n",
       "      <td>0.054770</td>\n",
       "      <td>0.008397</td>\n",
       "      <td>10</td>\n",
       "      <td>False</td>\n",
       "      <td>{'elasticnet__alpha': 10, 'polynomialfeatures_...</td>\n",
       "      <td>0.818754</td>\n",
       "      <td>0.786401</td>\n",
       "      <td>0.833616</td>\n",
       "      <td>0.811885</td>\n",
       "      <td>0.821419</td>\n",
       "      <td>0.814415</td>\n",
       "      <td>0.015670</td>\n",
       "      <td>7</td>\n",
       "    </tr>\n",
       "    <tr>\n",
       "      <th>6</th>\n",
       "      <td>0.505711</td>\n",
       "      <td>0.046465</td>\n",
       "      <td>0.066959</td>\n",
       "      <td>0.015129</td>\n",
       "      <td>10</td>\n",
       "      <td>True</td>\n",
       "      <td>{'elasticnet__alpha': 10, 'polynomialfeatures_...</td>\n",
       "      <td>0.792369</td>\n",
       "      <td>0.762901</td>\n",
       "      <td>0.816623</td>\n",
       "      <td>0.786286</td>\n",
       "      <td>0.796214</td>\n",
       "      <td>0.790879</td>\n",
       "      <td>0.017305</td>\n",
       "      <td>8</td>\n",
       "    </tr>\n",
       "    <tr>\n",
       "      <th>9</th>\n",
       "      <td>0.365987</td>\n",
       "      <td>0.037781</td>\n",
       "      <td>0.040981</td>\n",
       "      <td>0.013331</td>\n",
       "      <td>100</td>\n",
       "      <td>False</td>\n",
       "      <td>{'elasticnet__alpha': 100, 'polynomialfeatures...</td>\n",
       "      <td>0.363910</td>\n",
       "      <td>0.350930</td>\n",
       "      <td>0.399342</td>\n",
       "      <td>0.382468</td>\n",
       "      <td>0.371818</td>\n",
       "      <td>0.373694</td>\n",
       "      <td>0.016445</td>\n",
       "      <td>9</td>\n",
       "    </tr>\n",
       "    <tr>\n",
       "      <th>8</th>\n",
       "      <td>0.391578</td>\n",
       "      <td>0.028618</td>\n",
       "      <td>0.048371</td>\n",
       "      <td>0.006435</td>\n",
       "      <td>100</td>\n",
       "      <td>True</td>\n",
       "      <td>{'elasticnet__alpha': 100, 'polynomialfeatures...</td>\n",
       "      <td>0.311314</td>\n",
       "      <td>0.300528</td>\n",
       "      <td>0.343589</td>\n",
       "      <td>0.325362</td>\n",
       "      <td>0.318440</td>\n",
       "      <td>0.319846</td>\n",
       "      <td>0.014437</td>\n",
       "      <td>10</td>\n",
       "    </tr>\n",
       "  </tbody>\n",
       "</table>\n",
       "</div>"
      ],
      "text/plain": [
       "   mean_fit_time  std_fit_time  mean_score_time  std_score_time  \\\n",
       "2       3.788035      0.302842         0.081958        0.012209   \n",
       "3       3.131014      0.326448         0.062167        0.008514   \n",
       "5       1.577299      0.125521         0.085754        0.019731   \n",
       "4       0.935066      0.084054         0.084350        0.027092   \n",
       "0       2.367052      0.100990         0.073958        0.009688   \n",
       "1       2.420618      0.058233         0.073360        0.014549   \n",
       "7       0.478327      0.032330         0.054770        0.008397   \n",
       "6       0.505711      0.046465         0.066959        0.015129   \n",
       "9       0.365987      0.037781         0.040981        0.013331   \n",
       "8       0.391578      0.028618         0.048371        0.006435   \n",
       "\n",
       "  param_elasticnet__alpha param_polynomialfeatures__interaction_only  \\\n",
       "2                     0.1                                       True   \n",
       "3                     0.1                                      False   \n",
       "5                       1                                      False   \n",
       "4                       1                                       True   \n",
       "0                    0.01                                       True   \n",
       "1                    0.01                                      False   \n",
       "7                      10                                      False   \n",
       "6                      10                                       True   \n",
       "9                     100                                      False   \n",
       "8                     100                                       True   \n",
       "\n",
       "                                              params  split0_test_score  \\\n",
       "2  {'elasticnet__alpha': 0.1, 'polynomialfeatures...           0.907149   \n",
       "3  {'elasticnet__alpha': 0.1, 'polynomialfeatures...           0.907031   \n",
       "5  {'elasticnet__alpha': 1, 'polynomialfeatures__...           0.901980   \n",
       "4  {'elasticnet__alpha': 1, 'polynomialfeatures__...           0.898191   \n",
       "0  {'elasticnet__alpha': 0.01, 'polynomialfeature...           0.899367   \n",
       "1  {'elasticnet__alpha': 0.01, 'polynomialfeature...           0.899039   \n",
       "7  {'elasticnet__alpha': 10, 'polynomialfeatures_...           0.818754   \n",
       "6  {'elasticnet__alpha': 10, 'polynomialfeatures_...           0.792369   \n",
       "9  {'elasticnet__alpha': 100, 'polynomialfeatures...           0.363910   \n",
       "8  {'elasticnet__alpha': 100, 'polynomialfeatures...           0.311314   \n",
       "\n",
       "   split1_test_score  split2_test_score  split3_test_score  split4_test_score  \\\n",
       "2           0.872617           0.858507           0.865540           0.887468   \n",
       "3           0.873483           0.853697           0.866413           0.887939   \n",
       "5           0.866586           0.863021           0.864876           0.889165   \n",
       "4           0.862007           0.866788           0.859041           0.885133   \n",
       "0           0.863890           0.850235           0.864774           0.861700   \n",
       "1           0.862517           0.846946           0.863035           0.860698   \n",
       "7           0.786401           0.833616           0.811885           0.821419   \n",
       "6           0.762901           0.816623           0.786286           0.796214   \n",
       "9           0.350930           0.399342           0.382468           0.371818   \n",
       "8           0.300528           0.343589           0.325362           0.318440   \n",
       "\n",
       "   mean_test_score  std_test_score  rank_test_score  \n",
       "2         0.878256        0.017339                1  \n",
       "3         0.877713        0.018366                2  \n",
       "5         0.877125        0.015638                3  \n",
       "4         0.874232        0.015023                4  \n",
       "0         0.867993        0.016532                5  \n",
       "1         0.866447        0.017336                6  \n",
       "7         0.814415        0.015670                7  \n",
       "6         0.790879        0.017305                8  \n",
       "9         0.373694        0.016445                9  \n",
       "8         0.319846        0.014437               10  "
      ]
     },
     "execution_count": 24,
     "metadata": {},
     "output_type": "execute_result"
    }
   ],
   "source": [
    "pd.DataFrame(gs.cv_results_).sort_values(by = 'rank_test_score')"
   ]
  },
  {
   "cell_type": "markdown",
   "metadata": {},
   "source": [
    "The top performer is alpha of 0.1 and interaction only on polynomial features. I am happy with the results because my R-squared mean score is high at 0.88 and it is consistent with a standard deviation of 0.017."
   ]
  },
  {
   "cell_type": "markdown",
   "metadata": {},
   "source": [
    "### Finalizing Pipeline and tests"
   ]
  },
  {
   "cell_type": "code",
   "execution_count": 25,
   "metadata": {},
   "outputs": [
    {
     "data": {
      "text/html": [
       "<style>div.sk-top-container {color: black;background-color: white;}div.sk-toggleable {background-color: white;}label.sk-toggleable__label {cursor: pointer;display: block;width: 100%;margin-bottom: 0;padding: 0.2em 0.3em;box-sizing: border-box;text-align: center;}div.sk-toggleable__content {max-height: 0;max-width: 0;overflow: hidden;text-align: left;background-color: #f0f8ff;}div.sk-toggleable__content pre {margin: 0.2em;color: black;border-radius: 0.25em;background-color: #f0f8ff;}input.sk-toggleable__control:checked~div.sk-toggleable__content {max-height: 200px;max-width: 100%;overflow: auto;}div.sk-estimator input.sk-toggleable__control:checked~label.sk-toggleable__label {background-color: #d4ebff;}div.sk-label input.sk-toggleable__control:checked~label.sk-toggleable__label {background-color: #d4ebff;}input.sk-hidden--visually {border: 0;clip: rect(1px 1px 1px 1px);clip: rect(1px, 1px, 1px, 1px);height: 1px;margin: -1px;overflow: hidden;padding: 0;position: absolute;width: 1px;}div.sk-estimator {font-family: monospace;background-color: #f0f8ff;margin: 0.25em 0.25em;border: 1px dotted black;border-radius: 0.25em;box-sizing: border-box;}div.sk-estimator:hover {background-color: #d4ebff;}div.sk-parallel-item::after {content: \"\";width: 100%;border-bottom: 1px solid gray;flex-grow: 1;}div.sk-label:hover label.sk-toggleable__label {background-color: #d4ebff;}div.sk-serial::before {content: \"\";position: absolute;border-left: 1px solid gray;box-sizing: border-box;top: 2em;bottom: 0;left: 50%;}div.sk-serial {display: flex;flex-direction: column;align-items: center;background-color: white;}div.sk-item {z-index: 1;}div.sk-parallel {display: flex;align-items: stretch;justify-content: center;background-color: white;}div.sk-parallel-item {display: flex;flex-direction: column;position: relative;background-color: white;}div.sk-parallel-item:first-child::after {align-self: flex-end;width: 50%;}div.sk-parallel-item:last-child::after {align-self: flex-start;width: 50%;}div.sk-parallel-item:only-child::after {width: 0;}div.sk-dashed-wrapped {border: 1px dashed gray;margin: 0.2em;box-sizing: border-box;padding-bottom: 0.1em;background-color: white;position: relative;}div.sk-label label {font-family: monospace;font-weight: bold;background-color: white;display: inline-block;line-height: 1.2em;}div.sk-label-container {position: relative;z-index: 2;text-align: center;}div.sk-container {display: inline-block;position: relative;}</style><div class=\"sk-top-container\"><div class=\"sk-container\"><div class=\"sk-item sk-dashed-wrapped\"><div class=\"sk-label-container\"><div class=\"sk-label sk-toggleable\"><input class=\"sk-toggleable__control sk-hidden--visually\" id=\"a49a04df-a26b-426e-95db-329489f4b5b4\" type=\"checkbox\" ><label class=\"sk-toggleable__label\" for=\"a49a04df-a26b-426e-95db-329489f4b5b4\">Pipeline</label><div class=\"sk-toggleable__content\"><pre>Pipeline(steps=[('onehotencoder', OneHotEncoder(use_cat_names=True)),\n",
       "                ('polynomialfeatures',\n",
       "                 PolynomialFeatures(interaction_only=True)),\n",
       "                ('standardscaler', StandardScaler()),\n",
       "                ('elasticnet', ElasticNet(alpha=0.1))])</pre></div></div></div><div class=\"sk-serial\"><div class=\"sk-item\"><div class=\"sk-estimator sk-toggleable\"><input class=\"sk-toggleable__control sk-hidden--visually\" id=\"760c165f-7407-4b57-93b6-fdeef27eef2b\" type=\"checkbox\" ><label class=\"sk-toggleable__label\" for=\"760c165f-7407-4b57-93b6-fdeef27eef2b\">OneHotEncoder</label><div class=\"sk-toggleable__content\"><pre>OneHotEncoder(use_cat_names=True)</pre></div></div></div><div class=\"sk-item\"><div class=\"sk-estimator sk-toggleable\"><input class=\"sk-toggleable__control sk-hidden--visually\" id=\"d133cbf9-3802-488b-9de9-1c557c1599c5\" type=\"checkbox\" ><label class=\"sk-toggleable__label\" for=\"d133cbf9-3802-488b-9de9-1c557c1599c5\">PolynomialFeatures</label><div class=\"sk-toggleable__content\"><pre>PolynomialFeatures(interaction_only=True)</pre></div></div></div><div class=\"sk-item\"><div class=\"sk-estimator sk-toggleable\"><input class=\"sk-toggleable__control sk-hidden--visually\" id=\"dd5ba38b-e9f1-4867-9466-893c929de6e7\" type=\"checkbox\" ><label class=\"sk-toggleable__label\" for=\"dd5ba38b-e9f1-4867-9466-893c929de6e7\">StandardScaler</label><div class=\"sk-toggleable__content\"><pre>StandardScaler()</pre></div></div></div><div class=\"sk-item\"><div class=\"sk-estimator sk-toggleable\"><input class=\"sk-toggleable__control sk-hidden--visually\" id=\"dc403a0f-768d-4ff3-93be-614e95b9d9ef\" type=\"checkbox\" ><label class=\"sk-toggleable__label\" for=\"dc403a0f-768d-4ff3-93be-614e95b9d9ef\">ElasticNet</label><div class=\"sk-toggleable__content\"><pre>ElasticNet(alpha=0.1)</pre></div></div></div></div></div></div></div>"
      ],
      "text/plain": [
       "Pipeline(steps=[('onehotencoder', OneHotEncoder(use_cat_names=True)),\n",
       "                ('polynomialfeatures',\n",
       "                 PolynomialFeatures(interaction_only=True)),\n",
       "                ('standardscaler', StandardScaler()),\n",
       "                ('elasticnet', ElasticNet(alpha=0.1))])"
      ]
     },
     "execution_count": 25,
     "metadata": {},
     "output_type": "execute_result"
    }
   ],
   "source": [
    "# Make pipeline with results of grid search\n",
    "\n",
    "pipe = make_pipeline(OneHotEncoder(use_cat_names = True), PolynomialFeatures(interaction_only=True), StandardScaler(), ElasticNet(alpha = 0.1))\n",
    "pipe"
   ]
  },
  {
   "cell_type": "code",
   "execution_count": 26,
   "metadata": {},
   "outputs": [
    {
     "name": "stderr",
     "output_type": "stream",
     "text": [
      "C:\\Users\\Lindsey\\anaconda3\\lib\\site-packages\\category_encoders\\utils.py:21: FutureWarning: is_categorical is deprecated and will be removed in a future version.  Use is_categorical_dtype instead\n",
      "  elif pd.api.types.is_categorical(cols):\n",
      "C:\\Users\\Lindsey\\anaconda3\\lib\\site-packages\\sklearn\\linear_model\\_coordinate_descent.py:530: ConvergenceWarning: Objective did not converge. You might want to increase the number of iterations. Duality gap: 263266802458.63486, tolerance: 897255860.8991612\n",
      "  model = cd_fast.enet_coordinate_descent(\n"
     ]
    },
    {
     "data": {
      "text/html": [
       "<style>div.sk-top-container {color: black;background-color: white;}div.sk-toggleable {background-color: white;}label.sk-toggleable__label {cursor: pointer;display: block;width: 100%;margin-bottom: 0;padding: 0.2em 0.3em;box-sizing: border-box;text-align: center;}div.sk-toggleable__content {max-height: 0;max-width: 0;overflow: hidden;text-align: left;background-color: #f0f8ff;}div.sk-toggleable__content pre {margin: 0.2em;color: black;border-radius: 0.25em;background-color: #f0f8ff;}input.sk-toggleable__control:checked~div.sk-toggleable__content {max-height: 200px;max-width: 100%;overflow: auto;}div.sk-estimator input.sk-toggleable__control:checked~label.sk-toggleable__label {background-color: #d4ebff;}div.sk-label input.sk-toggleable__control:checked~label.sk-toggleable__label {background-color: #d4ebff;}input.sk-hidden--visually {border: 0;clip: rect(1px 1px 1px 1px);clip: rect(1px, 1px, 1px, 1px);height: 1px;margin: -1px;overflow: hidden;padding: 0;position: absolute;width: 1px;}div.sk-estimator {font-family: monospace;background-color: #f0f8ff;margin: 0.25em 0.25em;border: 1px dotted black;border-radius: 0.25em;box-sizing: border-box;}div.sk-estimator:hover {background-color: #d4ebff;}div.sk-parallel-item::after {content: \"\";width: 100%;border-bottom: 1px solid gray;flex-grow: 1;}div.sk-label:hover label.sk-toggleable__label {background-color: #d4ebff;}div.sk-serial::before {content: \"\";position: absolute;border-left: 1px solid gray;box-sizing: border-box;top: 2em;bottom: 0;left: 50%;}div.sk-serial {display: flex;flex-direction: column;align-items: center;background-color: white;}div.sk-item {z-index: 1;}div.sk-parallel {display: flex;align-items: stretch;justify-content: center;background-color: white;}div.sk-parallel-item {display: flex;flex-direction: column;position: relative;background-color: white;}div.sk-parallel-item:first-child::after {align-self: flex-end;width: 50%;}div.sk-parallel-item:last-child::after {align-self: flex-start;width: 50%;}div.sk-parallel-item:only-child::after {width: 0;}div.sk-dashed-wrapped {border: 1px dashed gray;margin: 0.2em;box-sizing: border-box;padding-bottom: 0.1em;background-color: white;position: relative;}div.sk-label label {font-family: monospace;font-weight: bold;background-color: white;display: inline-block;line-height: 1.2em;}div.sk-label-container {position: relative;z-index: 2;text-align: center;}div.sk-container {display: inline-block;position: relative;}</style><div class=\"sk-top-container\"><div class=\"sk-container\"><div class=\"sk-item sk-dashed-wrapped\"><div class=\"sk-label-container\"><div class=\"sk-label sk-toggleable\"><input class=\"sk-toggleable__control sk-hidden--visually\" id=\"b4502a94-5799-4e0e-bc50-7e7bcf2a188a\" type=\"checkbox\" ><label class=\"sk-toggleable__label\" for=\"b4502a94-5799-4e0e-bc50-7e7bcf2a188a\">Pipeline</label><div class=\"sk-toggleable__content\"><pre>Pipeline(steps=[('onehotencoder',\n",
       "                 OneHotEncoder(cols=['Neighborhood', 'MS SubClass'],\n",
       "                               use_cat_names=True)),\n",
       "                ('polynomialfeatures',\n",
       "                 PolynomialFeatures(interaction_only=True)),\n",
       "                ('standardscaler', StandardScaler()),\n",
       "                ('elasticnet', ElasticNet(alpha=0.1))])</pre></div></div></div><div class=\"sk-serial\"><div class=\"sk-item\"><div class=\"sk-estimator sk-toggleable\"><input class=\"sk-toggleable__control sk-hidden--visually\" id=\"5c98ce8a-a4ae-4bb8-b278-a7a49e19f039\" type=\"checkbox\" ><label class=\"sk-toggleable__label\" for=\"5c98ce8a-a4ae-4bb8-b278-a7a49e19f039\">OneHotEncoder</label><div class=\"sk-toggleable__content\"><pre>OneHotEncoder(cols=['Neighborhood', 'MS SubClass'], use_cat_names=True)</pre></div></div></div><div class=\"sk-item\"><div class=\"sk-estimator sk-toggleable\"><input class=\"sk-toggleable__control sk-hidden--visually\" id=\"ee9efdb1-c69f-49b7-b9a7-b0181e012f31\" type=\"checkbox\" ><label class=\"sk-toggleable__label\" for=\"ee9efdb1-c69f-49b7-b9a7-b0181e012f31\">PolynomialFeatures</label><div class=\"sk-toggleable__content\"><pre>PolynomialFeatures(interaction_only=True)</pre></div></div></div><div class=\"sk-item\"><div class=\"sk-estimator sk-toggleable\"><input class=\"sk-toggleable__control sk-hidden--visually\" id=\"f0c91a09-7783-4b42-a7ed-a58b636d9c3a\" type=\"checkbox\" ><label class=\"sk-toggleable__label\" for=\"f0c91a09-7783-4b42-a7ed-a58b636d9c3a\">StandardScaler</label><div class=\"sk-toggleable__content\"><pre>StandardScaler()</pre></div></div></div><div class=\"sk-item\"><div class=\"sk-estimator sk-toggleable\"><input class=\"sk-toggleable__control sk-hidden--visually\" id=\"a5640528-9866-481f-b905-3ea0e5606b57\" type=\"checkbox\" ><label class=\"sk-toggleable__label\" for=\"a5640528-9866-481f-b905-3ea0e5606b57\">ElasticNet</label><div class=\"sk-toggleable__content\"><pre>ElasticNet(alpha=0.1)</pre></div></div></div></div></div></div></div>"
      ],
      "text/plain": [
       "Pipeline(steps=[('onehotencoder',\n",
       "                 OneHotEncoder(cols=['Neighborhood', 'MS SubClass'],\n",
       "                               use_cat_names=True)),\n",
       "                ('polynomialfeatures',\n",
       "                 PolynomialFeatures(interaction_only=True)),\n",
       "                ('standardscaler', StandardScaler()),\n",
       "                ('elasticnet', ElasticNet(alpha=0.1))])"
      ]
     },
     "execution_count": 26,
     "metadata": {},
     "output_type": "execute_result"
    }
   ],
   "source": [
    "# Fit pipe to training data\n",
    "\n",
    "pipe.fit(X_train, y_train)"
   ]
  },
  {
   "cell_type": "code",
   "execution_count": 27,
   "metadata": {},
   "outputs": [
    {
     "data": {
      "text/plain": [
       "0.9181589395102242"
      ]
     },
     "execution_count": 27,
     "metadata": {},
     "output_type": "execute_result"
    }
   ],
   "source": [
    "# R-squared score on training data\n",
    "\n",
    "pipe.score(X_train, y_train)"
   ]
  },
  {
   "cell_type": "code",
   "execution_count": 28,
   "metadata": {},
   "outputs": [
    {
     "data": {
      "text/plain": [
       "21872.05484116537"
      ]
     },
     "execution_count": 28,
     "metadata": {},
     "output_type": "execute_result"
    }
   ],
   "source": [
    "# RMSE score on training data\n",
    "\n",
    "preds = pipe.predict(X_train)\n",
    "mean_squared_error(preds, y_train, squared = False)"
   ]
  },
  {
   "cell_type": "code",
   "execution_count": 29,
   "metadata": {},
   "outputs": [
    {
     "data": {
      "text/plain": [
       "0.9001242272908516"
      ]
     },
     "execution_count": 29,
     "metadata": {},
     "output_type": "execute_result"
    }
   ],
   "source": [
    "# R-squared score on test data\n",
    "\n",
    "pipe.score(X_test, y_test)"
   ]
  },
  {
   "cell_type": "code",
   "execution_count": 30,
   "metadata": {},
   "outputs": [
    {
     "data": {
      "text/plain": [
       "27481.05466534694"
      ]
     },
     "execution_count": 30,
     "metadata": {},
     "output_type": "execute_result"
    }
   ],
   "source": [
    "# RMSE score on test data\n",
    "\n",
    "preds2 = pipe.predict(X_test)\n",
    "mean_squared_error(preds2, y_test, squared = False)"
   ]
  },
  {
   "cell_type": "markdown",
   "metadata": {},
   "source": [
    "My train and test R-squared scores are consistent and above 0.9, so I am happy with the final model. Compared to other iterations, the RMSE scores are low and better than the baseline of 83042."
   ]
  },
  {
   "cell_type": "markdown",
   "metadata": {},
   "source": [
    "### Fitting pipeline to total data set"
   ]
  },
  {
   "cell_type": "code",
   "execution_count": 31,
   "metadata": {},
   "outputs": [
    {
     "name": "stderr",
     "output_type": "stream",
     "text": [
      "C:\\Users\\Lindsey\\anaconda3\\lib\\site-packages\\category_encoders\\utils.py:21: FutureWarning: is_categorical is deprecated and will be removed in a future version.  Use is_categorical_dtype instead\n",
      "  elif pd.api.types.is_categorical(cols):\n",
      "C:\\Users\\Lindsey\\anaconda3\\lib\\site-packages\\sklearn\\linear_model\\_coordinate_descent.py:530: ConvergenceWarning: Objective did not converge. You might want to increase the number of iterations. Duality gap: 361817055756.3307, tolerance: 1286605500.408653\n",
      "  model = cd_fast.enet_coordinate_descent(\n"
     ]
    },
    {
     "data": {
      "text/html": [
       "<style>div.sk-top-container {color: black;background-color: white;}div.sk-toggleable {background-color: white;}label.sk-toggleable__label {cursor: pointer;display: block;width: 100%;margin-bottom: 0;padding: 0.2em 0.3em;box-sizing: border-box;text-align: center;}div.sk-toggleable__content {max-height: 0;max-width: 0;overflow: hidden;text-align: left;background-color: #f0f8ff;}div.sk-toggleable__content pre {margin: 0.2em;color: black;border-radius: 0.25em;background-color: #f0f8ff;}input.sk-toggleable__control:checked~div.sk-toggleable__content {max-height: 200px;max-width: 100%;overflow: auto;}div.sk-estimator input.sk-toggleable__control:checked~label.sk-toggleable__label {background-color: #d4ebff;}div.sk-label input.sk-toggleable__control:checked~label.sk-toggleable__label {background-color: #d4ebff;}input.sk-hidden--visually {border: 0;clip: rect(1px 1px 1px 1px);clip: rect(1px, 1px, 1px, 1px);height: 1px;margin: -1px;overflow: hidden;padding: 0;position: absolute;width: 1px;}div.sk-estimator {font-family: monospace;background-color: #f0f8ff;margin: 0.25em 0.25em;border: 1px dotted black;border-radius: 0.25em;box-sizing: border-box;}div.sk-estimator:hover {background-color: #d4ebff;}div.sk-parallel-item::after {content: \"\";width: 100%;border-bottom: 1px solid gray;flex-grow: 1;}div.sk-label:hover label.sk-toggleable__label {background-color: #d4ebff;}div.sk-serial::before {content: \"\";position: absolute;border-left: 1px solid gray;box-sizing: border-box;top: 2em;bottom: 0;left: 50%;}div.sk-serial {display: flex;flex-direction: column;align-items: center;background-color: white;}div.sk-item {z-index: 1;}div.sk-parallel {display: flex;align-items: stretch;justify-content: center;background-color: white;}div.sk-parallel-item {display: flex;flex-direction: column;position: relative;background-color: white;}div.sk-parallel-item:first-child::after {align-self: flex-end;width: 50%;}div.sk-parallel-item:last-child::after {align-self: flex-start;width: 50%;}div.sk-parallel-item:only-child::after {width: 0;}div.sk-dashed-wrapped {border: 1px dashed gray;margin: 0.2em;box-sizing: border-box;padding-bottom: 0.1em;background-color: white;position: relative;}div.sk-label label {font-family: monospace;font-weight: bold;background-color: white;display: inline-block;line-height: 1.2em;}div.sk-label-container {position: relative;z-index: 2;text-align: center;}div.sk-container {display: inline-block;position: relative;}</style><div class=\"sk-top-container\"><div class=\"sk-container\"><div class=\"sk-item sk-dashed-wrapped\"><div class=\"sk-label-container\"><div class=\"sk-label sk-toggleable\"><input class=\"sk-toggleable__control sk-hidden--visually\" id=\"e64119ee-7732-4b7e-a4dc-8a4d1d8d0bcd\" type=\"checkbox\" ><label class=\"sk-toggleable__label\" for=\"e64119ee-7732-4b7e-a4dc-8a4d1d8d0bcd\">Pipeline</label><div class=\"sk-toggleable__content\"><pre>Pipeline(steps=[('onehotencoder',\n",
       "                 OneHotEncoder(cols=['Neighborhood', 'MS SubClass'],\n",
       "                               use_cat_names=True)),\n",
       "                ('polynomialfeatures',\n",
       "                 PolynomialFeatures(interaction_only=True)),\n",
       "                ('standardscaler', StandardScaler()),\n",
       "                ('elasticnet', ElasticNet(alpha=0.1))])</pre></div></div></div><div class=\"sk-serial\"><div class=\"sk-item\"><div class=\"sk-estimator sk-toggleable\"><input class=\"sk-toggleable__control sk-hidden--visually\" id=\"4c139d60-14c3-46f3-af7e-e3efb7355e9e\" type=\"checkbox\" ><label class=\"sk-toggleable__label\" for=\"4c139d60-14c3-46f3-af7e-e3efb7355e9e\">OneHotEncoder</label><div class=\"sk-toggleable__content\"><pre>OneHotEncoder(cols=['Neighborhood', 'MS SubClass'], use_cat_names=True)</pre></div></div></div><div class=\"sk-item\"><div class=\"sk-estimator sk-toggleable\"><input class=\"sk-toggleable__control sk-hidden--visually\" id=\"9bc242b9-5786-4af2-9831-ded7ed1fe5aa\" type=\"checkbox\" ><label class=\"sk-toggleable__label\" for=\"9bc242b9-5786-4af2-9831-ded7ed1fe5aa\">PolynomialFeatures</label><div class=\"sk-toggleable__content\"><pre>PolynomialFeatures(interaction_only=True)</pre></div></div></div><div class=\"sk-item\"><div class=\"sk-estimator sk-toggleable\"><input class=\"sk-toggleable__control sk-hidden--visually\" id=\"0073c536-3292-4d82-af56-48f37ccfa82f\" type=\"checkbox\" ><label class=\"sk-toggleable__label\" for=\"0073c536-3292-4d82-af56-48f37ccfa82f\">StandardScaler</label><div class=\"sk-toggleable__content\"><pre>StandardScaler()</pre></div></div></div><div class=\"sk-item\"><div class=\"sk-estimator sk-toggleable\"><input class=\"sk-toggleable__control sk-hidden--visually\" id=\"bb22daeb-8618-4e7d-bffd-3a563dd83acb\" type=\"checkbox\" ><label class=\"sk-toggleable__label\" for=\"bb22daeb-8618-4e7d-bffd-3a563dd83acb\">ElasticNet</label><div class=\"sk-toggleable__content\"><pre>ElasticNet(alpha=0.1)</pre></div></div></div></div></div></div></div>"
      ],
      "text/plain": [
       "Pipeline(steps=[('onehotencoder',\n",
       "                 OneHotEncoder(cols=['Neighborhood', 'MS SubClass'],\n",
       "                               use_cat_names=True)),\n",
       "                ('polynomialfeatures',\n",
       "                 PolynomialFeatures(interaction_only=True)),\n",
       "                ('standardscaler', StandardScaler()),\n",
       "                ('elasticnet', ElasticNet(alpha=0.1))])"
      ]
     },
     "execution_count": 31,
     "metadata": {},
     "output_type": "execute_result"
    }
   ],
   "source": [
    "# Fit pipeline to total data set in order to create best model using all of the information I have.\n",
    "\n",
    "pipe.fit(X, y)"
   ]
  },
  {
   "cell_type": "code",
   "execution_count": 32,
   "metadata": {},
   "outputs": [
    {
     "data": {
      "text/plain": [
       "0.9176512607561362"
      ]
     },
     "execution_count": 32,
     "metadata": {},
     "output_type": "execute_result"
    }
   ],
   "source": [
    "# R-squared score on total data\n",
    "\n",
    "pipe.score(X, y)"
   ]
  },
  {
   "cell_type": "code",
   "execution_count": 33,
   "metadata": {},
   "outputs": [
    {
     "data": {
      "text/plain": [
       "22750.568727933405"
      ]
     },
     "execution_count": 33,
     "metadata": {},
     "output_type": "execute_result"
    }
   ],
   "source": [
    "# RMSE score on total data\n",
    "\n",
    "preds3 = pipe.predict(X)\n",
    "mean_squared_error(preds3, y, squared = False)"
   ]
  },
  {
   "cell_type": "markdown",
   "metadata": {},
   "source": [
    "The R-squared score is still consistent and the RMSE is in line with the train and test data."
   ]
  },
  {
   "cell_type": "markdown",
   "metadata": {},
   "source": [
    "### Creating submission file"
   ]
  },
  {
   "cell_type": "code",
   "execution_count": 34,
   "metadata": {},
   "outputs": [
    {
     "data": {
      "text/html": [
       "<div>\n",
       "<style scoped>\n",
       "    .dataframe tbody tr th:only-of-type {\n",
       "        vertical-align: middle;\n",
       "    }\n",
       "\n",
       "    .dataframe tbody tr th {\n",
       "        vertical-align: top;\n",
       "    }\n",
       "\n",
       "    .dataframe thead th {\n",
       "        text-align: right;\n",
       "    }\n",
       "</style>\n",
       "<table border=\"1\" class=\"dataframe\">\n",
       "  <thead>\n",
       "    <tr style=\"text-align: right;\">\n",
       "      <th></th>\n",
       "      <th>Id</th>\n",
       "      <th>PID</th>\n",
       "      <th>MS SubClass</th>\n",
       "      <th>MS Zoning</th>\n",
       "      <th>Lot Frontage</th>\n",
       "      <th>Lot Area</th>\n",
       "      <th>Street</th>\n",
       "      <th>Alley</th>\n",
       "      <th>Lot Shape</th>\n",
       "      <th>Land Contour</th>\n",
       "      <th>...</th>\n",
       "      <th>3Ssn Porch</th>\n",
       "      <th>Screen Porch</th>\n",
       "      <th>Pool Area</th>\n",
       "      <th>Pool QC</th>\n",
       "      <th>Fence</th>\n",
       "      <th>Misc Feature</th>\n",
       "      <th>Misc Val</th>\n",
       "      <th>Mo Sold</th>\n",
       "      <th>Yr Sold</th>\n",
       "      <th>Sale Type</th>\n",
       "    </tr>\n",
       "  </thead>\n",
       "  <tbody>\n",
       "    <tr>\n",
       "      <th>0</th>\n",
       "      <td>2658</td>\n",
       "      <td>902301120</td>\n",
       "      <td>190</td>\n",
       "      <td>RM</td>\n",
       "      <td>69.0</td>\n",
       "      <td>9142</td>\n",
       "      <td>Pave</td>\n",
       "      <td>Grvl</td>\n",
       "      <td>Reg</td>\n",
       "      <td>Lvl</td>\n",
       "      <td>...</td>\n",
       "      <td>0</td>\n",
       "      <td>0</td>\n",
       "      <td>0</td>\n",
       "      <td>NaN</td>\n",
       "      <td>NaN</td>\n",
       "      <td>NaN</td>\n",
       "      <td>0</td>\n",
       "      <td>4</td>\n",
       "      <td>2006</td>\n",
       "      <td>WD</td>\n",
       "    </tr>\n",
       "    <tr>\n",
       "      <th>1</th>\n",
       "      <td>2718</td>\n",
       "      <td>905108090</td>\n",
       "      <td>90</td>\n",
       "      <td>RL</td>\n",
       "      <td>NaN</td>\n",
       "      <td>9662</td>\n",
       "      <td>Pave</td>\n",
       "      <td>NaN</td>\n",
       "      <td>IR1</td>\n",
       "      <td>Lvl</td>\n",
       "      <td>...</td>\n",
       "      <td>0</td>\n",
       "      <td>0</td>\n",
       "      <td>0</td>\n",
       "      <td>NaN</td>\n",
       "      <td>NaN</td>\n",
       "      <td>NaN</td>\n",
       "      <td>0</td>\n",
       "      <td>8</td>\n",
       "      <td>2006</td>\n",
       "      <td>WD</td>\n",
       "    </tr>\n",
       "    <tr>\n",
       "      <th>2</th>\n",
       "      <td>2414</td>\n",
       "      <td>528218130</td>\n",
       "      <td>60</td>\n",
       "      <td>RL</td>\n",
       "      <td>58.0</td>\n",
       "      <td>17104</td>\n",
       "      <td>Pave</td>\n",
       "      <td>NaN</td>\n",
       "      <td>IR1</td>\n",
       "      <td>Lvl</td>\n",
       "      <td>...</td>\n",
       "      <td>0</td>\n",
       "      <td>0</td>\n",
       "      <td>0</td>\n",
       "      <td>NaN</td>\n",
       "      <td>NaN</td>\n",
       "      <td>NaN</td>\n",
       "      <td>0</td>\n",
       "      <td>9</td>\n",
       "      <td>2006</td>\n",
       "      <td>New</td>\n",
       "    </tr>\n",
       "    <tr>\n",
       "      <th>3</th>\n",
       "      <td>1989</td>\n",
       "      <td>902207150</td>\n",
       "      <td>30</td>\n",
       "      <td>RM</td>\n",
       "      <td>60.0</td>\n",
       "      <td>8520</td>\n",
       "      <td>Pave</td>\n",
       "      <td>NaN</td>\n",
       "      <td>Reg</td>\n",
       "      <td>Lvl</td>\n",
       "      <td>...</td>\n",
       "      <td>0</td>\n",
       "      <td>0</td>\n",
       "      <td>0</td>\n",
       "      <td>NaN</td>\n",
       "      <td>NaN</td>\n",
       "      <td>NaN</td>\n",
       "      <td>0</td>\n",
       "      <td>7</td>\n",
       "      <td>2007</td>\n",
       "      <td>WD</td>\n",
       "    </tr>\n",
       "    <tr>\n",
       "      <th>4</th>\n",
       "      <td>625</td>\n",
       "      <td>535105100</td>\n",
       "      <td>20</td>\n",
       "      <td>RL</td>\n",
       "      <td>NaN</td>\n",
       "      <td>9500</td>\n",
       "      <td>Pave</td>\n",
       "      <td>NaN</td>\n",
       "      <td>IR1</td>\n",
       "      <td>Lvl</td>\n",
       "      <td>...</td>\n",
       "      <td>0</td>\n",
       "      <td>185</td>\n",
       "      <td>0</td>\n",
       "      <td>NaN</td>\n",
       "      <td>NaN</td>\n",
       "      <td>NaN</td>\n",
       "      <td>0</td>\n",
       "      <td>7</td>\n",
       "      <td>2009</td>\n",
       "      <td>WD</td>\n",
       "    </tr>\n",
       "  </tbody>\n",
       "</table>\n",
       "<p>5 rows × 80 columns</p>\n",
       "</div>"
      ],
      "text/plain": [
       "     Id        PID MS SubClass MS Zoning  Lot Frontage  Lot Area Street Alley  \\\n",
       "0  2658  902301120         190        RM          69.0      9142   Pave  Grvl   \n",
       "1  2718  905108090          90        RL           NaN      9662   Pave   NaN   \n",
       "2  2414  528218130          60        RL          58.0     17104   Pave   NaN   \n",
       "3  1989  902207150          30        RM          60.0      8520   Pave   NaN   \n",
       "4   625  535105100          20        RL           NaN      9500   Pave   NaN   \n",
       "\n",
       "  Lot Shape Land Contour  ... 3Ssn Porch Screen Porch Pool Area Pool QC Fence  \\\n",
       "0       Reg          Lvl  ...          0            0         0     NaN   NaN   \n",
       "1       IR1          Lvl  ...          0            0         0     NaN   NaN   \n",
       "2       IR1          Lvl  ...          0            0         0     NaN   NaN   \n",
       "3       Reg          Lvl  ...          0            0         0     NaN   NaN   \n",
       "4       IR1          Lvl  ...          0          185         0     NaN   NaN   \n",
       "\n",
       "  Misc Feature Misc Val Mo Sold  Yr Sold  Sale Type  \n",
       "0          NaN        0       4     2006        WD   \n",
       "1          NaN        0       8     2006        WD   \n",
       "2          NaN        0       9     2006        New  \n",
       "3          NaN        0       7     2007        WD   \n",
       "4          NaN        0       7     2009        WD   \n",
       "\n",
       "[5 rows x 80 columns]"
      ]
     },
     "execution_count": 34,
     "metadata": {},
     "output_type": "execute_result"
    }
   ],
   "source": [
    "# Read in given test data\n",
    "df_test = pd.read_csv('./datasets/test.csv')\n",
    "\n",
    "# Adjust MS SubClass to object\n",
    "df_test['MS SubClass'] = df_test['MS SubClass'].astype('object')\n",
    "\n",
    "df_test.head()"
   ]
  },
  {
   "cell_type": "code",
   "execution_count": 35,
   "metadata": {},
   "outputs": [
    {
     "data": {
      "text/plain": [
       "(878, 6)"
      ]
     },
     "execution_count": 35,
     "metadata": {},
     "output_type": "execute_result"
    }
   ],
   "source": [
    "# Create dataframe with only necessary columns\n",
    "\n",
    "X_test = df_test[['Gr Liv Area', 'Overall Qual', 'Total Bsmt SF', 'Garage Area', 'Neighborhood', 'MS SubClass']]\n",
    "X_test.shape"
   ]
  },
  {
   "cell_type": "code",
   "execution_count": 36,
   "metadata": {},
   "outputs": [],
   "source": [
    "# Predict prices based on new data\n",
    "\n",
    "predictions = pipe.predict(X_test)"
   ]
  },
  {
   "cell_type": "code",
   "execution_count": 37,
   "metadata": {},
   "outputs": [
    {
     "data": {
      "text/plain": [
       "(878, 1)"
      ]
     },
     "execution_count": 37,
     "metadata": {},
     "output_type": "execute_result"
    }
   ],
   "source": [
    "# Create dataframe for upload\n",
    "\n",
    "df_sales = pd.DataFrame(predictions, columns = ['SalePrice'])\n",
    "df_sales.shape"
   ]
  },
  {
   "cell_type": "code",
   "execution_count": 38,
   "metadata": {},
   "outputs": [
    {
     "name": "stdout",
     "output_type": "stream",
     "text": [
      "<class 'pandas.core.frame.DataFrame'>\n",
      "RangeIndex: 878 entries, 0 to 877\n",
      "Data columns (total 2 columns):\n",
      " #   Column     Non-Null Count  Dtype  \n",
      "---  ------     --------------  -----  \n",
      " 0   Id         878 non-null    int64  \n",
      " 1   SalePrice  878 non-null    float64\n",
      "dtypes: float64(1), int64(1)\n",
      "memory usage: 13.8 KB\n"
     ]
    }
   ],
   "source": [
    "# Add 'Id' column to price predictions\n",
    "\n",
    "df_model_final = pd.concat([df_test['Id'], df_sales], axis = 1)\n",
    "df_model_final.info()"
   ]
  },
  {
   "cell_type": "code",
   "execution_count": 39,
   "metadata": {},
   "outputs": [],
   "source": [
    "# Format 'Id' to be an index\n",
    "\n",
    "df_model_final.set_index('Id', inplace = True)"
   ]
  },
  {
   "cell_type": "code",
   "execution_count": 42,
   "metadata": {},
   "outputs": [],
   "source": [
    "# Save CSV file\n",
    "\n",
    "df_model_final.to_csv('./kaggle_submissions/final_submission.csv')"
   ]
  }
 ],
 "metadata": {
  "kernelspec": {
   "display_name": "Python 3",
   "language": "python",
   "name": "python3"
  },
  "language_info": {
   "codemirror_mode": {
    "name": "ipython",
    "version": 3
   },
   "file_extension": ".py",
   "mimetype": "text/x-python",
   "name": "python",
   "nbconvert_exporter": "python",
   "pygments_lexer": "ipython3",
   "version": "3.8.5"
  }
 },
 "nbformat": 4,
 "nbformat_minor": 4
}
