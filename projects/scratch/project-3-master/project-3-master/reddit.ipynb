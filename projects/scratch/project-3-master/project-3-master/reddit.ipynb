{
 "cells": [
  {
   "cell_type": "markdown",
   "metadata": {},
   "source": [
    "# Project 3: Subreddit Classifier"
   ]
  },
  {
   "cell_type": "markdown",
   "metadata": {},
   "source": [
    "### Problem: \n",
    "Can we create a model to identify which subreddit a post is from?"
   ]
  },
  {
   "cell_type": "markdown",
   "metadata": {},
   "source": [
    "## Executive Summary\n",
    "\n",
    "### Contents:\n",
    "- [Reading in the Data](#Reading-in-the-Data)\n",
    "- [Data Cleaning and EDA](#Data-Cleaning-and-EDA)\n",
    "- [Feature Selection](#Feature-Selection)\n",
    "- [Pipeline and Grid Search to find best features in Logistic Regression](#Pipeline-and-Grid-Search-to-find-best-features-in-Logistic-Regression)\n",
    "- [Other Classifier Models](#Other-Classifier-Models)\n",
    "- [Conclusions and Recommendations](#Conclusions-and-Recommendations)"
   ]
  },
  {
   "cell_type": "code",
   "execution_count": 337,
   "metadata": {},
   "outputs": [],
   "source": [
    "#imports\n",
    "\n",
    "import requests\n",
    "import pandas as pd\n",
    "import time\n",
    "import numpy as np\n",
    "import matplotlib.pyplot as plt\n",
    "import spacy\n",
    "import seaborn as sns\n",
    "\n",
    "from sklearn.linear_model import LogisticRegression\n",
    "from sklearn.naive_bayes import MultinomialNB\n",
    "from sklearn.ensemble import GradientBoostingClassifier\n",
    "from sklearn.tree import DecisionTreeClassifier\n",
    "\n",
    "from sklearn.feature_extraction.text import CountVectorizer, TfidfVectorizer\n",
    "from sklearn.pipeline import make_pipeline\n",
    "from sklearn.model_selection import train_test_split\n",
    "from sklearn.metrics import plot_confusion_matrix, classification_report\n",
    "from sklearn.model_selection import GridSearchCV\n",
    "\n"
   ]
  },
  {
   "cell_type": "markdown",
   "metadata": {},
   "source": [
    "### Reading in the Data"
   ]
  },
  {
   "cell_type": "code",
   "execution_count": 2,
   "metadata": {},
   "outputs": [],
   "source": [
    "url = 'https://api.pushshift.io/reddit/submission/search'"
   ]
  },
  {
   "cell_type": "code",
   "execution_count": 406,
   "metadata": {},
   "outputs": [
    {
     "name": "stdout",
     "output_type": "stream",
     "text": [
      "4000\n"
     ]
    }
   ],
   "source": [
    "# if else inside of dictionary: https://stackoverflow.com/questions/52325025/use-of-if-else-inside-a-dict-to-set-a-value-to-key-using-python\n",
    "\n",
    "# for loop to pull 100 posts at a time from each subreddit\n",
    "posts = []\n",
    "\n",
    "def reddit_pull(subreddit, post_time):\n",
    "    \n",
    "    \"\"\"Function used to pull posts from reddit based on subreddit and post timestamp. Pulls 100 posts at a time and uses last post in each grouping to determine which one to pull next.\"\"\"\n",
    "    \n",
    "    tmp_posts = []\n",
    "    for i in range(20):    \n",
    "        params = {\n",
    "            'subreddit': subreddit,\n",
    "            'size': 100,\n",
    "            'before': post_time if not tmp_posts else tmp_posts[-1]['created_utc']\n",
    "        }\n",
    "        tmp_posts += requests.get(url, params).json()['data']\n",
    "        time.sleep(3)\n",
    "    return tmp_posts\n",
    "\n",
    "# I want to keep my pull the same everytime, so specifying which timestamp to pull first post from (May 1st)\n",
    "posts += reddit_pull('jokes', 1619906894)\n",
    "posts += reddit_pull('riddles', 1619906894)\n",
    "\n",
    "print(len(posts))"
   ]
  },
  {
   "cell_type": "markdown",
   "metadata": {},
   "source": [
    "### Data Cleaning and EDA"
   ]
  },
  {
   "cell_type": "code",
   "execution_count": 407,
   "metadata": {},
   "outputs": [],
   "source": [
    "posts_df = pd.DataFrame(posts)"
   ]
  },
  {
   "cell_type": "code",
   "execution_count": 408,
   "metadata": {},
   "outputs": [
    {
     "data": {
      "text/html": [
       "<div>\n",
       "<style scoped>\n",
       "    .dataframe tbody tr th:only-of-type {\n",
       "        vertical-align: middle;\n",
       "    }\n",
       "\n",
       "    .dataframe tbody tr th {\n",
       "        vertical-align: top;\n",
       "    }\n",
       "\n",
       "    .dataframe thead th {\n",
       "        text-align: right;\n",
       "    }\n",
       "</style>\n",
       "<table border=\"1\" class=\"dataframe\">\n",
       "  <thead>\n",
       "    <tr style=\"text-align: right;\">\n",
       "      <th></th>\n",
       "      <th>all_awardings</th>\n",
       "      <th>allow_live_comments</th>\n",
       "      <th>author</th>\n",
       "      <th>author_flair_css_class</th>\n",
       "      <th>author_flair_richtext</th>\n",
       "      <th>author_flair_text</th>\n",
       "      <th>author_flair_type</th>\n",
       "      <th>author_fullname</th>\n",
       "      <th>author_patreon_flair</th>\n",
       "      <th>author_premium</th>\n",
       "      <th>...</th>\n",
       "      <th>author_flair_text_color</th>\n",
       "      <th>banned_by</th>\n",
       "      <th>post_hint</th>\n",
       "      <th>preview</th>\n",
       "      <th>author_cakeday</th>\n",
       "      <th>link_flair_template_id</th>\n",
       "      <th>crosspost_parent</th>\n",
       "      <th>crosspost_parent_list</th>\n",
       "      <th>url_overridden_by_dest</th>\n",
       "      <th>edited</th>\n",
       "    </tr>\n",
       "  </thead>\n",
       "  <tbody>\n",
       "    <tr>\n",
       "      <th>0</th>\n",
       "      <td>[]</td>\n",
       "      <td>False</td>\n",
       "      <td>Square-Blueberry6586</td>\n",
       "      <td>None</td>\n",
       "      <td>[]</td>\n",
       "      <td>None</td>\n",
       "      <td>text</td>\n",
       "      <td>t2_b5vdfju8</td>\n",
       "      <td>False</td>\n",
       "      <td>False</td>\n",
       "      <td>...</td>\n",
       "      <td>NaN</td>\n",
       "      <td>NaN</td>\n",
       "      <td>NaN</td>\n",
       "      <td>NaN</td>\n",
       "      <td>NaN</td>\n",
       "      <td>NaN</td>\n",
       "      <td>NaN</td>\n",
       "      <td>NaN</td>\n",
       "      <td>NaN</td>\n",
       "      <td>NaN</td>\n",
       "    </tr>\n",
       "    <tr>\n",
       "      <th>1</th>\n",
       "      <td>[]</td>\n",
       "      <td>False</td>\n",
       "      <td>Dorstu</td>\n",
       "      <td>None</td>\n",
       "      <td>[]</td>\n",
       "      <td>None</td>\n",
       "      <td>text</td>\n",
       "      <td>t2_ayyd0dj4</td>\n",
       "      <td>False</td>\n",
       "      <td>False</td>\n",
       "      <td>...</td>\n",
       "      <td>NaN</td>\n",
       "      <td>NaN</td>\n",
       "      <td>NaN</td>\n",
       "      <td>NaN</td>\n",
       "      <td>NaN</td>\n",
       "      <td>NaN</td>\n",
       "      <td>NaN</td>\n",
       "      <td>NaN</td>\n",
       "      <td>NaN</td>\n",
       "      <td>NaN</td>\n",
       "    </tr>\n",
       "    <tr>\n",
       "      <th>2</th>\n",
       "      <td>[]</td>\n",
       "      <td>False</td>\n",
       "      <td>the_true_hennimore</td>\n",
       "      <td>None</td>\n",
       "      <td>[]</td>\n",
       "      <td>None</td>\n",
       "      <td>text</td>\n",
       "      <td>t2_btxn6r6z</td>\n",
       "      <td>False</td>\n",
       "      <td>False</td>\n",
       "      <td>...</td>\n",
       "      <td>NaN</td>\n",
       "      <td>NaN</td>\n",
       "      <td>NaN</td>\n",
       "      <td>NaN</td>\n",
       "      <td>NaN</td>\n",
       "      <td>NaN</td>\n",
       "      <td>NaN</td>\n",
       "      <td>NaN</td>\n",
       "      <td>NaN</td>\n",
       "      <td>NaN</td>\n",
       "    </tr>\n",
       "    <tr>\n",
       "      <th>3</th>\n",
       "      <td>[]</td>\n",
       "      <td>False</td>\n",
       "      <td>eslobrown</td>\n",
       "      <td>None</td>\n",
       "      <td>[]</td>\n",
       "      <td>None</td>\n",
       "      <td>text</td>\n",
       "      <td>t2_22h5</td>\n",
       "      <td>False</td>\n",
       "      <td>False</td>\n",
       "      <td>...</td>\n",
       "      <td>NaN</td>\n",
       "      <td>NaN</td>\n",
       "      <td>NaN</td>\n",
       "      <td>NaN</td>\n",
       "      <td>NaN</td>\n",
       "      <td>NaN</td>\n",
       "      <td>NaN</td>\n",
       "      <td>NaN</td>\n",
       "      <td>NaN</td>\n",
       "      <td>NaN</td>\n",
       "    </tr>\n",
       "    <tr>\n",
       "      <th>4</th>\n",
       "      <td>[]</td>\n",
       "      <td>False</td>\n",
       "      <td>Dorstu</td>\n",
       "      <td>None</td>\n",
       "      <td>[]</td>\n",
       "      <td>None</td>\n",
       "      <td>text</td>\n",
       "      <td>t2_ayyd0dj4</td>\n",
       "      <td>False</td>\n",
       "      <td>False</td>\n",
       "      <td>...</td>\n",
       "      <td>NaN</td>\n",
       "      <td>NaN</td>\n",
       "      <td>NaN</td>\n",
       "      <td>NaN</td>\n",
       "      <td>NaN</td>\n",
       "      <td>NaN</td>\n",
       "      <td>NaN</td>\n",
       "      <td>NaN</td>\n",
       "      <td>NaN</td>\n",
       "      <td>NaN</td>\n",
       "    </tr>\n",
       "    <tr>\n",
       "      <th>...</th>\n",
       "      <td>...</td>\n",
       "      <td>...</td>\n",
       "      <td>...</td>\n",
       "      <td>...</td>\n",
       "      <td>...</td>\n",
       "      <td>...</td>\n",
       "      <td>...</td>\n",
       "      <td>...</td>\n",
       "      <td>...</td>\n",
       "      <td>...</td>\n",
       "      <td>...</td>\n",
       "      <td>...</td>\n",
       "      <td>...</td>\n",
       "      <td>...</td>\n",
       "      <td>...</td>\n",
       "      <td>...</td>\n",
       "      <td>...</td>\n",
       "      <td>...</td>\n",
       "      <td>...</td>\n",
       "      <td>...</td>\n",
       "      <td>...</td>\n",
       "    </tr>\n",
       "    <tr>\n",
       "      <th>3995</th>\n",
       "      <td>[]</td>\n",
       "      <td>False</td>\n",
       "      <td>DecisionDesigner4231</td>\n",
       "      <td>None</td>\n",
       "      <td>[]</td>\n",
       "      <td>None</td>\n",
       "      <td>text</td>\n",
       "      <td>t2_834t9mqt</td>\n",
       "      <td>False</td>\n",
       "      <td>False</td>\n",
       "      <td>...</td>\n",
       "      <td>NaN</td>\n",
       "      <td>NaN</td>\n",
       "      <td>NaN</td>\n",
       "      <td>NaN</td>\n",
       "      <td>NaN</td>\n",
       "      <td>NaN</td>\n",
       "      <td>NaN</td>\n",
       "      <td>NaN</td>\n",
       "      <td>NaN</td>\n",
       "      <td>NaN</td>\n",
       "    </tr>\n",
       "    <tr>\n",
       "      <th>3996</th>\n",
       "      <td>[]</td>\n",
       "      <td>False</td>\n",
       "      <td>DecisionDesigner4231</td>\n",
       "      <td>None</td>\n",
       "      <td>[]</td>\n",
       "      <td>None</td>\n",
       "      <td>text</td>\n",
       "      <td>t2_834t9mqt</td>\n",
       "      <td>False</td>\n",
       "      <td>False</td>\n",
       "      <td>...</td>\n",
       "      <td>NaN</td>\n",
       "      <td>NaN</td>\n",
       "      <td>NaN</td>\n",
       "      <td>NaN</td>\n",
       "      <td>NaN</td>\n",
       "      <td>NaN</td>\n",
       "      <td>NaN</td>\n",
       "      <td>NaN</td>\n",
       "      <td>NaN</td>\n",
       "      <td>NaN</td>\n",
       "    </tr>\n",
       "    <tr>\n",
       "      <th>3997</th>\n",
       "      <td>[]</td>\n",
       "      <td>False</td>\n",
       "      <td>dragonzues720</td>\n",
       "      <td>None</td>\n",
       "      <td>[]</td>\n",
       "      <td>None</td>\n",
       "      <td>text</td>\n",
       "      <td>t2_26u25spp</td>\n",
       "      <td>False</td>\n",
       "      <td>False</td>\n",
       "      <td>...</td>\n",
       "      <td>NaN</td>\n",
       "      <td>NaN</td>\n",
       "      <td>NaN</td>\n",
       "      <td>NaN</td>\n",
       "      <td>NaN</td>\n",
       "      <td>NaN</td>\n",
       "      <td>NaN</td>\n",
       "      <td>NaN</td>\n",
       "      <td>NaN</td>\n",
       "      <td>NaN</td>\n",
       "    </tr>\n",
       "    <tr>\n",
       "      <th>3998</th>\n",
       "      <td>[]</td>\n",
       "      <td>False</td>\n",
       "      <td>IC33OX</td>\n",
       "      <td>None</td>\n",
       "      <td>[]</td>\n",
       "      <td>None</td>\n",
       "      <td>text</td>\n",
       "      <td>t2_5am2q53m</td>\n",
       "      <td>False</td>\n",
       "      <td>False</td>\n",
       "      <td>...</td>\n",
       "      <td>NaN</td>\n",
       "      <td>NaN</td>\n",
       "      <td>NaN</td>\n",
       "      <td>NaN</td>\n",
       "      <td>NaN</td>\n",
       "      <td>8d74c87e-f67b-11e8-8573-0eeb2877c67e</td>\n",
       "      <td>NaN</td>\n",
       "      <td>NaN</td>\n",
       "      <td>NaN</td>\n",
       "      <td>NaN</td>\n",
       "    </tr>\n",
       "    <tr>\n",
       "      <th>3999</th>\n",
       "      <td>[]</td>\n",
       "      <td>False</td>\n",
       "      <td>wamblymars304</td>\n",
       "      <td>None</td>\n",
       "      <td>[]</td>\n",
       "      <td>None</td>\n",
       "      <td>text</td>\n",
       "      <td>t2_5w829u5n</td>\n",
       "      <td>False</td>\n",
       "      <td>False</td>\n",
       "      <td>...</td>\n",
       "      <td>NaN</td>\n",
       "      <td>NaN</td>\n",
       "      <td>NaN</td>\n",
       "      <td>NaN</td>\n",
       "      <td>NaN</td>\n",
       "      <td>NaN</td>\n",
       "      <td>NaN</td>\n",
       "      <td>NaN</td>\n",
       "      <td>NaN</td>\n",
       "      <td>NaN</td>\n",
       "    </tr>\n",
       "  </tbody>\n",
       "</table>\n",
       "<p>4000 rows × 71 columns</p>\n",
       "</div>"
      ],
      "text/plain": [
       "     all_awardings  allow_live_comments                author  \\\n",
       "0               []                False  Square-Blueberry6586   \n",
       "1               []                False                Dorstu   \n",
       "2               []                False    the_true_hennimore   \n",
       "3               []                False             eslobrown   \n",
       "4               []                False                Dorstu   \n",
       "...            ...                  ...                   ...   \n",
       "3995            []                False  DecisionDesigner4231   \n",
       "3996            []                False  DecisionDesigner4231   \n",
       "3997            []                False         dragonzues720   \n",
       "3998            []                False                IC33OX   \n",
       "3999            []                False         wamblymars304   \n",
       "\n",
       "     author_flair_css_class author_flair_richtext author_flair_text  \\\n",
       "0                      None                    []              None   \n",
       "1                      None                    []              None   \n",
       "2                      None                    []              None   \n",
       "3                      None                    []              None   \n",
       "4                      None                    []              None   \n",
       "...                     ...                   ...               ...   \n",
       "3995                   None                    []              None   \n",
       "3996                   None                    []              None   \n",
       "3997                   None                    []              None   \n",
       "3998                   None                    []              None   \n",
       "3999                   None                    []              None   \n",
       "\n",
       "     author_flair_type author_fullname author_patreon_flair author_premium  \\\n",
       "0                 text     t2_b5vdfju8                False          False   \n",
       "1                 text     t2_ayyd0dj4                False          False   \n",
       "2                 text     t2_btxn6r6z                False          False   \n",
       "3                 text         t2_22h5                False          False   \n",
       "4                 text     t2_ayyd0dj4                False          False   \n",
       "...                ...             ...                  ...            ...   \n",
       "3995              text     t2_834t9mqt                False          False   \n",
       "3996              text     t2_834t9mqt                False          False   \n",
       "3997              text     t2_26u25spp                False          False   \n",
       "3998              text     t2_5am2q53m                False          False   \n",
       "3999              text     t2_5w829u5n                False          False   \n",
       "\n",
       "      ... author_flair_text_color  banned_by  post_hint  preview  \\\n",
       "0     ...                     NaN        NaN        NaN      NaN   \n",
       "1     ...                     NaN        NaN        NaN      NaN   \n",
       "2     ...                     NaN        NaN        NaN      NaN   \n",
       "3     ...                     NaN        NaN        NaN      NaN   \n",
       "4     ...                     NaN        NaN        NaN      NaN   \n",
       "...   ...                     ...        ...        ...      ...   \n",
       "3995  ...                     NaN        NaN        NaN      NaN   \n",
       "3996  ...                     NaN        NaN        NaN      NaN   \n",
       "3997  ...                     NaN        NaN        NaN      NaN   \n",
       "3998  ...                     NaN        NaN        NaN      NaN   \n",
       "3999  ...                     NaN        NaN        NaN      NaN   \n",
       "\n",
       "     author_cakeday                link_flair_template_id crosspost_parent  \\\n",
       "0               NaN                                   NaN              NaN   \n",
       "1               NaN                                   NaN              NaN   \n",
       "2               NaN                                   NaN              NaN   \n",
       "3               NaN                                   NaN              NaN   \n",
       "4               NaN                                   NaN              NaN   \n",
       "...             ...                                   ...              ...   \n",
       "3995            NaN                                   NaN              NaN   \n",
       "3996            NaN                                   NaN              NaN   \n",
       "3997            NaN                                   NaN              NaN   \n",
       "3998            NaN  8d74c87e-f67b-11e8-8573-0eeb2877c67e              NaN   \n",
       "3999            NaN                                   NaN              NaN   \n",
       "\n",
       "     crosspost_parent_list  url_overridden_by_dest  edited  \n",
       "0                      NaN                     NaN     NaN  \n",
       "1                      NaN                     NaN     NaN  \n",
       "2                      NaN                     NaN     NaN  \n",
       "3                      NaN                     NaN     NaN  \n",
       "4                      NaN                     NaN     NaN  \n",
       "...                    ...                     ...     ...  \n",
       "3995                   NaN                     NaN     NaN  \n",
       "3996                   NaN                     NaN     NaN  \n",
       "3997                   NaN                     NaN     NaN  \n",
       "3998                   NaN                     NaN     NaN  \n",
       "3999                   NaN                     NaN     NaN  \n",
       "\n",
       "[4000 rows x 71 columns]"
      ]
     },
     "execution_count": 408,
     "metadata": {},
     "output_type": "execute_result"
    }
   ],
   "source": [
    "posts_df"
   ]
  },
  {
   "cell_type": "code",
   "execution_count": 412,
   "metadata": {},
   "outputs": [
    {
     "data": {
      "text/html": [
       "<div>\n",
       "<style scoped>\n",
       "    .dataframe tbody tr th:only-of-type {\n",
       "        vertical-align: middle;\n",
       "    }\n",
       "\n",
       "    .dataframe tbody tr th {\n",
       "        vertical-align: top;\n",
       "    }\n",
       "\n",
       "    .dataframe thead th {\n",
       "        text-align: right;\n",
       "    }\n",
       "</style>\n",
       "<table border=\"1\" class=\"dataframe\">\n",
       "  <thead>\n",
       "    <tr style=\"text-align: right;\">\n",
       "      <th></th>\n",
       "      <th>subreddit</th>\n",
       "      <th>selftext</th>\n",
       "      <th>title</th>\n",
       "    </tr>\n",
       "  </thead>\n",
       "  <tbody>\n",
       "    <tr>\n",
       "      <th>0</th>\n",
       "      <td>Jokes</td>\n",
       "      <td>It's basically about a guy who falls for the o...</td>\n",
       "      <td>I once read a novel about a man who becomes in...</td>\n",
       "    </tr>\n",
       "    <tr>\n",
       "      <th>1</th>\n",
       "      <td>Jokes</td>\n",
       "      <td>The mother says: 'What? Where did you hear tha...</td>\n",
       "      <td>A little boy asks his mother, \"Mom, is it poss...</td>\n",
       "    </tr>\n",
       "    <tr>\n",
       "      <th>2</th>\n",
       "      <td>Jokes</td>\n",
       "      <td>The cop defended himself by stating that he is...</td>\n",
       "      <td>An American cop shoots a ginger, and due to th...</td>\n",
       "    </tr>\n",
       "    <tr>\n",
       "      <th>3</th>\n",
       "      <td>Jokes</td>\n",
       "      <td>I think he’s called Juan Division.</td>\n",
       "      <td>Did you hear about the new Marvel hero? He’s a...</td>\n",
       "    </tr>\n",
       "    <tr>\n",
       "      <th>4</th>\n",
       "      <td>Jokes</td>\n",
       "      <td>\"I want to confess\", the secretary says as she...</td>\n",
       "      <td>A few minutes after she was hired, the boss an...</td>\n",
       "    </tr>\n",
       "  </tbody>\n",
       "</table>\n",
       "</div>"
      ],
      "text/plain": [
       "  subreddit                                           selftext  \\\n",
       "0     Jokes  It's basically about a guy who falls for the o...   \n",
       "1     Jokes  The mother says: 'What? Where did you hear tha...   \n",
       "2     Jokes  The cop defended himself by stating that he is...   \n",
       "3     Jokes                 I think he’s called Juan Division.   \n",
       "4     Jokes  \"I want to confess\", the secretary says as she...   \n",
       "\n",
       "                                               title  \n",
       "0  I once read a novel about a man who becomes in...  \n",
       "1  A little boy asks his mother, \"Mom, is it poss...  \n",
       "2  An American cop shoots a ginger, and due to th...  \n",
       "3  Did you hear about the new Marvel hero? He’s a...  \n",
       "4  A few minutes after she was hired, the boss an...  "
      ]
     },
     "execution_count": 412,
     "metadata": {},
     "output_type": "execute_result"
    }
   ],
   "source": [
    "posts_df[['subreddit', 'selftext', 'title']].head()"
   ]
  },
  {
   "cell_type": "code",
   "execution_count": 413,
   "metadata": {
    "collapsed": true,
    "jupyter": {
     "outputs_hidden": true
    }
   },
   "outputs": [
    {
     "name": "stdout",
     "output_type": "stream",
     "text": [
      "<class 'pandas.core.frame.DataFrame'>\n",
      "RangeIndex: 4000 entries, 0 to 3999\n",
      "Data columns (total 71 columns):\n",
      " #   Column                         Non-Null Count  Dtype  \n",
      "---  ------                         --------------  -----  \n",
      " 0   all_awardings                  4000 non-null   object \n",
      " 1   allow_live_comments            4000 non-null   bool   \n",
      " 2   author                         4000 non-null   object \n",
      " 3   author_flair_css_class         0 non-null      object \n",
      " 4   author_flair_richtext          3945 non-null   object \n",
      " 5   author_flair_text              0 non-null      object \n",
      " 6   author_flair_type              3945 non-null   object \n",
      " 7   author_fullname                3945 non-null   object \n",
      " 8   author_patreon_flair           3945 non-null   object \n",
      " 9   author_premium                 3945 non-null   object \n",
      " 10  awarders                       4000 non-null   object \n",
      " 11  can_mod_post                   4000 non-null   bool   \n",
      " 12  contest_mode                   4000 non-null   bool   \n",
      " 13  created_utc                    4000 non-null   int64  \n",
      " 14  domain                         4000 non-null   object \n",
      " 15  full_link                      4000 non-null   object \n",
      " 16  gildings                       4000 non-null   object \n",
      " 17  id                             4000 non-null   object \n",
      " 18  is_crosspostable               4000 non-null   bool   \n",
      " 19  is_meta                        4000 non-null   bool   \n",
      " 20  is_original_content            4000 non-null   bool   \n",
      " 21  is_reddit_media_domain         4000 non-null   bool   \n",
      " 22  is_robot_indexable             4000 non-null   bool   \n",
      " 23  is_self                        4000 non-null   bool   \n",
      " 24  is_video                       4000 non-null   bool   \n",
      " 25  link_flair_background_color    4000 non-null   object \n",
      " 26  link_flair_richtext            4000 non-null   object \n",
      " 27  link_flair_text_color          4000 non-null   object \n",
      " 28  link_flair_type                4000 non-null   object \n",
      " 29  locked                         4000 non-null   bool   \n",
      " 30  media_only                     4000 non-null   bool   \n",
      " 31  no_follow                      4000 non-null   bool   \n",
      " 32  num_comments                   4000 non-null   int64  \n",
      " 33  num_crossposts                 4000 non-null   int64  \n",
      " 34  over_18                        4000 non-null   bool   \n",
      " 35  parent_whitelist_status        4000 non-null   object \n",
      " 36  permalink                      4000 non-null   object \n",
      " 37  pinned                         4000 non-null   bool   \n",
      " 38  pwls                           4000 non-null   int64  \n",
      " 39  retrieved_on                   4000 non-null   int64  \n",
      " 40  score                          4000 non-null   int64  \n",
      " 41  selftext                       3990 non-null   object \n",
      " 42  send_replies                   4000 non-null   bool   \n",
      " 43  spoiler                        4000 non-null   bool   \n",
      " 44  stickied                       4000 non-null   bool   \n",
      " 45  subreddit                      4000 non-null   object \n",
      " 46  subreddit_id                   4000 non-null   object \n",
      " 47  subreddit_subscribers          4000 non-null   int64  \n",
      " 48  subreddit_type                 4000 non-null   object \n",
      " 49  thumbnail                      4000 non-null   object \n",
      " 50  title                          4000 non-null   object \n",
      " 51  total_awards_received          4000 non-null   int64  \n",
      " 52  treatment_tags                 4000 non-null   object \n",
      " 53  upvote_ratio                   4000 non-null   float64\n",
      " 54  url                            4000 non-null   object \n",
      " 55  whitelist_status               4000 non-null   object \n",
      " 56  wls                            4000 non-null   int64  \n",
      " 57  removed_by_category            474 non-null    object \n",
      " 58  link_flair_css_class           1080 non-null   object \n",
      " 59  link_flair_text                1081 non-null   object \n",
      " 60  author_flair_background_color  55 non-null     object \n",
      " 61  author_flair_text_color        55 non-null     object \n",
      " 62  banned_by                      10 non-null     object \n",
      " 63  post_hint                      108 non-null    object \n",
      " 64  preview                        108 non-null    object \n",
      " 65  author_cakeday                 27 non-null     object \n",
      " 66  link_flair_template_id         812 non-null    object \n",
      " 67  crosspost_parent               1 non-null      object \n",
      " 68  crosspost_parent_list          1 non-null      object \n",
      " 69  url_overridden_by_dest         1 non-null      object \n",
      " 70  edited                         36 non-null     float64\n",
      "dtypes: bool(18), float64(2), int64(9), object(42)\n",
      "memory usage: 1.7+ MB\n"
     ]
    }
   ],
   "source": [
    "posts_df.info()"
   ]
  },
  {
   "cell_type": "code",
   "execution_count": 471,
   "metadata": {},
   "outputs": [
    {
     "data": {
      "text/plain": [
       "datetime.datetime(2020, 11, 20, 16, 26, 57)"
      ]
     },
     "execution_count": 471,
     "metadata": {},
     "output_type": "execute_result"
    }
   ],
   "source": [
    "datetime.fromtimestamp(posts_df['created_utc'].iloc[3989])"
   ]
  },
  {
   "cell_type": "code",
   "execution_count": 418,
   "metadata": {},
   "outputs": [],
   "source": [
    "# lowercase jokes subreddit to match riddles\n",
    "posts_df['subreddit'] = posts_df['subreddit'].replace('Jokes', 'jokes')"
   ]
  },
  {
   "cell_type": "code",
   "execution_count": 419,
   "metadata": {},
   "outputs": [],
   "source": [
    "# dropping 10 null values from the selftext column\n",
    "posts_df.dropna(subset = ['selftext'], inplace = True)"
   ]
  },
  {
   "cell_type": "code",
   "execution_count": 420,
   "metadata": {},
   "outputs": [],
   "source": [
    "# create a text length feature to see how long each string is\n",
    "posts_df['text_length'] = posts_df['selftext'].str.len()"
   ]
  },
  {
   "cell_type": "code",
   "execution_count": 421,
   "metadata": {},
   "outputs": [],
   "source": [
    "# create a word count feature to see how many words each post has\n",
    "posts_df['text_word_count'] = posts_df['selftext'].str.split().str.len()"
   ]
  },
  {
   "cell_type": "code",
   "execution_count": 422,
   "metadata": {},
   "outputs": [
    {
     "data": {
      "text/html": [
       "<div>\n",
       "<style scoped>\n",
       "    .dataframe tbody tr th:only-of-type {\n",
       "        vertical-align: middle;\n",
       "    }\n",
       "\n",
       "    .dataframe tbody tr th {\n",
       "        vertical-align: top;\n",
       "    }\n",
       "\n",
       "    .dataframe thead tr th {\n",
       "        text-align: left;\n",
       "    }\n",
       "\n",
       "    .dataframe thead tr:last-of-type th {\n",
       "        text-align: right;\n",
       "    }\n",
       "</style>\n",
       "<table border=\"1\" class=\"dataframe\">\n",
       "  <thead>\n",
       "    <tr>\n",
       "      <th></th>\n",
       "      <th colspan=\"8\" halign=\"left\">text_length</th>\n",
       "      <th colspan=\"8\" halign=\"left\">text_word_count</th>\n",
       "    </tr>\n",
       "    <tr>\n",
       "      <th></th>\n",
       "      <th>count</th>\n",
       "      <th>mean</th>\n",
       "      <th>std</th>\n",
       "      <th>min</th>\n",
       "      <th>25%</th>\n",
       "      <th>50%</th>\n",
       "      <th>75%</th>\n",
       "      <th>max</th>\n",
       "      <th>count</th>\n",
       "      <th>mean</th>\n",
       "      <th>std</th>\n",
       "      <th>min</th>\n",
       "      <th>25%</th>\n",
       "      <th>50%</th>\n",
       "      <th>75%</th>\n",
       "      <th>max</th>\n",
       "    </tr>\n",
       "    <tr>\n",
       "      <th>subreddit</th>\n",
       "      <th></th>\n",
       "      <th></th>\n",
       "      <th></th>\n",
       "      <th></th>\n",
       "      <th></th>\n",
       "      <th></th>\n",
       "      <th></th>\n",
       "      <th></th>\n",
       "      <th></th>\n",
       "      <th></th>\n",
       "      <th></th>\n",
       "      <th></th>\n",
       "      <th></th>\n",
       "      <th></th>\n",
       "      <th></th>\n",
       "      <th></th>\n",
       "    </tr>\n",
       "  </thead>\n",
       "  <tbody>\n",
       "    <tr>\n",
       "      <th>jokes</th>\n",
       "      <td>1992.0</td>\n",
       "      <td>126.0</td>\n",
       "      <td>316.0</td>\n",
       "      <td>2.0</td>\n",
       "      <td>12.0</td>\n",
       "      <td>33.0</td>\n",
       "      <td>77.0</td>\n",
       "      <td>3962.0</td>\n",
       "      <td>1992.0</td>\n",
       "      <td>23.0</td>\n",
       "      <td>58.0</td>\n",
       "      <td>1.0</td>\n",
       "      <td>2.0</td>\n",
       "      <td>6.0</td>\n",
       "      <td>14.0</td>\n",
       "      <td>755.0</td>\n",
       "    </tr>\n",
       "    <tr>\n",
       "      <th>riddles</th>\n",
       "      <td>1998.0</td>\n",
       "      <td>247.0</td>\n",
       "      <td>439.0</td>\n",
       "      <td>0.0</td>\n",
       "      <td>60.0</td>\n",
       "      <td>136.0</td>\n",
       "      <td>277.0</td>\n",
       "      <td>7917.0</td>\n",
       "      <td>1998.0</td>\n",
       "      <td>45.0</td>\n",
       "      <td>71.0</td>\n",
       "      <td>0.0</td>\n",
       "      <td>11.0</td>\n",
       "      <td>26.0</td>\n",
       "      <td>51.0</td>\n",
       "      <td>926.0</td>\n",
       "    </tr>\n",
       "  </tbody>\n",
       "</table>\n",
       "</div>"
      ],
      "text/plain": [
       "          text_length                                                 \\\n",
       "                count   mean    std  min   25%    50%    75%     max   \n",
       "subreddit                                                              \n",
       "jokes          1992.0  126.0  316.0  2.0  12.0   33.0   77.0  3962.0   \n",
       "riddles        1998.0  247.0  439.0  0.0  60.0  136.0  277.0  7917.0   \n",
       "\n",
       "          text_word_count                                            \n",
       "                    count  mean   std  min   25%   50%   75%    max  \n",
       "subreddit                                                            \n",
       "jokes              1992.0  23.0  58.0  1.0   2.0   6.0  14.0  755.0  \n",
       "riddles            1998.0  45.0  71.0  0.0  11.0  26.0  51.0  926.0  "
      ]
     },
     "execution_count": 422,
     "metadata": {},
     "output_type": "execute_result"
    }
   ],
   "source": [
    "# view description of newly created features by subreddit\n",
    "round(posts_df.groupby('subreddit')[['text_length', 'text_word_count']].describe())"
   ]
  },
  {
   "cell_type": "code",
   "execution_count": 579,
   "metadata": {},
   "outputs": [
    {
     "data": {
      "text/plain": [
       "''"
      ]
     },
     "execution_count": 579,
     "metadata": {},
     "output_type": "execute_result"
    },
    {
     "data": {
      "image/png": "[encoded data removed]",
      "text/plain": [
       "<Figure size 432x288 with 1 Axes>"
      ]
     },
     "metadata": {
      "needs_background": "light"
     },
     "output_type": "display_data"
    }
   ],
   "source": [
    "# histogram of word count by subreddit\n",
    "# plt.figure(figsize = (10,7))\n",
    "sns.histplot(data = posts_df, x = 'text_length', hue = 'subreddit', bins = 15)\n",
    "plt.title('Word Count by Subreddit')\n",
    "plt.xlabel('Post Word Count')\n",
    "plt.savefig('string_length', dpi = 99)\n",
    "\n",
    ";"
   ]
  },
  {
   "cell_type": "code",
   "execution_count": 575,
   "metadata": {},
   "outputs": [
    {
     "data": {
      "text/plain": [
       "''"
      ]
     },
     "execution_count": 575,
     "metadata": {},
     "output_type": "execute_result"
    },
    {
     "data": {
      "image/png": "[encoded data removed]",
      "text/plain": [
       "<Figure size 432x288 with 1 Axes>"
      ]
     },
     "metadata": {
      "needs_background": "light"
     },
     "output_type": "display_data"
    }
   ],
   "source": [
    "#histogram of word count by subreddit\n",
    "# plt.figure(figsize = (10,7))\n",
    "sns.histplot(data = posts_df, x = 'text_word_count', hue = 'subreddit', bins = 15)\n",
    "plt.title('Word Count by Subreddit')\n",
    "plt.xlabel('Post Word Count')\n",
    "plt.savefig('word_count', dpi = 99)\n",
    "\n",
    ";"
   ]
  },
  {
   "cell_type": "code",
   "execution_count": 586,
   "metadata": {},
   "outputs": [
    {
     "data": {
      "text/plain": [
       "0.8142857142857143"
      ]
     },
     "execution_count": 586,
     "metadata": {},
     "output_type": "execute_result"
    }
   ],
   "source": [
    "posts_df[posts_df['text_word_count'] < 50].shape[0] / posts_df.shape[0]"
   ]
  },
  {
   "cell_type": "code",
   "execution_count": 589,
   "metadata": {},
   "outputs": [
    {
     "data": {
      "image/png": "[encoded data removed]",
      "text/plain": [
       "<Figure size 432x288 with 1 Axes>"
      ]
     },
     "metadata": {
      "needs_background": "light"
     },
     "output_type": "display_data"
    }
   ],
   "source": [
    "#boxplot of post length count by subreddit\n",
    "sns.boxplot(data = posts_df, x = 'text_length', y = 'subreddit');"
   ]
  },
  {
   "cell_type": "code",
   "execution_count": 590,
   "metadata": {},
   "outputs": [
    {
     "data": {
      "image/png": "[encoded data removed]",
      "text/plain": [
       "<Figure size 432x288 with 1 Axes>"
      ]
     },
     "metadata": {
      "needs_background": "light"
     },
     "output_type": "display_data"
    }
   ],
   "source": [
    "#boxplot of word count by subreddit\n",
    "sns.boxplot(data = posts_df, x = 'text_word_count', y = 'subreddit');"
   ]
  },
  {
   "cell_type": "markdown",
   "metadata": {},
   "source": [
    "Through EDA I have shown that the riddles subbreddit uses more words and longer posts on average compared with the jokes subreddit. I dove deeper into the distributions of word count in both categories. They both have a similar distribution as seen in the histograms with over 81% of posts having less than 50 words. The box plots show that there are a lot of outliers when considering word count and length of post. The jokes subreddit goes up to 755 words and 3,962 characters. The riddles subreddit goes up to 926 words and 7,917 characters."
   ]
  },
  {
   "cell_type": "markdown",
   "metadata": {},
   "source": [
    "### Feature Selection"
   ]
  },
  {
   "cell_type": "code",
   "execution_count": 427,
   "metadata": {},
   "outputs": [
    {
     "data": {
      "text/plain": [
       "0.9706766917293234"
      ]
     },
     "execution_count": 427,
     "metadata": {},
     "output_type": "execute_result"
    }
   ],
   "source": [
    "# Testing X value as the title column\n",
    "X_title = posts_df['title']\n",
    "y_title = posts_df['subreddit']\n",
    "\n",
    "pipe_title = make_pipeline(CountVectorizer(), LogisticRegression(max_iter = 1000))\n",
    "\n",
    "pipe_title.fit(X_title, y_title)\n",
    "pipe_title.score(X_title, y_title)"
   ]
  },
  {
   "cell_type": "code",
   "execution_count": 428,
   "metadata": {},
   "outputs": [
    {
     "data": {
      "text/plain": [
       "0.9488721804511279"
      ]
     },
     "execution_count": 428,
     "metadata": {},
     "output_type": "execute_result"
    }
   ],
   "source": [
    "# Testing X value as the selftext column\n",
    "X_post = posts_df['selftext']\n",
    "y_post = posts_df['subreddit']\n",
    "\n",
    "pipe_post = make_pipeline(CountVectorizer(), LogisticRegression(max_iter = 1000))\n",
    "\n",
    "pipe_post.fit(X_post, y_post)\n",
    "pipe_post.score(X_post, y_post)"
   ]
  },
  {
   "cell_type": "markdown",
   "metadata": {},
   "source": [
    "I want to make the project a little bit harder for myself, so I will be using the post text instead of the title text."
   ]
  },
  {
   "cell_type": "code",
   "execution_count": 429,
   "metadata": {},
   "outputs": [],
   "source": [
    "# define X and y - using text of post to determine subreddit category\n",
    "X = posts_df['selftext']\n",
    "y = posts_df['subreddit']"
   ]
  },
  {
   "cell_type": "code",
   "execution_count": 430,
   "metadata": {},
   "outputs": [],
   "source": [
    "X_train, X_test, y_train, y_test = train_test_split(X, y, random_state = 8)"
   ]
  },
  {
   "cell_type": "code",
   "execution_count": 431,
   "metadata": {},
   "outputs": [
    {
     "data": {
      "text/plain": [
       "riddles    0.500752\n",
       "jokes      0.499248\n",
       "Name: subreddit, dtype: float64"
      ]
     },
     "execution_count": 431,
     "metadata": {},
     "output_type": "execute_result"
    }
   ],
   "source": [
    "y.value_counts(normalize = True)"
   ]
  },
  {
   "cell_type": "markdown",
   "metadata": {},
   "source": [
    "My baseline accuracy is 50%."
   ]
  },
  {
   "cell_type": "markdown",
   "metadata": {},
   "source": [
    "### Pipeline and Grid Search to find best features in Logistic Regression"
   ]
  },
  {
   "cell_type": "code",
   "execution_count": 432,
   "metadata": {},
   "outputs": [],
   "source": [
    "pipe_test = make_pipeline(CountVectorizer(), LogisticRegression(max_iter = 1000))"
   ]
  },
  {
   "cell_type": "code",
   "execution_count": 433,
   "metadata": {},
   "outputs": [],
   "source": [
    "gs = GridSearchCV(pipe_test,\n",
    "                  param_grid = {'countvectorizer__ngram_range': [(1, 1), (1, 2), (2, 2), (3, 3)],\n",
    "                                'countvectorizer__stop_words': [None, 'english'],\n",
    "                                'countvectorizer__max_features': [500, 1000, 1500, 2000, 2500],\n",
    "                                'logisticregression__C': [0.01, 0.1, 1, 10]},\n",
    "                  verbose=2,\n",
    "                  n_jobs = -1)"
   ]
  },
  {
   "cell_type": "code",
   "execution_count": 434,
   "metadata": {},
   "outputs": [
    {
     "name": "stdout",
     "output_type": "stream",
     "text": [
      "Fitting 5 folds for each of 160 candidates, totalling 800 fits\n"
     ]
    },
    {
     "data": {
      "text/plain": [
       "GridSearchCV(estimator=Pipeline(steps=[('countvectorizer', CountVectorizer()),\n",
       "                                       ('logisticregression',\n",
       "                                        LogisticRegression(max_iter=1000))]),\n",
       "             n_jobs=-1,\n",
       "             param_grid={'countvectorizer__max_features': [500, 1000, 1500,\n",
       "                                                           2000, 2500],\n",
       "                         'countvectorizer__ngram_range': [(1, 1), (1, 2),\n",
       "                                                          (2, 2), (3, 3)],\n",
       "                         'countvectorizer__stop_words': [None, 'english'],\n",
       "                         'logisticregression__C': [0.01, 0.1, 1, 10]},\n",
       "             verbose=2)"
      ]
     },
     "execution_count": 434,
     "metadata": {},
     "output_type": "execute_result"
    }
   ],
   "source": [
    "gs.fit(X_train, y_train)"
   ]
  },
  {
   "cell_type": "code",
   "execution_count": 435,
   "metadata": {},
   "outputs": [
    {
     "data": {
      "text/plain": [
       "{'countvectorizer__max_features': 2500,\n",
       " 'countvectorizer__ngram_range': (1, 2),\n",
       " 'countvectorizer__stop_words': None,\n",
       " 'logisticregression__C': 1}"
      ]
     },
     "execution_count": 435,
     "metadata": {},
     "output_type": "execute_result"
    }
   ],
   "source": [
    "gs.best_params_"
   ]
  },
  {
   "cell_type": "code",
   "execution_count": 436,
   "metadata": {},
   "outputs": [
    {
     "data": {
      "text/plain": [
       "0.8506099910106588"
      ]
     },
     "execution_count": 436,
     "metadata": {},
     "output_type": "execute_result"
    }
   ],
   "source": [
    "gs.best_score_"
   ]
  },
  {
   "cell_type": "code",
   "execution_count": 437,
   "metadata": {},
   "outputs": [
    {
     "data": {
      "text/html": [
       "<div>\n",
       "<style scoped>\n",
       "    .dataframe tbody tr th:only-of-type {\n",
       "        vertical-align: middle;\n",
       "    }\n",
       "\n",
       "    .dataframe tbody tr th {\n",
       "        vertical-align: top;\n",
       "    }\n",
       "\n",
       "    .dataframe thead th {\n",
       "        text-align: right;\n",
       "    }\n",
       "</style>\n",
       "<table border=\"1\" class=\"dataframe\">\n",
       "  <thead>\n",
       "    <tr style=\"text-align: right;\">\n",
       "      <th></th>\n",
       "      <th>mean_fit_time</th>\n",
       "      <th>std_fit_time</th>\n",
       "      <th>mean_score_time</th>\n",
       "      <th>std_score_time</th>\n",
       "      <th>param_countvectorizer__max_features</th>\n",
       "      <th>param_countvectorizer__ngram_range</th>\n",
       "      <th>param_countvectorizer__stop_words</th>\n",
       "      <th>param_logisticregression__C</th>\n",
       "      <th>params</th>\n",
       "      <th>split0_test_score</th>\n",
       "      <th>split1_test_score</th>\n",
       "      <th>split2_test_score</th>\n",
       "      <th>split3_test_score</th>\n",
       "      <th>split4_test_score</th>\n",
       "      <th>mean_test_score</th>\n",
       "      <th>std_test_score</th>\n",
       "      <th>rank_test_score</th>\n",
       "    </tr>\n",
       "  </thead>\n",
       "  <tbody>\n",
       "    <tr>\n",
       "      <th>138</th>\n",
       "      <td>0.947207</td>\n",
       "      <td>0.036570</td>\n",
       "      <td>0.104490</td>\n",
       "      <td>0.015138</td>\n",
       "      <td>2500</td>\n",
       "      <td>(1, 2)</td>\n",
       "      <td>None</td>\n",
       "      <td>1</td>\n",
       "      <td>{'countvectorizer__max_features': 2500, 'count...</td>\n",
       "      <td>0.828047</td>\n",
       "      <td>0.848080</td>\n",
       "      <td>0.856187</td>\n",
       "      <td>0.866221</td>\n",
       "      <td>0.854515</td>\n",
       "      <td>0.850610</td>\n",
       "      <td>0.012693</td>\n",
       "      <td>1</td>\n",
       "    </tr>\n",
       "    <tr>\n",
       "      <th>130</th>\n",
       "      <td>0.457922</td>\n",
       "      <td>0.019456</td>\n",
       "      <td>0.057992</td>\n",
       "      <td>0.008848</td>\n",
       "      <td>2500</td>\n",
       "      <td>(1, 1)</td>\n",
       "      <td>None</td>\n",
       "      <td>1</td>\n",
       "      <td>{'countvectorizer__max_features': 2500, 'count...</td>\n",
       "      <td>0.823038</td>\n",
       "      <td>0.846411</td>\n",
       "      <td>0.861204</td>\n",
       "      <td>0.859532</td>\n",
       "      <td>0.851171</td>\n",
       "      <td>0.848271</td>\n",
       "      <td>0.013730</td>\n",
       "      <td>2</td>\n",
       "    </tr>\n",
       "    <tr>\n",
       "      <th>98</th>\n",
       "      <td>0.518397</td>\n",
       "      <td>0.042366</td>\n",
       "      <td>0.053692</td>\n",
       "      <td>0.007170</td>\n",
       "      <td>2000</td>\n",
       "      <td>(1, 1)</td>\n",
       "      <td>None</td>\n",
       "      <td>1</td>\n",
       "      <td>{'countvectorizer__max_features': 2000, 'count...</td>\n",
       "      <td>0.824708</td>\n",
       "      <td>0.851419</td>\n",
       "      <td>0.859532</td>\n",
       "      <td>0.854515</td>\n",
       "      <td>0.851171</td>\n",
       "      <td>0.848269</td>\n",
       "      <td>0.012160</td>\n",
       "      <td>3</td>\n",
       "    </tr>\n",
       "    <tr>\n",
       "      <th>106</th>\n",
       "      <td>1.048321</td>\n",
       "      <td>0.153513</td>\n",
       "      <td>0.102169</td>\n",
       "      <td>0.011062</td>\n",
       "      <td>2000</td>\n",
       "      <td>(1, 2)</td>\n",
       "      <td>None</td>\n",
       "      <td>1</td>\n",
       "      <td>{'countvectorizer__max_features': 2000, 'count...</td>\n",
       "      <td>0.828047</td>\n",
       "      <td>0.846411</td>\n",
       "      <td>0.854515</td>\n",
       "      <td>0.857860</td>\n",
       "      <td>0.851171</td>\n",
       "      <td>0.847601</td>\n",
       "      <td>0.010484</td>\n",
       "      <td>4</td>\n",
       "    </tr>\n",
       "    <tr>\n",
       "      <th>137</th>\n",
       "      <td>0.874454</td>\n",
       "      <td>0.043837</td>\n",
       "      <td>0.100218</td>\n",
       "      <td>0.008092</td>\n",
       "      <td>2500</td>\n",
       "      <td>(1, 2)</td>\n",
       "      <td>None</td>\n",
       "      <td>0.1</td>\n",
       "      <td>{'countvectorizer__max_features': 2500, 'count...</td>\n",
       "      <td>0.826377</td>\n",
       "      <td>0.839733</td>\n",
       "      <td>0.849498</td>\n",
       "      <td>0.857860</td>\n",
       "      <td>0.854515</td>\n",
       "      <td>0.845597</td>\n",
       "      <td>0.011392</td>\n",
       "      <td>5</td>\n",
       "    </tr>\n",
       "    <tr>\n",
       "      <th>...</th>\n",
       "      <td>...</td>\n",
       "      <td>...</td>\n",
       "      <td>...</td>\n",
       "      <td>...</td>\n",
       "      <td>...</td>\n",
       "      <td>...</td>\n",
       "      <td>...</td>\n",
       "      <td>...</td>\n",
       "      <td>...</td>\n",
       "      <td>...</td>\n",
       "      <td>...</td>\n",
       "      <td>...</td>\n",
       "      <td>...</td>\n",
       "      <td>...</td>\n",
       "      <td>...</td>\n",
       "      <td>...</td>\n",
       "      <td>...</td>\n",
       "    </tr>\n",
       "    <tr>\n",
       "      <th>92</th>\n",
       "      <td>0.441410</td>\n",
       "      <td>0.046147</td>\n",
       "      <td>0.055827</td>\n",
       "      <td>0.008904</td>\n",
       "      <td>1500</td>\n",
       "      <td>(3, 3)</td>\n",
       "      <td>english</td>\n",
       "      <td>0.01</td>\n",
       "      <td>{'countvectorizer__max_features': 1500, 'count...</td>\n",
       "      <td>0.507513</td>\n",
       "      <td>0.509182</td>\n",
       "      <td>0.505017</td>\n",
       "      <td>0.508361</td>\n",
       "      <td>0.510033</td>\n",
       "      <td>0.508021</td>\n",
       "      <td>0.001720</td>\n",
       "      <td>156</td>\n",
       "    </tr>\n",
       "    <tr>\n",
       "      <th>124</th>\n",
       "      <td>0.415983</td>\n",
       "      <td>0.024811</td>\n",
       "      <td>0.057884</td>\n",
       "      <td>0.013582</td>\n",
       "      <td>2000</td>\n",
       "      <td>(3, 3)</td>\n",
       "      <td>english</td>\n",
       "      <td>0.01</td>\n",
       "      <td>{'countvectorizer__max_features': 2000, 'count...</td>\n",
       "      <td>0.507513</td>\n",
       "      <td>0.509182</td>\n",
       "      <td>0.505017</td>\n",
       "      <td>0.508361</td>\n",
       "      <td>0.510033</td>\n",
       "      <td>0.508021</td>\n",
       "      <td>0.001720</td>\n",
       "      <td>156</td>\n",
       "    </tr>\n",
       "    <tr>\n",
       "      <th>156</th>\n",
       "      <td>0.459171</td>\n",
       "      <td>0.066029</td>\n",
       "      <td>0.059208</td>\n",
       "      <td>0.014430</td>\n",
       "      <td>2500</td>\n",
       "      <td>(3, 3)</td>\n",
       "      <td>english</td>\n",
       "      <td>0.01</td>\n",
       "      <td>{'countvectorizer__max_features': 2500, 'count...</td>\n",
       "      <td>0.507513</td>\n",
       "      <td>0.509182</td>\n",
       "      <td>0.505017</td>\n",
       "      <td>0.508361</td>\n",
       "      <td>0.510033</td>\n",
       "      <td>0.508021</td>\n",
       "      <td>0.001720</td>\n",
       "      <td>156</td>\n",
       "    </tr>\n",
       "    <tr>\n",
       "      <th>60</th>\n",
       "      <td>0.400657</td>\n",
       "      <td>0.014603</td>\n",
       "      <td>0.050086</td>\n",
       "      <td>0.009981</td>\n",
       "      <td>1000</td>\n",
       "      <td>(3, 3)</td>\n",
       "      <td>english</td>\n",
       "      <td>0.01</td>\n",
       "      <td>{'countvectorizer__max_features': 1000, 'count...</td>\n",
       "      <td>0.505843</td>\n",
       "      <td>0.509182</td>\n",
       "      <td>0.505017</td>\n",
       "      <td>0.508361</td>\n",
       "      <td>0.510033</td>\n",
       "      <td>0.507687</td>\n",
       "      <td>0.001935</td>\n",
       "      <td>159</td>\n",
       "    </tr>\n",
       "    <tr>\n",
       "      <th>28</th>\n",
       "      <td>0.435965</td>\n",
       "      <td>0.065825</td>\n",
       "      <td>0.053072</td>\n",
       "      <td>0.011945</td>\n",
       "      <td>500</td>\n",
       "      <td>(3, 3)</td>\n",
       "      <td>english</td>\n",
       "      <td>0.01</td>\n",
       "      <td>{'countvectorizer__max_features': 500, 'countv...</td>\n",
       "      <td>0.504174</td>\n",
       "      <td>0.507513</td>\n",
       "      <td>0.505017</td>\n",
       "      <td>0.506689</td>\n",
       "      <td>0.506689</td>\n",
       "      <td>0.506016</td>\n",
       "      <td>0.001228</td>\n",
       "      <td>160</td>\n",
       "    </tr>\n",
       "  </tbody>\n",
       "</table>\n",
       "<p>160 rows × 17 columns</p>\n",
       "</div>"
      ],
      "text/plain": [
       "     mean_fit_time  std_fit_time  mean_score_time  std_score_time  \\\n",
       "138       0.947207      0.036570         0.104490        0.015138   \n",
       "130       0.457922      0.019456         0.057992        0.008848   \n",
       "98        0.518397      0.042366         0.053692        0.007170   \n",
       "106       1.048321      0.153513         0.102169        0.011062   \n",
       "137       0.874454      0.043837         0.100218        0.008092   \n",
       "..             ...           ...              ...             ...   \n",
       "92        0.441410      0.046147         0.055827        0.008904   \n",
       "124       0.415983      0.024811         0.057884        0.013582   \n",
       "156       0.459171      0.066029         0.059208        0.014430   \n",
       "60        0.400657      0.014603         0.050086        0.009981   \n",
       "28        0.435965      0.065825         0.053072        0.011945   \n",
       "\n",
       "    param_countvectorizer__max_features param_countvectorizer__ngram_range  \\\n",
       "138                                2500                             (1, 2)   \n",
       "130                                2500                             (1, 1)   \n",
       "98                                 2000                             (1, 1)   \n",
       "106                                2000                             (1, 2)   \n",
       "137                                2500                             (1, 2)   \n",
       "..                                  ...                                ...   \n",
       "92                                 1500                             (3, 3)   \n",
       "124                                2000                             (3, 3)   \n",
       "156                                2500                             (3, 3)   \n",
       "60                                 1000                             (3, 3)   \n",
       "28                                  500                             (3, 3)   \n",
       "\n",
       "    param_countvectorizer__stop_words param_logisticregression__C  \\\n",
       "138                              None                           1   \n",
       "130                              None                           1   \n",
       "98                               None                           1   \n",
       "106                              None                           1   \n",
       "137                              None                         0.1   \n",
       "..                                ...                         ...   \n",
       "92                            english                        0.01   \n",
       "124                           english                        0.01   \n",
       "156                           english                        0.01   \n",
       "60                            english                        0.01   \n",
       "28                            english                        0.01   \n",
       "\n",
       "                                                params  split0_test_score  \\\n",
       "138  {'countvectorizer__max_features': 2500, 'count...           0.828047   \n",
       "130  {'countvectorizer__max_features': 2500, 'count...           0.823038   \n",
       "98   {'countvectorizer__max_features': 2000, 'count...           0.824708   \n",
       "106  {'countvectorizer__max_features': 2000, 'count...           0.828047   \n",
       "137  {'countvectorizer__max_features': 2500, 'count...           0.826377   \n",
       "..                                                 ...                ...   \n",
       "92   {'countvectorizer__max_features': 1500, 'count...           0.507513   \n",
       "124  {'countvectorizer__max_features': 2000, 'count...           0.507513   \n",
       "156  {'countvectorizer__max_features': 2500, 'count...           0.507513   \n",
       "60   {'countvectorizer__max_features': 1000, 'count...           0.505843   \n",
       "28   {'countvectorizer__max_features': 500, 'countv...           0.504174   \n",
       "\n",
       "     split1_test_score  split2_test_score  split3_test_score  \\\n",
       "138           0.848080           0.856187           0.866221   \n",
       "130           0.846411           0.861204           0.859532   \n",
       "98            0.851419           0.859532           0.854515   \n",
       "106           0.846411           0.854515           0.857860   \n",
       "137           0.839733           0.849498           0.857860   \n",
       "..                 ...                ...                ...   \n",
       "92            0.509182           0.505017           0.508361   \n",
       "124           0.509182           0.505017           0.508361   \n",
       "156           0.509182           0.505017           0.508361   \n",
       "60            0.509182           0.505017           0.508361   \n",
       "28            0.507513           0.505017           0.506689   \n",
       "\n",
       "     split4_test_score  mean_test_score  std_test_score  rank_test_score  \n",
       "138           0.854515         0.850610        0.012693                1  \n",
       "130           0.851171         0.848271        0.013730                2  \n",
       "98            0.851171         0.848269        0.012160                3  \n",
       "106           0.851171         0.847601        0.010484                4  \n",
       "137           0.854515         0.845597        0.011392                5  \n",
       "..                 ...              ...             ...              ...  \n",
       "92            0.510033         0.508021        0.001720              156  \n",
       "124           0.510033         0.508021        0.001720              156  \n",
       "156           0.510033         0.508021        0.001720              156  \n",
       "60            0.510033         0.507687        0.001935              159  \n",
       "28            0.506689         0.506016        0.001228              160  \n",
       "\n",
       "[160 rows x 17 columns]"
      ]
     },
     "execution_count": 437,
     "metadata": {},
     "output_type": "execute_result"
    }
   ],
   "source": [
    "pd.DataFrame(gs.cv_results_).sort_values(by = 'rank_test_score')"
   ]
  },
  {
   "cell_type": "markdown",
   "metadata": {},
   "source": [
    "Results:\n",
    "* C is best at the default of 1.0\n",
    "* Keeping the stop words gives my model a higher accuracy score\n",
    "* Max features at 2500\n",
    "* Ngram Range at 1 to 2 words"
   ]
  },
  {
   "cell_type": "code",
   "execution_count": 438,
   "metadata": {},
   "outputs": [],
   "source": [
    "pipe = make_pipeline(CountVectorizer(ngram_range=(1, 2), max_features = 2500), LogisticRegression(max_iter = 1000))"
   ]
  },
  {
   "cell_type": "code",
   "execution_count": 439,
   "metadata": {},
   "outputs": [
    {
     "data": {
      "text/plain": [
       "Pipeline(steps=[('countvectorizer',\n",
       "                 CountVectorizer(max_features=2500, ngram_range=(1, 2))),\n",
       "                ('logisticregression', LogisticRegression(max_iter=1000))])"
      ]
     },
     "execution_count": 439,
     "metadata": {},
     "output_type": "execute_result"
    }
   ],
   "source": [
    "pipe.fit(X_train, y_train)"
   ]
  },
  {
   "cell_type": "code",
   "execution_count": 440,
   "metadata": {},
   "outputs": [
    {
     "data": {
      "text/plain": [
       "0.9428475935828877"
      ]
     },
     "execution_count": 440,
     "metadata": {},
     "output_type": "execute_result"
    }
   ],
   "source": [
    "pipe.score(X_train, y_train)"
   ]
  },
  {
   "cell_type": "code",
   "execution_count": 441,
   "metadata": {},
   "outputs": [
    {
     "data": {
      "text/plain": [
       "0.8507014028056112"
      ]
     },
     "execution_count": 441,
     "metadata": {},
     "output_type": "execute_result"
    }
   ],
   "source": [
    "pipe.score(X_test, y_test)"
   ]
  },
  {
   "cell_type": "markdown",
   "metadata": {},
   "source": [
    "Good score on train and test, but model looks a little overfit. Could be improved."
   ]
  },
  {
   "cell_type": "code",
   "execution_count": 442,
   "metadata": {},
   "outputs": [],
   "source": [
    "#testing Tfidf Vectorizer instead of Count Vectorizer\n",
    "\n",
    "pipe_test2 = make_pipeline(TfidfVectorizer(), LogisticRegression(max_iter = 1000))"
   ]
  },
  {
   "cell_type": "code",
   "execution_count": 443,
   "metadata": {},
   "outputs": [],
   "source": [
    "gs2 = GridSearchCV(pipe_test2,\n",
    "                  param_grid = {'tfidfvectorizer__ngram_range': [(1, 1), (1, 2), (2, 2)],\n",
    "                                'tfidfvectorizer__stop_words': [None, 'english'],\n",
    "                                'tfidfvectorizer__max_features': [500, 1000, 1500, 2000, 2500],\n",
    "                                'logisticregression__C': [0.01, 0.1, 1, 10]},\n",
    "                  verbose=2,\n",
    "                  n_jobs = -1)"
   ]
  },
  {
   "cell_type": "code",
   "execution_count": 444,
   "metadata": {},
   "outputs": [
    {
     "name": "stdout",
     "output_type": "stream",
     "text": [
      "Fitting 5 folds for each of 120 candidates, totalling 600 fits\n"
     ]
    },
    {
     "data": {
      "text/plain": [
       "GridSearchCV(estimator=Pipeline(steps=[('tfidfvectorizer', TfidfVectorizer()),\n",
       "                                       ('logisticregression',\n",
       "                                        LogisticRegression(max_iter=1000))]),\n",
       "             n_jobs=-1,\n",
       "             param_grid={'logisticregression__C': [0.01, 0.1, 1, 10],\n",
       "                         'tfidfvectorizer__max_features': [500, 1000, 1500,\n",
       "                                                           2000, 2500],\n",
       "                         'tfidfvectorizer__ngram_range': [(1, 1), (1, 2),\n",
       "                                                          (2, 2)],\n",
       "                         'tfidfvectorizer__stop_words': [None, 'english']},\n",
       "             verbose=2)"
      ]
     },
     "execution_count": 444,
     "metadata": {},
     "output_type": "execute_result"
    }
   ],
   "source": [
    "gs2.fit(X_train, y_train)"
   ]
  },
  {
   "cell_type": "code",
   "execution_count": 445,
   "metadata": {},
   "outputs": [
    {
     "data": {
      "text/plain": [
       "{'logisticregression__C': 10,\n",
       " 'tfidfvectorizer__max_features': 2000,\n",
       " 'tfidfvectorizer__ngram_range': (1, 2),\n",
       " 'tfidfvectorizer__stop_words': None}"
      ]
     },
     "execution_count": 445,
     "metadata": {},
     "output_type": "execute_result"
    }
   ],
   "source": [
    "gs2.best_params_"
   ]
  },
  {
   "cell_type": "code",
   "execution_count": 446,
   "metadata": {},
   "outputs": [
    {
     "data": {
      "text/plain": [
       "0.8449238139373871"
      ]
     },
     "execution_count": 446,
     "metadata": {},
     "output_type": "execute_result"
    }
   ],
   "source": [
    "gs2.best_score_"
   ]
  },
  {
   "cell_type": "markdown",
   "metadata": {},
   "source": [
    "About the same, a little worse."
   ]
  },
  {
   "cell_type": "markdown",
   "metadata": {},
   "source": [
    "#### Final Logistic Regression Model"
   ]
  },
  {
   "cell_type": "code",
   "execution_count": 447,
   "metadata": {},
   "outputs": [],
   "source": [
    "nlp = spacy.load('en_core_web_sm')\n",
    "def lemmatized(sentence):\n",
    "    \n",
    "    \"\"\"Function to lemmatize words before fitting into pipeline.\"\"\"\n",
    "    \n",
    "    doc = nlp(sentence)\n",
    "    return [token.lemma_ for token in doc]"
   ]
  },
  {
   "cell_type": "code",
   "execution_count": 547,
   "metadata": {},
   "outputs": [],
   "source": [
    "pipe2 = make_pipeline(CountVectorizer(ngram_range=(1, 2), max_features = 2500, tokenizer = lemmatized), LogisticRegression(max_iter = 1000))"
   ]
  },
  {
   "cell_type": "code",
   "execution_count": 548,
   "metadata": {},
   "outputs": [
    {
     "data": {
      "text/plain": [
       "Pipeline(steps=[('countvectorizer',\n",
       "                 CountVectorizer(max_features=2500, ngram_range=(1, 2),\n",
       "                                 tokenizer=<function lemmatized at 0x000001CA0053E0D0>)),\n",
       "                ('logisticregression', LogisticRegression(max_iter=1000))])"
      ]
     },
     "execution_count": 548,
     "metadata": {},
     "output_type": "execute_result"
    }
   ],
   "source": [
    "pipe2.fit(X_train, y_train)"
   ]
  },
  {
   "cell_type": "code",
   "execution_count": 549,
   "metadata": {},
   "outputs": [
    {
     "data": {
      "text/plain": [
       "0.9512032085561497"
      ]
     },
     "execution_count": 549,
     "metadata": {},
     "output_type": "execute_result"
    }
   ],
   "source": [
    "pipe2.score(X_train, y_train)"
   ]
  },
  {
   "cell_type": "code",
   "execution_count": 550,
   "metadata": {},
   "outputs": [
    {
     "data": {
      "text/plain": [
       "0.8797595190380761"
      ]
     },
     "execution_count": 550,
     "metadata": {},
     "output_type": "execute_result"
    }
   ],
   "source": [
    "pipe2.score(X_test, y_test)"
   ]
  },
  {
   "cell_type": "markdown",
   "metadata": {},
   "source": [
    "Slight improvement with lemmatization, but takes a long time to run."
   ]
  },
  {
   "cell_type": "code",
   "execution_count": 452,
   "metadata": {},
   "outputs": [
    {
     "data": {
      "image/png": "[encoded data removed]",
      "text/plain": [
       "<Figure size 432x288 with 2 Axes>"
      ]
     },
     "metadata": {
      "needs_background": "light"
     },
     "output_type": "display_data"
    }
   ],
   "source": [
    "plot_confusion_matrix(pipe2, X_test, y_test, cmap = 'Blues')\n",
    "plt.savefig('final_confusion_matrix', bbox_inches='tight', dpi = 99)"
   ]
  },
  {
   "cell_type": "code",
   "execution_count": 453,
   "metadata": {},
   "outputs": [],
   "source": [
    "# find preds\n",
    "preds = pipe2.predict(X_test)"
   ]
  },
  {
   "cell_type": "code",
   "execution_count": 455,
   "metadata": {},
   "outputs": [
    {
     "data": {
      "text/html": [
       "<div>\n",
       "<style scoped>\n",
       "    .dataframe tbody tr th:only-of-type {\n",
       "        vertical-align: middle;\n",
       "    }\n",
       "\n",
       "    .dataframe tbody tr th {\n",
       "        vertical-align: top;\n",
       "    }\n",
       "\n",
       "    .dataframe thead th {\n",
       "        text-align: right;\n",
       "    }\n",
       "</style>\n",
       "<table border=\"1\" class=\"dataframe\">\n",
       "  <thead>\n",
       "    <tr style=\"text-align: right;\">\n",
       "      <th></th>\n",
       "      <th>precision</th>\n",
       "      <th>recall</th>\n",
       "      <th>f1-score</th>\n",
       "      <th>support</th>\n",
       "    </tr>\n",
       "  </thead>\n",
       "  <tbody>\n",
       "    <tr>\n",
       "      <th>jokes</th>\n",
       "      <td>0.84</td>\n",
       "      <td>0.94</td>\n",
       "      <td>0.89</td>\n",
       "      <td>511.00</td>\n",
       "    </tr>\n",
       "    <tr>\n",
       "      <th>riddles</th>\n",
       "      <td>0.93</td>\n",
       "      <td>0.82</td>\n",
       "      <td>0.87</td>\n",
       "      <td>487.00</td>\n",
       "    </tr>\n",
       "    <tr>\n",
       "      <th>accuracy</th>\n",
       "      <td>0.88</td>\n",
       "      <td>0.88</td>\n",
       "      <td>0.88</td>\n",
       "      <td>0.88</td>\n",
       "    </tr>\n",
       "    <tr>\n",
       "      <th>macro avg</th>\n",
       "      <td>0.89</td>\n",
       "      <td>0.88</td>\n",
       "      <td>0.88</td>\n",
       "      <td>998.00</td>\n",
       "    </tr>\n",
       "    <tr>\n",
       "      <th>weighted avg</th>\n",
       "      <td>0.88</td>\n",
       "      <td>0.88</td>\n",
       "      <td>0.88</td>\n",
       "      <td>998.00</td>\n",
       "    </tr>\n",
       "  </tbody>\n",
       "</table>\n",
       "</div>"
      ],
      "text/plain": [
       "              precision  recall  f1-score  support\n",
       "jokes              0.84    0.94      0.89   511.00\n",
       "riddles            0.93    0.82      0.87   487.00\n",
       "accuracy           0.88    0.88      0.88     0.88\n",
       "macro avg          0.89    0.88      0.88   998.00\n",
       "weighted avg       0.88    0.88      0.88   998.00"
      ]
     },
     "execution_count": 455,
     "metadata": {},
     "output_type": "execute_result"
    }
   ],
   "source": [
    "# view metrics in a table\n",
    "pd.DataFrame(classification_report(y_test, preds, output_dict=True)).T.round(2)"
   ]
  },
  {
   "cell_type": "code",
   "execution_count": 456,
   "metadata": {},
   "outputs": [
    {
     "data": {
      "text/html": [
       "<div>\n",
       "<style scoped>\n",
       "    .dataframe tbody tr th:only-of-type {\n",
       "        vertical-align: middle;\n",
       "    }\n",
       "\n",
       "    .dataframe tbody tr th {\n",
       "        vertical-align: top;\n",
       "    }\n",
       "\n",
       "    .dataframe thead th {\n",
       "        text-align: right;\n",
       "    }\n",
       "</style>\n",
       "<table border=\"1\" class=\"dataframe\">\n",
       "  <thead>\n",
       "    <tr style=\"text-align: right;\">\n",
       "      <th></th>\n",
       "      <th>actuals</th>\n",
       "      <th>predictions</th>\n",
       "      <th>compare</th>\n",
       "    </tr>\n",
       "  </thead>\n",
       "  <tbody>\n",
       "    <tr>\n",
       "      <th>1073</th>\n",
       "      <td>jokes</td>\n",
       "      <td>jokes</td>\n",
       "      <td>True</td>\n",
       "    </tr>\n",
       "    <tr>\n",
       "      <th>2511</th>\n",
       "      <td>riddles</td>\n",
       "      <td>riddles</td>\n",
       "      <td>True</td>\n",
       "    </tr>\n",
       "    <tr>\n",
       "      <th>3500</th>\n",
       "      <td>riddles</td>\n",
       "      <td>riddles</td>\n",
       "      <td>True</td>\n",
       "    </tr>\n",
       "    <tr>\n",
       "      <th>3557</th>\n",
       "      <td>riddles</td>\n",
       "      <td>riddles</td>\n",
       "      <td>True</td>\n",
       "    </tr>\n",
       "    <tr>\n",
       "      <th>1202</th>\n",
       "      <td>jokes</td>\n",
       "      <td>jokes</td>\n",
       "      <td>True</td>\n",
       "    </tr>\n",
       "    <tr>\n",
       "      <th>...</th>\n",
       "      <td>...</td>\n",
       "      <td>...</td>\n",
       "      <td>...</td>\n",
       "    </tr>\n",
       "    <tr>\n",
       "      <th>3839</th>\n",
       "      <td>riddles</td>\n",
       "      <td>riddles</td>\n",
       "      <td>True</td>\n",
       "    </tr>\n",
       "    <tr>\n",
       "      <th>1718</th>\n",
       "      <td>jokes</td>\n",
       "      <td>jokes</td>\n",
       "      <td>True</td>\n",
       "    </tr>\n",
       "    <tr>\n",
       "      <th>1679</th>\n",
       "      <td>jokes</td>\n",
       "      <td>jokes</td>\n",
       "      <td>True</td>\n",
       "    </tr>\n",
       "    <tr>\n",
       "      <th>536</th>\n",
       "      <td>jokes</td>\n",
       "      <td>jokes</td>\n",
       "      <td>True</td>\n",
       "    </tr>\n",
       "    <tr>\n",
       "      <th>1815</th>\n",
       "      <td>jokes</td>\n",
       "      <td>jokes</td>\n",
       "      <td>True</td>\n",
       "    </tr>\n",
       "  </tbody>\n",
       "</table>\n",
       "<p>998 rows × 3 columns</p>\n",
       "</div>"
      ],
      "text/plain": [
       "      actuals predictions  compare\n",
       "1073    jokes       jokes     True\n",
       "2511  riddles     riddles     True\n",
       "3500  riddles     riddles     True\n",
       "3557  riddles     riddles     True\n",
       "1202    jokes       jokes     True\n",
       "...       ...         ...      ...\n",
       "3839  riddles     riddles     True\n",
       "1718    jokes       jokes     True\n",
       "1679    jokes       jokes     True\n",
       "536     jokes       jokes     True\n",
       "1815    jokes       jokes     True\n",
       "\n",
       "[998 rows x 3 columns]"
      ]
     },
     "execution_count": 456,
     "metadata": {},
     "output_type": "execute_result"
    }
   ],
   "source": [
    "# make a dataframe of test set identifying which posts my model identified correctly\n",
    "\n",
    "compare_df = pd.DataFrame(y_test).rename(columns = {'subreddit': 'actuals'})\n",
    "compare_df['predictions'] = preds\n",
    "compare_df['compare'] = np.where(compare_df['actuals'] == compare_df['predictions'], True, False)\n",
    "compare_df"
   ]
  },
  {
   "cell_type": "code",
   "execution_count": 481,
   "metadata": {},
   "outputs": [
    {
     "data": {
      "text/html": [
       "<div>\n",
       "<style scoped>\n",
       "    .dataframe tbody tr th:only-of-type {\n",
       "        vertical-align: middle;\n",
       "    }\n",
       "\n",
       "    .dataframe tbody tr th {\n",
       "        vertical-align: top;\n",
       "    }\n",
       "\n",
       "    .dataframe thead th {\n",
       "        text-align: right;\n",
       "    }\n",
       "</style>\n",
       "<table border=\"1\" class=\"dataframe\">\n",
       "  <thead>\n",
       "    <tr style=\"text-align: right;\">\n",
       "      <th></th>\n",
       "      <th>actuals</th>\n",
       "      <th>predictions</th>\n",
       "      <th>compare</th>\n",
       "      <th>selftext</th>\n",
       "      <th>text_length</th>\n",
       "      <th>text_word_count</th>\n",
       "    </tr>\n",
       "  </thead>\n",
       "  <tbody>\n",
       "    <tr>\n",
       "      <th>1073</th>\n",
       "      <td>jokes</td>\n",
       "      <td>jokes</td>\n",
       "      <td>True</td>\n",
       "      <td>then i realized i was just beating a dead horse</td>\n",
       "      <td>47</td>\n",
       "      <td>10</td>\n",
       "    </tr>\n",
       "    <tr>\n",
       "      <th>2511</th>\n",
       "      <td>riddles</td>\n",
       "      <td>riddles</td>\n",
       "      <td>True</td>\n",
       "      <td>Me can bring tears to your eyes and a smile t...</td>\n",
       "      <td>139</td>\n",
       "      <td>31</td>\n",
       "    </tr>\n",
       "    <tr>\n",
       "      <th>3500</th>\n",
       "      <td>riddles</td>\n",
       "      <td>riddles</td>\n",
       "      <td>True</td>\n",
       "      <td>It could be big it could be small but definite...</td>\n",
       "      <td>137</td>\n",
       "      <td>26</td>\n",
       "    </tr>\n",
       "    <tr>\n",
       "      <th>3557</th>\n",
       "      <td>riddles</td>\n",
       "      <td>riddles</td>\n",
       "      <td>True</td>\n",
       "      <td>this brainteaser. As a matter of fact, Smully...</td>\n",
       "      <td>775</td>\n",
       "      <td>133</td>\n",
       "    </tr>\n",
       "    <tr>\n",
       "      <th>1202</th>\n",
       "      <td>jokes</td>\n",
       "      <td>jokes</td>\n",
       "      <td>True</td>\n",
       "      <td>He gets horny.</td>\n",
       "      <td>14</td>\n",
       "      <td>3</td>\n",
       "    </tr>\n",
       "    <tr>\n",
       "      <th>...</th>\n",
       "      <td>...</td>\n",
       "      <td>...</td>\n",
       "      <td>...</td>\n",
       "      <td>...</td>\n",
       "      <td>...</td>\n",
       "      <td>...</td>\n",
       "    </tr>\n",
       "    <tr>\n",
       "      <th>3839</th>\n",
       "      <td>riddles</td>\n",
       "      <td>riddles</td>\n",
       "      <td>True</td>\n",
       "      <td>I turn in endless circles but never become diz...</td>\n",
       "      <td>126</td>\n",
       "      <td>23</td>\n",
       "    </tr>\n",
       "    <tr>\n",
       "      <th>1718</th>\n",
       "      <td>jokes</td>\n",
       "      <td>jokes</td>\n",
       "      <td>True</td>\n",
       "      <td>[removed]</td>\n",
       "      <td>9</td>\n",
       "      <td>1</td>\n",
       "    </tr>\n",
       "    <tr>\n",
       "      <th>1679</th>\n",
       "      <td>jokes</td>\n",
       "      <td>jokes</td>\n",
       "      <td>True</td>\n",
       "      <td>In space, a hole in the wall would kill everyone.</td>\n",
       "      <td>49</td>\n",
       "      <td>10</td>\n",
       "    </tr>\n",
       "    <tr>\n",
       "      <th>536</th>\n",
       "      <td>jokes</td>\n",
       "      <td>jokes</td>\n",
       "      <td>True</td>\n",
       "      <td>And I'm definitely not a monk!</td>\n",
       "      <td>30</td>\n",
       "      <td>6</td>\n",
       "    </tr>\n",
       "    <tr>\n",
       "      <th>1815</th>\n",
       "      <td>jokes</td>\n",
       "      <td>jokes</td>\n",
       "      <td>True</td>\n",
       "      <td>whatcha gonna moo?!</td>\n",
       "      <td>19</td>\n",
       "      <td>3</td>\n",
       "    </tr>\n",
       "  </tbody>\n",
       "</table>\n",
       "<p>998 rows × 6 columns</p>\n",
       "</div>"
      ],
      "text/plain": [
       "      actuals predictions  compare  \\\n",
       "1073    jokes       jokes     True   \n",
       "2511  riddles     riddles     True   \n",
       "3500  riddles     riddles     True   \n",
       "3557  riddles     riddles     True   \n",
       "1202    jokes       jokes     True   \n",
       "...       ...         ...      ...   \n",
       "3839  riddles     riddles     True   \n",
       "1718    jokes       jokes     True   \n",
       "1679    jokes       jokes     True   \n",
       "536     jokes       jokes     True   \n",
       "1815    jokes       jokes     True   \n",
       "\n",
       "                                               selftext  text_length  \\\n",
       "1073    then i realized i was just beating a dead horse           47   \n",
       "2511   Me can bring tears to your eyes and a smile t...          139   \n",
       "3500  It could be big it could be small but definite...          137   \n",
       "3557   this brainteaser. As a matter of fact, Smully...          775   \n",
       "1202                                     He gets horny.           14   \n",
       "...                                                 ...          ...   \n",
       "3839  I turn in endless circles but never become diz...          126   \n",
       "1718                                          [removed]            9   \n",
       "1679  In space, a hole in the wall would kill everyone.           49   \n",
       "536                      And I'm definitely not a monk!           30   \n",
       "1815                                whatcha gonna moo?!           19   \n",
       "\n",
       "      text_word_count  \n",
       "1073               10  \n",
       "2511               31  \n",
       "3500               26  \n",
       "3557              133  \n",
       "1202                3  \n",
       "...               ...  \n",
       "3839               23  \n",
       "1718                1  \n",
       "1679               10  \n",
       "536                 6  \n",
       "1815                3  \n",
       "\n",
       "[998 rows x 6 columns]"
      ]
     },
     "execution_count": 481,
     "metadata": {},
     "output_type": "execute_result"
    }
   ],
   "source": [
    "# add text, length of post and word cout to dataframe\n",
    "\n",
    "compare_df_text = pd.merge(left = compare_df, right = posts_df[['selftext', 'text_length', 'text_word_count']], left_index = True, right_index = True)\n",
    "compare_df_text"
   ]
  },
  {
   "cell_type": "code",
   "execution_count": 502,
   "metadata": {},
   "outputs": [
    {
     "data": {
      "text/html": [
       "<div>\n",
       "<style scoped>\n",
       "    .dataframe tbody tr th:only-of-type {\n",
       "        vertical-align: middle;\n",
       "    }\n",
       "\n",
       "    .dataframe tbody tr th {\n",
       "        vertical-align: top;\n",
       "    }\n",
       "\n",
       "    .dataframe thead tr th {\n",
       "        text-align: left;\n",
       "    }\n",
       "\n",
       "    .dataframe thead tr:last-of-type th {\n",
       "        text-align: right;\n",
       "    }\n",
       "</style>\n",
       "<table border=\"1\" class=\"dataframe\">\n",
       "  <thead>\n",
       "    <tr>\n",
       "      <th></th>\n",
       "      <th colspan=\"8\" halign=\"left\">text_length</th>\n",
       "      <th colspan=\"8\" halign=\"left\">text_word_count</th>\n",
       "    </tr>\n",
       "    <tr>\n",
       "      <th></th>\n",
       "      <th>count</th>\n",
       "      <th>mean</th>\n",
       "      <th>std</th>\n",
       "      <th>min</th>\n",
       "      <th>25%</th>\n",
       "      <th>50%</th>\n",
       "      <th>75%</th>\n",
       "      <th>max</th>\n",
       "      <th>count</th>\n",
       "      <th>mean</th>\n",
       "      <th>std</th>\n",
       "      <th>min</th>\n",
       "      <th>25%</th>\n",
       "      <th>50%</th>\n",
       "      <th>75%</th>\n",
       "      <th>max</th>\n",
       "    </tr>\n",
       "    <tr>\n",
       "      <th>compare</th>\n",
       "      <th></th>\n",
       "      <th></th>\n",
       "      <th></th>\n",
       "      <th></th>\n",
       "      <th></th>\n",
       "      <th></th>\n",
       "      <th></th>\n",
       "      <th></th>\n",
       "      <th></th>\n",
       "      <th></th>\n",
       "      <th></th>\n",
       "      <th></th>\n",
       "      <th></th>\n",
       "      <th></th>\n",
       "      <th></th>\n",
       "      <th></th>\n",
       "    </tr>\n",
       "  </thead>\n",
       "  <tbody>\n",
       "    <tr>\n",
       "      <th>False</th>\n",
       "      <td>120.0</td>\n",
       "      <td>195.0</td>\n",
       "      <td>760.0</td>\n",
       "      <td>0.0</td>\n",
       "      <td>9.0</td>\n",
       "      <td>40.0</td>\n",
       "      <td>121.0</td>\n",
       "      <td>7917.0</td>\n",
       "      <td>120.0</td>\n",
       "      <td>29.0</td>\n",
       "      <td>71.0</td>\n",
       "      <td>0.0</td>\n",
       "      <td>1.0</td>\n",
       "      <td>6.0</td>\n",
       "      <td>24.0</td>\n",
       "      <td>577.0</td>\n",
       "    </tr>\n",
       "    <tr>\n",
       "      <th>True</th>\n",
       "      <td>878.0</td>\n",
       "      <td>178.0</td>\n",
       "      <td>319.0</td>\n",
       "      <td>2.0</td>\n",
       "      <td>24.0</td>\n",
       "      <td>71.0</td>\n",
       "      <td>199.0</td>\n",
       "      <td>3593.0</td>\n",
       "      <td>878.0</td>\n",
       "      <td>33.0</td>\n",
       "      <td>60.0</td>\n",
       "      <td>1.0</td>\n",
       "      <td>5.0</td>\n",
       "      <td>14.0</td>\n",
       "      <td>38.0</td>\n",
       "      <td>702.0</td>\n",
       "    </tr>\n",
       "  </tbody>\n",
       "</table>\n",
       "</div>"
      ],
      "text/plain": [
       "        text_length                                                \\\n",
       "              count   mean    std  min   25%   50%    75%     max   \n",
       "compare                                                             \n",
       "False         120.0  195.0  760.0  0.0   9.0  40.0  121.0  7917.0   \n",
       "True          878.0  178.0  319.0  2.0  24.0  71.0  199.0  3593.0   \n",
       "\n",
       "        text_word_count                                           \n",
       "                  count  mean   std  min  25%   50%   75%    max  \n",
       "compare                                                           \n",
       "False             120.0  29.0  71.0  0.0  1.0   6.0  24.0  577.0  \n",
       "True              878.0  33.0  60.0  1.0  5.0  14.0  38.0  702.0  "
      ]
     },
     "execution_count": 502,
     "metadata": {},
     "output_type": "execute_result"
    }
   ],
   "source": [
    "round(compare_df_text.groupby('compare')[['text_length', 'text_word_count']].describe())"
   ]
  },
  {
   "cell_type": "markdown",
   "metadata": {},
   "source": [
    "No real variations between the correctly and incorectly guessed predictions."
   ]
  },
  {
   "cell_type": "code",
   "execution_count": 587,
   "metadata": {},
   "outputs": [
    {
     "data": {
      "text/plain": [
       "array([[0.79047171, 0.20952829],\n",
       "       [0.96027231, 0.03972769],\n",
       "       [0.00330976, 0.99669024],\n",
       "       ...,\n",
       "       [0.71866578, 0.28133422],\n",
       "       [0.84118106, 0.15881894],\n",
       "       [0.9338739 , 0.0661261 ]])"
      ]
     },
     "execution_count": 587,
     "metadata": {},
     "output_type": "execute_result"
    }
   ],
   "source": [
    "# look at predicted probabilities\n",
    "pipe2.predict_proba(X_train)"
   ]
  },
  {
   "cell_type": "markdown",
   "metadata": {},
   "source": [
    "The probabilities mostly show that my model was confident in the direction of the output."
   ]
  },
  {
   "cell_type": "code",
   "execution_count": 558,
   "metadata": {},
   "outputs": [],
   "source": [
    "#look at coefs\n",
    "coefs = pipe.named_steps['logisticregression'].coef_"
   ]
  },
  {
   "cell_type": "code",
   "execution_count": 559,
   "metadata": {},
   "outputs": [],
   "source": [
    "#put them in dataframe with words\n",
    "coef_df = pd.DataFrame({'coefs': coefs[0],\n",
    "                        'features': pipe['countvectorizer'].get_feature_names()})"
   ]
  },
  {
   "cell_type": "code",
   "execution_count": 577,
   "metadata": {},
   "outputs": [
    {
     "data": {
      "text/plain": [
       "''"
      ]
     },
     "execution_count": 577,
     "metadata": {},
     "output_type": "execute_result"
    },
    {
     "data": {
      "image/png": "[encoded data removed]",
      "text/plain": [
       "<Figure size 432x288 with 1 Axes>"
      ]
     },
     "metadata": {
      "needs_background": "light"
     },
     "output_type": "display_data"
    }
   ],
   "source": [
    "#examine a plot of ten largest (riddles)\n",
    "largest = coef_df.nlargest(10, 'coefs')\n",
    "# plt.figure(figsize = (8,5))\n",
    "plt.barh(data = largest, y = 'features', width = 'coefs')\n",
    "plt.title('Top 10 Words that Represent Riddles')\n",
    "plt.savefig('riddles_bar', dpi = 99)\n",
    ";"
   ]
  },
  {
   "cell_type": "code",
   "execution_count": 578,
   "metadata": {},
   "outputs": [
    {
     "data": {
      "text/plain": [
       "''"
      ]
     },
     "execution_count": 578,
     "metadata": {},
     "output_type": "execute_result"
    },
    {
     "data": {
      "image/png": "[encoded data removed]",
      "text/plain": [
       "<Figure size 432x288 with 1 Axes>"
      ]
     },
     "metadata": {
      "needs_background": "light"
     },
     "output_type": "display_data"
    }
   ],
   "source": [
    "#ten smallest (jokes)\n",
    "smallest = coef_df.nsmallest(10, 'coefs')\n",
    "# plt.figure(figsize = (8,5))\n",
    "plt.barh(data = smallest, y = 'features', width = 'coefs')\n",
    "plt.title('Top 10 Words that Represent Jokes')\n",
    "plt.savefig('jokes_bar', dpi = 99)\n",
    ";"
   ]
  },
  {
   "cell_type": "markdown",
   "metadata": {},
   "source": [
    "I think the top 10 words for each subreddit make sense. There are a few profanities in the jokes, which is to be expected. Riddles often end with questions like \"What am I?\" or \"How many are there?\" and that is apparent in the bar chart."
   ]
  },
  {
   "cell_type": "code",
   "execution_count": 466,
   "metadata": {},
   "outputs": [
    {
     "data": {
      "text/plain": [
       "array(['jokes'], dtype=object)"
      ]
     },
     "execution_count": 466,
     "metadata": {},
     "output_type": "execute_result"
    }
   ],
   "source": [
    "# I pulled a joke from a day that is outside the time range of my data pull to see if my model could classify it correctly\n",
    "# https://www.reddit.com/r/Jokes/comments/n3pdia/i_once_saw_a_picture_of_mt_rushmore_before_it_was/\n",
    "pipe.predict(['Its natural beauty was unpresidented'])"
   ]
  },
  {
   "cell_type": "code",
   "execution_count": 473,
   "metadata": {},
   "outputs": [
    {
     "data": {
      "text/plain": [
       "array(['riddles'], dtype=object)"
      ]
     },
     "execution_count": 473,
     "metadata": {},
     "output_type": "execute_result"
    }
   ],
   "source": [
    "# This riddle is from a time outside of my data pull\n",
    "# https://www.reddit.com/r/riddles/comments/bcpo7n/lose_me_once_ill_come_back_stronger_lose_me_twice/\n",
    "pipe.predict(['Broke two, cooked two, and ate two. How many do I have left?'])"
   ]
  },
  {
   "cell_type": "markdown",
   "metadata": {},
   "source": [
    "My model was able to predict the new posts!"
   ]
  },
  {
   "cell_type": "markdown",
   "metadata": {},
   "source": [
    "### Other Classifier Models"
   ]
  },
  {
   "cell_type": "markdown",
   "metadata": {},
   "source": [
    "#### Decision Tree"
   ]
  },
  {
   "cell_type": "markdown",
   "metadata": {},
   "source": [
    "Decision Tree Classifier Scores:\n",
    "* 10: Train = 0.879, Test = 0.827\n",
    "* 5: Train = 0.817, Test = 0.809\n",
    "* 20: Train = 0.938, Test = 0.825\n",
    "* 30: Train = 0.947, Test = 0.831"
   ]
  },
  {
   "cell_type": "code",
   "execution_count": 482,
   "metadata": {},
   "outputs": [],
   "source": [
    "pipe3 = make_pipeline(CountVectorizer(ngram_range=(1, 2), max_features = 2500, tokenizer = lemmatized), DecisionTreeClassifier(max_depth = 20))"
   ]
  },
  {
   "cell_type": "code",
   "execution_count": 483,
   "metadata": {},
   "outputs": [
    {
     "data": {
      "text/plain": [
       "Pipeline(steps=[('countvectorizer',\n",
       "                 CountVectorizer(max_features=2500, ngram_range=(1, 2),\n",
       "                                 tokenizer=<function lemmatized at 0x000001CA0053E0D0>)),\n",
       "                ('decisiontreeclassifier',\n",
       "                 DecisionTreeClassifier(max_depth=20))])"
      ]
     },
     "execution_count": 483,
     "metadata": {},
     "output_type": "execute_result"
    }
   ],
   "source": [
    "pipe3.fit(X_train, y_train)"
   ]
  },
  {
   "cell_type": "code",
   "execution_count": 484,
   "metadata": {},
   "outputs": [
    {
     "data": {
      "text/plain": [
       "0.9388368983957219"
      ]
     },
     "execution_count": 484,
     "metadata": {},
     "output_type": "execute_result"
    }
   ],
   "source": [
    "pipe3.score(X_train, y_train)"
   ]
  },
  {
   "cell_type": "code",
   "execution_count": 485,
   "metadata": {},
   "outputs": [
    {
     "data": {
      "text/plain": [
       "0.8256513026052105"
      ]
     },
     "execution_count": 485,
     "metadata": {},
     "output_type": "execute_result"
    }
   ],
   "source": [
    "pipe3.score(X_test, y_test)"
   ]
  },
  {
   "cell_type": "code",
   "execution_count": 486,
   "metadata": {},
   "outputs": [
    {
     "data": {
      "text/plain": [
       "<sklearn.metrics._plot.confusion_matrix.ConfusionMatrixDisplay at 0x1ca10394f10>"
      ]
     },
     "execution_count": 486,
     "metadata": {},
     "output_type": "execute_result"
    },
    {
     "data": {
      "image/png": "[encoded data removed]",
      "text/plain": [
       "<Figure size 432x288 with 2 Axes>"
      ]
     },
     "metadata": {
      "needs_background": "light"
     },
     "output_type": "display_data"
    }
   ],
   "source": [
    "plot_confusion_matrix(pipe3, X_test, y_test, cmap = 'Blues')"
   ]
  },
  {
   "cell_type": "code",
   "execution_count": 487,
   "metadata": {},
   "outputs": [],
   "source": [
    "# find preds\n",
    "preds2 = pipe3.predict(X_test)"
   ]
  },
  {
   "cell_type": "code",
   "execution_count": 488,
   "metadata": {},
   "outputs": [
    {
     "data": {
      "text/html": [
       "<div>\n",
       "<style scoped>\n",
       "    .dataframe tbody tr th:only-of-type {\n",
       "        vertical-align: middle;\n",
       "    }\n",
       "\n",
       "    .dataframe tbody tr th {\n",
       "        vertical-align: top;\n",
       "    }\n",
       "\n",
       "    .dataframe thead th {\n",
       "        text-align: right;\n",
       "    }\n",
       "</style>\n",
       "<table border=\"1\" class=\"dataframe\">\n",
       "  <thead>\n",
       "    <tr style=\"text-align: right;\">\n",
       "      <th></th>\n",
       "      <th>precision</th>\n",
       "      <th>recall</th>\n",
       "      <th>f1-score</th>\n",
       "      <th>support</th>\n",
       "    </tr>\n",
       "  </thead>\n",
       "  <tbody>\n",
       "    <tr>\n",
       "      <th>jokes</th>\n",
       "      <td>0.82</td>\n",
       "      <td>0.85</td>\n",
       "      <td>0.83</td>\n",
       "      <td>511.00</td>\n",
       "    </tr>\n",
       "    <tr>\n",
       "      <th>riddles</th>\n",
       "      <td>0.83</td>\n",
       "      <td>0.80</td>\n",
       "      <td>0.82</td>\n",
       "      <td>487.00</td>\n",
       "    </tr>\n",
       "    <tr>\n",
       "      <th>accuracy</th>\n",
       "      <td>0.83</td>\n",
       "      <td>0.83</td>\n",
       "      <td>0.83</td>\n",
       "      <td>0.83</td>\n",
       "    </tr>\n",
       "    <tr>\n",
       "      <th>macro avg</th>\n",
       "      <td>0.83</td>\n",
       "      <td>0.83</td>\n",
       "      <td>0.83</td>\n",
       "      <td>998.00</td>\n",
       "    </tr>\n",
       "    <tr>\n",
       "      <th>weighted avg</th>\n",
       "      <td>0.83</td>\n",
       "      <td>0.83</td>\n",
       "      <td>0.83</td>\n",
       "      <td>998.00</td>\n",
       "    </tr>\n",
       "  </tbody>\n",
       "</table>\n",
       "</div>"
      ],
      "text/plain": [
       "              precision  recall  f1-score  support\n",
       "jokes              0.82    0.85      0.83   511.00\n",
       "riddles            0.83    0.80      0.82   487.00\n",
       "accuracy           0.83    0.83      0.83     0.83\n",
       "macro avg          0.83    0.83      0.83   998.00\n",
       "weighted avg       0.83    0.83      0.83   998.00"
      ]
     },
     "execution_count": 488,
     "metadata": {},
     "output_type": "execute_result"
    }
   ],
   "source": [
    "pd.DataFrame(classification_report(y_test, preds2, output_dict=True)).T.round(2)"
   ]
  },
  {
   "cell_type": "markdown",
   "metadata": {},
   "source": [
    "Logistic Regression does better on all metrics."
   ]
  },
  {
   "cell_type": "markdown",
   "metadata": {},
   "source": [
    "#### Gradient Boosting"
   ]
  },
  {
   "cell_type": "code",
   "execution_count": 489,
   "metadata": {},
   "outputs": [],
   "source": [
    "X2 = posts_df['selftext']\n",
    "y2 = y.map({'jokes': 0, 'riddles': 1})"
   ]
  },
  {
   "cell_type": "code",
   "execution_count": 490,
   "metadata": {},
   "outputs": [],
   "source": [
    "X2_train, X2_test, y2_train, y2_test = train_test_split(X2, y2, random_state = 8)"
   ]
  },
  {
   "cell_type": "code",
   "execution_count": 491,
   "metadata": {},
   "outputs": [],
   "source": [
    "pipe4 = make_pipeline(CountVectorizer(ngram_range=(1, 2), max_features = 2500, tokenizer = lemmatized), GradientBoostingClassifier())"
   ]
  },
  {
   "cell_type": "code",
   "execution_count": 492,
   "metadata": {},
   "outputs": [
    {
     "data": {
      "text/plain": [
       "Pipeline(steps=[('countvectorizer',\n",
       "                 CountVectorizer(max_features=2500, ngram_range=(1, 2),\n",
       "                                 tokenizer=<function lemmatized at 0x000001CA0053E0D0>)),\n",
       "                ('gradientboostingclassifier', GradientBoostingClassifier())])"
      ]
     },
     "execution_count": 492,
     "metadata": {},
     "output_type": "execute_result"
    }
   ],
   "source": [
    "pipe4.fit(X2_train, y2_train)"
   ]
  },
  {
   "cell_type": "code",
   "execution_count": 493,
   "metadata": {},
   "outputs": [
    {
     "data": {
      "text/plain": [
       "0.883355614973262"
      ]
     },
     "execution_count": 493,
     "metadata": {},
     "output_type": "execute_result"
    }
   ],
   "source": [
    "pipe4.score(X2_train, y2_train)"
   ]
  },
  {
   "cell_type": "code",
   "execution_count": 494,
   "metadata": {},
   "outputs": [
    {
     "data": {
      "text/plain": [
       "0.8507014028056112"
      ]
     },
     "execution_count": 494,
     "metadata": {},
     "output_type": "execute_result"
    }
   ],
   "source": [
    "pipe4.score(X2_test, y2_test)"
   ]
  },
  {
   "cell_type": "code",
   "execution_count": 495,
   "metadata": {},
   "outputs": [
    {
     "data": {
      "text/plain": [
       "<sklearn.metrics._plot.confusion_matrix.ConfusionMatrixDisplay at 0x1ca0bf73fd0>"
      ]
     },
     "execution_count": 495,
     "metadata": {},
     "output_type": "execute_result"
    },
    {
     "data": {
      "image/png": "[encoded data removed]",
      "text/plain": [
       "<Figure size 432x288 with 2 Axes>"
      ]
     },
     "metadata": {
      "needs_background": "light"
     },
     "output_type": "display_data"
    }
   ],
   "source": [
    "plot_confusion_matrix(pipe4, X2_test, y2_test, cmap = 'Blues')"
   ]
  },
  {
   "cell_type": "code",
   "execution_count": 496,
   "metadata": {},
   "outputs": [],
   "source": [
    "# find preds\n",
    "preds3 = pipe4.predict(X2_test)"
   ]
  },
  {
   "cell_type": "code",
   "execution_count": 497,
   "metadata": {},
   "outputs": [
    {
     "data": {
      "text/html": [
       "<div>\n",
       "<style scoped>\n",
       "    .dataframe tbody tr th:only-of-type {\n",
       "        vertical-align: middle;\n",
       "    }\n",
       "\n",
       "    .dataframe tbody tr th {\n",
       "        vertical-align: top;\n",
       "    }\n",
       "\n",
       "    .dataframe thead th {\n",
       "        text-align: right;\n",
       "    }\n",
       "</style>\n",
       "<table border=\"1\" class=\"dataframe\">\n",
       "  <thead>\n",
       "    <tr style=\"text-align: right;\">\n",
       "      <th></th>\n",
       "      <th>precision</th>\n",
       "      <th>recall</th>\n",
       "      <th>f1-score</th>\n",
       "      <th>support</th>\n",
       "    </tr>\n",
       "  </thead>\n",
       "  <tbody>\n",
       "    <tr>\n",
       "      <th>0</th>\n",
       "      <td>0.83</td>\n",
       "      <td>0.90</td>\n",
       "      <td>0.86</td>\n",
       "      <td>511.00</td>\n",
       "    </tr>\n",
       "    <tr>\n",
       "      <th>1</th>\n",
       "      <td>0.88</td>\n",
       "      <td>0.80</td>\n",
       "      <td>0.84</td>\n",
       "      <td>487.00</td>\n",
       "    </tr>\n",
       "    <tr>\n",
       "      <th>accuracy</th>\n",
       "      <td>0.85</td>\n",
       "      <td>0.85</td>\n",
       "      <td>0.85</td>\n",
       "      <td>0.85</td>\n",
       "    </tr>\n",
       "    <tr>\n",
       "      <th>macro avg</th>\n",
       "      <td>0.85</td>\n",
       "      <td>0.85</td>\n",
       "      <td>0.85</td>\n",
       "      <td>998.00</td>\n",
       "    </tr>\n",
       "    <tr>\n",
       "      <th>weighted avg</th>\n",
       "      <td>0.85</td>\n",
       "      <td>0.85</td>\n",
       "      <td>0.85</td>\n",
       "      <td>998.00</td>\n",
       "    </tr>\n",
       "  </tbody>\n",
       "</table>\n",
       "</div>"
      ],
      "text/plain": [
       "              precision  recall  f1-score  support\n",
       "0                  0.83    0.90      0.86   511.00\n",
       "1                  0.88    0.80      0.84   487.00\n",
       "accuracy           0.85    0.85      0.85     0.85\n",
       "macro avg          0.85    0.85      0.85   998.00\n",
       "weighted avg       0.85    0.85      0.85   998.00"
      ]
     },
     "execution_count": 497,
     "metadata": {},
     "output_type": "execute_result"
    }
   ],
   "source": [
    "pd.DataFrame(classification_report(y2_test, preds3, output_dict=True)).T.round(2)"
   ]
  },
  {
   "cell_type": "markdown",
   "metadata": {},
   "source": [
    "#### Naive Bayes Model"
   ]
  },
  {
   "cell_type": "code",
   "execution_count": 498,
   "metadata": {},
   "outputs": [],
   "source": [
    "pipe5 = make_pipeline(CountVectorizer(ngram_range=(1, 2), max_features = 2500, tokenizer = lemmatized), MultinomialNB())"
   ]
  },
  {
   "cell_type": "code",
   "execution_count": 499,
   "metadata": {},
   "outputs": [
    {
     "data": {
      "text/plain": [
       "Pipeline(steps=[('countvectorizer',\n",
       "                 CountVectorizer(max_features=2500, ngram_range=(1, 2),\n",
       "                                 tokenizer=<function lemmatized at 0x000001CA0053E0D0>)),\n",
       "                ('multinomialnb', MultinomialNB())])"
      ]
     },
     "execution_count": 499,
     "metadata": {},
     "output_type": "execute_result"
    }
   ],
   "source": [
    "pipe5.fit(X_train, y_train)"
   ]
  },
  {
   "cell_type": "code",
   "execution_count": 500,
   "metadata": {},
   "outputs": [
    {
     "data": {
      "text/plain": [
       "0.8198529411764706"
      ]
     },
     "execution_count": 500,
     "metadata": {},
     "output_type": "execute_result"
    }
   ],
   "source": [
    "pipe5.score(X_train, y_train)"
   ]
  },
  {
   "cell_type": "code",
   "execution_count": 501,
   "metadata": {},
   "outputs": [
    {
     "data": {
      "text/plain": [
       "0.8006012024048096"
      ]
     },
     "execution_count": 501,
     "metadata": {},
     "output_type": "execute_result"
    }
   ],
   "source": [
    "pipe5.score(X_test, y_test)"
   ]
  },
  {
   "cell_type": "code",
   "execution_count": 591,
   "metadata": {},
   "outputs": [
    {
     "data": {
      "text/plain": [
       "<sklearn.metrics._plot.confusion_matrix.ConfusionMatrixDisplay at 0x1ca01c3ca60>"
      ]
     },
     "execution_count": 591,
     "metadata": {},
     "output_type": "execute_result"
    },
    {
     "data": {
      "image/png": "[encoded data removed]",
      "text/plain": [
       "<Figure size 432x288 with 2 Axes>"
      ]
     },
     "metadata": {
      "needs_background": "light"
     },
     "output_type": "display_data"
    }
   ],
   "source": [
    "plot_confusion_matrix(pipe5, X_test, y_test, cmap = 'Blues')"
   ]
  },
  {
   "cell_type": "markdown",
   "metadata": {},
   "source": [
    "### Conclusions and Recommendations"
   ]
  },
  {
   "cell_type": "markdown",
   "metadata": {},
   "source": [
    "In conclusion, I have some recommendations I think would improve my model or would be interesting to look into:\n",
    "* Using both the title and text columns as feature would have probably helped my model, but would have taken a very long time\n",
    "    * Many of the posts use the title to start the joke or riddle, and the body of the post is only part of it\n",
    "* Also pulling the comments would probably really improve the model\n",
    "\n",
    "\n",
    "There are a few areas where I think some more data cleaning would have been helpful\n",
    "* Some show up as deleted or removed, and it might be beneficial to take them out of the train set\n",
    "* A lot of the riddles were links to non-reddit sources. In some ways this helped me identify them as riddles, but it would interesting to see what removing links does\n"
   ]
  }
 ],
 "metadata": {
  "kernelspec": {
   "display_name": "Python 3",
   "language": "python",
   "name": "python3"
  },
  "language_info": {
   "codemirror_mode": {
    "name": "ipython",
    "version": 3
   },
   "file_extension": ".py",
   "mimetype": "text/x-python",
   "name": "python",
   "nbconvert_exporter": "python",
   "pygments_lexer": "ipython3",
   "version": "3.8.5"
  }
 },
 "nbformat": 4,
 "nbformat_minor": 4
}
