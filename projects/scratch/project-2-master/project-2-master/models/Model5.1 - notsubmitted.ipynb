{
 "cells": [
  {
   "cell_type": "code",
   "execution_count": 2,
   "metadata": {},
   "outputs": [],
   "source": [
    "import matplotlib.pyplot as plt\n",
    "import numpy as np\n",
    "import pandas as pd\n",
    "import seaborn as sns\n",
    "import statsmodels.api as sm\n",
    "from scipy import stats\n",
    "\n",
    "from sklearn.linear_model import LinearRegression, LogisticRegression, Ridge, Lasso\n",
    "from sklearn.preprocessing import StandardScaler\n",
    "from sklearn.model_selection import train_test_split, GridSearchCV\n",
    "from sklearn.datasets import load_breast_cancer, load_digits, load_iris\n",
    "from sklearn.metrics import mean_squared_error\n",
    "\n",
    "from sklearn.compose import make_column_transformer\n",
    "from sklearn.impute import SimpleImputer, KNNImputer\n",
    "from sklearn.preprocessing import PolynomialFeatures, OrdinalEncoder\n",
    "\n",
    "from category_encoders import OneHotEncoder\n",
    "\n",
    "from sklearn.pipeline import make_pipeline\n",
    "import sklearn\n",
    "sklearn.set_config(display = 'diagram')\n",
    "from sklearn.feature_selection import RFE"
   ]
  },
  {
   "cell_type": "code",
   "execution_count": 82,
   "metadata": {},
   "outputs": [
    {
     "data": {
      "text/html": [
       "<div>\n",
       "<style scoped>\n",
       "    .dataframe tbody tr th:only-of-type {\n",
       "        vertical-align: middle;\n",
       "    }\n",
       "\n",
       "    .dataframe tbody tr th {\n",
       "        vertical-align: top;\n",
       "    }\n",
       "\n",
       "    .dataframe thead th {\n",
       "        text-align: right;\n",
       "    }\n",
       "</style>\n",
       "<table border=\"1\" class=\"dataframe\">\n",
       "  <thead>\n",
       "    <tr style=\"text-align: right;\">\n",
       "      <th></th>\n",
       "      <th>Id</th>\n",
       "      <th>PID</th>\n",
       "      <th>MS SubClass</th>\n",
       "      <th>MS Zoning</th>\n",
       "      <th>Lot Frontage</th>\n",
       "      <th>Lot Area</th>\n",
       "      <th>Street</th>\n",
       "      <th>Alley</th>\n",
       "      <th>Lot Shape</th>\n",
       "      <th>Land Contour</th>\n",
       "      <th>...</th>\n",
       "      <th>Screen Porch</th>\n",
       "      <th>Pool Area</th>\n",
       "      <th>Pool QC</th>\n",
       "      <th>Fence</th>\n",
       "      <th>Misc Feature</th>\n",
       "      <th>Misc Val</th>\n",
       "      <th>Mo Sold</th>\n",
       "      <th>Yr Sold</th>\n",
       "      <th>Sale Type</th>\n",
       "      <th>SalePrice</th>\n",
       "    </tr>\n",
       "  </thead>\n",
       "  <tbody>\n",
       "    <tr>\n",
       "      <th>0</th>\n",
       "      <td>109</td>\n",
       "      <td>533352170</td>\n",
       "      <td>60</td>\n",
       "      <td>RL</td>\n",
       "      <td>NaN</td>\n",
       "      <td>13517</td>\n",
       "      <td>Pave</td>\n",
       "      <td>NaN</td>\n",
       "      <td>IR1</td>\n",
       "      <td>Lvl</td>\n",
       "      <td>...</td>\n",
       "      <td>0</td>\n",
       "      <td>0</td>\n",
       "      <td>NaN</td>\n",
       "      <td>NaN</td>\n",
       "      <td>NaN</td>\n",
       "      <td>0</td>\n",
       "      <td>3</td>\n",
       "      <td>2010</td>\n",
       "      <td>WD</td>\n",
       "      <td>130500</td>\n",
       "    </tr>\n",
       "    <tr>\n",
       "      <th>1</th>\n",
       "      <td>544</td>\n",
       "      <td>531379050</td>\n",
       "      <td>60</td>\n",
       "      <td>RL</td>\n",
       "      <td>43.0</td>\n",
       "      <td>11492</td>\n",
       "      <td>Pave</td>\n",
       "      <td>NaN</td>\n",
       "      <td>IR1</td>\n",
       "      <td>Lvl</td>\n",
       "      <td>...</td>\n",
       "      <td>0</td>\n",
       "      <td>0</td>\n",
       "      <td>NaN</td>\n",
       "      <td>NaN</td>\n",
       "      <td>NaN</td>\n",
       "      <td>0</td>\n",
       "      <td>4</td>\n",
       "      <td>2009</td>\n",
       "      <td>WD</td>\n",
       "      <td>220000</td>\n",
       "    </tr>\n",
       "    <tr>\n",
       "      <th>2</th>\n",
       "      <td>153</td>\n",
       "      <td>535304180</td>\n",
       "      <td>20</td>\n",
       "      <td>RL</td>\n",
       "      <td>68.0</td>\n",
       "      <td>7922</td>\n",
       "      <td>Pave</td>\n",
       "      <td>NaN</td>\n",
       "      <td>Reg</td>\n",
       "      <td>Lvl</td>\n",
       "      <td>...</td>\n",
       "      <td>0</td>\n",
       "      <td>0</td>\n",
       "      <td>NaN</td>\n",
       "      <td>NaN</td>\n",
       "      <td>NaN</td>\n",
       "      <td>0</td>\n",
       "      <td>1</td>\n",
       "      <td>2010</td>\n",
       "      <td>WD</td>\n",
       "      <td>109000</td>\n",
       "    </tr>\n",
       "    <tr>\n",
       "      <th>3</th>\n",
       "      <td>318</td>\n",
       "      <td>916386060</td>\n",
       "      <td>60</td>\n",
       "      <td>RL</td>\n",
       "      <td>73.0</td>\n",
       "      <td>9802</td>\n",
       "      <td>Pave</td>\n",
       "      <td>NaN</td>\n",
       "      <td>Reg</td>\n",
       "      <td>Lvl</td>\n",
       "      <td>...</td>\n",
       "      <td>0</td>\n",
       "      <td>0</td>\n",
       "      <td>NaN</td>\n",
       "      <td>NaN</td>\n",
       "      <td>NaN</td>\n",
       "      <td>0</td>\n",
       "      <td>4</td>\n",
       "      <td>2010</td>\n",
       "      <td>WD</td>\n",
       "      <td>174000</td>\n",
       "    </tr>\n",
       "    <tr>\n",
       "      <th>4</th>\n",
       "      <td>255</td>\n",
       "      <td>906425045</td>\n",
       "      <td>50</td>\n",
       "      <td>RL</td>\n",
       "      <td>82.0</td>\n",
       "      <td>14235</td>\n",
       "      <td>Pave</td>\n",
       "      <td>NaN</td>\n",
       "      <td>IR1</td>\n",
       "      <td>Lvl</td>\n",
       "      <td>...</td>\n",
       "      <td>0</td>\n",
       "      <td>0</td>\n",
       "      <td>NaN</td>\n",
       "      <td>NaN</td>\n",
       "      <td>NaN</td>\n",
       "      <td>0</td>\n",
       "      <td>3</td>\n",
       "      <td>2010</td>\n",
       "      <td>WD</td>\n",
       "      <td>138500</td>\n",
       "    </tr>\n",
       "  </tbody>\n",
       "</table>\n",
       "<p>5 rows × 81 columns</p>\n",
       "</div>"
      ],
      "text/plain": [
       "    Id        PID  MS SubClass MS Zoning  Lot Frontage  Lot Area Street Alley  \\\n",
       "0  109  533352170           60        RL           NaN     13517   Pave   NaN   \n",
       "1  544  531379050           60        RL          43.0     11492   Pave   NaN   \n",
       "2  153  535304180           20        RL          68.0      7922   Pave   NaN   \n",
       "3  318  916386060           60        RL          73.0      9802   Pave   NaN   \n",
       "4  255  906425045           50        RL          82.0     14235   Pave   NaN   \n",
       "\n",
       "  Lot Shape Land Contour  ... Screen Porch Pool Area Pool QC Fence  \\\n",
       "0       IR1          Lvl  ...            0         0     NaN   NaN   \n",
       "1       IR1          Lvl  ...            0         0     NaN   NaN   \n",
       "2       Reg          Lvl  ...            0         0     NaN   NaN   \n",
       "3       Reg          Lvl  ...            0         0     NaN   NaN   \n",
       "4       IR1          Lvl  ...            0         0     NaN   NaN   \n",
       "\n",
       "  Misc Feature Misc Val Mo Sold Yr Sold  Sale Type  SalePrice  \n",
       "0          NaN        0       3    2010        WD      130500  \n",
       "1          NaN        0       4    2009        WD      220000  \n",
       "2          NaN        0       1    2010        WD      109000  \n",
       "3          NaN        0       4    2010        WD      174000  \n",
       "4          NaN        0       3    2010        WD      138500  \n",
       "\n",
       "[5 rows x 81 columns]"
      ]
     },
     "execution_count": 82,
     "metadata": {},
     "output_type": "execute_result"
    }
   ],
   "source": [
    "df = pd.read_csv('../datasets/train.csv')\n",
    "df.head()"
   ]
  },
  {
   "cell_type": "code",
   "execution_count": 85,
   "metadata": {},
   "outputs": [],
   "source": [
    "new_df = df.drop(['Alley', 'Lot Frontage', 'Pool QC', 'Fence', 'Misc Feature', 'Fireplace Qu'], axis = 1)"
   ]
  },
  {
   "cell_type": "code",
   "execution_count": 86,
   "metadata": {},
   "outputs": [],
   "source": [
    "new_df = new_df.dropna()"
   ]
  },
  {
   "cell_type": "code",
   "execution_count": 87,
   "metadata": {},
   "outputs": [],
   "source": [
    "ohe = OneHotEncoder()"
   ]
  },
  {
   "cell_type": "code",
   "execution_count": 89,
   "metadata": {},
   "outputs": [],
   "source": [
    "X = new_df.drop(['SalePrice'], axis = 1)\n",
    "y = new_df['SalePrice']"
   ]
  },
  {
   "cell_type": "code",
   "execution_count": 90,
   "metadata": {},
   "outputs": [],
   "source": [
    "ohe = OneHotEncoder(use_cat_names = True)"
   ]
  },
  {
   "cell_type": "code",
   "execution_count": 91,
   "metadata": {},
   "outputs": [
    {
     "name": "stderr",
     "output_type": "stream",
     "text": [
      "C:\\Users\\Lindsey\\anaconda3\\lib\\site-packages\\category_encoders\\utils.py:21: FutureWarning: is_categorical is deprecated and will be removed in a future version.  Use is_categorical_dtype instead\n",
      "  elif pd.api.types.is_categorical(cols):\n"
     ]
    }
   ],
   "source": [
    "X_encoded = ohe.fit_transform(X)"
   ]
  },
  {
   "cell_type": "code",
   "execution_count": 92,
   "metadata": {},
   "outputs": [
    {
     "data": {
      "text/plain": [
       "(1866, 263)"
      ]
     },
     "execution_count": 92,
     "metadata": {},
     "output_type": "execute_result"
    }
   ],
   "source": [
    "X_encoded.shape"
   ]
  },
  {
   "cell_type": "code",
   "execution_count": 93,
   "metadata": {},
   "outputs": [
    {
     "data": {
      "text/plain": [
       "(1866,)"
      ]
     },
     "execution_count": 93,
     "metadata": {},
     "output_type": "execute_result"
    }
   ],
   "source": [
    "y.shape"
   ]
  },
  {
   "cell_type": "code",
   "execution_count": 97,
   "metadata": {},
   "outputs": [
    {
     "data": {
      "text/html": [
       "<style>div.sk-top-container {color: black;background-color: white;}div.sk-toggleable {background-color: white;}label.sk-toggleable__label {cursor: pointer;display: block;width: 100%;margin-bottom: 0;padding: 0.2em 0.3em;box-sizing: border-box;text-align: center;}div.sk-toggleable__content {max-height: 0;max-width: 0;overflow: hidden;text-align: left;background-color: #f0f8ff;}div.sk-toggleable__content pre {margin: 0.2em;color: black;border-radius: 0.25em;background-color: #f0f8ff;}input.sk-toggleable__control:checked~div.sk-toggleable__content {max-height: 200px;max-width: 100%;overflow: auto;}div.sk-estimator input.sk-toggleable__control:checked~label.sk-toggleable__label {background-color: #d4ebff;}div.sk-label input.sk-toggleable__control:checked~label.sk-toggleable__label {background-color: #d4ebff;}input.sk-hidden--visually {border: 0;clip: rect(1px 1px 1px 1px);clip: rect(1px, 1px, 1px, 1px);height: 1px;margin: -1px;overflow: hidden;padding: 0;position: absolute;width: 1px;}div.sk-estimator {font-family: monospace;background-color: #f0f8ff;margin: 0.25em 0.25em;border: 1px dotted black;border-radius: 0.25em;box-sizing: border-box;}div.sk-estimator:hover {background-color: #d4ebff;}div.sk-parallel-item::after {content: \"\";width: 100%;border-bottom: 1px solid gray;flex-grow: 1;}div.sk-label:hover label.sk-toggleable__label {background-color: #d4ebff;}div.sk-serial::before {content: \"\";position: absolute;border-left: 1px solid gray;box-sizing: border-box;top: 2em;bottom: 0;left: 50%;}div.sk-serial {display: flex;flex-direction: column;align-items: center;background-color: white;}div.sk-item {z-index: 1;}div.sk-parallel {display: flex;align-items: stretch;justify-content: center;background-color: white;}div.sk-parallel-item {display: flex;flex-direction: column;position: relative;background-color: white;}div.sk-parallel-item:first-child::after {align-self: flex-end;width: 50%;}div.sk-parallel-item:last-child::after {align-self: flex-start;width: 50%;}div.sk-parallel-item:only-child::after {width: 0;}div.sk-dashed-wrapped {border: 1px dashed gray;margin: 0.2em;box-sizing: border-box;padding-bottom: 0.1em;background-color: white;position: relative;}div.sk-label label {font-family: monospace;font-weight: bold;background-color: white;display: inline-block;line-height: 1.2em;}div.sk-label-container {position: relative;z-index: 2;text-align: center;}div.sk-container {display: inline-block;position: relative;}</style><div class=\"sk-top-container\"><div class=\"sk-container\"><div class=\"sk-item\"><div class=\"sk-estimator sk-toggleable\"><input class=\"sk-toggleable__control sk-hidden--visually\" id=\"ec0fd91c-82d9-4e8e-b26e-46163bfe4d82\" type=\"checkbox\" checked><label class=\"sk-toggleable__label\" for=\"ec0fd91c-82d9-4e8e-b26e-46163bfe4d82\">LinearRegression</label><div class=\"sk-toggleable__content\"><pre>LinearRegression()</pre></div></div></div></div></div>"
      ],
      "text/plain": [
       "LinearRegression()"
      ]
     },
     "execution_count": 97,
     "metadata": {},
     "output_type": "execute_result"
    }
   ],
   "source": [
    "lr = LinearRegression()\n",
    "lr.fit(X_encoded, y)"
   ]
  },
  {
   "cell_type": "code",
   "execution_count": 100,
   "metadata": {},
   "outputs": [],
   "source": [
    "model = sm.OLS(y, X_encoded).fit()"
   ]
  },
  {
   "cell_type": "code",
   "execution_count": 104,
   "metadata": {
    "collapsed": true,
    "jupyter": {
     "outputs_hidden": true
    }
   },
   "outputs": [
    {
     "data": {
      "text/plain": [
       "Misc Val                6.139595e-38\n",
       "Overall Qual            8.076899e-15\n",
       "Gr Liv Area             5.270042e-13\n",
       "Overall Cond            3.678649e-12\n",
       "Lot Area                4.100512e-11\n",
       "Total Bsmt SF           2.497506e-09\n",
       "Screen Porch            3.552355e-09\n",
       "BsmtFin SF 1            6.371309e-09\n",
       "2nd Flr SF              1.933799e-07\n",
       "Mas Vnr Area            1.947988e-04\n",
       "Year Built              2.164902e-04\n",
       "Neighborhood_GrnHill    6.881962e-04\n",
       "1st Flr SF              3.753349e-03\n",
       "Kitchen AbvGr           6.702703e-03\n",
       "Wood Deck SF            8.688364e-03\n",
       "Fireplaces              1.888019e-02\n",
       "Garage Area             2.372150e-02\n",
       "Garage Cars             3.625214e-02\n",
       "Pool Area               4.347453e-02\n",
       "BsmtFin SF 2            4.530331e-02\n",
       "Bsmt Full Bath          5.460725e-02\n",
       "Full Bath               5.676535e-02\n",
       "Neighborhood_StoneBr    8.207077e-02\n",
       "Bedroom AbvGr           9.669958e-02\n",
       "Roof Matl_Membran       1.047648e-01\n",
       "Condition 2_RRAe        1.474329e-01\n",
       "Roof Matl_WdShake       1.498082e-01\n",
       "Bsmt Half Bath          1.508510e-01\n",
       "Roof Matl_WdShngl       1.513207e-01\n",
       "Roof Matl_ClyTile       1.584664e-01\n",
       "Roof Matl_Tar&Grv       1.593401e-01\n",
       "Exterior 2nd_AsphShn    1.595832e-01\n",
       "MS SubClass             1.651127e-01\n",
       "Garage Qual_Ex          1.677084e-01\n",
       "Neighborhood_NridgHt    1.759451e-01\n",
       "Neighborhood_NoRidge    1.764028e-01\n",
       "Roof Matl_CompShg       1.863312e-01\n",
       "Bsmt Unf SF             1.970482e-01\n",
       "Exterior 1st_BrkFace    2.159782e-01\n",
       "Year Remod/Add          2.242098e-01\n",
       "Neighborhood_BrDale     2.521257e-01\n",
       "Sale Type_Con           2.544928e-01\n",
       "Half Bath               2.636524e-01\n",
       "Neighborhood_Greens     2.645687e-01\n",
       "Garage Cond_Po          2.713236e-01\n",
       "Roof Style_Shed         2.791638e-01\n",
       "Exterior 1st_CemntBd    2.797184e-01\n",
       "Functional_Typ          2.829146e-01\n",
       "Neighborhood_NPkVill    2.847531e-01\n",
       "Condition 1_PosN        2.868569e-01\n",
       "Garage Cond_TA          2.878507e-01\n",
       "Exterior 1st_AsbShng    2.879685e-01\n",
       "Exterior 2nd_VinylSd    2.912010e-01\n",
       "Mo Sold                 2.914214e-01\n",
       "Garage Cond_Fa          2.920526e-01\n",
       "Condition 1_PosA        2.941933e-01\n",
       "Garage Cond_Gd          2.942018e-01\n",
       "Electrical_Mix          2.951434e-01\n",
       "Neighborhood_Blmngtn    2.951434e-01\n",
       "Yr Sold                 2.970907e-01\n",
       "Id                      2.998812e-01\n",
       "Functional_Min1         3.008540e-01\n",
       "Heating_Grav            3.017778e-01\n",
       "Functional_Maj2         3.023273e-01\n",
       "Exter Qual_Ex           3.029702e-01\n",
       "Sale Type_Oth           3.040594e-01\n",
       "House Style_2.5Unf      3.046109e-01\n",
       "BsmtFin Type 2_GLQ      3.046621e-01\n",
       "Kitchen Qual_Ex         3.047953e-01\n",
       "MS Zoning_RH            3.051612e-01\n",
       "Roof Style_Hip          3.064221e-01\n",
       "PID                     3.068916e-01\n",
       "Functional_Min2         3.080320e-01\n",
       "Condition 2_PosA        3.099975e-01\n",
       "Exterior 2nd_MetalSd    3.102866e-01\n",
       "Roof Style_Gable        3.103443e-01\n",
       "Bldg Type_2fmCon        3.119816e-01\n",
       "Condition 1_Norm        3.122895e-01\n",
       "House Style_SFoyer      3.131254e-01\n",
       "Bsmt Exposure_Gd        3.153899e-01\n",
       "Exterior 2nd_Wd Sdng    3.156801e-01\n",
       "Land Contour_HLS        3.162114e-01\n",
       "Bsmt Qual_Ex            3.166277e-01\n",
       "MS Zoning_FV            3.171043e-01\n",
       "Bldg Type_1Fam          3.172635e-01\n",
       "Exterior 1st_WdShing    3.174050e-01\n",
       "House Style_1.5Unf      3.177438e-01\n",
       "Lot Config_CulDSac      3.181064e-01\n",
       "Foundation_Wood         3.182767e-01\n",
       "Utilities_AllPub        3.185995e-01\n",
       "Exterior 2nd_Brk Cmn    3.192232e-01\n",
       "Roof Style_Gambrel      3.199149e-01\n",
       "Land Slope_Mod          3.200713e-01\n",
       "Mas Vnr Type_Stone      3.205531e-01\n",
       "Foundation_Stone        3.206326e-01\n",
       "Sale Type_New           3.222508e-01\n",
       "BsmtFin Type 1_GLQ      3.222615e-01\n",
       "Bsmt Qual_Po            3.224525e-01\n",
       "Heating QC_Ex           3.225400e-01\n",
       "Bsmt Cond_TA            3.226247e-01\n",
       "Bsmt Cond_Gd            3.227547e-01\n",
       "Sale Type_CWD           3.228460e-01\n",
       "House Style_1Story      3.231295e-01\n",
       "Bsmt Cond_Fa            3.235080e-01\n",
       "Exterior 1st_Stucco     3.239066e-01\n",
       "Garage Type_BuiltIn     3.240141e-01\n",
       "Neighborhood_Somerst    3.242005e-01\n",
       "Land Slope_Gtl          3.245477e-01\n",
       "Garage Type_CarPort     3.253387e-01\n",
       "Heating QC_Gd           3.257056e-01\n",
       "Heating QC_Fa           3.259722e-01\n",
       "Electrical_FuseP        3.260219e-01\n",
       "MS Zoning_RL            3.263118e-01\n",
       "Mas Vnr Type_None       3.263610e-01\n",
       "Heating_GasW            3.268077e-01\n",
       "Heating_GasA            3.268824e-01\n",
       "BsmtFin Type 2_ALQ      3.270576e-01\n",
       "Exter Cond_TA           3.270790e-01\n",
       "Lot Shape_IR2           3.270879e-01\n",
       "Lot Config_Corner       3.272301e-01\n",
       "Lot Config_Inside       3.274595e-01\n",
       "Bldg Type_Duplex        3.278816e-01\n",
       "Land Contour_Lvl        3.280393e-01\n",
       "Sale Type_ConLD         3.281881e-01\n",
       "Street_Pave             3.284821e-01\n",
       "Exterior 1st_Plywood    3.286464e-01\n",
       "Lot Shape_Reg           3.287968e-01\n",
       "House Style_SLvl        3.288060e-01\n",
       "Paved Drive_Y           3.288275e-01\n",
       "BsmtFin Type 1_Unf      3.292946e-01\n",
       "Lot Shape_IR1           3.294089e-01\n",
       "Mas Vnr Type_BrkFace    3.294275e-01\n",
       "Enclosed Porch          3.294410e-01\n",
       "BsmtFin Type 1_ALQ      3.299626e-01\n",
       "Garage Type_Detchd      3.304767e-01\n",
       "BsmtFin Type 2_Unf      3.305374e-01\n",
       "Garage Finish_Unf       3.305671e-01\n",
       "Heating QC_TA           3.306003e-01\n",
       "Garage Type_Basment     3.306917e-01\n",
       "Exter Cond_Gd           3.309933e-01\n",
       "Garage Type_Attchd      3.310900e-01\n",
       "Garage Finish_Fin       3.316044e-01\n",
       "Central Air_N           3.317209e-01\n",
       "Central Air_Y           3.320777e-01\n",
       "Bsmt Exposure_Av        3.321576e-01\n",
       "Exterior 1st_CBlock     3.322963e-01\n",
       "Exterior 2nd_CBlock     3.322963e-01\n",
       "Exterior 1st_MetalSd    3.325202e-01\n",
       "Functional_Sal          3.327654e-01\n",
       "Paved Drive_P           3.330927e-01\n",
       "Condition 1_Feedr       3.333290e-01\n",
       "Garage Finish_RFn       3.335300e-01\n",
       "Paved Drive_N           3.338118e-01\n",
       "Garage Qual_Gd          3.340488e-01\n",
       "BsmtFin Type 1_BLQ      3.341214e-01\n",
       "Exter Cond_Fa           3.347963e-01\n",
       "Exter Cond_Ex           3.350049e-01\n",
       "Street_Grvl             3.353974e-01\n",
       "MS Zoning_RM            3.354266e-01\n",
       "BsmtFin Type 1_Rec      3.354664e-01\n",
       "Foundation_PConc        3.358859e-01\n",
       "Exterior 1st_HdBoard    3.359878e-01\n",
       "House Style_1.5Fin      3.366430e-01\n",
       "Land Contour_Bnk        3.374548e-01\n",
       "Kitchen Qual_Gd         3.378794e-01\n",
       "Bsmt Qual_Fa            3.379209e-01\n",
       "House Style_2Story      3.379968e-01\n",
       "Bsmt Cond_Ex            3.387881e-01\n",
       "Condition 1_RRAn        3.389525e-01\n",
       "Bsmt Qual_TA            3.390677e-01\n",
       "Bsmt Exposure_No        3.392940e-01\n",
       "Kitchen Qual_TA         3.396109e-01\n",
       "Neighborhood_Blueste    3.402073e-01\n",
       "Lot Config_FR2          3.402144e-01\n",
       "Exter Qual_Gd           3.403775e-01\n",
       "BsmtFin Type 1_LwQ      3.405657e-01\n",
       "Exterior 2nd_Stucco     3.406735e-01\n",
       "BsmtFin Type 2_BLQ      3.407481e-01\n",
       "Exterior 1st_Wd Sdng    3.409876e-01\n",
       "Bsmt Exposure_Mn        3.411785e-01\n",
       "Neighborhood_Crawfor    3.414213e-01\n",
       "Exter Qual_Fa           3.415348e-01\n",
       "Functional_Mod          3.415475e-01\n",
       "Foundation_CBlock       3.421332e-01\n",
       "Lot Shape_IR3           3.425934e-01\n",
       "BsmtFin Type 2_Rec      3.431303e-01\n",
       "Exterior 2nd_HdBoard    3.433523e-01\n",
       "Exterior 2nd_Wd Shng    3.435997e-01\n",
       "Exter Qual_TA           3.440326e-01\n",
       "Foundation_BrkTil       3.445999e-01\n",
       "Exterior 2nd_Plywood    3.452598e-01\n",
       "Utilities_NoSeWa        3.457494e-01\n",
       "Kitchen Qual_Fa         3.463958e-01\n",
       "Land Contour_Low        3.464541e-01\n",
       "Bsmt Qual_Gd            3.464842e-01\n",
       "BsmtFin Type 2_LwQ      3.468396e-01\n",
       "Lot Config_FR3          3.472866e-01\n",
       "Electrical_FuseF        3.474379e-01\n",
       "Bldg Type_TwnhsE        3.476524e-01\n",
       "Functional_Maj1         3.482491e-01\n",
       "Electrical_FuseA        3.498771e-01\n",
       "Electrical_SBrkr        3.499200e-01\n",
       "Garage Type_2Types      3.509365e-01\n",
       "Condition 1_Artery      3.514414e-01\n",
       "Land Slope_Sev          3.517262e-01\n",
       "Mas Vnr Type_BrkCmn     3.518885e-01\n",
       "Condition 1_RRNe        3.531106e-01\n",
       "Neighborhood_MeadowV    3.539366e-01\n",
       "Roof Style_Flat         3.545216e-01\n",
       "Bsmt Cond_Po            3.546819e-01\n",
       "Heating QC_Po           3.563573e-01\n",
       "Bldg Type_Twnhs         3.566411e-01\n",
       "Condition 2_RRNn        3.576106e-01\n",
       "Sale Type_WD            3.585233e-01\n",
       "Exterior 1st_VinylSd    3.600743e-01\n",
       "Condition 2_Norm        3.604024e-01\n",
       "Condition 1_RRNn        3.617227e-01\n",
       "Sale Type_ConLw         3.653238e-01\n",
       "Condition 1_RRAe        3.668855e-01\n",
       "Exterior 1st_ImStucc    3.717646e-01\n",
       "Condition 2_RRAn        3.727526e-01\n",
       "Sale Type_ConLI         3.737281e-01\n",
       "Condition 2_Feedr       3.741236e-01\n",
       "Exterior 2nd_ImStucc    3.771147e-01\n",
       "Heating_OthW            3.773084e-01\n",
       "Sale Type_COD           3.778726e-01\n",
       "MS Zoning_C (all)       3.789004e-01\n",
       "Garage Qual_Fa          3.803427e-01\n",
       "Garage Qual_TA          3.812708e-01\n",
       "Neighborhood_Veenker    3.866147e-01\n",
       "Exterior 2nd_AsbShng    3.957079e-01\n",
       "House Style_2.5Fin      4.023127e-01\n",
       "Exterior 2nd_BrkFace    4.027631e-01\n",
       "Exterior 2nd_CmentBd    4.062886e-01\n",
       "Condition 2_Artery      4.077721e-01\n",
       "Condition 2_PosN        4.181985e-01\n",
       "Exterior 2nd_Stone      4.198670e-01\n",
       "TotRms AbvGrd           4.229130e-01\n",
       "Neighborhood_BrkSide    4.311522e-01\n",
       "Roof Style_Mansard      4.382557e-01\n",
       "Exterior 1st_Stone      4.460051e-01\n",
       "Garage Qual_Po          4.592532e-01\n",
       "Functional_Sev          4.708604e-01\n",
       "Exterior 1st_BrkComm    4.799169e-01\n",
       "Neighborhood_ClearCr    4.844175e-01\n",
       "Neighborhood_IDOTRR     4.870571e-01\n",
       "Neighborhood_Timber     4.880916e-01\n",
       "Neighborhood_SawyerW    4.890094e-01\n",
       "Neighborhood_CollgCr    5.058356e-01\n",
       "Neighborhood_Gilbert    5.092702e-01\n",
       "Neighborhood_Mitchel    5.190702e-01\n",
       "Neighborhood_Sawyer     5.209877e-01\n",
       "Neighborhood_OldTown    5.537366e-01\n",
       "Neighborhood_NAmes      5.560576e-01\n",
       "Neighborhood_SWISU      5.574599e-01\n",
       "Neighborhood_Landmrk    5.622008e-01\n",
       "Garage Cond_Ex          5.627264e-01\n",
       "Neighborhood_NWAmes     5.812908e-01\n",
       "Low Qual Fin SF         6.096461e-01\n",
       "3Ssn Porch              6.239177e-01\n",
       "Neighborhood_Edwards    6.444766e-01\n",
       "Garage Yr Blt           8.529094e-01\n",
       "Open Porch SF           9.447375e-01\n",
       "dtype: float64"
      ]
     },
     "execution_count": 104,
     "metadata": {},
     "output_type": "execute_result"
    }
   ],
   "source": [
    "model.pvalues.sort_values()"
   ]
  },
  {
   "cell_type": "code",
   "execution_count": 3,
   "metadata": {},
   "outputs": [
    {
     "data": {
      "text/plain": [
       "SalePrice          1.000000\n",
       "Overall Qual       0.800207\n",
       "Gr Liv Area        0.697038\n",
       "Garage Area        0.650270\n",
       "Garage Cars        0.648220\n",
       "Total Bsmt SF      0.628925\n",
       "1st Flr SF         0.618486\n",
       "Year Built         0.571849\n",
       "Year Remod/Add     0.550370\n",
       "Full Bath          0.537969\n",
       "Garage Yr Blt      0.533922\n",
       "Mas Vnr Area       0.512230\n",
       "TotRms AbvGrd      0.504014\n",
       "Fireplaces         0.471093\n",
       "BsmtFin SF 1       0.423519\n",
       "Lot Frontage       0.341842\n",
       "Open Porch SF      0.333476\n",
       "Wood Deck SF       0.326490\n",
       "Lot Area           0.296566\n",
       "Bsmt Full Bath     0.283662\n",
       "Half Bath          0.283001\n",
       "2nd Flr SF         0.248452\n",
       "Bsmt Unf SF        0.190210\n",
       "Bedroom AbvGr      0.137067\n",
       "Screen Porch       0.134581\n",
       "3Ssn Porch         0.048732\n",
       "Mo Sold            0.032735\n",
       "Pool Area          0.023106\n",
       "BsmtFin SF 2       0.016255\n",
       "Misc Val          -0.007375\n",
       "Yr Sold           -0.015203\n",
       "Low Qual Fin SF   -0.041594\n",
       "Bsmt Half Bath    -0.045328\n",
       "Id                -0.051398\n",
       "MS SubClass       -0.087335\n",
       "Overall Cond      -0.097019\n",
       "Kitchen AbvGr     -0.125444\n",
       "Enclosed Porch    -0.135656\n",
       "PID               -0.255052\n",
       "Name: SalePrice, dtype: float64"
      ]
     },
     "execution_count": 3,
     "metadata": {},
     "output_type": "execute_result"
    }
   ],
   "source": [
    "df.corr()['SalePrice'].sort_values(ascending=False)"
   ]
  },
  {
   "cell_type": "code",
   "execution_count": 4,
   "metadata": {},
   "outputs": [
    {
     "data": {
      "text/html": [
       "<div>\n",
       "<style scoped>\n",
       "    .dataframe tbody tr th:only-of-type {\n",
       "        vertical-align: middle;\n",
       "    }\n",
       "\n",
       "    .dataframe tbody tr th {\n",
       "        vertical-align: top;\n",
       "    }\n",
       "\n",
       "    .dataframe thead th {\n",
       "        text-align: right;\n",
       "    }\n",
       "</style>\n",
       "<table border=\"1\" class=\"dataframe\">\n",
       "  <thead>\n",
       "    <tr style=\"text-align: right;\">\n",
       "      <th></th>\n",
       "      <th>Id</th>\n",
       "      <th>PID</th>\n",
       "      <th>MS SubClass</th>\n",
       "      <th>Lot Frontage</th>\n",
       "      <th>Lot Area</th>\n",
       "      <th>Overall Qual</th>\n",
       "      <th>Overall Cond</th>\n",
       "      <th>Year Built</th>\n",
       "      <th>Year Remod/Add</th>\n",
       "      <th>Mas Vnr Area</th>\n",
       "      <th>...</th>\n",
       "      <th>Wood Deck SF</th>\n",
       "      <th>Open Porch SF</th>\n",
       "      <th>Enclosed Porch</th>\n",
       "      <th>3Ssn Porch</th>\n",
       "      <th>Screen Porch</th>\n",
       "      <th>Pool Area</th>\n",
       "      <th>Misc Val</th>\n",
       "      <th>Mo Sold</th>\n",
       "      <th>Yr Sold</th>\n",
       "      <th>SalePrice</th>\n",
       "    </tr>\n",
       "  </thead>\n",
       "  <tbody>\n",
       "    <tr>\n",
       "      <th>count</th>\n",
       "      <td>2051.000000</td>\n",
       "      <td>2.051000e+03</td>\n",
       "      <td>2051.000000</td>\n",
       "      <td>1721.000000</td>\n",
       "      <td>2051.000000</td>\n",
       "      <td>2051.000000</td>\n",
       "      <td>2051.000000</td>\n",
       "      <td>2051.000000</td>\n",
       "      <td>2051.000000</td>\n",
       "      <td>2029.000000</td>\n",
       "      <td>...</td>\n",
       "      <td>2051.000000</td>\n",
       "      <td>2051.000000</td>\n",
       "      <td>2051.000000</td>\n",
       "      <td>2051.000000</td>\n",
       "      <td>2051.000000</td>\n",
       "      <td>2051.000000</td>\n",
       "      <td>2051.000000</td>\n",
       "      <td>2051.000000</td>\n",
       "      <td>2051.000000</td>\n",
       "      <td>2051.000000</td>\n",
       "    </tr>\n",
       "    <tr>\n",
       "      <th>mean</th>\n",
       "      <td>1474.033642</td>\n",
       "      <td>7.135900e+08</td>\n",
       "      <td>57.008776</td>\n",
       "      <td>69.055200</td>\n",
       "      <td>10065.208191</td>\n",
       "      <td>6.112140</td>\n",
       "      <td>5.562165</td>\n",
       "      <td>1971.708922</td>\n",
       "      <td>1984.190151</td>\n",
       "      <td>99.695909</td>\n",
       "      <td>...</td>\n",
       "      <td>93.833740</td>\n",
       "      <td>47.556802</td>\n",
       "      <td>22.571916</td>\n",
       "      <td>2.591419</td>\n",
       "      <td>16.511458</td>\n",
       "      <td>2.397855</td>\n",
       "      <td>51.574354</td>\n",
       "      <td>6.219893</td>\n",
       "      <td>2007.775719</td>\n",
       "      <td>181469.701609</td>\n",
       "    </tr>\n",
       "    <tr>\n",
       "      <th>std</th>\n",
       "      <td>843.980841</td>\n",
       "      <td>1.886918e+08</td>\n",
       "      <td>42.824223</td>\n",
       "      <td>23.260653</td>\n",
       "      <td>6742.488909</td>\n",
       "      <td>1.426271</td>\n",
       "      <td>1.104497</td>\n",
       "      <td>30.177889</td>\n",
       "      <td>21.036250</td>\n",
       "      <td>174.963129</td>\n",
       "      <td>...</td>\n",
       "      <td>128.549416</td>\n",
       "      <td>66.747241</td>\n",
       "      <td>59.845110</td>\n",
       "      <td>25.229615</td>\n",
       "      <td>57.374204</td>\n",
       "      <td>37.782570</td>\n",
       "      <td>573.393985</td>\n",
       "      <td>2.744736</td>\n",
       "      <td>1.312014</td>\n",
       "      <td>79258.659352</td>\n",
       "    </tr>\n",
       "    <tr>\n",
       "      <th>min</th>\n",
       "      <td>1.000000</td>\n",
       "      <td>5.263011e+08</td>\n",
       "      <td>20.000000</td>\n",
       "      <td>21.000000</td>\n",
       "      <td>1300.000000</td>\n",
       "      <td>1.000000</td>\n",
       "      <td>1.000000</td>\n",
       "      <td>1872.000000</td>\n",
       "      <td>1950.000000</td>\n",
       "      <td>0.000000</td>\n",
       "      <td>...</td>\n",
       "      <td>0.000000</td>\n",
       "      <td>0.000000</td>\n",
       "      <td>0.000000</td>\n",
       "      <td>0.000000</td>\n",
       "      <td>0.000000</td>\n",
       "      <td>0.000000</td>\n",
       "      <td>0.000000</td>\n",
       "      <td>1.000000</td>\n",
       "      <td>2006.000000</td>\n",
       "      <td>12789.000000</td>\n",
       "    </tr>\n",
       "    <tr>\n",
       "      <th>25%</th>\n",
       "      <td>753.500000</td>\n",
       "      <td>5.284581e+08</td>\n",
       "      <td>20.000000</td>\n",
       "      <td>58.000000</td>\n",
       "      <td>7500.000000</td>\n",
       "      <td>5.000000</td>\n",
       "      <td>5.000000</td>\n",
       "      <td>1953.500000</td>\n",
       "      <td>1964.500000</td>\n",
       "      <td>0.000000</td>\n",
       "      <td>...</td>\n",
       "      <td>0.000000</td>\n",
       "      <td>0.000000</td>\n",
       "      <td>0.000000</td>\n",
       "      <td>0.000000</td>\n",
       "      <td>0.000000</td>\n",
       "      <td>0.000000</td>\n",
       "      <td>0.000000</td>\n",
       "      <td>4.000000</td>\n",
       "      <td>2007.000000</td>\n",
       "      <td>129825.000000</td>\n",
       "    </tr>\n",
       "    <tr>\n",
       "      <th>50%</th>\n",
       "      <td>1486.000000</td>\n",
       "      <td>5.354532e+08</td>\n",
       "      <td>50.000000</td>\n",
       "      <td>68.000000</td>\n",
       "      <td>9430.000000</td>\n",
       "      <td>6.000000</td>\n",
       "      <td>5.000000</td>\n",
       "      <td>1974.000000</td>\n",
       "      <td>1993.000000</td>\n",
       "      <td>0.000000</td>\n",
       "      <td>...</td>\n",
       "      <td>0.000000</td>\n",
       "      <td>27.000000</td>\n",
       "      <td>0.000000</td>\n",
       "      <td>0.000000</td>\n",
       "      <td>0.000000</td>\n",
       "      <td>0.000000</td>\n",
       "      <td>0.000000</td>\n",
       "      <td>6.000000</td>\n",
       "      <td>2008.000000</td>\n",
       "      <td>162500.000000</td>\n",
       "    </tr>\n",
       "    <tr>\n",
       "      <th>75%</th>\n",
       "      <td>2198.000000</td>\n",
       "      <td>9.071801e+08</td>\n",
       "      <td>70.000000</td>\n",
       "      <td>80.000000</td>\n",
       "      <td>11513.500000</td>\n",
       "      <td>7.000000</td>\n",
       "      <td>6.000000</td>\n",
       "      <td>2001.000000</td>\n",
       "      <td>2004.000000</td>\n",
       "      <td>161.000000</td>\n",
       "      <td>...</td>\n",
       "      <td>168.000000</td>\n",
       "      <td>70.000000</td>\n",
       "      <td>0.000000</td>\n",
       "      <td>0.000000</td>\n",
       "      <td>0.000000</td>\n",
       "      <td>0.000000</td>\n",
       "      <td>0.000000</td>\n",
       "      <td>8.000000</td>\n",
       "      <td>2009.000000</td>\n",
       "      <td>214000.000000</td>\n",
       "    </tr>\n",
       "    <tr>\n",
       "      <th>max</th>\n",
       "      <td>2930.000000</td>\n",
       "      <td>9.241520e+08</td>\n",
       "      <td>190.000000</td>\n",
       "      <td>313.000000</td>\n",
       "      <td>159000.000000</td>\n",
       "      <td>10.000000</td>\n",
       "      <td>9.000000</td>\n",
       "      <td>2010.000000</td>\n",
       "      <td>2010.000000</td>\n",
       "      <td>1600.000000</td>\n",
       "      <td>...</td>\n",
       "      <td>1424.000000</td>\n",
       "      <td>547.000000</td>\n",
       "      <td>432.000000</td>\n",
       "      <td>508.000000</td>\n",
       "      <td>490.000000</td>\n",
       "      <td>800.000000</td>\n",
       "      <td>17000.000000</td>\n",
       "      <td>12.000000</td>\n",
       "      <td>2010.000000</td>\n",
       "      <td>611657.000000</td>\n",
       "    </tr>\n",
       "  </tbody>\n",
       "</table>\n",
       "<p>8 rows × 39 columns</p>\n",
       "</div>"
      ],
      "text/plain": [
       "                Id           PID  MS SubClass  Lot Frontage       Lot Area  \\\n",
       "count  2051.000000  2.051000e+03  2051.000000   1721.000000    2051.000000   \n",
       "mean   1474.033642  7.135900e+08    57.008776     69.055200   10065.208191   \n",
       "std     843.980841  1.886918e+08    42.824223     23.260653    6742.488909   \n",
       "min       1.000000  5.263011e+08    20.000000     21.000000    1300.000000   \n",
       "25%     753.500000  5.284581e+08    20.000000     58.000000    7500.000000   \n",
       "50%    1486.000000  5.354532e+08    50.000000     68.000000    9430.000000   \n",
       "75%    2198.000000  9.071801e+08    70.000000     80.000000   11513.500000   \n",
       "max    2930.000000  9.241520e+08   190.000000    313.000000  159000.000000   \n",
       "\n",
       "       Overall Qual  Overall Cond   Year Built  Year Remod/Add  Mas Vnr Area  \\\n",
       "count   2051.000000   2051.000000  2051.000000     2051.000000   2029.000000   \n",
       "mean       6.112140      5.562165  1971.708922     1984.190151     99.695909   \n",
       "std        1.426271      1.104497    30.177889       21.036250    174.963129   \n",
       "min        1.000000      1.000000  1872.000000     1950.000000      0.000000   \n",
       "25%        5.000000      5.000000  1953.500000     1964.500000      0.000000   \n",
       "50%        6.000000      5.000000  1974.000000     1993.000000      0.000000   \n",
       "75%        7.000000      6.000000  2001.000000     2004.000000    161.000000   \n",
       "max       10.000000      9.000000  2010.000000     2010.000000   1600.000000   \n",
       "\n",
       "       ...  Wood Deck SF  Open Porch SF  Enclosed Porch   3Ssn Porch  \\\n",
       "count  ...   2051.000000    2051.000000     2051.000000  2051.000000   \n",
       "mean   ...     93.833740      47.556802       22.571916     2.591419   \n",
       "std    ...    128.549416      66.747241       59.845110    25.229615   \n",
       "min    ...      0.000000       0.000000        0.000000     0.000000   \n",
       "25%    ...      0.000000       0.000000        0.000000     0.000000   \n",
       "50%    ...      0.000000      27.000000        0.000000     0.000000   \n",
       "75%    ...    168.000000      70.000000        0.000000     0.000000   \n",
       "max    ...   1424.000000     547.000000      432.000000   508.000000   \n",
       "\n",
       "       Screen Porch    Pool Area      Misc Val      Mo Sold      Yr Sold  \\\n",
       "count   2051.000000  2051.000000   2051.000000  2051.000000  2051.000000   \n",
       "mean      16.511458     2.397855     51.574354     6.219893  2007.775719   \n",
       "std       57.374204    37.782570    573.393985     2.744736     1.312014   \n",
       "min        0.000000     0.000000      0.000000     1.000000  2006.000000   \n",
       "25%        0.000000     0.000000      0.000000     4.000000  2007.000000   \n",
       "50%        0.000000     0.000000      0.000000     6.000000  2008.000000   \n",
       "75%        0.000000     0.000000      0.000000     8.000000  2009.000000   \n",
       "max      490.000000   800.000000  17000.000000    12.000000  2010.000000   \n",
       "\n",
       "           SalePrice  \n",
       "count    2051.000000  \n",
       "mean   181469.701609  \n",
       "std     79258.659352  \n",
       "min     12789.000000  \n",
       "25%    129825.000000  \n",
       "50%    162500.000000  \n",
       "75%    214000.000000  \n",
       "max    611657.000000  \n",
       "\n",
       "[8 rows x 39 columns]"
      ]
     },
     "execution_count": 4,
     "metadata": {},
     "output_type": "execute_result"
    }
   ],
   "source": [
    "df.describe()"
   ]
  },
  {
   "cell_type": "code",
   "execution_count": 5,
   "metadata": {},
   "outputs": [
    {
     "name": "stdout",
     "output_type": "stream",
     "text": [
      "<class 'pandas.core.frame.DataFrame'>\n",
      "RangeIndex: 2051 entries, 0 to 2050\n",
      "Data columns (total 81 columns):\n",
      " #   Column           Non-Null Count  Dtype  \n",
      "---  ------           --------------  -----  \n",
      " 0   Id               2051 non-null   int64  \n",
      " 1   PID              2051 non-null   int64  \n",
      " 2   MS SubClass      2051 non-null   int64  \n",
      " 3   MS Zoning        2051 non-null   object \n",
      " 4   Lot Frontage     1721 non-null   float64\n",
      " 5   Lot Area         2051 non-null   int64  \n",
      " 6   Street           2051 non-null   object \n",
      " 7   Alley            140 non-null    object \n",
      " 8   Lot Shape        2051 non-null   object \n",
      " 9   Land Contour     2051 non-null   object \n",
      " 10  Utilities        2051 non-null   object \n",
      " 11  Lot Config       2051 non-null   object \n",
      " 12  Land Slope       2051 non-null   object \n",
      " 13  Neighborhood     2051 non-null   object \n",
      " 14  Condition 1      2051 non-null   object \n",
      " 15  Condition 2      2051 non-null   object \n",
      " 16  Bldg Type        2051 non-null   object \n",
      " 17  House Style      2051 non-null   object \n",
      " 18  Overall Qual     2051 non-null   int64  \n",
      " 19  Overall Cond     2051 non-null   int64  \n",
      " 20  Year Built       2051 non-null   int64  \n",
      " 21  Year Remod/Add   2051 non-null   int64  \n",
      " 22  Roof Style       2051 non-null   object \n",
      " 23  Roof Matl        2051 non-null   object \n",
      " 24  Exterior 1st     2051 non-null   object \n",
      " 25  Exterior 2nd     2051 non-null   object \n",
      " 26  Mas Vnr Type     2029 non-null   object \n",
      " 27  Mas Vnr Area     2029 non-null   float64\n",
      " 28  Exter Qual       2051 non-null   object \n",
      " 29  Exter Cond       2051 non-null   object \n",
      " 30  Foundation       2051 non-null   object \n",
      " 31  Bsmt Qual        1996 non-null   object \n",
      " 32  Bsmt Cond        1996 non-null   object \n",
      " 33  Bsmt Exposure    1993 non-null   object \n",
      " 34  BsmtFin Type 1   1996 non-null   object \n",
      " 35  BsmtFin SF 1     2050 non-null   float64\n",
      " 36  BsmtFin Type 2   1995 non-null   object \n",
      " 37  BsmtFin SF 2     2050 non-null   float64\n",
      " 38  Bsmt Unf SF      2050 non-null   float64\n",
      " 39  Total Bsmt SF    2050 non-null   float64\n",
      " 40  Heating          2051 non-null   object \n",
      " 41  Heating QC       2051 non-null   object \n",
      " 42  Central Air      2051 non-null   object \n",
      " 43  Electrical       2051 non-null   object \n",
      " 44  1st Flr SF       2051 non-null   int64  \n",
      " 45  2nd Flr SF       2051 non-null   int64  \n",
      " 46  Low Qual Fin SF  2051 non-null   int64  \n",
      " 47  Gr Liv Area      2051 non-null   int64  \n",
      " 48  Bsmt Full Bath   2049 non-null   float64\n",
      " 49  Bsmt Half Bath   2049 non-null   float64\n",
      " 50  Full Bath        2051 non-null   int64  \n",
      " 51  Half Bath        2051 non-null   int64  \n",
      " 52  Bedroom AbvGr    2051 non-null   int64  \n",
      " 53  Kitchen AbvGr    2051 non-null   int64  \n",
      " 54  Kitchen Qual     2051 non-null   object \n",
      " 55  TotRms AbvGrd    2051 non-null   int64  \n",
      " 56  Functional       2051 non-null   object \n",
      " 57  Fireplaces       2051 non-null   int64  \n",
      " 58  Fireplace Qu     1051 non-null   object \n",
      " 59  Garage Type      1938 non-null   object \n",
      " 60  Garage Yr Blt    1937 non-null   float64\n",
      " 61  Garage Finish    1937 non-null   object \n",
      " 62  Garage Cars      2050 non-null   float64\n",
      " 63  Garage Area      2050 non-null   float64\n",
      " 64  Garage Qual      1937 non-null   object \n",
      " 65  Garage Cond      1937 non-null   object \n",
      " 66  Paved Drive      2051 non-null   object \n",
      " 67  Wood Deck SF     2051 non-null   int64  \n",
      " 68  Open Porch SF    2051 non-null   int64  \n",
      " 69  Enclosed Porch   2051 non-null   int64  \n",
      " 70  3Ssn Porch       2051 non-null   int64  \n",
      " 71  Screen Porch     2051 non-null   int64  \n",
      " 72  Pool Area        2051 non-null   int64  \n",
      " 73  Pool QC          9 non-null      object \n",
      " 74  Fence            400 non-null    object \n",
      " 75  Misc Feature     65 non-null     object \n",
      " 76  Misc Val         2051 non-null   int64  \n",
      " 77  Mo Sold          2051 non-null   int64  \n",
      " 78  Yr Sold          2051 non-null   int64  \n",
      " 79  Sale Type        2051 non-null   object \n",
      " 80  SalePrice        2051 non-null   int64  \n",
      "dtypes: float64(11), int64(28), object(42)\n",
      "memory usage: 1.3+ MB\n"
     ]
    }
   ],
   "source": [
    "pd.options.display.max_rows = None\n",
    "\n",
    "df.info()"
   ]
  },
  {
   "cell_type": "code",
   "execution_count": 6,
   "metadata": {},
   "outputs": [
    {
     "data": {
      "text/plain": [
       "Reg    1295\n",
       "IR1     692\n",
       "IR2      55\n",
       "IR3       9\n",
       "Name: Lot Shape, dtype: int64"
      ]
     },
     "execution_count": 6,
     "metadata": {},
     "output_type": "execute_result"
    }
   ],
   "source": [
    "df['Lot Shape'].value_counts()"
   ]
  },
  {
   "cell_type": "code",
   "execution_count": 7,
   "metadata": {},
   "outputs": [],
   "source": [
    "df['Bsmt Qual'] = df['Bsmt Qual'].map({np.nan: 0, 'Po': 1, 'Fa': 2, 'TA': 3, 'Gd': 4, 'Ex': 5})\n",
    "df['Lot Shape'] = df['Lot Shape'].map({'IR3': 0, 'IR2': 1, 'IR1': 2, 'Reg': 3})"
   ]
  },
  {
   "cell_type": "code",
   "execution_count": 8,
   "metadata": {},
   "outputs": [
    {
     "data": {
      "text/plain": [
       "3    1295\n",
       "2     692\n",
       "1      55\n",
       "0       9\n",
       "Name: Lot Shape, dtype: int64"
      ]
     },
     "execution_count": 8,
     "metadata": {},
     "output_type": "execute_result"
    }
   ],
   "source": [
    "df['Lot Shape'].value_counts()"
   ]
  },
  {
   "cell_type": "code",
   "execution_count": 9,
   "metadata": {},
   "outputs": [],
   "source": [
    "df = df[df['Total Bsmt SF'].notna()]\n",
    "df = df[df['Garage Area'].notna()]"
   ]
  },
  {
   "cell_type": "code",
   "execution_count": 29,
   "metadata": {},
   "outputs": [],
   "source": [
    "X = df[['Overall Qual', 'Total Bsmt SF', 'Gr Liv Area', 'Garage Area', 'Year Built', 'Roof Matl', 'Land Contour', 'Neighborhood', 'Bsmt Qual']]"
   ]
  },
  {
   "cell_type": "code",
   "execution_count": 30,
   "metadata": {},
   "outputs": [],
   "source": [
    "y = df['SalePrice']"
   ]
  },
  {
   "cell_type": "code",
   "execution_count": 31,
   "metadata": {},
   "outputs": [],
   "source": [
    "X_train, X_test, y_train, y_test = train_test_split(X, y)"
   ]
  },
  {
   "cell_type": "code",
   "execution_count": 32,
   "metadata": {},
   "outputs": [
    {
     "data": {
      "text/html": [
       "<style>div.sk-top-container {color: black;background-color: white;}div.sk-toggleable {background-color: white;}label.sk-toggleable__label {cursor: pointer;display: block;width: 100%;margin-bottom: 0;padding: 0.2em 0.3em;box-sizing: border-box;text-align: center;}div.sk-toggleable__content {max-height: 0;max-width: 0;overflow: hidden;text-align: left;background-color: #f0f8ff;}div.sk-toggleable__content pre {margin: 0.2em;color: black;border-radius: 0.25em;background-color: #f0f8ff;}input.sk-toggleable__control:checked~div.sk-toggleable__content {max-height: 200px;max-width: 100%;overflow: auto;}div.sk-estimator input.sk-toggleable__control:checked~label.sk-toggleable__label {background-color: #d4ebff;}div.sk-label input.sk-toggleable__control:checked~label.sk-toggleable__label {background-color: #d4ebff;}input.sk-hidden--visually {border: 0;clip: rect(1px 1px 1px 1px);clip: rect(1px, 1px, 1px, 1px);height: 1px;margin: -1px;overflow: hidden;padding: 0;position: absolute;width: 1px;}div.sk-estimator {font-family: monospace;background-color: #f0f8ff;margin: 0.25em 0.25em;border: 1px dotted black;border-radius: 0.25em;box-sizing: border-box;}div.sk-estimator:hover {background-color: #d4ebff;}div.sk-parallel-item::after {content: \"\";width: 100%;border-bottom: 1px solid gray;flex-grow: 1;}div.sk-label:hover label.sk-toggleable__label {background-color: #d4ebff;}div.sk-serial::before {content: \"\";position: absolute;border-left: 1px solid gray;box-sizing: border-box;top: 2em;bottom: 0;left: 50%;}div.sk-serial {display: flex;flex-direction: column;align-items: center;background-color: white;}div.sk-item {z-index: 1;}div.sk-parallel {display: flex;align-items: stretch;justify-content: center;background-color: white;}div.sk-parallel-item {display: flex;flex-direction: column;position: relative;background-color: white;}div.sk-parallel-item:first-child::after {align-self: flex-end;width: 50%;}div.sk-parallel-item:last-child::after {align-self: flex-start;width: 50%;}div.sk-parallel-item:only-child::after {width: 0;}div.sk-dashed-wrapped {border: 1px dashed gray;margin: 0.2em;box-sizing: border-box;padding-bottom: 0.1em;background-color: white;position: relative;}div.sk-label label {font-family: monospace;font-weight: bold;background-color: white;display: inline-block;line-height: 1.2em;}div.sk-label-container {position: relative;z-index: 2;text-align: center;}div.sk-container {display: inline-block;position: relative;}</style><div class=\"sk-top-container\"><div class=\"sk-container\"><div class=\"sk-item sk-dashed-wrapped\"><div class=\"sk-label-container\"><div class=\"sk-label sk-toggleable\"><input class=\"sk-toggleable__control sk-hidden--visually\" id=\"e9dc66a2-3b59-4e18-a4db-c3a8664d7a46\" type=\"checkbox\" ><label class=\"sk-toggleable__label\" for=\"e9dc66a2-3b59-4e18-a4db-c3a8664d7a46\">Pipeline</label><div class=\"sk-toggleable__content\"><pre>Pipeline(steps=[('onehotencoder', OneHotEncoder(use_cat_names=True)),\n",
       "                ('polynomialfeatures', PolynomialFeatures()),\n",
       "                ('standardscaler', StandardScaler()), ('ridge', Ridge())])</pre></div></div></div><div class=\"sk-serial\"><div class=\"sk-item\"><div class=\"sk-estimator sk-toggleable\"><input class=\"sk-toggleable__control sk-hidden--visually\" id=\"d5e2aaa4-c13e-4811-933d-4c292d5eae4e\" type=\"checkbox\" ><label class=\"sk-toggleable__label\" for=\"d5e2aaa4-c13e-4811-933d-4c292d5eae4e\">OneHotEncoder</label><div class=\"sk-toggleable__content\"><pre>OneHotEncoder(use_cat_names=True)</pre></div></div></div><div class=\"sk-item\"><div class=\"sk-estimator sk-toggleable\"><input class=\"sk-toggleable__control sk-hidden--visually\" id=\"297a1c0c-1f71-488e-9dde-f09e93240b5e\" type=\"checkbox\" ><label class=\"sk-toggleable__label\" for=\"297a1c0c-1f71-488e-9dde-f09e93240b5e\">PolynomialFeatures</label><div class=\"sk-toggleable__content\"><pre>PolynomialFeatures()</pre></div></div></div><div class=\"sk-item\"><div class=\"sk-estimator sk-toggleable\"><input class=\"sk-toggleable__control sk-hidden--visually\" id=\"a0ac567b-104b-4c56-8ad9-1578ef3dc91e\" type=\"checkbox\" ><label class=\"sk-toggleable__label\" for=\"a0ac567b-104b-4c56-8ad9-1578ef3dc91e\">StandardScaler</label><div class=\"sk-toggleable__content\"><pre>StandardScaler()</pre></div></div></div><div class=\"sk-item\"><div class=\"sk-estimator sk-toggleable\"><input class=\"sk-toggleable__control sk-hidden--visually\" id=\"48b674bc-3ad1-459a-8e17-0baff4c1e24b\" type=\"checkbox\" ><label class=\"sk-toggleable__label\" for=\"48b674bc-3ad1-459a-8e17-0baff4c1e24b\">Ridge</label><div class=\"sk-toggleable__content\"><pre>Ridge()</pre></div></div></div></div></div></div></div>"
      ],
      "text/plain": [
       "Pipeline(steps=[('onehotencoder', OneHotEncoder(use_cat_names=True)),\n",
       "                ('polynomialfeatures', PolynomialFeatures()),\n",
       "                ('standardscaler', StandardScaler()), ('ridge', Ridge())])"
      ]
     },
     "execution_count": 32,
     "metadata": {},
     "output_type": "execute_result"
    }
   ],
   "source": [
    "pipe = make_pipeline(OneHotEncoder(use_cat_names = True), PolynomialFeatures(), StandardScaler(), Ridge())\n",
    "pipe"
   ]
  },
  {
   "cell_type": "code",
   "execution_count": 33,
   "metadata": {},
   "outputs": [],
   "source": [
    "params = {\n",
    "    'polynomialfeatures__interaction_only': [True, False],\n",
    "    'ridge__alpha': [.1, 1, 10, 100]   \n",
    "}"
   ]
  },
  {
   "cell_type": "code",
   "execution_count": 34,
   "metadata": {},
   "outputs": [],
   "source": [
    "gs = GridSearchCV(pipe, params, n_jobs = -1) "
   ]
  },
  {
   "cell_type": "code",
   "execution_count": 35,
   "metadata": {},
   "outputs": [
    {
     "name": "stderr",
     "output_type": "stream",
     "text": [
      "C:\\Users\\Lindsey\\anaconda3\\lib\\site-packages\\category_encoders\\utils.py:21: FutureWarning: is_categorical is deprecated and will be removed in a future version.  Use is_categorical_dtype instead\n",
      "  elif pd.api.types.is_categorical(cols):\n"
     ]
    },
    {
     "data": {
      "text/html": [
       "<style>div.sk-top-container {color: black;background-color: white;}div.sk-toggleable {background-color: white;}label.sk-toggleable__label {cursor: pointer;display: block;width: 100%;margin-bottom: 0;padding: 0.2em 0.3em;box-sizing: border-box;text-align: center;}div.sk-toggleable__content {max-height: 0;max-width: 0;overflow: hidden;text-align: left;background-color: #f0f8ff;}div.sk-toggleable__content pre {margin: 0.2em;color: black;border-radius: 0.25em;background-color: #f0f8ff;}input.sk-toggleable__control:checked~div.sk-toggleable__content {max-height: 200px;max-width: 100%;overflow: auto;}div.sk-estimator input.sk-toggleable__control:checked~label.sk-toggleable__label {background-color: #d4ebff;}div.sk-label input.sk-toggleable__control:checked~label.sk-toggleable__label {background-color: #d4ebff;}input.sk-hidden--visually {border: 0;clip: rect(1px 1px 1px 1px);clip: rect(1px, 1px, 1px, 1px);height: 1px;margin: -1px;overflow: hidden;padding: 0;position: absolute;width: 1px;}div.sk-estimator {font-family: monospace;background-color: #f0f8ff;margin: 0.25em 0.25em;border: 1px dotted black;border-radius: 0.25em;box-sizing: border-box;}div.sk-estimator:hover {background-color: #d4ebff;}div.sk-parallel-item::after {content: \"\";width: 100%;border-bottom: 1px solid gray;flex-grow: 1;}div.sk-label:hover label.sk-toggleable__label {background-color: #d4ebff;}div.sk-serial::before {content: \"\";position: absolute;border-left: 1px solid gray;box-sizing: border-box;top: 2em;bottom: 0;left: 50%;}div.sk-serial {display: flex;flex-direction: column;align-items: center;background-color: white;}div.sk-item {z-index: 1;}div.sk-parallel {display: flex;align-items: stretch;justify-content: center;background-color: white;}div.sk-parallel-item {display: flex;flex-direction: column;position: relative;background-color: white;}div.sk-parallel-item:first-child::after {align-self: flex-end;width: 50%;}div.sk-parallel-item:last-child::after {align-self: flex-start;width: 50%;}div.sk-parallel-item:only-child::after {width: 0;}div.sk-dashed-wrapped {border: 1px dashed gray;margin: 0.2em;box-sizing: border-box;padding-bottom: 0.1em;background-color: white;position: relative;}div.sk-label label {font-family: monospace;font-weight: bold;background-color: white;display: inline-block;line-height: 1.2em;}div.sk-label-container {position: relative;z-index: 2;text-align: center;}div.sk-container {display: inline-block;position: relative;}</style><div class=\"sk-top-container\"><div class=\"sk-container\"><div class=\"sk-item sk-dashed-wrapped\"><div class=\"sk-label-container\"><div class=\"sk-label sk-toggleable\"><input class=\"sk-toggleable__control sk-hidden--visually\" id=\"58e2d994-73f2-4cf2-8943-7e2178a3c3ac\" type=\"checkbox\" ><label class=\"sk-toggleable__label\" for=\"58e2d994-73f2-4cf2-8943-7e2178a3c3ac\">GridSearchCV</label><div class=\"sk-toggleable__content\"><pre>GridSearchCV(estimator=Pipeline(steps=[('onehotencoder',\n",
       "                                        OneHotEncoder(use_cat_names=True)),\n",
       "                                       ('polynomialfeatures',\n",
       "                                        PolynomialFeatures()),\n",
       "                                       ('standardscaler', StandardScaler()),\n",
       "                                       ('ridge', Ridge())]),\n",
       "             n_jobs=-1,\n",
       "             param_grid={'polynomialfeatures__interaction_only': [True, False],\n",
       "                         'ridge__alpha': [0.1, 1, 10, 100]})</pre></div></div></div><div class=\"sk-parallel\"><div class=\"sk-parallel-item\"><div class=\"sk-item\"><div class=\"sk-serial\"><div class=\"sk-item\"><div class=\"sk-serial\"><div class=\"sk-item\"><div class=\"sk-estimator sk-toggleable\"><input class=\"sk-toggleable__control sk-hidden--visually\" id=\"0ac86fc6-c7a7-40fd-96b0-04c2ebd590c0\" type=\"checkbox\" ><label class=\"sk-toggleable__label\" for=\"0ac86fc6-c7a7-40fd-96b0-04c2ebd590c0\">OneHotEncoder</label><div class=\"sk-toggleable__content\"><pre>OneHotEncoder(use_cat_names=True)</pre></div></div></div><div class=\"sk-item\"><div class=\"sk-estimator sk-toggleable\"><input class=\"sk-toggleable__control sk-hidden--visually\" id=\"f51f8ff8-a534-41bb-b948-35b7ecd166af\" type=\"checkbox\" ><label class=\"sk-toggleable__label\" for=\"f51f8ff8-a534-41bb-b948-35b7ecd166af\">PolynomialFeatures</label><div class=\"sk-toggleable__content\"><pre>PolynomialFeatures()</pre></div></div></div><div class=\"sk-item\"><div class=\"sk-estimator sk-toggleable\"><input class=\"sk-toggleable__control sk-hidden--visually\" id=\"6a3409b8-f3c9-435a-9bcd-3541f64b19ad\" type=\"checkbox\" ><label class=\"sk-toggleable__label\" for=\"6a3409b8-f3c9-435a-9bcd-3541f64b19ad\">StandardScaler</label><div class=\"sk-toggleable__content\"><pre>StandardScaler()</pre></div></div></div><div class=\"sk-item\"><div class=\"sk-estimator sk-toggleable\"><input class=\"sk-toggleable__control sk-hidden--visually\" id=\"d04c6e28-b59d-4e1f-b92c-4246e9f07e4f\" type=\"checkbox\" ><label class=\"sk-toggleable__label\" for=\"d04c6e28-b59d-4e1f-b92c-4246e9f07e4f\">Ridge</label><div class=\"sk-toggleable__content\"><pre>Ridge()</pre></div></div></div></div></div></div></div></div></div></div></div></div>"
      ],
      "text/plain": [
       "GridSearchCV(estimator=Pipeline(steps=[('onehotencoder',\n",
       "                                        OneHotEncoder(use_cat_names=True)),\n",
       "                                       ('polynomialfeatures',\n",
       "                                        PolynomialFeatures()),\n",
       "                                       ('standardscaler', StandardScaler()),\n",
       "                                       ('ridge', Ridge())]),\n",
       "             n_jobs=-1,\n",
       "             param_grid={'polynomialfeatures__interaction_only': [True, False],\n",
       "                         'ridge__alpha': [0.1, 1, 10, 100]})"
      ]
     },
     "execution_count": 35,
     "metadata": {},
     "output_type": "execute_result"
    }
   ],
   "source": [
    "    gs.fit(X_train, y_train)"
   ]
  },
  {
   "cell_type": "code",
   "execution_count": 17,
   "metadata": {},
   "outputs": [
    {
     "data": {
      "text/plain": [
       "{'polynomialfeatures__interaction_only': True, 'ridge__alpha': 100}"
      ]
     },
     "execution_count": 17,
     "metadata": {},
     "output_type": "execute_result"
    }
   ],
   "source": [
    "gs.best_params_"
   ]
  },
  {
   "cell_type": "code",
   "execution_count": 36,
   "metadata": {},
   "outputs": [
    {
     "data": {
      "text/html": [
       "<div>\n",
       "<style scoped>\n",
       "    .dataframe tbody tr th:only-of-type {\n",
       "        vertical-align: middle;\n",
       "    }\n",
       "\n",
       "    .dataframe tbody tr th {\n",
       "        vertical-align: top;\n",
       "    }\n",
       "\n",
       "    .dataframe thead th {\n",
       "        text-align: right;\n",
       "    }\n",
       "</style>\n",
       "<table border=\"1\" class=\"dataframe\">\n",
       "  <thead>\n",
       "    <tr style=\"text-align: right;\">\n",
       "      <th></th>\n",
       "      <th>mean_fit_time</th>\n",
       "      <th>std_fit_time</th>\n",
       "      <th>mean_score_time</th>\n",
       "      <th>std_score_time</th>\n",
       "      <th>param_polynomialfeatures__interaction_only</th>\n",
       "      <th>param_ridge__alpha</th>\n",
       "      <th>params</th>\n",
       "      <th>split0_test_score</th>\n",
       "      <th>split1_test_score</th>\n",
       "      <th>split2_test_score</th>\n",
       "      <th>split3_test_score</th>\n",
       "      <th>split4_test_score</th>\n",
       "      <th>mean_test_score</th>\n",
       "      <th>std_test_score</th>\n",
       "      <th>rank_test_score</th>\n",
       "    </tr>\n",
       "  </thead>\n",
       "  <tbody>\n",
       "    <tr>\n",
       "      <th>3</th>\n",
       "      <td>0.500914</td>\n",
       "      <td>0.015503</td>\n",
       "      <td>0.051568</td>\n",
       "      <td>0.004542</td>\n",
       "      <td>True</td>\n",
       "      <td>100</td>\n",
       "      <td>{'polynomialfeatures__interaction_only': True,...</td>\n",
       "      <td>0.902579</td>\n",
       "      <td>0.676584</td>\n",
       "      <td>0.862756</td>\n",
       "      <td>0.880281</td>\n",
       "      <td>0.903657</td>\n",
       "      <td>0.845171</td>\n",
       "      <td>0.085650</td>\n",
       "      <td>1</td>\n",
       "    </tr>\n",
       "    <tr>\n",
       "      <th>7</th>\n",
       "      <td>0.506310</td>\n",
       "      <td>0.022298</td>\n",
       "      <td>0.051771</td>\n",
       "      <td>0.005378</td>\n",
       "      <td>False</td>\n",
       "      <td>100</td>\n",
       "      <td>{'polynomialfeatures__interaction_only': False...</td>\n",
       "      <td>0.903210</td>\n",
       "      <td>0.640542</td>\n",
       "      <td>0.864872</td>\n",
       "      <td>0.881060</td>\n",
       "      <td>0.906052</td>\n",
       "      <td>0.839147</td>\n",
       "      <td>0.100442</td>\n",
       "      <td>2</td>\n",
       "    </tr>\n",
       "    <tr>\n",
       "      <th>2</th>\n",
       "      <td>0.538693</td>\n",
       "      <td>0.046264</td>\n",
       "      <td>0.058968</td>\n",
       "      <td>0.010501</td>\n",
       "      <td>True</td>\n",
       "      <td>10</td>\n",
       "      <td>{'polynomialfeatures__interaction_only': True,...</td>\n",
       "      <td>0.902074</td>\n",
       "      <td>0.511359</td>\n",
       "      <td>0.845274</td>\n",
       "      <td>0.883285</td>\n",
       "      <td>0.901324</td>\n",
       "      <td>0.808663</td>\n",
       "      <td>0.150073</td>\n",
       "      <td>3</td>\n",
       "    </tr>\n",
       "    <tr>\n",
       "      <th>6</th>\n",
       "      <td>0.506510</td>\n",
       "      <td>0.034553</td>\n",
       "      <td>0.052171</td>\n",
       "      <td>0.004115</td>\n",
       "      <td>False</td>\n",
       "      <td>10</td>\n",
       "      <td>{'polynomialfeatures__interaction_only': False...</td>\n",
       "      <td>0.902440</td>\n",
       "      <td>0.476510</td>\n",
       "      <td>0.849019</td>\n",
       "      <td>0.884725</td>\n",
       "      <td>0.904010</td>\n",
       "      <td>0.803341</td>\n",
       "      <td>0.164611</td>\n",
       "      <td>4</td>\n",
       "    </tr>\n",
       "    <tr>\n",
       "      <th>5</th>\n",
       "      <td>0.587464</td>\n",
       "      <td>0.060600</td>\n",
       "      <td>0.055769</td>\n",
       "      <td>0.003654</td>\n",
       "      <td>False</td>\n",
       "      <td>1</td>\n",
       "      <td>{'polynomialfeatures__interaction_only': False...</td>\n",
       "      <td>0.877988</td>\n",
       "      <td>0.365592</td>\n",
       "      <td>0.823743</td>\n",
       "      <td>0.877734</td>\n",
       "      <td>0.893636</td>\n",
       "      <td>0.767738</td>\n",
       "      <td>0.202466</td>\n",
       "      <td>5</td>\n",
       "    </tr>\n",
       "    <tr>\n",
       "      <th>1</th>\n",
       "      <td>0.526698</td>\n",
       "      <td>0.032473</td>\n",
       "      <td>0.054569</td>\n",
       "      <td>0.008254</td>\n",
       "      <td>True</td>\n",
       "      <td>1</td>\n",
       "      <td>{'polynomialfeatures__interaction_only': True,...</td>\n",
       "      <td>0.878415</td>\n",
       "      <td>0.377583</td>\n",
       "      <td>0.815987</td>\n",
       "      <td>0.873466</td>\n",
       "      <td>0.889518</td>\n",
       "      <td>0.766994</td>\n",
       "      <td>0.196369</td>\n",
       "      <td>6</td>\n",
       "    </tr>\n",
       "    <tr>\n",
       "      <th>4</th>\n",
       "      <td>0.580469</td>\n",
       "      <td>0.096859</td>\n",
       "      <td>0.083352</td>\n",
       "      <td>0.016454</td>\n",
       "      <td>False</td>\n",
       "      <td>0.1</td>\n",
       "      <td>{'polynomialfeatures__interaction_only': False...</td>\n",
       "      <td>0.845630</td>\n",
       "      <td>0.301101</td>\n",
       "      <td>0.798797</td>\n",
       "      <td>0.861367</td>\n",
       "      <td>0.888142</td>\n",
       "      <td>0.739007</td>\n",
       "      <td>0.220870</td>\n",
       "      <td>7</td>\n",
       "    </tr>\n",
       "    <tr>\n",
       "      <th>0</th>\n",
       "      <td>0.551285</td>\n",
       "      <td>0.053019</td>\n",
       "      <td>0.058568</td>\n",
       "      <td>0.008424</td>\n",
       "      <td>True</td>\n",
       "      <td>0.1</td>\n",
       "      <td>{'polynomialfeatures__interaction_only': True,...</td>\n",
       "      <td>0.841472</td>\n",
       "      <td>0.293261</td>\n",
       "      <td>0.787475</td>\n",
       "      <td>0.852405</td>\n",
       "      <td>0.882388</td>\n",
       "      <td>0.731400</td>\n",
       "      <td>0.221208</td>\n",
       "      <td>8</td>\n",
       "    </tr>\n",
       "  </tbody>\n",
       "</table>\n",
       "</div>"
      ],
      "text/plain": [
       "   mean_fit_time  std_fit_time  mean_score_time  std_score_time  \\\n",
       "3       0.500914      0.015503         0.051568        0.004542   \n",
       "7       0.506310      0.022298         0.051771        0.005378   \n",
       "2       0.538693      0.046264         0.058968        0.010501   \n",
       "6       0.506510      0.034553         0.052171        0.004115   \n",
       "5       0.587464      0.060600         0.055769        0.003654   \n",
       "1       0.526698      0.032473         0.054569        0.008254   \n",
       "4       0.580469      0.096859         0.083352        0.016454   \n",
       "0       0.551285      0.053019         0.058568        0.008424   \n",
       "\n",
       "  param_polynomialfeatures__interaction_only param_ridge__alpha  \\\n",
       "3                                       True                100   \n",
       "7                                      False                100   \n",
       "2                                       True                 10   \n",
       "6                                      False                 10   \n",
       "5                                      False                  1   \n",
       "1                                       True                  1   \n",
       "4                                      False                0.1   \n",
       "0                                       True                0.1   \n",
       "\n",
       "                                              params  split0_test_score  \\\n",
       "3  {'polynomialfeatures__interaction_only': True,...           0.902579   \n",
       "7  {'polynomialfeatures__interaction_only': False...           0.903210   \n",
       "2  {'polynomialfeatures__interaction_only': True,...           0.902074   \n",
       "6  {'polynomialfeatures__interaction_only': False...           0.902440   \n",
       "5  {'polynomialfeatures__interaction_only': False...           0.877988   \n",
       "1  {'polynomialfeatures__interaction_only': True,...           0.878415   \n",
       "4  {'polynomialfeatures__interaction_only': False...           0.845630   \n",
       "0  {'polynomialfeatures__interaction_only': True,...           0.841472   \n",
       "\n",
       "   split1_test_score  split2_test_score  split3_test_score  split4_test_score  \\\n",
       "3           0.676584           0.862756           0.880281           0.903657   \n",
       "7           0.640542           0.864872           0.881060           0.906052   \n",
       "2           0.511359           0.845274           0.883285           0.901324   \n",
       "6           0.476510           0.849019           0.884725           0.904010   \n",
       "5           0.365592           0.823743           0.877734           0.893636   \n",
       "1           0.377583           0.815987           0.873466           0.889518   \n",
       "4           0.301101           0.798797           0.861367           0.888142   \n",
       "0           0.293261           0.787475           0.852405           0.882388   \n",
       "\n",
       "   mean_test_score  std_test_score  rank_test_score  \n",
       "3         0.845171        0.085650                1  \n",
       "7         0.839147        0.100442                2  \n",
       "2         0.808663        0.150073                3  \n",
       "6         0.803341        0.164611                4  \n",
       "5         0.767738        0.202466                5  \n",
       "1         0.766994        0.196369                6  \n",
       "4         0.739007        0.220870                7  \n",
       "0         0.731400        0.221208                8  "
      ]
     },
     "execution_count": 36,
     "metadata": {},
     "output_type": "execute_result"
    }
   ],
   "source": [
    "pd.DataFrame(gs.cv_results_).sort_values(by = 'rank_test_score')"
   ]
  },
  {
   "cell_type": "code",
   "execution_count": 18,
   "metadata": {},
   "outputs": [],
   "source": [
    "pipe = make_pipeline(OneHotEncoder(use_cat_names = True), PolynomialFeatures(interaction_only = True), StandardScaler(), Ridge(alpha = 100))"
   ]
  },
  {
   "cell_type": "code",
   "execution_count": null,
   "metadata": {},
   "outputs": [],
   "source": []
  },
  {
   "cell_type": "code",
   "execution_count": 19,
   "metadata": {},
   "outputs": [
    {
     "name": "stderr",
     "output_type": "stream",
     "text": [
      "C:\\Users\\Lindsey\\anaconda3\\lib\\site-packages\\category_encoders\\utils.py:21: FutureWarning: is_categorical is deprecated and will be removed in a future version.  Use is_categorical_dtype instead\n",
      "  elif pd.api.types.is_categorical(cols):\n"
     ]
    },
    {
     "data": {
      "text/html": [
       "<style>div.sk-top-container {color: black;background-color: white;}div.sk-toggleable {background-color: white;}label.sk-toggleable__label {cursor: pointer;display: block;width: 100%;margin-bottom: 0;padding: 0.2em 0.3em;box-sizing: border-box;text-align: center;}div.sk-toggleable__content {max-height: 0;max-width: 0;overflow: hidden;text-align: left;background-color: #f0f8ff;}div.sk-toggleable__content pre {margin: 0.2em;color: black;border-radius: 0.25em;background-color: #f0f8ff;}input.sk-toggleable__control:checked~div.sk-toggleable__content {max-height: 200px;max-width: 100%;overflow: auto;}div.sk-estimator input.sk-toggleable__control:checked~label.sk-toggleable__label {background-color: #d4ebff;}div.sk-label input.sk-toggleable__control:checked~label.sk-toggleable__label {background-color: #d4ebff;}input.sk-hidden--visually {border: 0;clip: rect(1px 1px 1px 1px);clip: rect(1px, 1px, 1px, 1px);height: 1px;margin: -1px;overflow: hidden;padding: 0;position: absolute;width: 1px;}div.sk-estimator {font-family: monospace;background-color: #f0f8ff;margin: 0.25em 0.25em;border: 1px dotted black;border-radius: 0.25em;box-sizing: border-box;}div.sk-estimator:hover {background-color: #d4ebff;}div.sk-parallel-item::after {content: \"\";width: 100%;border-bottom: 1px solid gray;flex-grow: 1;}div.sk-label:hover label.sk-toggleable__label {background-color: #d4ebff;}div.sk-serial::before {content: \"\";position: absolute;border-left: 1px solid gray;box-sizing: border-box;top: 2em;bottom: 0;left: 50%;}div.sk-serial {display: flex;flex-direction: column;align-items: center;background-color: white;}div.sk-item {z-index: 1;}div.sk-parallel {display: flex;align-items: stretch;justify-content: center;background-color: white;}div.sk-parallel-item {display: flex;flex-direction: column;position: relative;background-color: white;}div.sk-parallel-item:first-child::after {align-self: flex-end;width: 50%;}div.sk-parallel-item:last-child::after {align-self: flex-start;width: 50%;}div.sk-parallel-item:only-child::after {width: 0;}div.sk-dashed-wrapped {border: 1px dashed gray;margin: 0.2em;box-sizing: border-box;padding-bottom: 0.1em;background-color: white;position: relative;}div.sk-label label {font-family: monospace;font-weight: bold;background-color: white;display: inline-block;line-height: 1.2em;}div.sk-label-container {position: relative;z-index: 2;text-align: center;}div.sk-container {display: inline-block;position: relative;}</style><div class=\"sk-top-container\"><div class=\"sk-container\"><div class=\"sk-item sk-dashed-wrapped\"><div class=\"sk-label-container\"><div class=\"sk-label sk-toggleable\"><input class=\"sk-toggleable__control sk-hidden--visually\" id=\"43d13915-94aa-4a71-9164-358489f822dd\" type=\"checkbox\" ><label class=\"sk-toggleable__label\" for=\"43d13915-94aa-4a71-9164-358489f822dd\">Pipeline</label><div class=\"sk-toggleable__content\"><pre>Pipeline(steps=[('onehotencoder',\n",
       "                 OneHotEncoder(cols=['Roof Matl', 'Land Contour',\n",
       "                                     'Neighborhood'],\n",
       "                               use_cat_names=True)),\n",
       "                ('polynomialfeatures',\n",
       "                 PolynomialFeatures(interaction_only=True)),\n",
       "                ('standardscaler', StandardScaler()),\n",
       "                ('ridge', Ridge(alpha=100))])</pre></div></div></div><div class=\"sk-serial\"><div class=\"sk-item\"><div class=\"sk-estimator sk-toggleable\"><input class=\"sk-toggleable__control sk-hidden--visually\" id=\"6391078f-367a-41bb-b328-7ff379d75c99\" type=\"checkbox\" ><label class=\"sk-toggleable__label\" for=\"6391078f-367a-41bb-b328-7ff379d75c99\">OneHotEncoder</label><div class=\"sk-toggleable__content\"><pre>OneHotEncoder(cols=['Roof Matl', 'Land Contour', 'Neighborhood'],\n",
       "              use_cat_names=True)</pre></div></div></div><div class=\"sk-item\"><div class=\"sk-estimator sk-toggleable\"><input class=\"sk-toggleable__control sk-hidden--visually\" id=\"ac712e15-414a-49bc-9103-3d753c23c70e\" type=\"checkbox\" ><label class=\"sk-toggleable__label\" for=\"ac712e15-414a-49bc-9103-3d753c23c70e\">PolynomialFeatures</label><div class=\"sk-toggleable__content\"><pre>PolynomialFeatures(interaction_only=True)</pre></div></div></div><div class=\"sk-item\"><div class=\"sk-estimator sk-toggleable\"><input class=\"sk-toggleable__control sk-hidden--visually\" id=\"ea6c5c56-1866-4d93-967b-b13b3882135b\" type=\"checkbox\" ><label class=\"sk-toggleable__label\" for=\"ea6c5c56-1866-4d93-967b-b13b3882135b\">StandardScaler</label><div class=\"sk-toggleable__content\"><pre>StandardScaler()</pre></div></div></div><div class=\"sk-item\"><div class=\"sk-estimator sk-toggleable\"><input class=\"sk-toggleable__control sk-hidden--visually\" id=\"88ebff58-ffb8-48fb-979b-ed4923cd03b9\" type=\"checkbox\" ><label class=\"sk-toggleable__label\" for=\"88ebff58-ffb8-48fb-979b-ed4923cd03b9\">Ridge</label><div class=\"sk-toggleable__content\"><pre>Ridge(alpha=100)</pre></div></div></div></div></div></div></div>"
      ],
      "text/plain": [
       "Pipeline(steps=[('onehotencoder',\n",
       "                 OneHotEncoder(cols=['Roof Matl', 'Land Contour',\n",
       "                                     'Neighborhood'],\n",
       "                               use_cat_names=True)),\n",
       "                ('polynomialfeatures',\n",
       "                 PolynomialFeatures(interaction_only=True)),\n",
       "                ('standardscaler', StandardScaler()),\n",
       "                ('ridge', Ridge(alpha=100))])"
      ]
     },
     "execution_count": 19,
     "metadata": {},
     "output_type": "execute_result"
    }
   ],
   "source": [
    "pipe.fit(X_train, y_train)"
   ]
  },
  {
   "cell_type": "code",
   "execution_count": 20,
   "metadata": {},
   "outputs": [
    {
     "data": {
      "text/plain": [
       "0.9191623845774859"
      ]
     },
     "execution_count": 20,
     "metadata": {},
     "output_type": "execute_result"
    }
   ],
   "source": [
    "pipe.score(X_train, y_train)"
   ]
  },
  {
   "cell_type": "code",
   "execution_count": 21,
   "metadata": {},
   "outputs": [
    {
     "data": {
      "text/plain": [
       "0.733751867917238"
      ]
     },
     "execution_count": 21,
     "metadata": {},
     "output_type": "execute_result"
    }
   ],
   "source": [
    "pipe.score(X_test, y_test)"
   ]
  },
  {
   "cell_type": "code",
   "execution_count": 22,
   "metadata": {},
   "outputs": [],
   "source": [
    "preds = pipe.predict(X_test)"
   ]
  },
  {
   "cell_type": "code",
   "execution_count": 23,
   "metadata": {},
   "outputs": [
    {
     "data": {
      "text/plain": [
       "38313.2214170409"
      ]
     },
     "execution_count": 23,
     "metadata": {},
     "output_type": "execute_result"
    }
   ],
   "source": [
    "mean_squared_error(preds, y_test, squared = False)"
   ]
  },
  {
   "cell_type": "code",
   "execution_count": 24,
   "metadata": {},
   "outputs": [
    {
     "name": "stderr",
     "output_type": "stream",
     "text": [
      "C:\\Users\\Lindsey\\anaconda3\\lib\\site-packages\\category_encoders\\utils.py:21: FutureWarning: is_categorical is deprecated and will be removed in a future version.  Use is_categorical_dtype instead\n",
      "  elif pd.api.types.is_categorical(cols):\n"
     ]
    },
    {
     "data": {
      "text/html": [
       "<style>div.sk-top-container {color: black;background-color: white;}div.sk-toggleable {background-color: white;}label.sk-toggleable__label {cursor: pointer;display: block;width: 100%;margin-bottom: 0;padding: 0.2em 0.3em;box-sizing: border-box;text-align: center;}div.sk-toggleable__content {max-height: 0;max-width: 0;overflow: hidden;text-align: left;background-color: #f0f8ff;}div.sk-toggleable__content pre {margin: 0.2em;color: black;border-radius: 0.25em;background-color: #f0f8ff;}input.sk-toggleable__control:checked~div.sk-toggleable__content {max-height: 200px;max-width: 100%;overflow: auto;}div.sk-estimator input.sk-toggleable__control:checked~label.sk-toggleable__label {background-color: #d4ebff;}div.sk-label input.sk-toggleable__control:checked~label.sk-toggleable__label {background-color: #d4ebff;}input.sk-hidden--visually {border: 0;clip: rect(1px 1px 1px 1px);clip: rect(1px, 1px, 1px, 1px);height: 1px;margin: -1px;overflow: hidden;padding: 0;position: absolute;width: 1px;}div.sk-estimator {font-family: monospace;background-color: #f0f8ff;margin: 0.25em 0.25em;border: 1px dotted black;border-radius: 0.25em;box-sizing: border-box;}div.sk-estimator:hover {background-color: #d4ebff;}div.sk-parallel-item::after {content: \"\";width: 100%;border-bottom: 1px solid gray;flex-grow: 1;}div.sk-label:hover label.sk-toggleable__label {background-color: #d4ebff;}div.sk-serial::before {content: \"\";position: absolute;border-left: 1px solid gray;box-sizing: border-box;top: 2em;bottom: 0;left: 50%;}div.sk-serial {display: flex;flex-direction: column;align-items: center;background-color: white;}div.sk-item {z-index: 1;}div.sk-parallel {display: flex;align-items: stretch;justify-content: center;background-color: white;}div.sk-parallel-item {display: flex;flex-direction: column;position: relative;background-color: white;}div.sk-parallel-item:first-child::after {align-self: flex-end;width: 50%;}div.sk-parallel-item:last-child::after {align-self: flex-start;width: 50%;}div.sk-parallel-item:only-child::after {width: 0;}div.sk-dashed-wrapped {border: 1px dashed gray;margin: 0.2em;box-sizing: border-box;padding-bottom: 0.1em;background-color: white;position: relative;}div.sk-label label {font-family: monospace;font-weight: bold;background-color: white;display: inline-block;line-height: 1.2em;}div.sk-label-container {position: relative;z-index: 2;text-align: center;}div.sk-container {display: inline-block;position: relative;}</style><div class=\"sk-top-container\"><div class=\"sk-container\"><div class=\"sk-item sk-dashed-wrapped\"><div class=\"sk-label-container\"><div class=\"sk-label sk-toggleable\"><input class=\"sk-toggleable__control sk-hidden--visually\" id=\"60ecf48f-1368-46b8-8b2e-c69a05dcee5d\" type=\"checkbox\" ><label class=\"sk-toggleable__label\" for=\"60ecf48f-1368-46b8-8b2e-c69a05dcee5d\">Pipeline</label><div class=\"sk-toggleable__content\"><pre>Pipeline(steps=[('onehotencoder',\n",
       "                 OneHotEncoder(cols=['Roof Matl', 'Land Contour',\n",
       "                                     'Neighborhood'],\n",
       "                               use_cat_names=True)),\n",
       "                ('polynomialfeatures',\n",
       "                 PolynomialFeatures(interaction_only=True)),\n",
       "                ('standardscaler', StandardScaler()),\n",
       "                ('ridge', Ridge(alpha=100))])</pre></div></div></div><div class=\"sk-serial\"><div class=\"sk-item\"><div class=\"sk-estimator sk-toggleable\"><input class=\"sk-toggleable__control sk-hidden--visually\" id=\"6ad218fe-8418-43a6-a828-8aea8173f54e\" type=\"checkbox\" ><label class=\"sk-toggleable__label\" for=\"6ad218fe-8418-43a6-a828-8aea8173f54e\">OneHotEncoder</label><div class=\"sk-toggleable__content\"><pre>OneHotEncoder(cols=['Roof Matl', 'Land Contour', 'Neighborhood'],\n",
       "              use_cat_names=True)</pre></div></div></div><div class=\"sk-item\"><div class=\"sk-estimator sk-toggleable\"><input class=\"sk-toggleable__control sk-hidden--visually\" id=\"3f332009-2345-4561-8081-63814ba852a8\" type=\"checkbox\" ><label class=\"sk-toggleable__label\" for=\"3f332009-2345-4561-8081-63814ba852a8\">PolynomialFeatures</label><div class=\"sk-toggleable__content\"><pre>PolynomialFeatures(interaction_only=True)</pre></div></div></div><div class=\"sk-item\"><div class=\"sk-estimator sk-toggleable\"><input class=\"sk-toggleable__control sk-hidden--visually\" id=\"93f1e0c1-e9d7-4909-8b31-8a4c4f8bc36f\" type=\"checkbox\" ><label class=\"sk-toggleable__label\" for=\"93f1e0c1-e9d7-4909-8b31-8a4c4f8bc36f\">StandardScaler</label><div class=\"sk-toggleable__content\"><pre>StandardScaler()</pre></div></div></div><div class=\"sk-item\"><div class=\"sk-estimator sk-toggleable\"><input class=\"sk-toggleable__control sk-hidden--visually\" id=\"60942ca7-0aa4-49bc-b1c7-91e91a65ac3a\" type=\"checkbox\" ><label class=\"sk-toggleable__label\" for=\"60942ca7-0aa4-49bc-b1c7-91e91a65ac3a\">Ridge</label><div class=\"sk-toggleable__content\"><pre>Ridge(alpha=100)</pre></div></div></div></div></div></div></div>"
      ],
      "text/plain": [
       "Pipeline(steps=[('onehotencoder',\n",
       "                 OneHotEncoder(cols=['Roof Matl', 'Land Contour',\n",
       "                                     'Neighborhood'],\n",
       "                               use_cat_names=True)),\n",
       "                ('polynomialfeatures',\n",
       "                 PolynomialFeatures(interaction_only=True)),\n",
       "                ('standardscaler', StandardScaler()),\n",
       "                ('ridge', Ridge(alpha=100))])"
      ]
     },
     "execution_count": 24,
     "metadata": {},
     "output_type": "execute_result"
    }
   ],
   "source": [
    "pipe.fit(X, y)"
   ]
  },
  {
   "cell_type": "code",
   "execution_count": 25,
   "metadata": {},
   "outputs": [
    {
     "data": {
      "text/plain": [
       "0.9127076098772009"
      ]
     },
     "execution_count": 25,
     "metadata": {},
     "output_type": "execute_result"
    }
   ],
   "source": [
    "pipe.score(X, y)"
   ]
  },
  {
   "cell_type": "code",
   "execution_count": null,
   "metadata": {},
   "outputs": [],
   "source": [
    "cross_val_score(X, y)"
   ]
  },
  {
   "cell_type": "code",
   "execution_count": 26,
   "metadata": {},
   "outputs": [],
   "source": [
    "preds = pipe.predict(X)"
   ]
  },
  {
   "cell_type": "code",
   "execution_count": 27,
   "metadata": {},
   "outputs": [
    {
     "data": {
      "text/plain": [
       "23412.502421278437"
      ]
     },
     "execution_count": 27,
     "metadata": {},
     "output_type": "execute_result"
    }
   ],
   "source": [
    "mean_squared_error(preds, y, squared = False)"
   ]
  },
  {
   "cell_type": "markdown",
   "metadata": {},
   "source": [
    "Model 3 = 24087 on X, y<br>\n",
    "26961 on X_train, y_train"
   ]
  },
  {
   "cell_type": "code",
   "execution_count": null,
   "metadata": {},
   "outputs": [],
   "source": [
    "df_test = pd.read_csv('../datasets/test.csv')\n",
    "df_test['Bsmt Qual'] = df_test['Bsmt Qual'].map({np.nan: 0, 'Po': 1, 'Fa': 2, 'TA': 3, 'Gd': 4, 'Ex': 5})\n",
    "df_test.head()"
   ]
  },
  {
   "cell_type": "code",
   "execution_count": null,
   "metadata": {},
   "outputs": [],
   "source": [
    "X_test = df_test[['Overall Qual', 'Total Bsmt SF', 'Gr Liv Area', 'Year Built', 'Garage Area', 'Roof Matl', 'Land Contour', 'Neighborhood', 'Bsmt Qual']]\n",
    "X_test.shape"
   ]
  },
  {
   "cell_type": "code",
   "execution_count": null,
   "metadata": {},
   "outputs": [],
   "source": [
    "predictions = pipe.predict(X_test)\n",
    "predictions.shape"
   ]
  },
  {
   "cell_type": "code",
   "execution_count": null,
   "metadata": {},
   "outputs": [],
   "source": [
    "df_sales = pd.DataFrame(predictions, columns = ['SalePrice'])\n",
    "df_sales.shape"
   ]
  },
  {
   "cell_type": "code",
   "execution_count": null,
   "metadata": {},
   "outputs": [],
   "source": [
    "df_model4 = pd.concat([df_test['Id'], df_sales], axis = 1)\n",
    "df_model4.info()"
   ]
  },
  {
   "cell_type": "code",
   "execution_count": null,
   "metadata": {},
   "outputs": [],
   "source": [
    "df_model4.set_index('Id', inplace = True)"
   ]
  },
  {
   "cell_type": "code",
   "execution_count": null,
   "metadata": {},
   "outputs": [],
   "source": [
    "df_model4.info()"
   ]
  },
  {
   "cell_type": "code",
   "execution_count": null,
   "metadata": {},
   "outputs": [],
   "source": [
    "df_model4.to_csv('../submissions/model5_submission.csv')"
   ]
  },
  {
   "cell_type": "markdown",
   "metadata": {},
   "source": [
    "Used: 'Overall Qual', 'Total Bsmt SF', 'Gr Liv Area', 'Year Built', 'Garage Area', 'Roof Matl', 'Land Contour', 'Neighborhood', 'Bsmt Qual'<br>\n",
    "Converted 'Bsmt Qual' to 0-5"
   ]
  },
  {
   "cell_type": "markdown",
   "metadata": {},
   "source": [
    "pipe = make_pipeline(OneHotEncoder(use_cat_names = True), PolynomialFeatures(interaction_only = True), StandardScaler(), Ridge(alpha = 100))"
   ]
  }
 ],
 "metadata": {
  "kernelspec": {
   "display_name": "Python 3",
   "language": "python",
   "name": "python3"
  },
  "language_info": {
   "codemirror_mode": {
    "name": "ipython",
    "version": 3
   },
   "file_extension": ".py",
   "mimetype": "text/x-python",
   "name": "python",
   "nbconvert_exporter": "python",
   "pygments_lexer": "ipython3",
   "version": "3.8.5"
  }
 },
 "nbformat": 4,
 "nbformat_minor": 4
}
