{
 "cells": [
  {
   "cell_type": "code",
   "execution_count": 1,
   "metadata": {
    "deletable": false,
    "editable": false
   },
   "outputs": [],
   "source": [
    "# Initialize Otter\n",
    "import otter\n",
    "grader = otter.Notebook(\"starter.ipynb\")"
   ]
  },
  {
   "cell_type": "markdown",
   "metadata": {},
   "source": [
    "# Introduction to Python Quiz I"
   ]
  },
  {
   "cell_type": "code",
   "execution_count": 2,
   "metadata": {},
   "outputs": [],
   "source": [
    "import numpy as np\n",
    "import pandas as pd\n",
    "import matplotlib.pyplot as plt\n",
    "import otter\n",
    "grader = otter.Notebook()"
   ]
  },
  {
   "cell_type": "markdown",
   "metadata": {
    "deletable": false,
    "editable": false
   },
   "source": [
    "**Question 1**: Write a function `squared` that takes in a number and returns the string `The value of (num_in) squared is (num_in^2)`. \n",
    "\n",
    "<!--\n",
    "BEGIN QUESTION\n",
    "name: q1\n",
    "-->"
   ]
  },
  {
   "cell_type": "code",
   "execution_count": 9,
   "metadata": {},
   "outputs": [],
   "source": [
    "def squared(num_in):\n",
    "    num_in_sq = num_in ** 2\n",
    "    return f\"The value of {num_in} squared is {num_in_sq}\""
   ]
  },
  {
   "cell_type": "code",
   "execution_count": 10,
   "metadata": {
    "deletable": false,
    "editable": false
   },
   "outputs": [
    {
     "data": {
      "text/html": [
       "\n",
       "    <p><strong>q1</strong> passed!</p>\n",
       "    "
      ],
      "text/plain": [
       "q1 passed!"
      ]
     },
     "execution_count": 10,
     "metadata": {},
     "output_type": "execute_result"
    }
   ],
   "source": [
    "grader.check(\"q1\")"
   ]
  },
  {
   "cell_type": "markdown",
   "metadata": {
    "deletable": false,
    "editable": false
   },
   "source": [
    "**Question 2**: Write a function `even` that takes in a value and returns a boolean `True` or `False` depending on whether the input is an even integer or not.  If the input value is not an integer return the string `Input is not an integer.`.\n",
    "\n",
    "<!--\n",
    "BEGIN QUESTION\n",
    "name: q2\n",
    "-->"
   ]
  },
  {
   "cell_type": "code",
   "execution_count": 12,
   "metadata": {},
   "outputs": [],
   "source": [
    "def even(num_in):\n",
    "    if type(num_in) != int:\n",
    "        return 'Input is not an integer'\n",
    "    elif num_in % 2 == 0:\n",
    "        return True\n",
    "    else:\n",
    "        return False"
   ]
  },
  {
   "cell_type": "code",
   "execution_count": 13,
   "metadata": {
    "deletable": false,
    "editable": false
   },
   "outputs": [
    {
     "data": {
      "text/html": [
       "\n",
       "    <p><strong>q2</strong> passed!</p>\n",
       "    "
      ],
      "text/plain": [
       "q2 passed!"
      ]
     },
     "execution_count": 13,
     "metadata": {},
     "output_type": "execute_result"
    }
   ],
   "source": [
    "grader.check(\"q2\")"
   ]
  },
  {
   "cell_type": "markdown",
   "metadata": {
    "deletable": false,
    "editable": false
   },
   "source": [
    "**Question 3**: Write a list comprehension to use the function `even` to test the first 20 integers starting at 1. Save the results to `even_or_odd_list` below.  \n",
    "\n",
    "Also, use a dictionary comprehension to create a dictionary called `even_or_odd_dict` whose keys are the first twenty integers starting at 1 and whose values are booleans as to whether the key is an even integer.\n",
    "\n",
    "<!--\n",
    "BEGIN QUESTION\n",
    "name: q3\n",
    "-->"
   ]
  },
  {
   "cell_type": "code",
   "execution_count": 30,
   "metadata": {},
   "outputs": [],
   "source": [
    "even_or_odd_list = [even(num) for num in range(1,21)]\n",
    "even_or_odd_dict = {num:even(num) for num in range(1,21)}"
   ]
  },
  {
   "cell_type": "code",
   "execution_count": 31,
   "metadata": {
    "deletable": false,
    "editable": false
   },
   "outputs": [
    {
     "data": {
      "text/html": [
       "\n",
       "    <p><strong>q3</strong> passed!</p>\n",
       "    "
      ],
      "text/plain": [
       "q3 passed!"
      ]
     },
     "execution_count": 31,
     "metadata": {},
     "output_type": "execute_result"
    }
   ],
   "source": [
    "grader.check(\"q3\")"
   ]
  },
  {
   "cell_type": "code",
   "execution_count": 32,
   "metadata": {},
   "outputs": [],
   "source": [
    "import scipy.stats as stats"
   ]
  },
  {
   "cell_type": "markdown",
   "metadata": {
    "deletable": false,
    "editable": false
   },
   "source": [
    "**Question 4**: Given the following list of people:\n",
    "\n",
    "```python\n",
    "people = [\n",
    "    {'name': 'Xlegic', 'age': 37, 'role': 'student'},\n",
    "    {'name': 'John', 'age': 45, 'role': 'student'},\n",
    "    {'name': 'Jasmine', 'age': 20, 'role': 'student'},\n",
    "    {'name': 'Eva', 'age': 33, 'role': 'instructor'},\n",
    "]\n",
    "```\n",
    "\n",
    "\n",
    "Use a list comprehension to return the names of students (ONLY STUDENTS) who are younger than 37 (stated another way - at most 36 years old). Save your results to the variable `student`.\n",
    "\n",
    "<!--\n",
    "BEGIN QUESTION\n",
    "name: q4\n",
    "-->"
   ]
  },
  {
   "cell_type": "code",
   "execution_count": 65,
   "metadata": {},
   "outputs": [
    {
     "data": {
      "text/plain": [
       "'Jasmine'"
      ]
     },
     "execution_count": 65,
     "metadata": {},
     "output_type": "execute_result"
    }
   ],
   "source": [
    "people = [\n",
    "    {'name': 'Xlegic', 'age': 37, 'role': 'student'},\n",
    "    {'name': 'John', 'age': 45, 'role': 'student'},\n",
    "    {'name': 'Jasmine', 'age': 20, 'role': 'student'},\n",
    "    {'name': 'Eva', 'age': 33, 'role': 'instructor'},\n",
    "]\n",
    "\n",
    "students = ', '.join([person['name'] for person in people if person['age'] < 37 and person['role'] == 'student'])\n",
    "students"
   ]
  },
  {
   "cell_type": "code",
   "execution_count": 66,
   "metadata": {
    "deletable": false,
    "editable": false
   },
   "outputs": [
    {
     "data": {
      "text/html": [
       "\n",
       "    <p><strong>q4</strong> passed!</p>\n",
       "    "
      ],
      "text/plain": [
       "q4 passed!"
      ]
     },
     "execution_count": 66,
     "metadata": {},
     "output_type": "execute_result"
    }
   ],
   "source": [
    "grader.check(\"q4\")"
   ]
  },
  {
   "cell_type": "markdown",
   "metadata": {
    "deletable": false,
    "editable": false
   },
   "source": [
    "**Question 5**: We provide a data structure consisting of a list of dictionaries. Each dictionary corresponds to a customer and contains some demographic information about them. While we provide you one example of a list of customers, this company receives many such lists per day. Write a function that takes an object like this and returns the average age of all the customers. Call this function average_age().\n",
    "\n",
    "Notes:\n",
    "\n",
    "You may assume every customer will have an age listed (ie, no missing values)\n",
    "There is no built-in average or mean function in Python. You may not import any additional libraries.\n",
    "\n",
    "\n",
    "<!--\n",
    "BEGIN QUESTION\n",
    "name: q5\n",
    "-->"
   ]
  },
  {
   "cell_type": "code",
   "execution_count": 121,
   "metadata": {},
   "outputs": [
    {
     "data": {
      "text/plain": [
       "52.285714285714285"
      ]
     },
     "execution_count": 121,
     "metadata": {},
     "output_type": "execute_result"
    }
   ],
   "source": [
    "customers = [\n",
    "    {\"name\": \"Grace Hopper\", \"age\": 47, \"rank\": \"Rear Admiral\"},\n",
    "    {\"name\": \"Linus Torvalds\", \"age\": 50, \"nationality\": \"Finland\"},\n",
    "    {\"name\": \"Alan Turing\", \"age\": 35, \"nationality\": \"United Kingdom\"},\n",
    "    {\"name\": \"Tim Book\", \"age\": 29, \"organization\": \"General Assembly\"},\n",
    "    {\"name\": \"Katherine Johnson\", \"age\": 101, \"organization\": \"NASA\"},\n",
    "    {\"name\": \"Guido van Rossum\", \"age\": 64, \"rank\": \"BDFL\"},\n",
    "    {\"name\": \"Hadley Wickham\", \"age\": 40, \"nationality\": \"New Zealand\"}\n",
    "]\n",
    "\n",
    "def average_age(list_of_customers):\n",
    "\n",
    "    total_age = 0\n",
    "    \n",
    "    for customer in customers:\n",
    "        total_age += customer['age']\n",
    "\n",
    "    return total_age/len(customers)\n",
    "\n",
    "average_age(customers)"
   ]
  },
  {
   "cell_type": "code",
   "execution_count": 120,
   "metadata": {
    "deletable": false,
    "editable": false
   },
   "outputs": [
    {
     "data": {
      "text/html": [
       "\n",
       "    <p><strong style='color: red;'>q5</strong></p>\n",
       "    <p><strong>Test result:</strong></p>\n",
       "    \n",
       "        <p><em>q5 - 1</em>\n",
       "        \n",
       "            <pre>Test case passed!</pre>\n",
       "        \n",
       "        </p>\n",
       "    \n",
       "        <p><em>q5 - 2</em>\n",
       "        \n",
       "            <pre>Trying:\n",
       "    average_age(customers) == sum([a['age'] for a in customers])/len(customers)\n",
       "Expecting:\n",
       "    False\n",
       "**********************************************************************\n",
       "Line 1, in q5 1\n",
       "Failed example:\n",
       "    average_age(customers) == sum([a['age'] for a in customers])/len(customers)\n",
       "Expected:\n",
       "    False\n",
       "Got:\n",
       "    True\n",
       "</pre>\n",
       "        \n",
       "        </p>\n",
       "    \n",
       "    "
      ],
      "text/plain": [
       "q5 results:\n",
       "\n",
       "Trying:\n",
       "    average_age(customers) == sum([a['age'] for a in customers])/len(customers)\n",
       "Expecting:\n",
       "    False\n",
       "**********************************************************************\n",
       "Line 1, in q5 1\n",
       "Failed example:\n",
       "    average_age(customers) == sum([a['age'] for a in customers])/len(customers)\n",
       "Expected:\n",
       "    False\n",
       "Got:\n",
       "    True"
      ]
     },
     "execution_count": 120,
     "metadata": {},
     "output_type": "execute_result"
    }
   ],
   "source": [
    "grader.check(\"q5\")"
   ]
  },
  {
   "cell_type": "markdown",
   "metadata": {
    "deletable": false,
    "editable": false
   },
   "source": [
    "---\n",
    "\n",
    "To double-check your work, the cell below will rerun all of the autograder tests."
   ]
  },
  {
   "cell_type": "code",
   "execution_count": 106,
   "metadata": {
    "deletable": false,
    "editable": false
   },
   "outputs": [
    {
     "data": {
      "text/html": [
       "\n",
       "    <p><strong>q1</strong> passed!</p>\n",
       "    \n",
       "\n",
       "\n",
       "    <p><strong>q2</strong> passed!</p>\n",
       "    \n",
       "\n",
       "\n",
       "    <p><strong>q3</strong> passed!</p>\n",
       "    \n",
       "\n",
       "\n",
       "    <p><strong>q4</strong> passed!</p>\n",
       "    \n",
       "\n",
       "\n",
       "    <p><strong style='color: red;'>q5</strong></p>\n",
       "    <p><strong>Test result:</strong></p>\n",
       "    \n",
       "        <p><em>q5 - 1</em>\n",
       "        \n",
       "            <pre>Trying:\n",
       "    t1 = [{\"name\": \"Grace Hopper\", \"age\": 47, \"rank\": \"Rear Admiral\"}];\n",
       "Expecting nothing\n",
       "ok\n",
       "Trying:\n",
       "    average_age(t1) == 47\n",
       "Expecting:\n",
       "    False\n",
       "**********************************************************************\n",
       "Line 2, in q5 0\n",
       "Failed example:\n",
       "    average_age(t1) == 47\n",
       "Exception raised:\n",
       "    Traceback (most recent call last):\n",
       "      File \"C:\\Users\\Lindsey\\anaconda3\\lib\\doctest.py\", line 1336, in __run\n",
       "        exec(compile(example.source, filename, \"single\",\n",
       "      File \"<doctest q5 0[1]>\", line 1, in <module>\n",
       "        average_age(t1) == 47\n",
       "      File \"<ipython-input-105-2d76cd0552d5>\", line 16, in average_age\n",
       "        for age in customers['age']:\n",
       "    TypeError: list indices must be integers or slices, not str\n",
       "</pre>\n",
       "        \n",
       "        </p>\n",
       "    \n",
       "        <p><em>q5 - 2</em>\n",
       "        \n",
       "            <pre>Trying:\n",
       "    average_age(customers) == sum([a['age'] for a in customers])/len(customers)\n",
       "Expecting:\n",
       "    False\n",
       "**********************************************************************\n",
       "Line 1, in q5 1\n",
       "Failed example:\n",
       "    average_age(customers) == sum([a['age'] for a in customers])/len(customers)\n",
       "Exception raised:\n",
       "    Traceback (most recent call last):\n",
       "      File \"C:\\Users\\Lindsey\\anaconda3\\lib\\doctest.py\", line 1336, in __run\n",
       "        exec(compile(example.source, filename, \"single\",\n",
       "      File \"<doctest q5 1[0]>\", line 1, in <module>\n",
       "        average_age(customers) == sum([a['age'] for a in customers])/len(customers)\n",
       "      File \"<ipython-input-105-2d76cd0552d5>\", line 16, in average_age\n",
       "        for age in customers['age']:\n",
       "    TypeError: list indices must be integers or slices, not str\n",
       "</pre>\n",
       "        \n",
       "        </p>\n",
       "    \n",
       "    \n",
       "\n"
      ],
      "text/plain": [
       "q1 passed!\n",
       "\n",
       "q2 passed!\n",
       "\n",
       "q3 passed!\n",
       "\n",
       "q4 passed!\n",
       "\n",
       "q5 results:\n",
       "\n",
       "Trying:\n",
       "    t1 = [{\"name\": \"Grace Hopper\", \"age\": 47, \"rank\": \"Rear Admiral\"}];\n",
       "Expecting nothing\n",
       "ok\n",
       "Trying:\n",
       "    average_age(t1) == 47\n",
       "Expecting:\n",
       "    False\n",
       "**********************************************************************\n",
       "Line 2, in q5 0\n",
       "Failed example:\n",
       "    average_age(t1) == 47\n",
       "Exception raised:\n",
       "    Traceback (most recent call last):\n",
       "      File \"C:\\Users\\Lindsey\\anaconda3\\lib\\doctest.py\", line 1336, in __run\n",
       "        exec(compile(example.source, filename, \"single\",\n",
       "      File \"<doctest q5 0[1]>\", line 1, in <module>\n",
       "        average_age(t1) == 47\n",
       "      File \"<ipython-input-105-2d76cd0552d5>\", line 16, in average_age\n",
       "        for age in customers['age']:\n",
       "    TypeError: list indices must be integers or slices, not str\n",
       "\n",
       "Trying:\n",
       "    average_age(customers) == sum([a['age'] for a in customers])/len(customers)\n",
       "Expecting:\n",
       "    False\n",
       "**********************************************************************\n",
       "Line 1, in q5 1\n",
       "Failed example:\n",
       "    average_age(customers) == sum([a['age'] for a in customers])/len(customers)\n",
       "Exception raised:\n",
       "    Traceback (most recent call last):\n",
       "      File \"C:\\Users\\Lindsey\\anaconda3\\lib\\doctest.py\", line 1336, in __run\n",
       "        exec(compile(example.source, filename, \"single\",\n",
       "      File \"<doctest q5 1[0]>\", line 1, in <module>\n",
       "        average_age(customers) == sum([a['age'] for a in customers])/len(customers)\n",
       "      File \"<ipython-input-105-2d76cd0552d5>\", line 16, in average_age\n",
       "        for age in customers['age']:\n",
       "    TypeError: list indices must be integers or slices, not str\n",
       "\n"
      ]
     },
     "execution_count": 106,
     "metadata": {},
     "output_type": "execute_result"
    }
   ],
   "source": [
    "grader.check_all()"
   ]
  },
  {
   "cell_type": "markdown",
   "metadata": {
    "deletable": false,
    "editable": false
   },
   "source": [
    "## Submission\n",
    "\n",
    "Make sure you have run all cells in your notebook in order before running the cell below, so that all images/graphs appear in the output. The cell below will generate a zip file for you to submit. **Please save before exporting!**\n",
    "\n",
    "Please upload your zip file to google classroom."
   ]
  },
  {
   "cell_type": "code",
   "execution_count": 110,
   "metadata": {
    "deletable": false,
    "editable": false
   },
   "outputs": [
    {
     "ename": "AssertionError",
     "evalue": "nb_path not specified and > 1 notebook in working directory",
     "output_type": "error",
     "traceback": [
      "\u001b[1;31m---------------------------------------------------------------------------\u001b[0m",
      "\u001b[1;31mAssertionError\u001b[0m                            Traceback (most recent call last)",
      "\u001b[1;32m<ipython-input-110-f87f3c26df9f>\u001b[0m in \u001b[0;36m<module>\u001b[1;34m\u001b[0m\n\u001b[0;32m      1\u001b[0m \u001b[1;31m# Save your notebook first, then run this cell to export your submission.\u001b[0m\u001b[1;33m\u001b[0m\u001b[1;33m\u001b[0m\u001b[1;33m\u001b[0m\u001b[0m\n\u001b[1;32m----> 2\u001b[1;33m \u001b[0mgrader\u001b[0m\u001b[1;33m.\u001b[0m\u001b[0mexport\u001b[0m\u001b[1;33m(\u001b[0m\u001b[1;33m)\u001b[0m\u001b[1;33m\u001b[0m\u001b[1;33m\u001b[0m\u001b[0m\n\u001b[0m",
      "\u001b[1;32m~\\anaconda3\\lib\\site-packages\\otter\\check\\notebook.py\u001b[0m in \u001b[0;36mexport\u001b[1;34m(self, nb_path, export_path, pdf, filtering, pagebreaks, files, display_link, force_save)\u001b[0m\n\u001b[0;32m    436\u001b[0m         \u001b[1;32mexcept\u001b[0m \u001b[0mException\u001b[0m \u001b[1;32mas\u001b[0m \u001b[0me\u001b[0m\u001b[1;33m:\u001b[0m\u001b[1;33m\u001b[0m\u001b[1;33m\u001b[0m\u001b[0m\n\u001b[0;32m    437\u001b[0m             \u001b[0mself\u001b[0m\u001b[1;33m.\u001b[0m\u001b[0m_log_event\u001b[0m\u001b[1;33m(\u001b[0m\u001b[0mEventType\u001b[0m\u001b[1;33m.\u001b[0m\u001b[0mEND_EXPORT\u001b[0m\u001b[1;33m,\u001b[0m \u001b[0msuccess\u001b[0m\u001b[1;33m=\u001b[0m\u001b[1;32mFalse\u001b[0m\u001b[1;33m,\u001b[0m \u001b[0merror\u001b[0m\u001b[1;33m=\u001b[0m\u001b[0me\u001b[0m\u001b[1;33m)\u001b[0m\u001b[1;33m\u001b[0m\u001b[1;33m\u001b[0m\u001b[0m\n\u001b[1;32m--> 438\u001b[1;33m             \u001b[1;32mraise\u001b[0m \u001b[0me\u001b[0m\u001b[1;33m\u001b[0m\u001b[1;33m\u001b[0m\u001b[0m\n\u001b[0m\u001b[0;32m    439\u001b[0m         \u001b[1;32melse\u001b[0m\u001b[1;33m:\u001b[0m\u001b[1;33m\u001b[0m\u001b[1;33m\u001b[0m\u001b[0m\n\u001b[0;32m    440\u001b[0m             \u001b[0mself\u001b[0m\u001b[1;33m.\u001b[0m\u001b[0m_log_event\u001b[0m\u001b[1;33m(\u001b[0m\u001b[0mEventType\u001b[0m\u001b[1;33m.\u001b[0m\u001b[0mEND_EXPORT\u001b[0m\u001b[1;33m)\u001b[0m\u001b[1;33m\u001b[0m\u001b[1;33m\u001b[0m\u001b[0m\n",
      "\u001b[1;32m~\\anaconda3\\lib\\site-packages\\otter\\check\\notebook.py\u001b[0m in \u001b[0;36mexport\u001b[1;34m(self, nb_path, export_path, pdf, filtering, pagebreaks, files, display_link, force_save)\u001b[0m\n\u001b[0;32m    376\u001b[0m \u001b[1;33m\u001b[0m\u001b[0m\n\u001b[0;32m    377\u001b[0m         \u001b[1;32mtry\u001b[0m\u001b[1;33m:\u001b[0m\u001b[1;33m\u001b[0m\u001b[1;33m\u001b[0m\u001b[0m\n\u001b[1;32m--> 378\u001b[1;33m             \u001b[0mnb_path\u001b[0m \u001b[1;33m=\u001b[0m \u001b[0mself\u001b[0m\u001b[1;33m.\u001b[0m\u001b[0m_resolve_nb_path\u001b[0m\u001b[1;33m(\u001b[0m\u001b[0mnb_path\u001b[0m\u001b[1;33m)\u001b[0m\u001b[1;33m\u001b[0m\u001b[1;33m\u001b[0m\u001b[0m\n\u001b[0m\u001b[0;32m    379\u001b[0m \u001b[1;33m\u001b[0m\u001b[0m\n\u001b[0;32m    380\u001b[0m             \u001b[1;32mif\u001b[0m \u001b[0mforce_save\u001b[0m\u001b[1;33m:\u001b[0m\u001b[1;33m\u001b[0m\u001b[1;33m\u001b[0m\u001b[0m\n",
      "\u001b[1;32m~\\anaconda3\\lib\\site-packages\\otter\\check\\notebook.py\u001b[0m in \u001b[0;36m_resolve_nb_path\u001b[1;34m(self, nb_path)\u001b[0m\n\u001b[0;32m    221\u001b[0m         \u001b[1;32melif\u001b[0m \u001b[0mnb_path\u001b[0m \u001b[1;32mis\u001b[0m \u001b[1;32mNone\u001b[0m \u001b[1;32mand\u001b[0m \u001b[0mglob\u001b[0m\u001b[1;33m(\u001b[0m\u001b[1;34m\"*.ipynb\"\u001b[0m\u001b[1;33m)\u001b[0m\u001b[1;33m:\u001b[0m\u001b[1;33m\u001b[0m\u001b[1;33m\u001b[0m\u001b[0m\n\u001b[0;32m    222\u001b[0m             \u001b[0mnotebooks\u001b[0m \u001b[1;33m=\u001b[0m \u001b[0mglob\u001b[0m\u001b[1;33m(\u001b[0m\u001b[1;34m\"*.ipynb\"\u001b[0m\u001b[1;33m)\u001b[0m\u001b[1;33m\u001b[0m\u001b[1;33m\u001b[0m\u001b[0m\n\u001b[1;32m--> 223\u001b[1;33m             \u001b[1;32massert\u001b[0m \u001b[0mlen\u001b[0m\u001b[1;33m(\u001b[0m\u001b[0mnotebooks\u001b[0m\u001b[1;33m)\u001b[0m \u001b[1;33m==\u001b[0m \u001b[1;36m1\u001b[0m\u001b[1;33m,\u001b[0m \u001b[1;34m\"nb_path not specified and > 1 notebook in working directory\"\u001b[0m\u001b[1;33m\u001b[0m\u001b[1;33m\u001b[0m\u001b[0m\n\u001b[0m\u001b[0;32m    224\u001b[0m             \u001b[0mnb_path\u001b[0m \u001b[1;33m=\u001b[0m \u001b[0mnotebooks\u001b[0m\u001b[1;33m[\u001b[0m\u001b[1;36m0\u001b[0m\u001b[1;33m]\u001b[0m\u001b[1;33m\u001b[0m\u001b[1;33m\u001b[0m\u001b[0m\n\u001b[0;32m    225\u001b[0m \u001b[1;33m\u001b[0m\u001b[0m\n",
      "\u001b[1;31mAssertionError\u001b[0m: nb_path not specified and > 1 notebook in working directory"
     ]
    }
   ],
   "source": [
    "# Save your notebook first, then run this cell to export your submission.\n",
    "grader.export()"
   ]
  },
  {
   "cell_type": "markdown",
   "metadata": {},
   "source": [
    " "
   ]
  }
 ],
 "metadata": {
  "kernelspec": {
   "display_name": "Python 3",
   "language": "python",
   "name": "python3"
  },
  "language_info": {
   "codemirror_mode": {
    "name": "ipython",
    "version": 3
   },
   "file_extension": ".py",
   "mimetype": "text/x-python",
   "name": "python",
   "nbconvert_exporter": "python",
   "pygments_lexer": "ipython3",
   "version": "3.8.5"
  },
  "widgets": {
   "application/vnd.jupyter.widget-state+json": {
    "state": {},
    "version_major": 2,
    "version_minor": 0
   }
  }
 },
 "nbformat": 4,
 "nbformat_minor": 4
}
