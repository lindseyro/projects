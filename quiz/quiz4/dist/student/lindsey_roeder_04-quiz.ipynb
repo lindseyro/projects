{
 "cells": [
  {
   "cell_type": "markdown",
   "metadata": {},
   "source": [
    "### Classification Quiz"
   ]
  },
  {
   "cell_type": "code",
   "execution_count": 1,
   "metadata": {},
   "outputs": [],
   "source": [
    "import pandas as pd\n",
    "import numpy as np\n",
    "from sklearn.model_selection import train_test_split\n",
    "from sklearn.linear_model import LogisticRegression\n",
    "from sklearn.tree import DecisionTreeClassifier \n",
    "from sklearn.ensemble import RandomForestClassifier, GradientBoostingClassifier\n",
    "from sklearn.inspection import permutation_importance\n",
    "\n",
    "import otter\n",
    "grader = otter.Notebook()"
   ]
  },
  {
   "cell_type": "markdown",
   "metadata": {
    "deletable": false,
    "editable": false
   },
   "source": [
    "**Question 1**: Read in the `nba_rookies.csv` data file to a pandas dataframe named `rookies`.\n",
    "\n",
    "<!--\n",
    "BEGIN QUESTION\n",
    "name: q1\n",
    "manual: false\n",
    "points: 1\n",
    "-->"
   ]
  },
  {
   "cell_type": "code",
   "execution_count": 2,
   "metadata": {},
   "outputs": [],
   "source": [
    "rookies = pd.read_csv('./data/nba_rookies.csv')"
   ]
  },
  {
   "cell_type": "code",
   "execution_count": 3,
   "metadata": {
    "deletable": false,
    "editable": false
   },
   "outputs": [
    {
     "data": {
      "text/html": [
       "\n",
       "    <p><strong>q1</strong> passed!</p>\n",
       "    "
      ],
      "text/plain": [
       "q1 passed!"
      ]
     },
     "execution_count": 3,
     "metadata": {},
     "output_type": "execute_result"
    }
   ],
   "source": [
    "grader.check(\"q1\")"
   ]
  },
  {
   "cell_type": "markdown",
   "metadata": {
    "deletable": false,
    "editable": false
   },
   "source": [
    "**Question 2**: Set the `Name` column as the index.\n",
    "\n",
    "<!--\n",
    "BEGIN QUESTION\n",
    "name: q2\n",
    "manual: false\n",
    "points: 1\n",
    "-->"
   ]
  },
  {
   "cell_type": "code",
   "execution_count": 4,
   "metadata": {},
   "outputs": [],
   "source": [
    "rookies.set_index('Name', inplace = True)"
   ]
  },
  {
   "cell_type": "code",
   "execution_count": 5,
   "metadata": {
    "deletable": false,
    "editable": false
   },
   "outputs": [
    {
     "data": {
      "text/html": [
       "\n",
       "    <p><strong>q2</strong> passed!</p>\n",
       "    "
      ],
      "text/plain": [
       "q2 passed!"
      ]
     },
     "execution_count": 5,
     "metadata": {},
     "output_type": "execute_result"
    }
   ],
   "source": [
    "grader.check(\"q2\")"
   ]
  },
  {
   "cell_type": "markdown",
   "metadata": {
    "deletable": false,
    "editable": false
   },
   "source": [
    "**Question 3**: Convert the column `TARGET_5Yrs` to 0/1 for 'No' and 'Yes'.\n",
    "\n",
    "<!--\n",
    "BEGIN QUESTION\n",
    "name: q3\n",
    "points: 1\n",
    "-->"
   ]
  },
  {
   "cell_type": "code",
   "execution_count": 6,
   "metadata": {},
   "outputs": [],
   "source": [
    "rookies['TARGET_5Yrs'] = np.where(rookies['TARGET_5Yrs'] == 'No', 0, 1)"
   ]
  },
  {
   "cell_type": "code",
   "execution_count": 7,
   "metadata": {
    "deletable": false,
    "editable": false
   },
   "outputs": [
    {
     "data": {
      "text/html": [
       "\n",
       "    <p><strong>q3</strong> passed!</p>\n",
       "    "
      ],
      "text/plain": [
       "q3 passed!"
      ]
     },
     "execution_count": 7,
     "metadata": {},
     "output_type": "execute_result"
    }
   ],
   "source": [
    "grader.check(\"q3\")"
   ]
  },
  {
   "cell_type": "markdown",
   "metadata": {
    "deletable": false,
    "editable": false
   },
   "source": [
    "**Question 4**: Define `X` and `y` as all of the feature columns for `X` and your `TARGET_5Yrs` as `y`. Note that `X` should be a DataFrame type.\n",
    "\n",
    "<!--\n",
    "BEGIN QUESTION\n",
    "name: q4\n",
    "points: 1\n",
    "-->"
   ]
  },
  {
   "cell_type": "code",
   "execution_count": 8,
   "metadata": {},
   "outputs": [],
   "source": [
    "X = rookies.drop(columns = 'TARGET_5Yrs')\n",
    "y = rookies['TARGET_5Yrs']"
   ]
  },
  {
   "cell_type": "code",
   "execution_count": 9,
   "metadata": {
    "deletable": false,
    "editable": false
   },
   "outputs": [
    {
     "data": {
      "text/html": [
       "\n",
       "    <p><strong>q4</strong> passed!</p>\n",
       "    "
      ],
      "text/plain": [
       "q4 passed!"
      ]
     },
     "execution_count": 9,
     "metadata": {},
     "output_type": "execute_result"
    }
   ],
   "source": [
    "grader.check(\"q4\")"
   ]
  },
  {
   "cell_type": "markdown",
   "metadata": {
    "deletable": false,
    "editable": false
   },
   "source": [
    "**Question 5**: Create train/test split.  Use random state of 22 when splitting the data.\n",
    "\n",
    "<!--\n",
    "BEGIN QUESTION\n",
    "name: q5\n",
    "points: 1\n",
    "-->"
   ]
  },
  {
   "cell_type": "code",
   "execution_count": 10,
   "metadata": {},
   "outputs": [],
   "source": [
    "X_train, X_test, y_train, y_test = train_test_split(X, y, random_state = 22)"
   ]
  },
  {
   "cell_type": "code",
   "execution_count": 11,
   "metadata": {
    "deletable": false,
    "editable": false
   },
   "outputs": [
    {
     "data": {
      "text/html": [
       "\n",
       "    <p><strong>q5</strong> passed!</p>\n",
       "    "
      ],
      "text/plain": [
       "q5 passed!"
      ]
     },
     "execution_count": 11,
     "metadata": {},
     "output_type": "execute_result"
    }
   ],
   "source": [
    "grader.check(\"q5\")"
   ]
  },
  {
   "cell_type": "markdown",
   "metadata": {
    "deletable": false,
    "editable": false
   },
   "source": [
    "**Question 6**:  Build a `DecisionTreeClassifier` model on your training data.  Assign your model as `dtree`, and use `random_state` = 22. \n",
    "\n",
    "<!--\n",
    "BEGIN QUESTION\n",
    "name: q6\n",
    "points: 1\n",
    "-->"
   ]
  },
  {
   "cell_type": "code",
   "execution_count": 12,
   "metadata": {},
   "outputs": [],
   "source": [
    "dtree = DecisionTreeClassifier(random_state = 22)"
   ]
  },
  {
   "cell_type": "code",
   "execution_count": 13,
   "metadata": {},
   "outputs": [
    {
     "data": {
      "text/plain": [
       "DecisionTreeClassifier(random_state=22)"
      ]
     },
     "execution_count": 13,
     "metadata": {},
     "output_type": "execute_result"
    }
   ],
   "source": [
    "dtree.fit(X_train, y_train)"
   ]
  },
  {
   "cell_type": "code",
   "execution_count": 14,
   "metadata": {
    "collapsed": true,
    "deletable": false,
    "editable": false,
    "jupyter": {
     "outputs_hidden": true
    }
   },
   "outputs": [
    {
     "data": {
      "text/html": [
       "\n",
       "    <p><strong style='color: red;'>q6</strong></p>\n",
       "    <p><strong>Test result:</strong></p>\n",
       "    \n",
       "        <p><em>q6 - 1</em>\n",
       "        \n",
       "            <pre>Trying:\n",
       "    rookies_ = pd.read_csv('data/nba_rookies.csv');\n",
       "Expecting nothing\n",
       "ok\n",
       "Trying:\n",
       "    rookies_ = rookies_.set_index('Name');\n",
       "Expecting nothing\n",
       "ok\n",
       "Trying:\n",
       "    rookies_['TARGET_5Yrs'] = np.where(rookies_['TARGET_5Yrs'] == 'No', 0, 1) ;\n",
       "Expecting nothing\n",
       "ok\n",
       "Trying:\n",
       "    X_ = rookies_.drop('TARGET_5Yrs', axis = 1) ;\n",
       "Expecting nothing\n",
       "ok\n",
       "Trying:\n",
       "    y_ = rookies_['TARGET_5Yrs'];\n",
       "Expecting nothing\n",
       "ok\n",
       "Trying:\n",
       "    X_train_, X_test_, y_train_, y_test_ = train_test_split(X_, y_, random_state = 22);\n",
       "Expecting nothing\n",
       "ok\n",
       "Trying:\n",
       "    dtree_ = DecisionTreeClassifier(random_state = 22);\n",
       "Expecting nothing\n",
       "ok\n",
       "Trying:\n",
       "    dtree_.fit(X_train_, y_train_);\n",
       "Expecting nothing\n",
       "**********************************************************************\n",
       "Line 8, in q6 0\n",
       "Failed example:\n",
       "    dtree_.fit(X_train_, y_train_);\n",
       "Expected nothing\n",
       "Got:\n",
       "    DecisionTreeClassifier(random_state=22)\n",
       "Trying:\n",
       "    assert type(dtree) == type(dtree_);\n",
       "Expecting nothing\n",
       "ok\n",
       "Trying:\n",
       "    assert dtree.random_state == dtree_.random_state;\n",
       "Expecting nothing\n",
       "ok\n",
       "Trying:\n",
       "    np.testing.assert_array_equal(dtree.tree_.value, dtree_.tree_.value)\n",
       "Expecting nothing\n",
       "ok\n",
       "</pre>\n",
       "        \n",
       "        </p>\n",
       "    \n",
       "    "
      ],
      "text/plain": [
       "q6 results:\n",
       "\n",
       "Trying:\n",
       "    rookies_ = pd.read_csv('data/nba_rookies.csv');\n",
       "Expecting nothing\n",
       "ok\n",
       "Trying:\n",
       "    rookies_ = rookies_.set_index('Name');\n",
       "Expecting nothing\n",
       "ok\n",
       "Trying:\n",
       "    rookies_['TARGET_5Yrs'] = np.where(rookies_['TARGET_5Yrs'] == 'No', 0, 1) ;\n",
       "Expecting nothing\n",
       "ok\n",
       "Trying:\n",
       "    X_ = rookies_.drop('TARGET_5Yrs', axis = 1) ;\n",
       "Expecting nothing\n",
       "ok\n",
       "Trying:\n",
       "    y_ = rookies_['TARGET_5Yrs'];\n",
       "Expecting nothing\n",
       "ok\n",
       "Trying:\n",
       "    X_train_, X_test_, y_train_, y_test_ = train_test_split(X_, y_, random_state = 22);\n",
       "Expecting nothing\n",
       "ok\n",
       "Trying:\n",
       "    dtree_ = DecisionTreeClassifier(random_state = 22);\n",
       "Expecting nothing\n",
       "ok\n",
       "Trying:\n",
       "    dtree_.fit(X_train_, y_train_);\n",
       "Expecting nothing\n",
       "**********************************************************************\n",
       "Line 8, in q6 0\n",
       "Failed example:\n",
       "    dtree_.fit(X_train_, y_train_);\n",
       "Expected nothing\n",
       "Got:\n",
       "    DecisionTreeClassifier(random_state=22)\n",
       "Trying:\n",
       "    assert type(dtree) == type(dtree_);\n",
       "Expecting nothing\n",
       "ok\n",
       "Trying:\n",
       "    assert dtree.random_state == dtree_.random_state;\n",
       "Expecting nothing\n",
       "ok\n",
       "Trying:\n",
       "    np.testing.assert_array_equal(dtree.tree_.value, dtree_.tree_.value)\n",
       "Expecting nothing\n",
       "ok"
      ]
     },
     "execution_count": 14,
     "metadata": {},
     "output_type": "execute_result"
    }
   ],
   "source": [
    "grader.check(\"q6\")"
   ]
  },
  {
   "cell_type": "markdown",
   "metadata": {
    "deletable": false,
    "editable": false
   },
   "source": [
    "**Question 7**: Generate predictions using your `test` data.  Save these to the variable `predictions` below.\n",
    "\n",
    "<!--\n",
    "BEGIN QUESTION\n",
    "name: q7\n",
    "points: 1\n",
    "-->"
   ]
  },
  {
   "cell_type": "code",
   "execution_count": 15,
   "metadata": {},
   "outputs": [],
   "source": [
    "predictions = dtree.predict(X_test)"
   ]
  },
  {
   "cell_type": "code",
   "execution_count": 16,
   "metadata": {
    "collapsed": true,
    "deletable": false,
    "editable": false,
    "jupyter": {
     "outputs_hidden": true
    }
   },
   "outputs": [
    {
     "data": {
      "text/html": [
       "\n",
       "    <p><strong style='color: red;'>q7</strong></p>\n",
       "    <p><strong>Test result:</strong></p>\n",
       "    \n",
       "        <p><em>q7 - 1</em>\n",
       "        \n",
       "            <pre>Trying:\n",
       "    rookies_ = pd.read_csv('data/nba_rookies.csv');\n",
       "Expecting nothing\n",
       "ok\n",
       "Trying:\n",
       "    rookies_ = rookies_.set_index('Name');\n",
       "Expecting nothing\n",
       "ok\n",
       "Trying:\n",
       "    rookies_['TARGET_5Yrs'] = np.where(rookies_['TARGET_5Yrs'] == 'No', 0, 1) ;\n",
       "Expecting nothing\n",
       "ok\n",
       "Trying:\n",
       "    X_ = rookies_.drop('TARGET_5Yrs', axis = 1) ;\n",
       "Expecting nothing\n",
       "ok\n",
       "Trying:\n",
       "    y_ = rookies_['TARGET_5Yrs'];\n",
       "Expecting nothing\n",
       "ok\n",
       "Trying:\n",
       "    X_train_, X_test_, y_train_, y_test_ = train_test_split(X_, y_, random_state = 22);\n",
       "Expecting nothing\n",
       "ok\n",
       "Trying:\n",
       "    dtree_ = DecisionTreeClassifier(random_state = 22);\n",
       "Expecting nothing\n",
       "ok\n",
       "Trying:\n",
       "    dtree_.fit(X_train_, y_train_);\n",
       "Expecting nothing\n",
       "**********************************************************************\n",
       "Line 8, in q7 0\n",
       "Failed example:\n",
       "    dtree_.fit(X_train_, y_train_);\n",
       "Expected nothing\n",
       "Got:\n",
       "    DecisionTreeClassifier(random_state=22)\n",
       "Trying:\n",
       "    predictions_ = dtree_.predict(X_test_);\n",
       "Expecting nothing\n",
       "ok\n",
       "Trying:\n",
       "    np.testing.assert_array_equal(predictions, predictions_)\n",
       "Expecting nothing\n",
       "ok\n",
       "</pre>\n",
       "        \n",
       "        </p>\n",
       "    \n",
       "    "
      ],
      "text/plain": [
       "q7 results:\n",
       "\n",
       "Trying:\n",
       "    rookies_ = pd.read_csv('data/nba_rookies.csv');\n",
       "Expecting nothing\n",
       "ok\n",
       "Trying:\n",
       "    rookies_ = rookies_.set_index('Name');\n",
       "Expecting nothing\n",
       "ok\n",
       "Trying:\n",
       "    rookies_['TARGET_5Yrs'] = np.where(rookies_['TARGET_5Yrs'] == 'No', 0, 1) ;\n",
       "Expecting nothing\n",
       "ok\n",
       "Trying:\n",
       "    X_ = rookies_.drop('TARGET_5Yrs', axis = 1) ;\n",
       "Expecting nothing\n",
       "ok\n",
       "Trying:\n",
       "    y_ = rookies_['TARGET_5Yrs'];\n",
       "Expecting nothing\n",
       "ok\n",
       "Trying:\n",
       "    X_train_, X_test_, y_train_, y_test_ = train_test_split(X_, y_, random_state = 22);\n",
       "Expecting nothing\n",
       "ok\n",
       "Trying:\n",
       "    dtree_ = DecisionTreeClassifier(random_state = 22);\n",
       "Expecting nothing\n",
       "ok\n",
       "Trying:\n",
       "    dtree_.fit(X_train_, y_train_);\n",
       "Expecting nothing\n",
       "**********************************************************************\n",
       "Line 8, in q7 0\n",
       "Failed example:\n",
       "    dtree_.fit(X_train_, y_train_);\n",
       "Expected nothing\n",
       "Got:\n",
       "    DecisionTreeClassifier(random_state=22)\n",
       "Trying:\n",
       "    predictions_ = dtree_.predict(X_test_);\n",
       "Expecting nothing\n",
       "ok\n",
       "Trying:\n",
       "    np.testing.assert_array_equal(predictions, predictions_)\n",
       "Expecting nothing\n",
       "ok"
      ]
     },
     "execution_count": 16,
     "metadata": {},
     "output_type": "execute_result"
    }
   ],
   "source": [
    "grader.check(\"q7\")"
   ]
  },
  {
   "cell_type": "markdown",
   "metadata": {
    "deletable": false,
    "editable": false
   },
   "source": [
    "**Question 8**: Create a `DataFrame` called `predict_df` from your predictions that has a column named `predictions` which is the prediction on your test data, and the index column is the name for the given player. \n",
    "\n",
    "<!--\n",
    "BEGIN QUESTION\n",
    "name: q8\n",
    "points: 1\n",
    "-->"
   ]
  },
  {
   "cell_type": "code",
   "execution_count": 17,
   "metadata": {},
   "outputs": [
    {
     "data": {
      "text/html": [
       "<div>\n",
       "<style scoped>\n",
       "    .dataframe tbody tr th:only-of-type {\n",
       "        vertical-align: middle;\n",
       "    }\n",
       "\n",
       "    .dataframe tbody tr th {\n",
       "        vertical-align: top;\n",
       "    }\n",
       "\n",
       "    .dataframe thead th {\n",
       "        text-align: right;\n",
       "    }\n",
       "</style>\n",
       "<table border=\"1\" class=\"dataframe\">\n",
       "  <thead>\n",
       "    <tr style=\"text-align: right;\">\n",
       "      <th></th>\n",
       "      <th>predictions</th>\n",
       "    </tr>\n",
       "    <tr>\n",
       "      <th>Name</th>\n",
       "      <th></th>\n",
       "    </tr>\n",
       "  </thead>\n",
       "  <tbody>\n",
       "    <tr>\n",
       "      <th>David Lee</th>\n",
       "      <td>1</td>\n",
       "    </tr>\n",
       "    <tr>\n",
       "      <th>Sean Williams</th>\n",
       "      <td>1</td>\n",
       "    </tr>\n",
       "    <tr>\n",
       "      <th>Travis Williams</th>\n",
       "      <td>1</td>\n",
       "    </tr>\n",
       "    <tr>\n",
       "      <th>Trent Tucker</th>\n",
       "      <td>1</td>\n",
       "    </tr>\n",
       "    <tr>\n",
       "      <th>Brad Miller</th>\n",
       "      <td>1</td>\n",
       "    </tr>\n",
       "    <tr>\n",
       "      <th>...</th>\n",
       "      <td>...</td>\n",
       "    </tr>\n",
       "    <tr>\n",
       "      <th>Steve Scheffler</th>\n",
       "      <td>1</td>\n",
       "    </tr>\n",
       "    <tr>\n",
       "      <th>Leon Powe</th>\n",
       "      <td>1</td>\n",
       "    </tr>\n",
       "    <tr>\n",
       "      <th>Marquis Teague</th>\n",
       "      <td>1</td>\n",
       "    </tr>\n",
       "    <tr>\n",
       "      <th>Chris Smith</th>\n",
       "      <td>0</td>\n",
       "    </tr>\n",
       "    <tr>\n",
       "      <th>Shawn Respert</th>\n",
       "      <td>1</td>\n",
       "    </tr>\n",
       "  </tbody>\n",
       "</table>\n",
       "<p>333 rows × 1 columns</p>\n",
       "</div>"
      ],
      "text/plain": [
       "                 predictions\n",
       "Name                        \n",
       "David Lee                  1\n",
       "Sean Williams              1\n",
       "Travis Williams            1\n",
       "Trent Tucker               1\n",
       "Brad Miller                1\n",
       "...                      ...\n",
       "Steve Scheffler            1\n",
       "Leon Powe                  1\n",
       "Marquis Teague             1\n",
       "Chris Smith                0\n",
       "Shawn Respert              1\n",
       "\n",
       "[333 rows x 1 columns]"
      ]
     },
     "execution_count": 17,
     "metadata": {},
     "output_type": "execute_result"
    }
   ],
   "source": [
    "predict_df = pd.DataFrame(predictions, index = y_test.index, columns = ['predictions'])\n",
    "predict_df"
   ]
  },
  {
   "cell_type": "code",
   "execution_count": 18,
   "metadata": {
    "collapsed": true,
    "deletable": false,
    "editable": false,
    "jupyter": {
     "outputs_hidden": true
    }
   },
   "outputs": [
    {
     "data": {
      "text/html": [
       "\n",
       "    <p><strong style='color: red;'>q8</strong></p>\n",
       "    <p><strong>Test result:</strong></p>\n",
       "    \n",
       "        <p><em>q8 - 1</em>\n",
       "        \n",
       "            <pre>Trying:\n",
       "    rookies_ = pd.read_csv('data/nba_rookies.csv');\n",
       "Expecting nothing\n",
       "ok\n",
       "Trying:\n",
       "    rookies_ = rookies_.set_index('Name');\n",
       "Expecting nothing\n",
       "ok\n",
       "Trying:\n",
       "    rookies_['TARGET_5Yrs'] = np.where(rookies_['TARGET_5Yrs'] == 'No', 0, 1) ;\n",
       "Expecting nothing\n",
       "ok\n",
       "Trying:\n",
       "    X_ = rookies_.drop('TARGET_5Yrs', axis = 1) ;\n",
       "Expecting nothing\n",
       "ok\n",
       "Trying:\n",
       "    y_ = rookies_['TARGET_5Yrs'];\n",
       "Expecting nothing\n",
       "ok\n",
       "Trying:\n",
       "    X_train_, X_test_, y_train_, y_test_ = train_test_split(X_, y_, random_state = 22);\n",
       "Expecting nothing\n",
       "ok\n",
       "Trying:\n",
       "    dtree_ = DecisionTreeClassifier(random_state = 22);\n",
       "Expecting nothing\n",
       "ok\n",
       "Trying:\n",
       "    dtree_.fit(X_train_, y_train_);\n",
       "Expecting nothing\n",
       "**********************************************************************\n",
       "Line 8, in q8 0\n",
       "Failed example:\n",
       "    dtree_.fit(X_train_, y_train_);\n",
       "Expected nothing\n",
       "Got:\n",
       "    DecisionTreeClassifier(random_state=22)\n",
       "Trying:\n",
       "    predictions_ = dtree_.predict(X_test_);\n",
       "Expecting nothing\n",
       "ok\n",
       "Trying:\n",
       "    predict_df_ = pd.DataFrame(dtree_.predict(X_test_));\n",
       "Expecting nothing\n",
       "ok\n",
       "Trying:\n",
       "    predict_df_.set_index(y_test_.index, inplace = True);\n",
       "Expecting nothing\n",
       "ok\n",
       "Trying:\n",
       "    pd.testing.assert_frame_equal(predict_df_, predict_df)\n",
       "Expecting nothing\n",
       "**********************************************************************\n",
       "Line 12, in q8 0\n",
       "Failed example:\n",
       "    pd.testing.assert_frame_equal(predict_df_, predict_df)\n",
       "Exception raised:\n",
       "    Traceback (most recent call last):\n",
       "      File \"C:\\Users\\Lindsey\\anaconda3\\lib\\doctest.py\", line 1336, in __run\n",
       "        exec(compile(example.source, filename, \"single\",\n",
       "      File \"<doctest q8 0[11]>\", line 1, in <module>\n",
       "        pd.testing.assert_frame_equal(predict_df_, predict_df)\n",
       "      File \"C:\\Users\\Lindsey\\anaconda3\\lib\\site-packages\\pandas\\_testing.py\", line 1582, in assert_frame_equal\n",
       "        assert_index_equal(\n",
       "      File \"C:\\Users\\Lindsey\\anaconda3\\lib\\site-packages\\pandas\\_testing.py\", line 747, in assert_index_equal\n",
       "        _check_types(left, right, obj=obj)\n",
       "      File \"C:\\Users\\Lindsey\\anaconda3\\lib\\site-packages\\pandas\\_testing.py\", line 713, in _check_types\n",
       "        assert_class_equal(l, r, exact=exact, obj=obj)\n",
       "      File \"C:\\Users\\Lindsey\\anaconda3\\lib\\site-packages\\pandas\\_testing.py\", line 837, in assert_class_equal\n",
       "        raise_assert_detail(obj, msg, repr_class(left), repr_class(right))\n",
       "      File \"C:\\Users\\Lindsey\\anaconda3\\lib\\site-packages\\pandas\\_testing.py\", line 1036, in raise_assert_detail\n",
       "        raise AssertionError(msg)\n",
       "    AssertionError: DataFrame.columns are different\n",
       "\n",
       "    DataFrame.columns classes are not equivalent\n",
       "    [left]:  RangeIndex(start=0, stop=1, step=1)\n",
       "    [right]: Index(['predictions'], dtype='object')\n",
       "</pre>\n",
       "        \n",
       "        </p>\n",
       "    \n",
       "    "
      ],
      "text/plain": [
       "q8 results:\n",
       "\n",
       "Trying:\n",
       "    rookies_ = pd.read_csv('data/nba_rookies.csv');\n",
       "Expecting nothing\n",
       "ok\n",
       "Trying:\n",
       "    rookies_ = rookies_.set_index('Name');\n",
       "Expecting nothing\n",
       "ok\n",
       "Trying:\n",
       "    rookies_['TARGET_5Yrs'] = np.where(rookies_['TARGET_5Yrs'] == 'No', 0, 1) ;\n",
       "Expecting nothing\n",
       "ok\n",
       "Trying:\n",
       "    X_ = rookies_.drop('TARGET_5Yrs', axis = 1) ;\n",
       "Expecting nothing\n",
       "ok\n",
       "Trying:\n",
       "    y_ = rookies_['TARGET_5Yrs'];\n",
       "Expecting nothing\n",
       "ok\n",
       "Trying:\n",
       "    X_train_, X_test_, y_train_, y_test_ = train_test_split(X_, y_, random_state = 22);\n",
       "Expecting nothing\n",
       "ok\n",
       "Trying:\n",
       "    dtree_ = DecisionTreeClassifier(random_state = 22);\n",
       "Expecting nothing\n",
       "ok\n",
       "Trying:\n",
       "    dtree_.fit(X_train_, y_train_);\n",
       "Expecting nothing\n",
       "**********************************************************************\n",
       "Line 8, in q8 0\n",
       "Failed example:\n",
       "    dtree_.fit(X_train_, y_train_);\n",
       "Expected nothing\n",
       "Got:\n",
       "    DecisionTreeClassifier(random_state=22)\n",
       "Trying:\n",
       "    predictions_ = dtree_.predict(X_test_);\n",
       "Expecting nothing\n",
       "ok\n",
       "Trying:\n",
       "    predict_df_ = pd.DataFrame(dtree_.predict(X_test_));\n",
       "Expecting nothing\n",
       "ok\n",
       "Trying:\n",
       "    predict_df_.set_index(y_test_.index, inplace = True);\n",
       "Expecting nothing\n",
       "ok\n",
       "Trying:\n",
       "    pd.testing.assert_frame_equal(predict_df_, predict_df)\n",
       "Expecting nothing\n",
       "**********************************************************************\n",
       "Line 12, in q8 0\n",
       "Failed example:\n",
       "    pd.testing.assert_frame_equal(predict_df_, predict_df)\n",
       "Exception raised:\n",
       "    Traceback (most recent call last):\n",
       "      File \"C:\\Users\\Lindsey\\anaconda3\\lib\\doctest.py\", line 1336, in __run\n",
       "        exec(compile(example.source, filename, \"single\",\n",
       "      File \"<doctest q8 0[11]>\", line 1, in <module>\n",
       "        pd.testing.assert_frame_equal(predict_df_, predict_df)\n",
       "      File \"C:\\Users\\Lindsey\\anaconda3\\lib\\site-packages\\pandas\\_testing.py\", line 1582, in assert_frame_equal\n",
       "        assert_index_equal(\n",
       "      File \"C:\\Users\\Lindsey\\anaconda3\\lib\\site-packages\\pandas\\_testing.py\", line 747, in assert_index_equal\n",
       "        _check_types(left, right, obj=obj)\n",
       "      File \"C:\\Users\\Lindsey\\anaconda3\\lib\\site-packages\\pandas\\_testing.py\", line 713, in _check_types\n",
       "        assert_class_equal(l, r, exact=exact, obj=obj)\n",
       "      File \"C:\\Users\\Lindsey\\anaconda3\\lib\\site-packages\\pandas\\_testing.py\", line 837, in assert_class_equal\n",
       "        raise_assert_detail(obj, msg, repr_class(left), repr_class(right))\n",
       "      File \"C:\\Users\\Lindsey\\anaconda3\\lib\\site-packages\\pandas\\_testing.py\", line 1036, in raise_assert_detail\n",
       "        raise AssertionError(msg)\n",
       "    AssertionError: DataFrame.columns are different\n",
       "\n",
       "    DataFrame.columns classes are not equivalent\n",
       "    [left]:  RangeIndex(start=0, stop=1, step=1)\n",
       "    [right]: Index(['predictions'], dtype='object')"
      ]
     },
     "execution_count": 18,
     "metadata": {},
     "output_type": "execute_result"
    }
   ],
   "source": [
    "grader.check(\"q8\")"
   ]
  },
  {
   "cell_type": "markdown",
   "metadata": {
    "deletable": false,
    "editable": false
   },
   "source": [
    "**Question 9**: Compare the importance of your features using both the `.feature_importances_` attribute and the `permutation_importance` method (use your test data and 10 repeats, use `random_state = 22`).  Save the name of the most important feature for each metric to the variables below.\n",
    "\n",
    "<!--\n",
    "BEGIN QUESTION\n",
    "name: q9\n",
    "points: 1\n",
    "-->"
   ]
  },
  {
   "cell_type": "code",
   "execution_count": 27,
   "metadata": {},
   "outputs": [
    {
     "data": {
      "text/plain": [
       "'GP'"
      ]
     },
     "execution_count": 27,
     "metadata": {},
     "output_type": "execute_result"
    }
   ],
   "source": [
    "# pd.DataFrame(X.columns, dtree.feature_importances_)\n",
    "\n",
    "feat_import_df = pd.DataFrame({'name': X.columns, \n",
    "                               'importances': dtree.feature_importances_}).sort_values('importances')\n",
    "\n",
    "feat_import_df['name'].iloc[-1]"
   ]
  },
  {
   "cell_type": "code",
   "execution_count": 38,
   "metadata": {},
   "outputs": [],
   "source": [
    "pimports = permutation_importance(dtree, X_test, y_test, n_repeats = 10, n_jobs = -1)"
   ]
  },
  {
   "cell_type": "code",
   "execution_count": 39,
   "metadata": {},
   "outputs": [
    {
     "data": {
      "text/plain": [
       "array([17,  5,  4, 16, 10, 18, 13, 11, 14,  6,  3,  9,  2, 12,  1,  7,  8,\n",
       "       15,  0], dtype=int64)"
      ]
     },
     "execution_count": 39,
     "metadata": {},
     "output_type": "execute_result"
    }
   ],
   "source": [
    "sort_idx = pimports.importances_mean.argsort()\n",
    "sort_idx"
   ]
  },
  {
   "cell_type": "code",
   "execution_count": 40,
   "metadata": {},
   "outputs": [
    {
     "data": {
      "text/plain": [
       "'GP'"
      ]
     },
     "execution_count": 40,
     "metadata": {},
     "output_type": "execute_result"
    }
   ],
   "source": [
    "imp_df = pd.DataFrame(pimports.importances[sort_idx].T, columns = X_test.columns[sort_idx])\n",
    "imp_df.columns[-1]"
   ]
  },
  {
   "cell_type": "code",
   "execution_count": 41,
   "metadata": {},
   "outputs": [],
   "source": [
    "feature_importance_top_feature = feat_import_df['name'].iloc[-1]\n",
    "permutation_importance_top_feature = imp_df.columns[-1]"
   ]
  },
  {
   "cell_type": "code",
   "execution_count": 42,
   "metadata": {
    "deletable": false,
    "editable": false
   },
   "outputs": [
    {
     "data": {
      "text/html": [
       "\n",
       "    <p><strong>q9</strong> passed!</p>\n",
       "    "
      ],
      "text/plain": [
       "q9 passed!"
      ]
     },
     "execution_count": 42,
     "metadata": {},
     "output_type": "execute_result"
    }
   ],
   "source": [
    "grader.check(\"q9\")"
   ]
  },
  {
   "cell_type": "markdown",
   "metadata": {
    "deletable": false,
    "editable": false
   },
   "source": [
    "---\n",
    "\n",
    "To double-check your work, the cell below will rerun all of the autograder tests."
   ]
  },
  {
   "cell_type": "code",
   "execution_count": 25,
   "metadata": {
    "collapsed": true,
    "deletable": false,
    "editable": false,
    "jupyter": {
     "outputs_hidden": true
    }
   },
   "outputs": [
    {
     "data": {
      "text/html": [
       "\n",
       "    <p><strong style='color: red;'>q1</strong></p>\n",
       "    <p><strong>Test result:</strong></p>\n",
       "    \n",
       "        <p><em>q1 - 1</em>\n",
       "        \n",
       "            <pre>Trying:\n",
       "    rookies_ = pd.read_csv('data/nba_rookies.csv');\n",
       "Expecting nothing\n",
       "ok\n",
       "Trying:\n",
       "    pd.testing.assert_frame_equal(rookies, rookies_)\n",
       "Expecting nothing\n",
       "**********************************************************************\n",
       "Line 2, in q1 0\n",
       "Failed example:\n",
       "    pd.testing.assert_frame_equal(rookies, rookies_)\n",
       "Exception raised:\n",
       "    Traceback (most recent call last):\n",
       "      File \"C:\\Users\\Lindsey\\anaconda3\\lib\\doctest.py\", line 1336, in __run\n",
       "        exec(compile(example.source, filename, \"single\",\n",
       "      File \"<doctest q1 0[1]>\", line 1, in <module>\n",
       "        pd.testing.assert_frame_equal(rookies, rookies_)\n",
       "      File \"C:\\Users\\Lindsey\\anaconda3\\lib\\site-packages\\pandas\\_testing.py\", line 1561, in assert_frame_equal\n",
       "        raise_assert_detail(\n",
       "      File \"C:\\Users\\Lindsey\\anaconda3\\lib\\site-packages\\pandas\\_testing.py\", line 1036, in raise_assert_detail\n",
       "        raise AssertionError(msg)\n",
       "    AssertionError: DataFrame are different\n",
       "\n",
       "    DataFrame shape mismatch\n",
       "    [left]:  (1329, 20)\n",
       "    [right]: (1329, 21)\n",
       "</pre>\n",
       "        \n",
       "        </p>\n",
       "    \n",
       "    \n",
       "\n",
       "\n",
       "    <p><strong style='color: red;'>q2</strong></p>\n",
       "    <p><strong>Test result:</strong></p>\n",
       "    \n",
       "        <p><em>q2 - 1</em>\n",
       "        \n",
       "            <pre>Trying:\n",
       "    rookies_ = pd.read_csv('data/nba_rookies.csv');\n",
       "Expecting nothing\n",
       "ok\n",
       "Trying:\n",
       "    rookies_ = rookies_.set_index('Name');\n",
       "Expecting nothing\n",
       "ok\n",
       "Trying:\n",
       "    pd.testing.assert_frame_equal(rookies, rookies_)\n",
       "Expecting nothing\n",
       "**********************************************************************\n",
       "Line 3, in q2 0\n",
       "Failed example:\n",
       "    pd.testing.assert_frame_equal(rookies, rookies_)\n",
       "Exception raised:\n",
       "    Traceback (most recent call last):\n",
       "      File \"C:\\Users\\Lindsey\\anaconda3\\lib\\doctest.py\", line 1336, in __run\n",
       "        exec(compile(example.source, filename, \"single\",\n",
       "      File \"<doctest q2 0[2]>\", line 1, in <module>\n",
       "        pd.testing.assert_frame_equal(rookies, rookies_)\n",
       "      File \"C:\\Users\\Lindsey\\anaconda3\\lib\\site-packages\\pandas\\_testing.py\", line 1611, in assert_frame_equal\n",
       "        assert_series_equal(\n",
       "      File \"C:\\Users\\Lindsey\\anaconda3\\lib\\site-packages\\pandas\\_testing.py\", line 1340, in assert_series_equal\n",
       "        assert_attr_equal(\"dtype\", left, right, obj=f\"Attributes of {obj}\")\n",
       "      File \"C:\\Users\\Lindsey\\anaconda3\\lib\\site-packages\\pandas\\_testing.py\", line 886, in assert_attr_equal\n",
       "        raise_assert_detail(obj, msg, left_attr, right_attr)\n",
       "      File \"C:\\Users\\Lindsey\\anaconda3\\lib\\site-packages\\pandas\\_testing.py\", line 1036, in raise_assert_detail\n",
       "        raise AssertionError(msg)\n",
       "    AssertionError: Attributes of DataFrame.iloc[:, 19] (column name=\"TARGET_5Yrs\") are different\n",
       "\n",
       "    Attribute \"dtype\" are different\n",
       "    [left]:  int32\n",
       "    [right]: object\n",
       "</pre>\n",
       "        \n",
       "        </p>\n",
       "    \n",
       "    \n",
       "\n",
       "\n",
       "    <p><strong>q3</strong> passed!</p>\n",
       "    \n",
       "\n",
       "\n",
       "    <p><strong>q4</strong> passed!</p>\n",
       "    \n",
       "\n",
       "\n",
       "    <p><strong>q5</strong> passed!</p>\n",
       "    \n",
       "\n",
       "\n",
       "    <p><strong style='color: red;'>q6</strong></p>\n",
       "    <p><strong>Test result:</strong></p>\n",
       "    \n",
       "        <p><em>q6 - 1</em>\n",
       "        \n",
       "            <pre>Trying:\n",
       "    rookies_ = pd.read_csv('data/nba_rookies.csv');\n",
       "Expecting nothing\n",
       "ok\n",
       "Trying:\n",
       "    rookies_ = rookies_.set_index('Name');\n",
       "Expecting nothing\n",
       "ok\n",
       "Trying:\n",
       "    rookies_['TARGET_5Yrs'] = np.where(rookies_['TARGET_5Yrs'] == 'No', 0, 1) ;\n",
       "Expecting nothing\n",
       "ok\n",
       "Trying:\n",
       "    X_ = rookies_.drop('TARGET_5Yrs', axis = 1) ;\n",
       "Expecting nothing\n",
       "ok\n",
       "Trying:\n",
       "    y_ = rookies_['TARGET_5Yrs'];\n",
       "Expecting nothing\n",
       "ok\n",
       "Trying:\n",
       "    X_train_, X_test_, y_train_, y_test_ = train_test_split(X_, y_, random_state = 22);\n",
       "Expecting nothing\n",
       "ok\n",
       "Trying:\n",
       "    dtree_ = DecisionTreeClassifier(random_state = 22);\n",
       "Expecting nothing\n",
       "ok\n",
       "Trying:\n",
       "    dtree_.fit(X_train_, y_train_);\n",
       "Expecting nothing\n",
       "**********************************************************************\n",
       "Line 8, in q6 0\n",
       "Failed example:\n",
       "    dtree_.fit(X_train_, y_train_);\n",
       "Expected nothing\n",
       "Got:\n",
       "    DecisionTreeClassifier(random_state=22)\n",
       "Trying:\n",
       "    assert type(dtree) == type(dtree_);\n",
       "Expecting nothing\n",
       "ok\n",
       "Trying:\n",
       "    assert dtree.random_state == dtree_.random_state;\n",
       "Expecting nothing\n",
       "ok\n",
       "Trying:\n",
       "    np.testing.assert_array_equal(dtree.tree_.value, dtree_.tree_.value)\n",
       "Expecting nothing\n",
       "ok\n",
       "</pre>\n",
       "        \n",
       "        </p>\n",
       "    \n",
       "    \n",
       "\n",
       "\n",
       "    <p><strong style='color: red;'>q7</strong></p>\n",
       "    <p><strong>Test result:</strong></p>\n",
       "    \n",
       "        <p><em>q7 - 1</em>\n",
       "        \n",
       "            <pre>Trying:\n",
       "    rookies_ = pd.read_csv('data/nba_rookies.csv');\n",
       "Expecting nothing\n",
       "ok\n",
       "Trying:\n",
       "    rookies_ = rookies_.set_index('Name');\n",
       "Expecting nothing\n",
       "ok\n",
       "Trying:\n",
       "    rookies_['TARGET_5Yrs'] = np.where(rookies_['TARGET_5Yrs'] == 'No', 0, 1) ;\n",
       "Expecting nothing\n",
       "ok\n",
       "Trying:\n",
       "    X_ = rookies_.drop('TARGET_5Yrs', axis = 1) ;\n",
       "Expecting nothing\n",
       "ok\n",
       "Trying:\n",
       "    y_ = rookies_['TARGET_5Yrs'];\n",
       "Expecting nothing\n",
       "ok\n",
       "Trying:\n",
       "    X_train_, X_test_, y_train_, y_test_ = train_test_split(X_, y_, random_state = 22);\n",
       "Expecting nothing\n",
       "ok\n",
       "Trying:\n",
       "    dtree_ = DecisionTreeClassifier(random_state = 22);\n",
       "Expecting nothing\n",
       "ok\n",
       "Trying:\n",
       "    dtree_.fit(X_train_, y_train_);\n",
       "Expecting nothing\n",
       "**********************************************************************\n",
       "Line 8, in q7 0\n",
       "Failed example:\n",
       "    dtree_.fit(X_train_, y_train_);\n",
       "Expected nothing\n",
       "Got:\n",
       "    DecisionTreeClassifier(random_state=22)\n",
       "Trying:\n",
       "    predictions_ = dtree_.predict(X_test_);\n",
       "Expecting nothing\n",
       "ok\n",
       "Trying:\n",
       "    np.testing.assert_array_equal(predictions, predictions_)\n",
       "Expecting nothing\n",
       "ok\n",
       "</pre>\n",
       "        \n",
       "        </p>\n",
       "    \n",
       "    \n",
       "\n",
       "\n",
       "    <p><strong style='color: red;'>q8</strong></p>\n",
       "    <p><strong>Test result:</strong></p>\n",
       "    \n",
       "        <p><em>q8 - 1</em>\n",
       "        \n",
       "            <pre>Trying:\n",
       "    rookies_ = pd.read_csv('data/nba_rookies.csv');\n",
       "Expecting nothing\n",
       "ok\n",
       "Trying:\n",
       "    rookies_ = rookies_.set_index('Name');\n",
       "Expecting nothing\n",
       "ok\n",
       "Trying:\n",
       "    rookies_['TARGET_5Yrs'] = np.where(rookies_['TARGET_5Yrs'] == 'No', 0, 1) ;\n",
       "Expecting nothing\n",
       "ok\n",
       "Trying:\n",
       "    X_ = rookies_.drop('TARGET_5Yrs', axis = 1) ;\n",
       "Expecting nothing\n",
       "ok\n",
       "Trying:\n",
       "    y_ = rookies_['TARGET_5Yrs'];\n",
       "Expecting nothing\n",
       "ok\n",
       "Trying:\n",
       "    X_train_, X_test_, y_train_, y_test_ = train_test_split(X_, y_, random_state = 22);\n",
       "Expecting nothing\n",
       "ok\n",
       "Trying:\n",
       "    dtree_ = DecisionTreeClassifier(random_state = 22);\n",
       "Expecting nothing\n",
       "ok\n",
       "Trying:\n",
       "    dtree_.fit(X_train_, y_train_);\n",
       "Expecting nothing\n",
       "**********************************************************************\n",
       "Line 8, in q8 0\n",
       "Failed example:\n",
       "    dtree_.fit(X_train_, y_train_);\n",
       "Expected nothing\n",
       "Got:\n",
       "    DecisionTreeClassifier(random_state=22)\n",
       "Trying:\n",
       "    predictions_ = dtree_.predict(X_test_);\n",
       "Expecting nothing\n",
       "ok\n",
       "Trying:\n",
       "    predict_df_ = pd.DataFrame(dtree_.predict(X_test_));\n",
       "Expecting nothing\n",
       "ok\n",
       "Trying:\n",
       "    predict_df_.set_index(y_test_.index, inplace = True);\n",
       "Expecting nothing\n",
       "ok\n",
       "Trying:\n",
       "    pd.testing.assert_frame_equal(predict_df_, predict_df)\n",
       "Expecting nothing\n",
       "**********************************************************************\n",
       "Line 12, in q8 0\n",
       "Failed example:\n",
       "    pd.testing.assert_frame_equal(predict_df_, predict_df)\n",
       "Exception raised:\n",
       "    Traceback (most recent call last):\n",
       "      File \"C:\\Users\\Lindsey\\anaconda3\\lib\\doctest.py\", line 1336, in __run\n",
       "        exec(compile(example.source, filename, \"single\",\n",
       "      File \"<doctest q8 0[11]>\", line 1, in <module>\n",
       "        pd.testing.assert_frame_equal(predict_df_, predict_df)\n",
       "      File \"C:\\Users\\Lindsey\\anaconda3\\lib\\site-packages\\pandas\\_testing.py\", line 1582, in assert_frame_equal\n",
       "        assert_index_equal(\n",
       "      File \"C:\\Users\\Lindsey\\anaconda3\\lib\\site-packages\\pandas\\_testing.py\", line 747, in assert_index_equal\n",
       "        _check_types(left, right, obj=obj)\n",
       "      File \"C:\\Users\\Lindsey\\anaconda3\\lib\\site-packages\\pandas\\_testing.py\", line 713, in _check_types\n",
       "        assert_class_equal(l, r, exact=exact, obj=obj)\n",
       "      File \"C:\\Users\\Lindsey\\anaconda3\\lib\\site-packages\\pandas\\_testing.py\", line 837, in assert_class_equal\n",
       "        raise_assert_detail(obj, msg, repr_class(left), repr_class(right))\n",
       "      File \"C:\\Users\\Lindsey\\anaconda3\\lib\\site-packages\\pandas\\_testing.py\", line 1036, in raise_assert_detail\n",
       "        raise AssertionError(msg)\n",
       "    AssertionError: DataFrame.columns are different\n",
       "\n",
       "    DataFrame.columns classes are not equivalent\n",
       "    [left]:  RangeIndex(start=0, stop=1, step=1)\n",
       "    [right]: Index(['predictions'], dtype='object')\n",
       "</pre>\n",
       "        \n",
       "        </p>\n",
       "    \n",
       "    \n",
       "\n",
       "\n",
       "    <p><strong style='color: red;'>q9</strong></p>\n",
       "    <p><strong>Test result:</strong></p>\n",
       "    \n",
       "        <p><em>q9 - 1</em>\n",
       "        \n",
       "            <pre>Trying:\n",
       "    assert feature_importance_top_feature == 'GP';\n",
       "Expecting nothing\n",
       "ok\n",
       "Trying:\n",
       "    assert permutation_importance_top_feature == 'GP'\n",
       "Expecting nothing\n",
       "**********************************************************************\n",
       "Line 2, in q9 0\n",
       "Failed example:\n",
       "    assert permutation_importance_top_feature == 'GP'\n",
       "Exception raised:\n",
       "    Traceback (most recent call last):\n",
       "      File \"C:\\Users\\Lindsey\\anaconda3\\lib\\doctest.py\", line 1336, in __run\n",
       "        exec(compile(example.source, filename, \"single\",\n",
       "      File \"<doctest q9 0[1]>\", line 1, in <module>\n",
       "        assert permutation_importance_top_feature == 'GP'\n",
       "    AssertionError\n",
       "</pre>\n",
       "        \n",
       "        </p>\n",
       "    \n",
       "    \n",
       "\n"
      ],
      "text/plain": [
       "q1 results:\n",
       "\n",
       "Trying:\n",
       "    rookies_ = pd.read_csv('data/nba_rookies.csv');\n",
       "Expecting nothing\n",
       "ok\n",
       "Trying:\n",
       "    pd.testing.assert_frame_equal(rookies, rookies_)\n",
       "Expecting nothing\n",
       "**********************************************************************\n",
       "Line 2, in q1 0\n",
       "Failed example:\n",
       "    pd.testing.assert_frame_equal(rookies, rookies_)\n",
       "Exception raised:\n",
       "    Traceback (most recent call last):\n",
       "      File \"C:\\Users\\Lindsey\\anaconda3\\lib\\doctest.py\", line 1336, in __run\n",
       "        exec(compile(example.source, filename, \"single\",\n",
       "      File \"<doctest q1 0[1]>\", line 1, in <module>\n",
       "        pd.testing.assert_frame_equal(rookies, rookies_)\n",
       "      File \"C:\\Users\\Lindsey\\anaconda3\\lib\\site-packages\\pandas\\_testing.py\", line 1561, in assert_frame_equal\n",
       "        raise_assert_detail(\n",
       "      File \"C:\\Users\\Lindsey\\anaconda3\\lib\\site-packages\\pandas\\_testing.py\", line 1036, in raise_assert_detail\n",
       "        raise AssertionError(msg)\n",
       "    AssertionError: DataFrame are different\n",
       "\n",
       "    DataFrame shape mismatch\n",
       "    [left]:  (1329, 20)\n",
       "    [right]: (1329, 21)\n",
       "\n",
       "\n",
       "q2 results:\n",
       "\n",
       "Trying:\n",
       "    rookies_ = pd.read_csv('data/nba_rookies.csv');\n",
       "Expecting nothing\n",
       "ok\n",
       "Trying:\n",
       "    rookies_ = rookies_.set_index('Name');\n",
       "Expecting nothing\n",
       "ok\n",
       "Trying:\n",
       "    pd.testing.assert_frame_equal(rookies, rookies_)\n",
       "Expecting nothing\n",
       "**********************************************************************\n",
       "Line 3, in q2 0\n",
       "Failed example:\n",
       "    pd.testing.assert_frame_equal(rookies, rookies_)\n",
       "Exception raised:\n",
       "    Traceback (most recent call last):\n",
       "      File \"C:\\Users\\Lindsey\\anaconda3\\lib\\doctest.py\", line 1336, in __run\n",
       "        exec(compile(example.source, filename, \"single\",\n",
       "      File \"<doctest q2 0[2]>\", line 1, in <module>\n",
       "        pd.testing.assert_frame_equal(rookies, rookies_)\n",
       "      File \"C:\\Users\\Lindsey\\anaconda3\\lib\\site-packages\\pandas\\_testing.py\", line 1611, in assert_frame_equal\n",
       "        assert_series_equal(\n",
       "      File \"C:\\Users\\Lindsey\\anaconda3\\lib\\site-packages\\pandas\\_testing.py\", line 1340, in assert_series_equal\n",
       "        assert_attr_equal(\"dtype\", left, right, obj=f\"Attributes of {obj}\")\n",
       "      File \"C:\\Users\\Lindsey\\anaconda3\\lib\\site-packages\\pandas\\_testing.py\", line 886, in assert_attr_equal\n",
       "        raise_assert_detail(obj, msg, left_attr, right_attr)\n",
       "      File \"C:\\Users\\Lindsey\\anaconda3\\lib\\site-packages\\pandas\\_testing.py\", line 1036, in raise_assert_detail\n",
       "        raise AssertionError(msg)\n",
       "    AssertionError: Attributes of DataFrame.iloc[:, 19] (column name=\"TARGET_5Yrs\") are different\n",
       "\n",
       "    Attribute \"dtype\" are different\n",
       "    [left]:  int32\n",
       "    [right]: object\n",
       "\n",
       "\n",
       "q3 passed!\n",
       "\n",
       "q4 passed!\n",
       "\n",
       "q5 passed!\n",
       "\n",
       "q6 results:\n",
       "\n",
       "Trying:\n",
       "    rookies_ = pd.read_csv('data/nba_rookies.csv');\n",
       "Expecting nothing\n",
       "ok\n",
       "Trying:\n",
       "    rookies_ = rookies_.set_index('Name');\n",
       "Expecting nothing\n",
       "ok\n",
       "Trying:\n",
       "    rookies_['TARGET_5Yrs'] = np.where(rookies_['TARGET_5Yrs'] == 'No', 0, 1) ;\n",
       "Expecting nothing\n",
       "ok\n",
       "Trying:\n",
       "    X_ = rookies_.drop('TARGET_5Yrs', axis = 1) ;\n",
       "Expecting nothing\n",
       "ok\n",
       "Trying:\n",
       "    y_ = rookies_['TARGET_5Yrs'];\n",
       "Expecting nothing\n",
       "ok\n",
       "Trying:\n",
       "    X_train_, X_test_, y_train_, y_test_ = train_test_split(X_, y_, random_state = 22);\n",
       "Expecting nothing\n",
       "ok\n",
       "Trying:\n",
       "    dtree_ = DecisionTreeClassifier(random_state = 22);\n",
       "Expecting nothing\n",
       "ok\n",
       "Trying:\n",
       "    dtree_.fit(X_train_, y_train_);\n",
       "Expecting nothing\n",
       "**********************************************************************\n",
       "Line 8, in q6 0\n",
       "Failed example:\n",
       "    dtree_.fit(X_train_, y_train_);\n",
       "Expected nothing\n",
       "Got:\n",
       "    DecisionTreeClassifier(random_state=22)\n",
       "Trying:\n",
       "    assert type(dtree) == type(dtree_);\n",
       "Expecting nothing\n",
       "ok\n",
       "Trying:\n",
       "    assert dtree.random_state == dtree_.random_state;\n",
       "Expecting nothing\n",
       "ok\n",
       "Trying:\n",
       "    np.testing.assert_array_equal(dtree.tree_.value, dtree_.tree_.value)\n",
       "Expecting nothing\n",
       "ok\n",
       "\n",
       "\n",
       "q7 results:\n",
       "\n",
       "Trying:\n",
       "    rookies_ = pd.read_csv('data/nba_rookies.csv');\n",
       "Expecting nothing\n",
       "ok\n",
       "Trying:\n",
       "    rookies_ = rookies_.set_index('Name');\n",
       "Expecting nothing\n",
       "ok\n",
       "Trying:\n",
       "    rookies_['TARGET_5Yrs'] = np.where(rookies_['TARGET_5Yrs'] == 'No', 0, 1) ;\n",
       "Expecting nothing\n",
       "ok\n",
       "Trying:\n",
       "    X_ = rookies_.drop('TARGET_5Yrs', axis = 1) ;\n",
       "Expecting nothing\n",
       "ok\n",
       "Trying:\n",
       "    y_ = rookies_['TARGET_5Yrs'];\n",
       "Expecting nothing\n",
       "ok\n",
       "Trying:\n",
       "    X_train_, X_test_, y_train_, y_test_ = train_test_split(X_, y_, random_state = 22);\n",
       "Expecting nothing\n",
       "ok\n",
       "Trying:\n",
       "    dtree_ = DecisionTreeClassifier(random_state = 22);\n",
       "Expecting nothing\n",
       "ok\n",
       "Trying:\n",
       "    dtree_.fit(X_train_, y_train_);\n",
       "Expecting nothing\n",
       "**********************************************************************\n",
       "Line 8, in q7 0\n",
       "Failed example:\n",
       "    dtree_.fit(X_train_, y_train_);\n",
       "Expected nothing\n",
       "Got:\n",
       "    DecisionTreeClassifier(random_state=22)\n",
       "Trying:\n",
       "    predictions_ = dtree_.predict(X_test_);\n",
       "Expecting nothing\n",
       "ok\n",
       "Trying:\n",
       "    np.testing.assert_array_equal(predictions, predictions_)\n",
       "Expecting nothing\n",
       "ok\n",
       "\n",
       "\n",
       "q8 results:\n",
       "\n",
       "Trying:\n",
       "    rookies_ = pd.read_csv('data/nba_rookies.csv');\n",
       "Expecting nothing\n",
       "ok\n",
       "Trying:\n",
       "    rookies_ = rookies_.set_index('Name');\n",
       "Expecting nothing\n",
       "ok\n",
       "Trying:\n",
       "    rookies_['TARGET_5Yrs'] = np.where(rookies_['TARGET_5Yrs'] == 'No', 0, 1) ;\n",
       "Expecting nothing\n",
       "ok\n",
       "Trying:\n",
       "    X_ = rookies_.drop('TARGET_5Yrs', axis = 1) ;\n",
       "Expecting nothing\n",
       "ok\n",
       "Trying:\n",
       "    y_ = rookies_['TARGET_5Yrs'];\n",
       "Expecting nothing\n",
       "ok\n",
       "Trying:\n",
       "    X_train_, X_test_, y_train_, y_test_ = train_test_split(X_, y_, random_state = 22);\n",
       "Expecting nothing\n",
       "ok\n",
       "Trying:\n",
       "    dtree_ = DecisionTreeClassifier(random_state = 22);\n",
       "Expecting nothing\n",
       "ok\n",
       "Trying:\n",
       "    dtree_.fit(X_train_, y_train_);\n",
       "Expecting nothing\n",
       "**********************************************************************\n",
       "Line 8, in q8 0\n",
       "Failed example:\n",
       "    dtree_.fit(X_train_, y_train_);\n",
       "Expected nothing\n",
       "Got:\n",
       "    DecisionTreeClassifier(random_state=22)\n",
       "Trying:\n",
       "    predictions_ = dtree_.predict(X_test_);\n",
       "Expecting nothing\n",
       "ok\n",
       "Trying:\n",
       "    predict_df_ = pd.DataFrame(dtree_.predict(X_test_));\n",
       "Expecting nothing\n",
       "ok\n",
       "Trying:\n",
       "    predict_df_.set_index(y_test_.index, inplace = True);\n",
       "Expecting nothing\n",
       "ok\n",
       "Trying:\n",
       "    pd.testing.assert_frame_equal(predict_df_, predict_df)\n",
       "Expecting nothing\n",
       "**********************************************************************\n",
       "Line 12, in q8 0\n",
       "Failed example:\n",
       "    pd.testing.assert_frame_equal(predict_df_, predict_df)\n",
       "Exception raised:\n",
       "    Traceback (most recent call last):\n",
       "      File \"C:\\Users\\Lindsey\\anaconda3\\lib\\doctest.py\", line 1336, in __run\n",
       "        exec(compile(example.source, filename, \"single\",\n",
       "      File \"<doctest q8 0[11]>\", line 1, in <module>\n",
       "        pd.testing.assert_frame_equal(predict_df_, predict_df)\n",
       "      File \"C:\\Users\\Lindsey\\anaconda3\\lib\\site-packages\\pandas\\_testing.py\", line 1582, in assert_frame_equal\n",
       "        assert_index_equal(\n",
       "      File \"C:\\Users\\Lindsey\\anaconda3\\lib\\site-packages\\pandas\\_testing.py\", line 747, in assert_index_equal\n",
       "        _check_types(left, right, obj=obj)\n",
       "      File \"C:\\Users\\Lindsey\\anaconda3\\lib\\site-packages\\pandas\\_testing.py\", line 713, in _check_types\n",
       "        assert_class_equal(l, r, exact=exact, obj=obj)\n",
       "      File \"C:\\Users\\Lindsey\\anaconda3\\lib\\site-packages\\pandas\\_testing.py\", line 837, in assert_class_equal\n",
       "        raise_assert_detail(obj, msg, repr_class(left), repr_class(right))\n",
       "      File \"C:\\Users\\Lindsey\\anaconda3\\lib\\site-packages\\pandas\\_testing.py\", line 1036, in raise_assert_detail\n",
       "        raise AssertionError(msg)\n",
       "    AssertionError: DataFrame.columns are different\n",
       "\n",
       "    DataFrame.columns classes are not equivalent\n",
       "    [left]:  RangeIndex(start=0, stop=1, step=1)\n",
       "    [right]: Index(['predictions'], dtype='object')\n",
       "\n",
       "\n",
       "q9 results:\n",
       "\n",
       "Trying:\n",
       "    assert feature_importance_top_feature == 'GP';\n",
       "Expecting nothing\n",
       "ok\n",
       "Trying:\n",
       "    assert permutation_importance_top_feature == 'GP'\n",
       "Expecting nothing\n",
       "**********************************************************************\n",
       "Line 2, in q9 0\n",
       "Failed example:\n",
       "    assert permutation_importance_top_feature == 'GP'\n",
       "Exception raised:\n",
       "    Traceback (most recent call last):\n",
       "      File \"C:\\Users\\Lindsey\\anaconda3\\lib\\doctest.py\", line 1336, in __run\n",
       "        exec(compile(example.source, filename, \"single\",\n",
       "      File \"<doctest q9 0[1]>\", line 1, in <module>\n",
       "        assert permutation_importance_top_feature == 'GP'\n",
       "    AssertionError\n",
       "\n"
      ]
     },
     "execution_count": 25,
     "metadata": {},
     "output_type": "execute_result"
    }
   ],
   "source": [
    "grader.check_all()"
   ]
  },
  {
   "cell_type": "markdown",
   "metadata": {
    "deletable": false,
    "editable": false
   },
   "source": [
    "## Submission\n",
    "\n",
    "Make sure you have run all cells in your notebook in order before running the cell below, so that all images/graphs appear in the output. The cell below will generate a zip file for you to submit. **Please save before exporting!**"
   ]
  },
  {
   "cell_type": "code",
   "execution_count": 26,
   "metadata": {
    "deletable": false,
    "editable": false
   },
   "outputs": [
    {
     "ename": "AssertionError",
     "evalue": "nb_path not specified and > 1 notebook in working directory",
     "output_type": "error",
     "traceback": [
      "\u001b[1;31m---------------------------------------------------------------------------\u001b[0m",
      "\u001b[1;31mAssertionError\u001b[0m                            Traceback (most recent call last)",
      "\u001b[1;32m<ipython-input-26-f87f3c26df9f>\u001b[0m in \u001b[0;36m<module>\u001b[1;34m\u001b[0m\n\u001b[0;32m      1\u001b[0m \u001b[1;31m# Save your notebook first, then run this cell to export your submission.\u001b[0m\u001b[1;33m\u001b[0m\u001b[1;33m\u001b[0m\u001b[1;33m\u001b[0m\u001b[0m\n\u001b[1;32m----> 2\u001b[1;33m \u001b[0mgrader\u001b[0m\u001b[1;33m.\u001b[0m\u001b[0mexport\u001b[0m\u001b[1;33m(\u001b[0m\u001b[1;33m)\u001b[0m\u001b[1;33m\u001b[0m\u001b[1;33m\u001b[0m\u001b[0m\n\u001b[0m",
      "\u001b[1;32m~\\anaconda3\\lib\\site-packages\\otter\\check\\notebook.py\u001b[0m in \u001b[0;36mexport\u001b[1;34m(self, nb_path, export_path, pdf, filtering, pagebreaks, files, display_link, force_save)\u001b[0m\n\u001b[0;32m    436\u001b[0m         \u001b[1;32mexcept\u001b[0m \u001b[0mException\u001b[0m \u001b[1;32mas\u001b[0m \u001b[0me\u001b[0m\u001b[1;33m:\u001b[0m\u001b[1;33m\u001b[0m\u001b[1;33m\u001b[0m\u001b[0m\n\u001b[0;32m    437\u001b[0m             \u001b[0mself\u001b[0m\u001b[1;33m.\u001b[0m\u001b[0m_log_event\u001b[0m\u001b[1;33m(\u001b[0m\u001b[0mEventType\u001b[0m\u001b[1;33m.\u001b[0m\u001b[0mEND_EXPORT\u001b[0m\u001b[1;33m,\u001b[0m \u001b[0msuccess\u001b[0m\u001b[1;33m=\u001b[0m\u001b[1;32mFalse\u001b[0m\u001b[1;33m,\u001b[0m \u001b[0merror\u001b[0m\u001b[1;33m=\u001b[0m\u001b[0me\u001b[0m\u001b[1;33m)\u001b[0m\u001b[1;33m\u001b[0m\u001b[1;33m\u001b[0m\u001b[0m\n\u001b[1;32m--> 438\u001b[1;33m             \u001b[1;32mraise\u001b[0m \u001b[0me\u001b[0m\u001b[1;33m\u001b[0m\u001b[1;33m\u001b[0m\u001b[0m\n\u001b[0m\u001b[0;32m    439\u001b[0m         \u001b[1;32melse\u001b[0m\u001b[1;33m:\u001b[0m\u001b[1;33m\u001b[0m\u001b[1;33m\u001b[0m\u001b[0m\n\u001b[0;32m    440\u001b[0m             \u001b[0mself\u001b[0m\u001b[1;33m.\u001b[0m\u001b[0m_log_event\u001b[0m\u001b[1;33m(\u001b[0m\u001b[0mEventType\u001b[0m\u001b[1;33m.\u001b[0m\u001b[0mEND_EXPORT\u001b[0m\u001b[1;33m)\u001b[0m\u001b[1;33m\u001b[0m\u001b[1;33m\u001b[0m\u001b[0m\n",
      "\u001b[1;32m~\\anaconda3\\lib\\site-packages\\otter\\check\\notebook.py\u001b[0m in \u001b[0;36mexport\u001b[1;34m(self, nb_path, export_path, pdf, filtering, pagebreaks, files, display_link, force_save)\u001b[0m\n\u001b[0;32m    376\u001b[0m \u001b[1;33m\u001b[0m\u001b[0m\n\u001b[0;32m    377\u001b[0m         \u001b[1;32mtry\u001b[0m\u001b[1;33m:\u001b[0m\u001b[1;33m\u001b[0m\u001b[1;33m\u001b[0m\u001b[0m\n\u001b[1;32m--> 378\u001b[1;33m             \u001b[0mnb_path\u001b[0m \u001b[1;33m=\u001b[0m \u001b[0mself\u001b[0m\u001b[1;33m.\u001b[0m\u001b[0m_resolve_nb_path\u001b[0m\u001b[1;33m(\u001b[0m\u001b[0mnb_path\u001b[0m\u001b[1;33m)\u001b[0m\u001b[1;33m\u001b[0m\u001b[1;33m\u001b[0m\u001b[0m\n\u001b[0m\u001b[0;32m    379\u001b[0m \u001b[1;33m\u001b[0m\u001b[0m\n\u001b[0;32m    380\u001b[0m             \u001b[1;32mif\u001b[0m \u001b[0mforce_save\u001b[0m\u001b[1;33m:\u001b[0m\u001b[1;33m\u001b[0m\u001b[1;33m\u001b[0m\u001b[0m\n",
      "\u001b[1;32m~\\anaconda3\\lib\\site-packages\\otter\\check\\notebook.py\u001b[0m in \u001b[0;36m_resolve_nb_path\u001b[1;34m(self, nb_path)\u001b[0m\n\u001b[0;32m    221\u001b[0m         \u001b[1;32melif\u001b[0m \u001b[0mnb_path\u001b[0m \u001b[1;32mis\u001b[0m \u001b[1;32mNone\u001b[0m \u001b[1;32mand\u001b[0m \u001b[0mglob\u001b[0m\u001b[1;33m(\u001b[0m\u001b[1;34m\"*.ipynb\"\u001b[0m\u001b[1;33m)\u001b[0m\u001b[1;33m:\u001b[0m\u001b[1;33m\u001b[0m\u001b[1;33m\u001b[0m\u001b[0m\n\u001b[0;32m    222\u001b[0m             \u001b[0mnotebooks\u001b[0m \u001b[1;33m=\u001b[0m \u001b[0mglob\u001b[0m\u001b[1;33m(\u001b[0m\u001b[1;34m\"*.ipynb\"\u001b[0m\u001b[1;33m)\u001b[0m\u001b[1;33m\u001b[0m\u001b[1;33m\u001b[0m\u001b[0m\n\u001b[1;32m--> 223\u001b[1;33m             \u001b[1;32massert\u001b[0m \u001b[0mlen\u001b[0m\u001b[1;33m(\u001b[0m\u001b[0mnotebooks\u001b[0m\u001b[1;33m)\u001b[0m \u001b[1;33m==\u001b[0m \u001b[1;36m1\u001b[0m\u001b[1;33m,\u001b[0m \u001b[1;34m\"nb_path not specified and > 1 notebook in working directory\"\u001b[0m\u001b[1;33m\u001b[0m\u001b[1;33m\u001b[0m\u001b[0m\n\u001b[0m\u001b[0;32m    224\u001b[0m             \u001b[0mnb_path\u001b[0m \u001b[1;33m=\u001b[0m \u001b[0mnotebooks\u001b[0m\u001b[1;33m[\u001b[0m\u001b[1;36m0\u001b[0m\u001b[1;33m]\u001b[0m\u001b[1;33m\u001b[0m\u001b[1;33m\u001b[0m\u001b[0m\n\u001b[0;32m    225\u001b[0m \u001b[1;33m\u001b[0m\u001b[0m\n",
      "\u001b[1;31mAssertionError\u001b[0m: nb_path not specified and > 1 notebook in working directory"
     ]
    }
   ],
   "source": [
    "# Save your notebook first, then run this cell to export your submission.\n",
    "grader.export()"
   ]
  },
  {
   "cell_type": "markdown",
   "metadata": {},
   "source": [
    " "
   ]
  }
 ],
 "metadata": {
  "kernelspec": {
   "display_name": "Python 3",
   "language": "python",
   "name": "python3"
  },
  "language_info": {
   "codemirror_mode": {
    "name": "ipython",
    "version": 3
   },
   "file_extension": ".py",
   "mimetype": "text/x-python",
   "name": "python",
   "nbconvert_exporter": "python",
   "pygments_lexer": "ipython3",
   "version": "3.8.5"
  },
  "widgets": {
   "application/vnd.jupyter.widget-state+json": {
    "state": {},
    "version_major": 2,
    "version_minor": 0
   }
  }
 },
 "nbformat": 4,
 "nbformat_minor": 4
}
