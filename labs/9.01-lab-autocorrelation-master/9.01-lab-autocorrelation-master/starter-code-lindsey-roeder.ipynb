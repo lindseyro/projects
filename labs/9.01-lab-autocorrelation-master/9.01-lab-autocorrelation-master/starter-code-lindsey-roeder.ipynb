{
 "cells": [
  {
   "cell_type": "markdown",
   "metadata": {},
   "source": [
    "## Autocorrelation & Autoregression with Stock Prices\n",
    "\n",
    "*Adapted by Jeff Hale*\n",
    "\n",
    "You're interested in the performance of a particular stock. \n",
    "\n",
    "Autocorrelation is \"correlation between the elements of a series and others from the same series separated from them by a given interval.\" - OED via Google\n",
    "\n",
    "You use the [autocorrelation function](http://pandas.pydata.org/pandas-docs/stable/generated/pandas.Series.autocorr.html) in Pandas to assess how autocorrelated the stock's values are.\n",
    "\n",
    "Here are the stock's values shifted to show lags.\n",
    "\n",
    "| Day | Price | Price with Lag = 1 | Price with Lag = 2 |\n",
    "|-----|-------|--------------------|--------------------|\n",
    "| 1   | 25    | NA                 | NA                 |\n",
    "| 2   | 26    | 25                 | NA                 |\n",
    "| 3   | 28    | 26                 | 25                 |\n",
    "| 4   | 24    | 28                 | 26                 |\n",
    "| 5   | 23    | 24                 | 28                 |\n",
    "\n",
    "Autocorrelation with a lag of 1 will calculate the correlation between column \"Price\" and column \"Price with Lag = 1.\" Autocorrelation with a lag of $k$ will calculate the correlation between stock price and the stock price of $k$ days before in a similar manner.\n",
    "\n",
    "Suppose I build a loop that iterates through days (we'll assume our stock price is the closing price at every day) 1 to 365 to assess how correlated a stock price is with the stock price from $i$ days ago. (Sample code seen below.)\n",
    "\n",
    "```\n",
    "for i in range(1, 366):\n",
    "    print(df[stock_prices].autocorr(lag=i))\n",
    "```"
   ]
  },
  {
   "cell_type": "markdown",
   "metadata": {},
   "source": [
    "#### 1. Suppose my highest values of autocorrelation are found when $i = 1, 7, 30, 365$. What do each of these suggest about the performance of this particular stock?"
   ]
  },
  {
   "cell_type": "markdown",
   "metadata": {},
   "source": [
    "These numbers tell us a couple of things:\n",
    "1) The day prior has a correlation with the current day, so the stock price doesn't change very much on a daily basis.\n",
    "2) The stock follows a cyclical pattern because exactly one week, one month, and one year ago there was a correlation to current day."
   ]
  },
  {
   "cell_type": "markdown",
   "metadata": {},
   "source": [
    "Stock prices vary quite rapidly. Looking at almost any plot of stock price over time, we'll see a very \"wiggly\" function that moves around erratically. Building a model for this can be difficult.\n",
    "\n",
    "One way to \"de-noise\" or \"smooth\" this is to create a [moving average](http://www.investopedia.com/terms/m/movingaverage.asp) of stock prices. Suppose I wanted to create a moving average of stock prices across $k$ days. In this case, I create a new column that takes the current day and $k-1$ previous days (for $k$ total days) and average the stock prices of these days.\n",
    "\n",
    "For example, I have a column of stock prices and a column associated with a moving average for three days. Then, my row for Day 5 includes the Day 5 stock price and the average of Day 3, Day 4, and Day 5 stock prices. \n",
    "\n",
    "| Day | Price | Moving Average k = 3 |\n",
    "|-----|-------|----------------------|\n",
    "| 1   | 25    | NA                   |\n",
    "| 2   | 26    | NA                   |\n",
    "| 3   | 28    | 26.33                |\n",
    "| 4   | 24    | 26                   |\n",
    "| 5   | 23    | 25                   |\n",
    "\n",
    "#### 2.  As the number of periods $k$ increases, how do I expect my plotted curve's shape to change?"
   ]
  },
  {
   "cell_type": "markdown",
   "metadata": {},
   "source": [
    "It will be come more smooth with less ups and downs by day."
   ]
  },
  {
   "cell_type": "markdown",
   "metadata": {},
   "source": [
    "#### 3. Suppose we use our moving average to predict values of the stock price. As $k$ increases, how is the bias of our predictions affected? "
   ]
  },
  {
   "cell_type": "markdown",
   "metadata": {},
   "source": [
    "As k increases the bias of the predictions will increase."
   ]
  },
  {
   "cell_type": "markdown",
   "metadata": {},
   "source": [
    "#### 4. As $k$ increases, how is the variance of our predictions affected?"
   ]
  },
  {
   "cell_type": "markdown",
   "metadata": {},
   "source": [
    "As k increases the variance of the predictions will decrease."
   ]
  },
  {
   "cell_type": "markdown",
   "metadata": {},
   "source": [
    "## Stock price exploration "
   ]
  },
  {
   "cell_type": "markdown",
   "metadata": {},
   "source": [
    "#### Using the `yfinance` package, download stock data from the past five years for a company you are interested in. \n",
    "\n",
    "If needed, `pip install yfinance` "
   ]
  },
  {
   "cell_type": "code",
   "execution_count": 1,
   "metadata": {},
   "outputs": [],
   "source": [
    "import yfinance as yf\n",
    "import matplotlib.pyplot as plt\n",
    "\n",
    "from statsmodels.graphics.tsaplots import plot_acf, plot_pacf\n",
    "from statsmodels.tsa.stattools import acf, pacf\n",
    "\n",
    "from sklearn.metrics import mean_squared_error\n",
    "from sklearn.linear_model import LinearRegression\n",
    "\n"
   ]
  },
  {
   "cell_type": "code",
   "execution_count": 2,
   "metadata": {},
   "outputs": [
    {
     "name": "stdout",
     "output_type": "stream",
     "text": [
      "[*********************100%***********************]  1 of 1 completed\n"
     ]
    }
   ],
   "source": [
    "df = yf.download('VGT', start = '2016-01-01')"
   ]
  },
  {
   "cell_type": "markdown",
   "metadata": {},
   "source": [
    "#### Examine the data."
   ]
  },
  {
   "cell_type": "code",
   "execution_count": 3,
   "metadata": {},
   "outputs": [
    {
     "name": "stdout",
     "output_type": "stream",
     "text": [
      "<class 'pandas.core.frame.DataFrame'>\n",
      "DatetimeIndex: 1358 entries, 2016-01-04 to 2021-05-25\n",
      "Data columns (total 6 columns):\n",
      " #   Column     Non-Null Count  Dtype  \n",
      "---  ------     --------------  -----  \n",
      " 0   Open       1358 non-null   float64\n",
      " 1   High       1358 non-null   float64\n",
      " 2   Low        1358 non-null   float64\n",
      " 3   Close      1358 non-null   float64\n",
      " 4   Adj Close  1358 non-null   float64\n",
      " 5   Volume     1358 non-null   int64  \n",
      "dtypes: float64(5), int64(1)\n",
      "memory usage: 74.3 KB\n"
     ]
    }
   ],
   "source": [
    "df.info()"
   ]
  },
  {
   "cell_type": "code",
   "execution_count": 4,
   "metadata": {},
   "outputs": [
    {
     "data": {
      "text/html": [
       "<div>\n",
       "<style scoped>\n",
       "    .dataframe tbody tr th:only-of-type {\n",
       "        vertical-align: middle;\n",
       "    }\n",
       "\n",
       "    .dataframe tbody tr th {\n",
       "        vertical-align: top;\n",
       "    }\n",
       "\n",
       "    .dataframe thead th {\n",
       "        text-align: right;\n",
       "    }\n",
       "</style>\n",
       "<table border=\"1\" class=\"dataframe\">\n",
       "  <thead>\n",
       "    <tr style=\"text-align: right;\">\n",
       "      <th></th>\n",
       "      <th>Open</th>\n",
       "      <th>High</th>\n",
       "      <th>Low</th>\n",
       "      <th>Close</th>\n",
       "      <th>Adj Close</th>\n",
       "      <th>Volume</th>\n",
       "    </tr>\n",
       "    <tr>\n",
       "      <th>Date</th>\n",
       "      <th></th>\n",
       "      <th></th>\n",
       "      <th></th>\n",
       "      <th></th>\n",
       "      <th></th>\n",
       "      <th></th>\n",
       "    </tr>\n",
       "  </thead>\n",
       "  <tbody>\n",
       "    <tr>\n",
       "      <th>2016-01-04</th>\n",
       "      <td>106.309998</td>\n",
       "      <td>106.610001</td>\n",
       "      <td>104.940002</td>\n",
       "      <td>106.610001</td>\n",
       "      <td>100.238541</td>\n",
       "      <td>510600</td>\n",
       "    </tr>\n",
       "    <tr>\n",
       "      <th>2016-01-05</th>\n",
       "      <td>106.959999</td>\n",
       "      <td>107.150002</td>\n",
       "      <td>105.750000</td>\n",
       "      <td>106.099998</td>\n",
       "      <td>99.759018</td>\n",
       "      <td>402300</td>\n",
       "    </tr>\n",
       "    <tr>\n",
       "      <th>2016-01-06</th>\n",
       "      <td>104.559998</td>\n",
       "      <td>105.370003</td>\n",
       "      <td>103.970001</td>\n",
       "      <td>104.660004</td>\n",
       "      <td>98.405098</td>\n",
       "      <td>655800</td>\n",
       "    </tr>\n",
       "    <tr>\n",
       "      <th>2016-01-07</th>\n",
       "      <td>102.519997</td>\n",
       "      <td>103.639999</td>\n",
       "      <td>101.239998</td>\n",
       "      <td>101.290001</td>\n",
       "      <td>95.236496</td>\n",
       "      <td>747200</td>\n",
       "    </tr>\n",
       "    <tr>\n",
       "      <th>2016-01-08</th>\n",
       "      <td>102.199997</td>\n",
       "      <td>102.500000</td>\n",
       "      <td>100.260002</td>\n",
       "      <td>100.419998</td>\n",
       "      <td>94.418488</td>\n",
       "      <td>458600</td>\n",
       "    </tr>\n",
       "  </tbody>\n",
       "</table>\n",
       "</div>"
      ],
      "text/plain": [
       "                  Open        High         Low       Close   Adj Close  Volume\n",
       "Date                                                                          \n",
       "2016-01-04  106.309998  106.610001  104.940002  106.610001  100.238541  510600\n",
       "2016-01-05  106.959999  107.150002  105.750000  106.099998   99.759018  402300\n",
       "2016-01-06  104.559998  105.370003  103.970001  104.660004   98.405098  655800\n",
       "2016-01-07  102.519997  103.639999  101.239998  101.290001   95.236496  747200\n",
       "2016-01-08  102.199997  102.500000  100.260002  100.419998   94.418488  458600"
      ]
     },
     "execution_count": 4,
     "metadata": {},
     "output_type": "execute_result"
    }
   ],
   "source": [
    "df.head()"
   ]
  },
  {
   "cell_type": "code",
   "execution_count": 5,
   "metadata": {},
   "outputs": [
    {
     "data": {
      "text/html": [
       "<div>\n",
       "<style scoped>\n",
       "    .dataframe tbody tr th:only-of-type {\n",
       "        vertical-align: middle;\n",
       "    }\n",
       "\n",
       "    .dataframe tbody tr th {\n",
       "        vertical-align: top;\n",
       "    }\n",
       "\n",
       "    .dataframe thead th {\n",
       "        text-align: right;\n",
       "    }\n",
       "</style>\n",
       "<table border=\"1\" class=\"dataframe\">\n",
       "  <thead>\n",
       "    <tr style=\"text-align: right;\">\n",
       "      <th></th>\n",
       "      <th>Open</th>\n",
       "      <th>High</th>\n",
       "      <th>Low</th>\n",
       "      <th>Close</th>\n",
       "      <th>Adj Close</th>\n",
       "      <th>Volume</th>\n",
       "    </tr>\n",
       "    <tr>\n",
       "      <th>Date</th>\n",
       "      <th></th>\n",
       "      <th></th>\n",
       "      <th></th>\n",
       "      <th></th>\n",
       "      <th></th>\n",
       "      <th></th>\n",
       "    </tr>\n",
       "  </thead>\n",
       "  <tbody>\n",
       "    <tr>\n",
       "      <th>2021-05-19</th>\n",
       "      <td>353.059998</td>\n",
       "      <td>360.420013</td>\n",
       "      <td>352.700012</td>\n",
       "      <td>360.269989</td>\n",
       "      <td>360.269989</td>\n",
       "      <td>336000</td>\n",
       "    </tr>\n",
       "    <tr>\n",
       "      <th>2021-05-20</th>\n",
       "      <td>361.779999</td>\n",
       "      <td>368.609985</td>\n",
       "      <td>361.579987</td>\n",
       "      <td>367.399994</td>\n",
       "      <td>367.399994</td>\n",
       "      <td>312300</td>\n",
       "    </tr>\n",
       "    <tr>\n",
       "      <th>2021-05-21</th>\n",
       "      <td>369.440002</td>\n",
       "      <td>370.100006</td>\n",
       "      <td>365.339996</td>\n",
       "      <td>365.640015</td>\n",
       "      <td>365.640015</td>\n",
       "      <td>272200</td>\n",
       "    </tr>\n",
       "    <tr>\n",
       "      <th>2021-05-24</th>\n",
       "      <td>368.570007</td>\n",
       "      <td>373.320007</td>\n",
       "      <td>368.529999</td>\n",
       "      <td>372.000000</td>\n",
       "      <td>372.000000</td>\n",
       "      <td>738700</td>\n",
       "    </tr>\n",
       "    <tr>\n",
       "      <th>2021-05-25</th>\n",
       "      <td>373.690002</td>\n",
       "      <td>374.369995</td>\n",
       "      <td>371.354004</td>\n",
       "      <td>372.119995</td>\n",
       "      <td>372.119995</td>\n",
       "      <td>267193</td>\n",
       "    </tr>\n",
       "  </tbody>\n",
       "</table>\n",
       "</div>"
      ],
      "text/plain": [
       "                  Open        High         Low       Close   Adj Close  Volume\n",
       "Date                                                                          \n",
       "2021-05-19  353.059998  360.420013  352.700012  360.269989  360.269989  336000\n",
       "2021-05-20  361.779999  368.609985  361.579987  367.399994  367.399994  312300\n",
       "2021-05-21  369.440002  370.100006  365.339996  365.640015  365.640015  272200\n",
       "2021-05-24  368.570007  373.320007  368.529999  372.000000  372.000000  738700\n",
       "2021-05-25  373.690002  374.369995  371.354004  372.119995  372.119995  267193"
      ]
     },
     "execution_count": 5,
     "metadata": {},
     "output_type": "execute_result"
    }
   ],
   "source": [
    "df.tail()"
   ]
  },
  {
   "cell_type": "markdown",
   "metadata": {},
   "source": [
    "#### We'll be working with the 'Adj Close' column. Rename that column 'price' and make your DataFrame just that column and the datetime index. "
   ]
  },
  {
   "cell_type": "code",
   "execution_count": 6,
   "metadata": {},
   "outputs": [],
   "source": [
    "df.rename(columns = {'Adj Close': 'price'}, inplace=True)"
   ]
  },
  {
   "cell_type": "code",
   "execution_count": 7,
   "metadata": {},
   "outputs": [
    {
     "data": {
      "text/html": [
       "<div>\n",
       "<style scoped>\n",
       "    .dataframe tbody tr th:only-of-type {\n",
       "        vertical-align: middle;\n",
       "    }\n",
       "\n",
       "    .dataframe tbody tr th {\n",
       "        vertical-align: top;\n",
       "    }\n",
       "\n",
       "    .dataframe thead th {\n",
       "        text-align: right;\n",
       "    }\n",
       "</style>\n",
       "<table border=\"1\" class=\"dataframe\">\n",
       "  <thead>\n",
       "    <tr style=\"text-align: right;\">\n",
       "      <th></th>\n",
       "      <th>price</th>\n",
       "    </tr>\n",
       "    <tr>\n",
       "      <th>Date</th>\n",
       "      <th></th>\n",
       "    </tr>\n",
       "  </thead>\n",
       "  <tbody>\n",
       "    <tr>\n",
       "      <th>2016-01-04</th>\n",
       "      <td>100.238541</td>\n",
       "    </tr>\n",
       "    <tr>\n",
       "      <th>2016-01-05</th>\n",
       "      <td>99.759018</td>\n",
       "    </tr>\n",
       "    <tr>\n",
       "      <th>2016-01-06</th>\n",
       "      <td>98.405098</td>\n",
       "    </tr>\n",
       "    <tr>\n",
       "      <th>2016-01-07</th>\n",
       "      <td>95.236496</td>\n",
       "    </tr>\n",
       "    <tr>\n",
       "      <th>2016-01-08</th>\n",
       "      <td>94.418488</td>\n",
       "    </tr>\n",
       "  </tbody>\n",
       "</table>\n",
       "</div>"
      ],
      "text/plain": [
       "                 price\n",
       "Date                  \n",
       "2016-01-04  100.238541\n",
       "2016-01-05   99.759018\n",
       "2016-01-06   98.405098\n",
       "2016-01-07   95.236496\n",
       "2016-01-08   94.418488"
      ]
     },
     "execution_count": 7,
     "metadata": {},
     "output_type": "execute_result"
    }
   ],
   "source": [
    "df_price = df[['price']]\n",
    "df_price.head()"
   ]
  },
  {
   "cell_type": "markdown",
   "metadata": {},
   "source": [
    "#### Add columns that are lags of the most recent 10 observations."
   ]
  },
  {
   "cell_type": "code",
   "execution_count": 8,
   "metadata": {},
   "outputs": [
    {
     "data": {
      "text/plain": [
       "{1: 'lag_1',\n",
       " 2: 'lag_2',\n",
       " 3: 'lag_3',\n",
       " 4: 'lag_4',\n",
       " 5: 'lag_5',\n",
       " 6: 'lag_6',\n",
       " 7: 'lag_7',\n",
       " 8: 'lag_8',\n",
       " 9: 'lag_9',\n",
       " 10: 'lag_10'}"
      ]
     },
     "execution_count": 8,
     "metadata": {},
     "output_type": "execute_result"
    }
   ],
   "source": [
    "lag_features = {i: f'lag_{i}' for i in range(1, 11)}\n",
    "lag_features"
   ]
  },
  {
   "cell_type": "code",
   "execution_count": 9,
   "metadata": {},
   "outputs": [],
   "source": [
    "df_lags = df_price.copy()"
   ]
  },
  {
   "cell_type": "code",
   "execution_count": 10,
   "metadata": {},
   "outputs": [
    {
     "data": {
      "text/html": [
       "<div>\n",
       "<style scoped>\n",
       "    .dataframe tbody tr th:only-of-type {\n",
       "        vertical-align: middle;\n",
       "    }\n",
       "\n",
       "    .dataframe tbody tr th {\n",
       "        vertical-align: top;\n",
       "    }\n",
       "\n",
       "    .dataframe thead th {\n",
       "        text-align: right;\n",
       "    }\n",
       "</style>\n",
       "<table border=\"1\" class=\"dataframe\">\n",
       "  <thead>\n",
       "    <tr style=\"text-align: right;\">\n",
       "      <th></th>\n",
       "      <th>price</th>\n",
       "      <th>lag_1</th>\n",
       "      <th>lag_2</th>\n",
       "      <th>lag_3</th>\n",
       "      <th>lag_4</th>\n",
       "      <th>lag_5</th>\n",
       "      <th>lag_6</th>\n",
       "      <th>lag_7</th>\n",
       "      <th>lag_8</th>\n",
       "      <th>lag_9</th>\n",
       "      <th>lag_10</th>\n",
       "    </tr>\n",
       "    <tr>\n",
       "      <th>Date</th>\n",
       "      <th></th>\n",
       "      <th></th>\n",
       "      <th></th>\n",
       "      <th></th>\n",
       "      <th></th>\n",
       "      <th></th>\n",
       "      <th></th>\n",
       "      <th></th>\n",
       "      <th></th>\n",
       "      <th></th>\n",
       "      <th></th>\n",
       "    </tr>\n",
       "  </thead>\n",
       "  <tbody>\n",
       "    <tr>\n",
       "      <th>2016-01-04</th>\n",
       "      <td>100.238541</td>\n",
       "      <td>NaN</td>\n",
       "      <td>NaN</td>\n",
       "      <td>NaN</td>\n",
       "      <td>NaN</td>\n",
       "      <td>NaN</td>\n",
       "      <td>NaN</td>\n",
       "      <td>NaN</td>\n",
       "      <td>NaN</td>\n",
       "      <td>NaN</td>\n",
       "      <td>NaN</td>\n",
       "    </tr>\n",
       "    <tr>\n",
       "      <th>2016-01-05</th>\n",
       "      <td>99.759018</td>\n",
       "      <td>100.238541</td>\n",
       "      <td>NaN</td>\n",
       "      <td>NaN</td>\n",
       "      <td>NaN</td>\n",
       "      <td>NaN</td>\n",
       "      <td>NaN</td>\n",
       "      <td>NaN</td>\n",
       "      <td>NaN</td>\n",
       "      <td>NaN</td>\n",
       "      <td>NaN</td>\n",
       "    </tr>\n",
       "    <tr>\n",
       "      <th>2016-01-06</th>\n",
       "      <td>98.405098</td>\n",
       "      <td>99.759018</td>\n",
       "      <td>100.238541</td>\n",
       "      <td>NaN</td>\n",
       "      <td>NaN</td>\n",
       "      <td>NaN</td>\n",
       "      <td>NaN</td>\n",
       "      <td>NaN</td>\n",
       "      <td>NaN</td>\n",
       "      <td>NaN</td>\n",
       "      <td>NaN</td>\n",
       "    </tr>\n",
       "    <tr>\n",
       "      <th>2016-01-07</th>\n",
       "      <td>95.236496</td>\n",
       "      <td>98.405098</td>\n",
       "      <td>99.759018</td>\n",
       "      <td>100.238541</td>\n",
       "      <td>NaN</td>\n",
       "      <td>NaN</td>\n",
       "      <td>NaN</td>\n",
       "      <td>NaN</td>\n",
       "      <td>NaN</td>\n",
       "      <td>NaN</td>\n",
       "      <td>NaN</td>\n",
       "    </tr>\n",
       "    <tr>\n",
       "      <th>2016-01-08</th>\n",
       "      <td>94.418488</td>\n",
       "      <td>95.236496</td>\n",
       "      <td>98.405098</td>\n",
       "      <td>99.759018</td>\n",
       "      <td>100.238541</td>\n",
       "      <td>NaN</td>\n",
       "      <td>NaN</td>\n",
       "      <td>NaN</td>\n",
       "      <td>NaN</td>\n",
       "      <td>NaN</td>\n",
       "      <td>NaN</td>\n",
       "    </tr>\n",
       "    <tr>\n",
       "      <th>...</th>\n",
       "      <td>...</td>\n",
       "      <td>...</td>\n",
       "      <td>...</td>\n",
       "      <td>...</td>\n",
       "      <td>...</td>\n",
       "      <td>...</td>\n",
       "      <td>...</td>\n",
       "      <td>...</td>\n",
       "      <td>...</td>\n",
       "      <td>...</td>\n",
       "      <td>...</td>\n",
       "    </tr>\n",
       "    <tr>\n",
       "      <th>2021-05-19</th>\n",
       "      <td>360.269989</td>\n",
       "      <td>359.010010</td>\n",
       "      <td>361.380005</td>\n",
       "      <td>364.119995</td>\n",
       "      <td>355.880005</td>\n",
       "      <td>351.880005</td>\n",
       "      <td>362.549988</td>\n",
       "      <td>362.869995</td>\n",
       "      <td>372.500000</td>\n",
       "      <td>368.959991</td>\n",
       "      <td>366.720001</td>\n",
       "    </tr>\n",
       "    <tr>\n",
       "      <th>2021-05-20</th>\n",
       "      <td>367.399994</td>\n",
       "      <td>360.269989</td>\n",
       "      <td>359.010010</td>\n",
       "      <td>361.380005</td>\n",
       "      <td>364.119995</td>\n",
       "      <td>355.880005</td>\n",
       "      <td>351.880005</td>\n",
       "      <td>362.549988</td>\n",
       "      <td>362.869995</td>\n",
       "      <td>372.500000</td>\n",
       "      <td>368.959991</td>\n",
       "    </tr>\n",
       "    <tr>\n",
       "      <th>2021-05-21</th>\n",
       "      <td>365.640015</td>\n",
       "      <td>367.399994</td>\n",
       "      <td>360.269989</td>\n",
       "      <td>359.010010</td>\n",
       "      <td>361.380005</td>\n",
       "      <td>364.119995</td>\n",
       "      <td>355.880005</td>\n",
       "      <td>351.880005</td>\n",
       "      <td>362.549988</td>\n",
       "      <td>362.869995</td>\n",
       "      <td>372.500000</td>\n",
       "    </tr>\n",
       "    <tr>\n",
       "      <th>2021-05-24</th>\n",
       "      <td>372.000000</td>\n",
       "      <td>365.640015</td>\n",
       "      <td>367.399994</td>\n",
       "      <td>360.269989</td>\n",
       "      <td>359.010010</td>\n",
       "      <td>361.380005</td>\n",
       "      <td>364.119995</td>\n",
       "      <td>355.880005</td>\n",
       "      <td>351.880005</td>\n",
       "      <td>362.549988</td>\n",
       "      <td>362.869995</td>\n",
       "    </tr>\n",
       "    <tr>\n",
       "      <th>2021-05-25</th>\n",
       "      <td>372.119995</td>\n",
       "      <td>372.000000</td>\n",
       "      <td>365.640015</td>\n",
       "      <td>367.399994</td>\n",
       "      <td>360.269989</td>\n",
       "      <td>359.010010</td>\n",
       "      <td>361.380005</td>\n",
       "      <td>364.119995</td>\n",
       "      <td>355.880005</td>\n",
       "      <td>351.880005</td>\n",
       "      <td>362.549988</td>\n",
       "    </tr>\n",
       "  </tbody>\n",
       "</table>\n",
       "<p>1358 rows × 11 columns</p>\n",
       "</div>"
      ],
      "text/plain": [
       "                 price       lag_1       lag_2       lag_3       lag_4  \\\n",
       "Date                                                                     \n",
       "2016-01-04  100.238541         NaN         NaN         NaN         NaN   \n",
       "2016-01-05   99.759018  100.238541         NaN         NaN         NaN   \n",
       "2016-01-06   98.405098   99.759018  100.238541         NaN         NaN   \n",
       "2016-01-07   95.236496   98.405098   99.759018  100.238541         NaN   \n",
       "2016-01-08   94.418488   95.236496   98.405098   99.759018  100.238541   \n",
       "...                ...         ...         ...         ...         ...   \n",
       "2021-05-19  360.269989  359.010010  361.380005  364.119995  355.880005   \n",
       "2021-05-20  367.399994  360.269989  359.010010  361.380005  364.119995   \n",
       "2021-05-21  365.640015  367.399994  360.269989  359.010010  361.380005   \n",
       "2021-05-24  372.000000  365.640015  367.399994  360.269989  359.010010   \n",
       "2021-05-25  372.119995  372.000000  365.640015  367.399994  360.269989   \n",
       "\n",
       "                 lag_5       lag_6       lag_7       lag_8       lag_9  \\\n",
       "Date                                                                     \n",
       "2016-01-04         NaN         NaN         NaN         NaN         NaN   \n",
       "2016-01-05         NaN         NaN         NaN         NaN         NaN   \n",
       "2016-01-06         NaN         NaN         NaN         NaN         NaN   \n",
       "2016-01-07         NaN         NaN         NaN         NaN         NaN   \n",
       "2016-01-08         NaN         NaN         NaN         NaN         NaN   \n",
       "...                ...         ...         ...         ...         ...   \n",
       "2021-05-19  351.880005  362.549988  362.869995  372.500000  368.959991   \n",
       "2021-05-20  355.880005  351.880005  362.549988  362.869995  372.500000   \n",
       "2021-05-21  364.119995  355.880005  351.880005  362.549988  362.869995   \n",
       "2021-05-24  361.380005  364.119995  355.880005  351.880005  362.549988   \n",
       "2021-05-25  359.010010  361.380005  364.119995  355.880005  351.880005   \n",
       "\n",
       "                lag_10  \n",
       "Date                    \n",
       "2016-01-04         NaN  \n",
       "2016-01-05         NaN  \n",
       "2016-01-06         NaN  \n",
       "2016-01-07         NaN  \n",
       "2016-01-08         NaN  \n",
       "...                ...  \n",
       "2021-05-19  366.720001  \n",
       "2021-05-20  368.959991  \n",
       "2021-05-21  372.500000  \n",
       "2021-05-24  362.869995  \n",
       "2021-05-25  362.549988  \n",
       "\n",
       "[1358 rows x 11 columns]"
      ]
     },
     "execution_count": 10,
     "metadata": {},
     "output_type": "execute_result"
    }
   ],
   "source": [
    "for i, column_name in lag_features.items():\n",
    "    df_lags[column_name] = df_lags['price'].shift(i)\n",
    "    \n",
    "df_lags"
   ]
  },
  {
   "cell_type": "markdown",
   "metadata": {},
   "source": [
    "#### Split the DataFrame into training and test sets so that the test set is the most recent year of data (you can use pandas slicing, scikit-learn, or sktime packages to do this)."
   ]
  },
  {
   "cell_type": "code",
   "execution_count": 11,
   "metadata": {},
   "outputs": [
    {
     "data": {
      "text/html": [
       "<div>\n",
       "<style scoped>\n",
       "    .dataframe tbody tr th:only-of-type {\n",
       "        vertical-align: middle;\n",
       "    }\n",
       "\n",
       "    .dataframe tbody tr th {\n",
       "        vertical-align: top;\n",
       "    }\n",
       "\n",
       "    .dataframe thead th {\n",
       "        text-align: right;\n",
       "    }\n",
       "</style>\n",
       "<table border=\"1\" class=\"dataframe\">\n",
       "  <thead>\n",
       "    <tr style=\"text-align: right;\">\n",
       "      <th></th>\n",
       "      <th>price</th>\n",
       "    </tr>\n",
       "    <tr>\n",
       "      <th>Date</th>\n",
       "      <th></th>\n",
       "    </tr>\n",
       "  </thead>\n",
       "  <tbody>\n",
       "    <tr>\n",
       "      <th>2016-01-04</th>\n",
       "      <td>100.238541</td>\n",
       "    </tr>\n",
       "    <tr>\n",
       "      <th>2016-01-05</th>\n",
       "      <td>99.759018</td>\n",
       "    </tr>\n",
       "  </tbody>\n",
       "</table>\n",
       "</div>"
      ],
      "text/plain": [
       "                 price\n",
       "Date                  \n",
       "2016-01-04  100.238541\n",
       "2016-01-05   99.759018"
      ]
     },
     "execution_count": 11,
     "metadata": {},
     "output_type": "execute_result"
    }
   ],
   "source": [
    "train = df_price.loc[:'2019']\n",
    "train.head(2)"
   ]
  },
  {
   "cell_type": "code",
   "execution_count": 12,
   "metadata": {},
   "outputs": [
    {
     "data": {
      "text/html": [
       "<div>\n",
       "<style scoped>\n",
       "    .dataframe tbody tr th:only-of-type {\n",
       "        vertical-align: middle;\n",
       "    }\n",
       "\n",
       "    .dataframe tbody tr th {\n",
       "        vertical-align: top;\n",
       "    }\n",
       "\n",
       "    .dataframe thead th {\n",
       "        text-align: right;\n",
       "    }\n",
       "</style>\n",
       "<table border=\"1\" class=\"dataframe\">\n",
       "  <thead>\n",
       "    <tr style=\"text-align: right;\">\n",
       "      <th></th>\n",
       "      <th>price</th>\n",
       "    </tr>\n",
       "    <tr>\n",
       "      <th>Date</th>\n",
       "      <th></th>\n",
       "    </tr>\n",
       "  </thead>\n",
       "  <tbody>\n",
       "    <tr>\n",
       "      <th>2019-12-30</th>\n",
       "      <td>241.152298</td>\n",
       "    </tr>\n",
       "    <tr>\n",
       "      <th>2019-12-31</th>\n",
       "      <td>241.814011</td>\n",
       "    </tr>\n",
       "  </tbody>\n",
       "</table>\n",
       "</div>"
      ],
      "text/plain": [
       "                 price\n",
       "Date                  \n",
       "2019-12-30  241.152298\n",
       "2019-12-31  241.814011"
      ]
     },
     "execution_count": 12,
     "metadata": {},
     "output_type": "execute_result"
    }
   ],
   "source": [
    "train.tail(2)"
   ]
  },
  {
   "cell_type": "code",
   "execution_count": 13,
   "metadata": {},
   "outputs": [
    {
     "data": {
      "text/html": [
       "<div>\n",
       "<style scoped>\n",
       "    .dataframe tbody tr th:only-of-type {\n",
       "        vertical-align: middle;\n",
       "    }\n",
       "\n",
       "    .dataframe tbody tr th {\n",
       "        vertical-align: top;\n",
       "    }\n",
       "\n",
       "    .dataframe thead th {\n",
       "        text-align: right;\n",
       "    }\n",
       "</style>\n",
       "<table border=\"1\" class=\"dataframe\">\n",
       "  <thead>\n",
       "    <tr style=\"text-align: right;\">\n",
       "      <th></th>\n",
       "      <th>price</th>\n",
       "    </tr>\n",
       "    <tr>\n",
       "      <th>Date</th>\n",
       "      <th></th>\n",
       "    </tr>\n",
       "  </thead>\n",
       "  <tbody>\n",
       "    <tr>\n",
       "      <th>2020-01-02</th>\n",
       "      <td>246.248322</td>\n",
       "    </tr>\n",
       "    <tr>\n",
       "      <th>2020-01-03</th>\n",
       "      <td>243.660812</td>\n",
       "    </tr>\n",
       "  </tbody>\n",
       "</table>\n",
       "</div>"
      ],
      "text/plain": [
       "                 price\n",
       "Date                  \n",
       "2020-01-02  246.248322\n",
       "2020-01-03  243.660812"
      ]
     },
     "execution_count": 13,
     "metadata": {},
     "output_type": "execute_result"
    }
   ],
   "source": [
    "test = df_price.loc['2020']\n",
    "test.head(2)"
   ]
  },
  {
   "cell_type": "code",
   "execution_count": 14,
   "metadata": {
    "tags": []
   },
   "outputs": [
    {
     "data": {
      "text/html": [
       "<div>\n",
       "<style scoped>\n",
       "    .dataframe tbody tr th:only-of-type {\n",
       "        vertical-align: middle;\n",
       "    }\n",
       "\n",
       "    .dataframe tbody tr th {\n",
       "        vertical-align: top;\n",
       "    }\n",
       "\n",
       "    .dataframe thead th {\n",
       "        text-align: right;\n",
       "    }\n",
       "</style>\n",
       "<table border=\"1\" class=\"dataframe\">\n",
       "  <thead>\n",
       "    <tr style=\"text-align: right;\">\n",
       "      <th></th>\n",
       "      <th>price</th>\n",
       "    </tr>\n",
       "    <tr>\n",
       "      <th>Date</th>\n",
       "      <th></th>\n",
       "    </tr>\n",
       "  </thead>\n",
       "  <tbody>\n",
       "    <tr>\n",
       "      <th>2020-12-30</th>\n",
       "      <td>352.844543</td>\n",
       "    </tr>\n",
       "    <tr>\n",
       "      <th>2020-12-31</th>\n",
       "      <td>353.153992</td>\n",
       "    </tr>\n",
       "  </tbody>\n",
       "</table>\n",
       "</div>"
      ],
      "text/plain": [
       "                 price\n",
       "Date                  \n",
       "2020-12-30  352.844543\n",
       "2020-12-31  353.153992"
      ]
     },
     "execution_count": 14,
     "metadata": {},
     "output_type": "execute_result"
    }
   ],
   "source": [
    "test.tail(2)"
   ]
  },
  {
   "cell_type": "markdown",
   "metadata": {},
   "source": [
    "#### Plot the stock price with different colors for the training and test sets."
   ]
  },
  {
   "cell_type": "code",
   "execution_count": 15,
   "metadata": {},
   "outputs": [
    {
     "data": {
      "image/png": "[encoded data removed]",
      "text/plain": [
       "<Figure size 1008x576 with 1 Axes>"
      ]
     },
     "metadata": {
      "needs_background": "light"
     },
     "output_type": "display_data"
    }
   ],
   "source": [
    "train['price'].plot()\n",
    "test['price'].plot(figsize = (14, 8), title = 'Daily Closing Price');"
   ]
  },
  {
   "cell_type": "markdown",
   "metadata": {},
   "source": [
    "#### Find the autocorrelations of the training data for lags 1-10."
   ]
  },
  {
   "cell_type": "code",
   "execution_count": 16,
   "metadata": {},
   "outputs": [
    {
     "name": "stdout",
     "output_type": "stream",
     "text": [
      "1.0\n",
      "0.9990612128628984\n",
      "0.9984903996491402\n",
      "0.9977593654841405\n",
      "0.9970041132100841\n",
      "0.9963193278399148\n",
      "0.9955924077518503\n",
      "0.9951148145914306\n",
      "0.994359986040618\n",
      "0.9938655771722165\n",
      "0.9930631369840874\n"
     ]
    }
   ],
   "source": [
    "for i in range(11):\n",
    "    print(df_price['price'].autocorr(i))"
   ]
  },
  {
   "cell_type": "markdown",
   "metadata": {},
   "source": [
    "#### Plot the autocorrelation using statsmodels `plot_acf`."
   ]
  },
  {
   "cell_type": "code",
   "execution_count": 17,
   "metadata": {},
   "outputs": [
    {
     "data": {
      "image/png": "[encoded data removed]",
      "text/plain": [
       "<Figure size 432x288 with 1 Axes>"
      ]
     },
     "metadata": {
      "needs_background": "light"
     },
     "output_type": "display_data"
    }
   ],
   "source": [
    "plot_acf(df_price['price'], alpha=None);"
   ]
  },
  {
   "cell_type": "markdown",
   "metadata": {},
   "source": [
    "#### Plot the partial autocorrelation values using statsmodels `plot_pacf`."
   ]
  },
  {
   "cell_type": "code",
   "execution_count": 18,
   "metadata": {},
   "outputs": [
    {
     "data": {
      "image/png": "[encoded data removed]",
      "text/plain": [
       "<Figure size 432x288 with 1 Axes>"
      ]
     },
     "metadata": {
      "needs_background": "light"
     },
     "output_type": "display_data"
    }
   ],
   "source": [
    "plot_pacf(df_price['price']);"
   ]
  },
  {
   "cell_type": "markdown",
   "metadata": {},
   "source": [
    "#### Do any lags have high autocorrelation?"
   ]
  },
  {
   "cell_type": "markdown",
   "metadata": {},
   "source": [
    "Yes, they all seem to be highly correlated, but after the first day back, the lags don't give us much new information."
   ]
  },
  {
   "cell_type": "markdown",
   "metadata": {},
   "source": [
    "### Baseline model"
   ]
  },
  {
   "cell_type": "markdown",
   "metadata": {},
   "source": [
    "#### Make a baseline model that is just the last value from the training set, continued into the future."
   ]
  },
  {
   "cell_type": "code",
   "execution_count": 19,
   "metadata": {},
   "outputs": [
    {
     "data": {
      "text/html": [
       "<div>\n",
       "<style scoped>\n",
       "    .dataframe tbody tr th:only-of-type {\n",
       "        vertical-align: middle;\n",
       "    }\n",
       "\n",
       "    .dataframe tbody tr th {\n",
       "        vertical-align: top;\n",
       "    }\n",
       "\n",
       "    .dataframe thead th {\n",
       "        text-align: right;\n",
       "    }\n",
       "</style>\n",
       "<table border=\"1\" class=\"dataframe\">\n",
       "  <thead>\n",
       "    <tr style=\"text-align: right;\">\n",
       "      <th></th>\n",
       "      <th>price</th>\n",
       "    </tr>\n",
       "    <tr>\n",
       "      <th>Date</th>\n",
       "      <th></th>\n",
       "    </tr>\n",
       "  </thead>\n",
       "  <tbody>\n",
       "    <tr>\n",
       "      <th>2020-01-02</th>\n",
       "      <td>246.248322</td>\n",
       "    </tr>\n",
       "    <tr>\n",
       "      <th>2020-01-03</th>\n",
       "      <td>243.660812</td>\n",
       "    </tr>\n",
       "  </tbody>\n",
       "</table>\n",
       "</div>"
      ],
      "text/plain": [
       "                 price\n",
       "Date                  \n",
       "2020-01-02  246.248322\n",
       "2020-01-03  243.660812"
      ]
     },
     "execution_count": 19,
     "metadata": {},
     "output_type": "execute_result"
    }
   ],
   "source": [
    "df_predictions = test.copy(deep = True)\n",
    "df_predictions.head(2)"
   ]
  },
  {
   "cell_type": "code",
   "execution_count": 20,
   "metadata": {},
   "outputs": [
    {
     "data": {
      "text/html": [
       "<div>\n",
       "<style scoped>\n",
       "    .dataframe tbody tr th:only-of-type {\n",
       "        vertical-align: middle;\n",
       "    }\n",
       "\n",
       "    .dataframe tbody tr th {\n",
       "        vertical-align: top;\n",
       "    }\n",
       "\n",
       "    .dataframe thead th {\n",
       "        text-align: right;\n",
       "    }\n",
       "</style>\n",
       "<table border=\"1\" class=\"dataframe\">\n",
       "  <thead>\n",
       "    <tr style=\"text-align: right;\">\n",
       "      <th></th>\n",
       "      <th>price</th>\n",
       "      <th>last</th>\n",
       "    </tr>\n",
       "    <tr>\n",
       "      <th>Date</th>\n",
       "      <th></th>\n",
       "      <th></th>\n",
       "    </tr>\n",
       "  </thead>\n",
       "  <tbody>\n",
       "    <tr>\n",
       "      <th>2020-01-02</th>\n",
       "      <td>246.248322</td>\n",
       "      <td>241.814011</td>\n",
       "    </tr>\n",
       "    <tr>\n",
       "      <th>2020-01-03</th>\n",
       "      <td>243.660812</td>\n",
       "      <td>241.814011</td>\n",
       "    </tr>\n",
       "    <tr>\n",
       "      <th>2020-01-06</th>\n",
       "      <td>244.470642</td>\n",
       "      <td>241.814011</td>\n",
       "    </tr>\n",
       "    <tr>\n",
       "      <th>2020-01-07</th>\n",
       "      <td>244.441010</td>\n",
       "      <td>241.814011</td>\n",
       "    </tr>\n",
       "    <tr>\n",
       "      <th>2020-01-08</th>\n",
       "      <td>247.018661</td>\n",
       "      <td>241.814011</td>\n",
       "    </tr>\n",
       "    <tr>\n",
       "      <th>...</th>\n",
       "      <td>...</td>\n",
       "      <td>...</td>\n",
       "    </tr>\n",
       "    <tr>\n",
       "      <th>2020-12-24</th>\n",
       "      <td>352.245605</td>\n",
       "      <td>241.814011</td>\n",
       "    </tr>\n",
       "    <tr>\n",
       "      <th>2020-12-28</th>\n",
       "      <td>354.721130</td>\n",
       "      <td>241.814011</td>\n",
       "    </tr>\n",
       "    <tr>\n",
       "      <th>2020-12-29</th>\n",
       "      <td>352.375397</td>\n",
       "      <td>241.814011</td>\n",
       "    </tr>\n",
       "    <tr>\n",
       "      <th>2020-12-30</th>\n",
       "      <td>352.844543</td>\n",
       "      <td>241.814011</td>\n",
       "    </tr>\n",
       "    <tr>\n",
       "      <th>2020-12-31</th>\n",
       "      <td>353.153992</td>\n",
       "      <td>241.814011</td>\n",
       "    </tr>\n",
       "  </tbody>\n",
       "</table>\n",
       "<p>253 rows × 2 columns</p>\n",
       "</div>"
      ],
      "text/plain": [
       "                 price        last\n",
       "Date                              \n",
       "2020-01-02  246.248322  241.814011\n",
       "2020-01-03  243.660812  241.814011\n",
       "2020-01-06  244.470642  241.814011\n",
       "2020-01-07  244.441010  241.814011\n",
       "2020-01-08  247.018661  241.814011\n",
       "...                ...         ...\n",
       "2020-12-24  352.245605  241.814011\n",
       "2020-12-28  354.721130  241.814011\n",
       "2020-12-29  352.375397  241.814011\n",
       "2020-12-30  352.844543  241.814011\n",
       "2020-12-31  353.153992  241.814011\n",
       "\n",
       "[253 rows x 2 columns]"
      ]
     },
     "execution_count": 20,
     "metadata": {},
     "output_type": "execute_result"
    }
   ],
   "source": [
    "df_predictions['last'] = train['price'].iloc[-1]\n",
    "df_predictions"
   ]
  },
  {
   "cell_type": "markdown",
   "metadata": {},
   "source": [
    "#### Plot it"
   ]
  },
  {
   "cell_type": "code",
   "execution_count": 21,
   "metadata": {},
   "outputs": [
    {
     "data": {
      "image/png": "[encoded data removed]",
      "text/plain": [
       "<Figure size 864x576 with 1 Axes>"
      ]
     },
     "metadata": {
      "needs_background": "light"
     },
     "output_type": "display_data"
    }
   ],
   "source": [
    "plt.figure(figsize=(12,8))\n",
    "\n",
    "plt.plot(train.index, train['price'], label='Train')\n",
    "plt.plot(test.index, test['price'], label='Test')\n",
    "plt.plot(df_predictions.index, df_predictions['last'], label=\"Naive Last\")\n",
    "\n",
    "plt.legend(loc='best')\n",
    "plt.title(\"Naive Forecast\");"
   ]
  },
  {
   "cell_type": "markdown",
   "metadata": {},
   "source": [
    "#### Score it on the test set using MAE"
   ]
  },
  {
   "cell_type": "code",
   "execution_count": 22,
   "metadata": {},
   "outputs": [
    {
     "data": {
      "text/plain": [
       "55.46"
      ]
     },
     "execution_count": 22,
     "metadata": {},
     "output_type": "execute_result"
    }
   ],
   "source": [
    "round(mean_squared_error(df_predictions['price'], df_predictions['last'], squared = False),2)"
   ]
  },
  {
   "cell_type": "markdown",
   "metadata": {},
   "source": [
    "## Autoregression model\n",
    "\"Autoregression is a time series model that uses observations from previous time steps as input to a regression equation to predict the value at the next time step.\" - [Machine Learning Mastery](https://machinelearningmastery.com/autoregression-models-time-series-forecasting-python/)"
   ]
  },
  {
   "cell_type": "markdown",
   "metadata": {},
   "source": [
    "#### Using scikit-learn's LinearRegression class, make a model to predict the stock price based on 10 lags. "
   ]
  },
  {
   "cell_type": "code",
   "execution_count": 23,
   "metadata": {},
   "outputs": [],
   "source": [
    "df_lags.dropna(inplace=True)"
   ]
  },
  {
   "cell_type": "code",
   "execution_count": 24,
   "metadata": {},
   "outputs": [],
   "source": [
    "X = df_lags.drop(columns = 'price')\n",
    "y = df_lags['price']"
   ]
  },
  {
   "cell_type": "code",
   "execution_count": 25,
   "metadata": {},
   "outputs": [
    {
     "data": {
      "text/html": [
       "<div>\n",
       "<style scoped>\n",
       "    .dataframe tbody tr th:only-of-type {\n",
       "        vertical-align: middle;\n",
       "    }\n",
       "\n",
       "    .dataframe tbody tr th {\n",
       "        vertical-align: top;\n",
       "    }\n",
       "\n",
       "    .dataframe thead th {\n",
       "        text-align: right;\n",
       "    }\n",
       "</style>\n",
       "<table border=\"1\" class=\"dataframe\">\n",
       "  <thead>\n",
       "    <tr style=\"text-align: right;\">\n",
       "      <th></th>\n",
       "      <th>lag_1</th>\n",
       "      <th>lag_2</th>\n",
       "      <th>lag_3</th>\n",
       "      <th>lag_4</th>\n",
       "      <th>lag_5</th>\n",
       "      <th>lag_6</th>\n",
       "      <th>lag_7</th>\n",
       "      <th>lag_8</th>\n",
       "      <th>lag_9</th>\n",
       "      <th>lag_10</th>\n",
       "    </tr>\n",
       "    <tr>\n",
       "      <th>Date</th>\n",
       "      <th></th>\n",
       "      <th></th>\n",
       "      <th></th>\n",
       "      <th></th>\n",
       "      <th></th>\n",
       "      <th></th>\n",
       "      <th></th>\n",
       "      <th></th>\n",
       "      <th></th>\n",
       "      <th></th>\n",
       "    </tr>\n",
       "  </thead>\n",
       "  <tbody>\n",
       "    <tr>\n",
       "      <th>2016-01-19</th>\n",
       "      <td>92.237129</td>\n",
       "      <td>95.067245</td>\n",
       "      <td>93.271385</td>\n",
       "      <td>95.960464</td>\n",
       "      <td>94.879219</td>\n",
       "      <td>94.418488</td>\n",
       "      <td>95.236496</td>\n",
       "      <td>98.405098</td>\n",
       "      <td>99.759018</td>\n",
       "      <td>100.238541</td>\n",
       "    </tr>\n",
       "    <tr>\n",
       "      <th>2016-01-20</th>\n",
       "      <td>91.992661</td>\n",
       "      <td>92.237129</td>\n",
       "      <td>95.067245</td>\n",
       "      <td>93.271385</td>\n",
       "      <td>95.960464</td>\n",
       "      <td>94.879219</td>\n",
       "      <td>94.418488</td>\n",
       "      <td>95.236496</td>\n",
       "      <td>98.405098</td>\n",
       "      <td>99.759018</td>\n",
       "    </tr>\n",
       "  </tbody>\n",
       "</table>\n",
       "</div>"
      ],
      "text/plain": [
       "                lag_1      lag_2      lag_3      lag_4      lag_5      lag_6  \\\n",
       "Date                                                                           \n",
       "2016-01-19  92.237129  95.067245  93.271385  95.960464  94.879219  94.418488   \n",
       "2016-01-20  91.992661  92.237129  95.067245  93.271385  95.960464  94.879219   \n",
       "\n",
       "                lag_7      lag_8      lag_9      lag_10  \n",
       "Date                                                     \n",
       "2016-01-19  95.236496  98.405098  99.759018  100.238541  \n",
       "2016-01-20  94.418488  95.236496  98.405098   99.759018  "
      ]
     },
     "execution_count": 25,
     "metadata": {},
     "output_type": "execute_result"
    }
   ],
   "source": [
    "X.head(2)"
   ]
  },
  {
   "cell_type": "code",
   "execution_count": 26,
   "metadata": {},
   "outputs": [
    {
     "data": {
      "text/plain": [
       "Date\n",
       "2016-01-19    91.992661\n",
       "2016-01-20    91.503746\n",
       "Name: price, dtype: float64"
      ]
     },
     "execution_count": 26,
     "metadata": {},
     "output_type": "execute_result"
    }
   ],
   "source": [
    "y.head(2)"
   ]
  },
  {
   "cell_type": "code",
   "execution_count": 27,
   "metadata": {},
   "outputs": [],
   "source": [
    "X_train = X.loc[:'2019']\n",
    "X_test = X.loc['2020']\n",
    "y_train = y.loc[:'2019']\n",
    "y_test = y.loc['2020']"
   ]
  },
  {
   "cell_type": "code",
   "execution_count": 28,
   "metadata": {},
   "outputs": [
    {
     "data": {
      "text/html": [
       "<div>\n",
       "<style scoped>\n",
       "    .dataframe tbody tr th:only-of-type {\n",
       "        vertical-align: middle;\n",
       "    }\n",
       "\n",
       "    .dataframe tbody tr th {\n",
       "        vertical-align: top;\n",
       "    }\n",
       "\n",
       "    .dataframe thead th {\n",
       "        text-align: right;\n",
       "    }\n",
       "</style>\n",
       "<table border=\"1\" class=\"dataframe\">\n",
       "  <thead>\n",
       "    <tr style=\"text-align: right;\">\n",
       "      <th></th>\n",
       "      <th>lag_1</th>\n",
       "      <th>lag_2</th>\n",
       "      <th>lag_3</th>\n",
       "      <th>lag_4</th>\n",
       "      <th>lag_5</th>\n",
       "      <th>lag_6</th>\n",
       "      <th>lag_7</th>\n",
       "      <th>lag_8</th>\n",
       "      <th>lag_9</th>\n",
       "      <th>lag_10</th>\n",
       "    </tr>\n",
       "    <tr>\n",
       "      <th>Date</th>\n",
       "      <th></th>\n",
       "      <th></th>\n",
       "      <th></th>\n",
       "      <th></th>\n",
       "      <th></th>\n",
       "      <th></th>\n",
       "      <th></th>\n",
       "      <th></th>\n",
       "      <th></th>\n",
       "      <th></th>\n",
       "    </tr>\n",
       "  </thead>\n",
       "  <tbody>\n",
       "    <tr>\n",
       "      <th>2016-01-19</th>\n",
       "      <td>92.237129</td>\n",
       "      <td>95.067245</td>\n",
       "      <td>93.271385</td>\n",
       "      <td>95.960464</td>\n",
       "      <td>94.879219</td>\n",
       "      <td>94.418488</td>\n",
       "      <td>95.236496</td>\n",
       "      <td>98.405098</td>\n",
       "      <td>99.759018</td>\n",
       "      <td>100.238541</td>\n",
       "    </tr>\n",
       "    <tr>\n",
       "      <th>2016-01-20</th>\n",
       "      <td>91.992661</td>\n",
       "      <td>92.237129</td>\n",
       "      <td>95.067245</td>\n",
       "      <td>93.271385</td>\n",
       "      <td>95.960464</td>\n",
       "      <td>94.879219</td>\n",
       "      <td>94.418488</td>\n",
       "      <td>95.236496</td>\n",
       "      <td>98.405098</td>\n",
       "      <td>99.759018</td>\n",
       "    </tr>\n",
       "  </tbody>\n",
       "</table>\n",
       "</div>"
      ],
      "text/plain": [
       "                lag_1      lag_2      lag_3      lag_4      lag_5      lag_6  \\\n",
       "Date                                                                           \n",
       "2016-01-19  92.237129  95.067245  93.271385  95.960464  94.879219  94.418488   \n",
       "2016-01-20  91.992661  92.237129  95.067245  93.271385  95.960464  94.879219   \n",
       "\n",
       "                lag_7      lag_8      lag_9      lag_10  \n",
       "Date                                                     \n",
       "2016-01-19  95.236496  98.405098  99.759018  100.238541  \n",
       "2016-01-20  94.418488  95.236496  98.405098   99.759018  "
      ]
     },
     "execution_count": 28,
     "metadata": {},
     "output_type": "execute_result"
    }
   ],
   "source": [
    "X_train.head(2)"
   ]
  },
  {
   "cell_type": "code",
   "execution_count": 29,
   "metadata": {},
   "outputs": [
    {
     "data": {
      "text/html": [
       "<div>\n",
       "<style scoped>\n",
       "    .dataframe tbody tr th:only-of-type {\n",
       "        vertical-align: middle;\n",
       "    }\n",
       "\n",
       "    .dataframe tbody tr th {\n",
       "        vertical-align: top;\n",
       "    }\n",
       "\n",
       "    .dataframe thead th {\n",
       "        text-align: right;\n",
       "    }\n",
       "</style>\n",
       "<table border=\"1\" class=\"dataframe\">\n",
       "  <thead>\n",
       "    <tr style=\"text-align: right;\">\n",
       "      <th></th>\n",
       "      <th>lag_1</th>\n",
       "      <th>lag_2</th>\n",
       "      <th>lag_3</th>\n",
       "      <th>lag_4</th>\n",
       "      <th>lag_5</th>\n",
       "      <th>lag_6</th>\n",
       "      <th>lag_7</th>\n",
       "      <th>lag_8</th>\n",
       "      <th>lag_9</th>\n",
       "      <th>lag_10</th>\n",
       "    </tr>\n",
       "    <tr>\n",
       "      <th>Date</th>\n",
       "      <th></th>\n",
       "      <th></th>\n",
       "      <th></th>\n",
       "      <th></th>\n",
       "      <th></th>\n",
       "      <th></th>\n",
       "      <th></th>\n",
       "      <th></th>\n",
       "      <th></th>\n",
       "      <th></th>\n",
       "    </tr>\n",
       "  </thead>\n",
       "  <tbody>\n",
       "    <tr>\n",
       "      <th>2020-01-02</th>\n",
       "      <td>241.814011</td>\n",
       "      <td>241.152298</td>\n",
       "      <td>242.594208</td>\n",
       "      <td>242.683090</td>\n",
       "      <td>240.826401</td>\n",
       "      <td>240.806656</td>\n",
       "      <td>239.996796</td>\n",
       "      <td>238.663544</td>\n",
       "      <td>237.103134</td>\n",
       "      <td>237.024139</td>\n",
       "    </tr>\n",
       "    <tr>\n",
       "      <th>2020-01-03</th>\n",
       "      <td>246.248322</td>\n",
       "      <td>241.814011</td>\n",
       "      <td>241.152298</td>\n",
       "      <td>242.594208</td>\n",
       "      <td>242.683090</td>\n",
       "      <td>240.826401</td>\n",
       "      <td>240.806656</td>\n",
       "      <td>239.996796</td>\n",
       "      <td>238.663544</td>\n",
       "      <td>237.103134</td>\n",
       "    </tr>\n",
       "  </tbody>\n",
       "</table>\n",
       "</div>"
      ],
      "text/plain": [
       "                 lag_1       lag_2       lag_3       lag_4       lag_5  \\\n",
       "Date                                                                     \n",
       "2020-01-02  241.814011  241.152298  242.594208  242.683090  240.826401   \n",
       "2020-01-03  246.248322  241.814011  241.152298  242.594208  242.683090   \n",
       "\n",
       "                 lag_6       lag_7       lag_8       lag_9      lag_10  \n",
       "Date                                                                    \n",
       "2020-01-02  240.806656  239.996796  238.663544  237.103134  237.024139  \n",
       "2020-01-03  240.826401  240.806656  239.996796  238.663544  237.103134  "
      ]
     },
     "execution_count": 29,
     "metadata": {},
     "output_type": "execute_result"
    }
   ],
   "source": [
    "X_test.head(2)"
   ]
  },
  {
   "cell_type": "code",
   "execution_count": 30,
   "metadata": {},
   "outputs": [
    {
     "data": {
      "text/plain": [
       "Date\n",
       "2016-01-19    91.992661\n",
       "2016-01-20    91.503746\n",
       "Name: price, dtype: float64"
      ]
     },
     "execution_count": 30,
     "metadata": {},
     "output_type": "execute_result"
    }
   ],
   "source": [
    "y_train.head(2)"
   ]
  },
  {
   "cell_type": "code",
   "execution_count": 31,
   "metadata": {},
   "outputs": [
    {
     "data": {
      "text/plain": [
       "Date\n",
       "2020-01-02    246.248322\n",
       "2020-01-03    243.660812\n",
       "Name: price, dtype: float64"
      ]
     },
     "execution_count": 31,
     "metadata": {},
     "output_type": "execute_result"
    }
   ],
   "source": [
    "y_test.head(2)"
   ]
  },
  {
   "cell_type": "markdown",
   "metadata": {},
   "source": [
    "#### Create and fit your model."
   ]
  },
  {
   "cell_type": "code",
   "execution_count": 32,
   "metadata": {},
   "outputs": [
    {
     "data": {
      "text/plain": [
       "LinearRegression()"
      ]
     },
     "execution_count": 32,
     "metadata": {},
     "output_type": "execute_result"
    }
   ],
   "source": [
    "lr = LinearRegression()\n",
    "lr.fit(X_train, y_train)"
   ]
  },
  {
   "cell_type": "markdown",
   "metadata": {},
   "source": [
    "#### Predict on the test set, plot, and score on MAE."
   ]
  },
  {
   "cell_type": "code",
   "execution_count": 33,
   "metadata": {
    "tags": []
   },
   "outputs": [
    {
     "data": {
      "text/plain": [
       "array([241.95270836, 245.99095863, 243.61522082, 245.17887837,\n",
       "       244.15073716, 246.89383751, 249.92123812, 249.673665  ,\n",
       "       251.99944188, 251.4167112 , 251.61821778, 254.98296587,\n",
       "       256.15095897, 255.92485439, 257.5831434 , 257.7477933 ,\n",
       "       257.29744092, 251.73537678, 255.70875977, 255.32390685,\n",
       "       258.58012324, 251.55864309, 254.44256125, 259.75649492,\n",
       "       263.02369036, 264.11338611, 261.8425289 , 264.09018614,\n",
       "       265.17496654, 267.66190208, 266.1065644 , 268.0672292 ,\n",
       "       266.44968979, 270.44291672, 266.9416899 , 262.4266093 ,\n",
       "       251.29309885, 243.9235781 , 243.6629155 , 232.08607026,\n",
       "       234.0118478 , 244.3172494 , 236.07058186, 247.52105282,\n",
       "       238.19846472, 232.8034097 , 217.49700817, 229.91040485,\n",
       "       214.85607473, 201.19929792, 216.89628183, 188.02151605,\n",
       "       202.23033234, 195.26357601, 192.20750398, 185.92199486,\n",
       "       189.02344501, 197.49065655, 206.39964275, 214.57340556,\n",
       "       206.31715212, 213.75261633, 209.58295271, 202.81255789,\n",
       "       202.49948474, 201.40293457, 215.84450891, 217.29929991,\n",
       "       221.93390412, 221.8951438 , 224.57805383, 231.20875212,\n",
       "       228.78815534, 228.46082227, 233.64493309, 228.95276326,\n",
       "       221.25103111, 229.48930166, 225.21651029, 233.40181926,\n",
       "       234.54145918, 230.95836451, 240.94857681, 240.85752902,\n",
       "       232.87681213, 236.7108926 , 238.50046293, 240.80526664,\n",
       "       247.02773692, 247.72611043, 250.35394869, 246.76811562,\n",
       "       241.70344735, 243.75130297, 245.50402192, 251.57146178,\n",
       "       250.53412769, 255.95421053, 253.15960162, 255.55245979,\n",
       "       254.25620477, 256.45861889, 255.02738541, 259.49317582,\n",
       "       258.58892935, 262.51109636, 264.13673105, 261.96282186,\n",
       "       267.95583541, 269.48402525, 270.30011797, 274.43318304,\n",
       "       259.05325391, 262.56864862, 265.09320037, 270.30424454,\n",
       "       270.93003507, 272.71066411, 268.35052176, 277.10812961,\n",
       "       276.54582621, 271.42310463, 274.23279596, 269.17753869,\n",
       "       272.34071998, 277.37392133, 277.27937476, 278.84635707,\n",
       "       284.34396986, 279.967193  , 286.84350006, 286.6415989 ,\n",
       "       286.16292658, 280.47227264, 283.76573307, 283.88505414,\n",
       "       282.69575683, 283.3375452 , 289.93003057, 287.12341759,\n",
       "       291.58775883, 282.61640909, 279.32890912, 284.34155557,\n",
       "       280.94838658, 285.03183061, 287.0495357 , 292.58293854,\n",
       "       300.25405858, 301.84683282, 301.84777723, 306.53633511,\n",
       "       300.6998697 , 301.31840402, 295.03666844, 301.07802658,\n",
       "       301.99251169, 302.39140651, 303.5627339 , 305.23814348,\n",
       "       304.35719632, 309.63790054, 310.67047324, 314.02527004,\n",
       "       315.99367173, 321.68948003, 321.44911429, 325.65322472,\n",
       "       325.63216376, 333.37205431, 335.55683678, 317.83451696,\n",
       "       312.25361851, 298.0956791 , 307.82736129, 301.58672516,\n",
       "       299.72588395, 303.08659928, 309.31526991, 303.44368239,\n",
       "       303.75164096, 294.77012442, 299.67553417, 304.58265157,\n",
       "       295.11456586, 296.18358188, 302.80271246, 308.23049948,\n",
       "       309.12373313, 310.66488104, 312.20213267, 307.98477793,\n",
       "       314.81727081, 308.64598341, 315.23545645, 316.73153874,\n",
       "       322.24359219, 328.70071557, 329.72883555, 326.09998374,\n",
       "       326.40184333, 323.886859  , 320.32430001, 320.72220954,\n",
       "       317.99998157, 318.19593778, 318.00381389, 311.18446421,\n",
       "       312.35951234, 300.5678991 , 304.76315783, 296.92271488,\n",
       "       298.83558395, 302.43020548, 315.26438765, 323.0494556 ,\n",
       "       327.94152333, 321.99491356, 317.01794351, 323.92014611,\n",
       "       321.28447216, 324.41608578, 326.2007592 , 325.81688482,\n",
       "       323.18838163, 327.89812023, 322.54297479, 325.10926686,\n",
       "       327.84471951, 328.82824817, 331.86245809, 334.66579039,\n",
       "       336.0437756 , 336.66170353, 337.07087056, 339.91732652,\n",
       "       341.06630148, 342.91486358, 336.10019666, 337.42705097,\n",
       "       336.45879378, 338.75151967, 343.46778826, 346.09741624,\n",
       "       348.7109828 , 349.26399925, 349.16922172, 352.98386195,\n",
       "       350.19971531, 352.28094562, 354.41113577, 352.10249063,\n",
       "       353.50545515])"
      ]
     },
     "execution_count": 33,
     "metadata": {},
     "output_type": "execute_result"
    }
   ],
   "source": [
    "preds = lr.predict(X_test)\n",
    "preds"
   ]
  },
  {
   "cell_type": "code",
   "execution_count": 34,
   "metadata": {},
   "outputs": [
    {
     "data": {
      "image/png": "[encoded data removed]",
      "text/plain": [
       "<Figure size 432x288 with 1 Axes>"
      ]
     },
     "metadata": {
      "needs_background": "light"
     },
     "output_type": "display_data"
    }
   ],
   "source": [
    "plt.plot(X_test.index, y_test);\n",
    "plt.plot(X_test.index, preds);"
   ]
  },
  {
   "cell_type": "code",
   "execution_count": 35,
   "metadata": {},
   "outputs": [
    {
     "data": {
      "text/plain": [
       "5.82"
      ]
     },
     "execution_count": 35,
     "metadata": {},
     "output_type": "execute_result"
    }
   ],
   "source": [
    "round(mean_squared_error(y_test, preds, squared = False),2)"
   ]
  },
  {
   "cell_type": "markdown",
   "metadata": {},
   "source": [
    "#### How does this very basic model perform?"
   ]
  },
  {
   "cell_type": "markdown",
   "metadata": {},
   "source": [
    "It performs pretty well."
   ]
  },
  {
   "cell_type": "markdown",
   "metadata": {},
   "source": [
    "#### How does it compare to the baseline?"
   ]
  },
  {
   "cell_type": "markdown",
   "metadata": {},
   "source": [
    "Definitely an improvement from the baseline."
   ]
  },
  {
   "cell_type": "markdown",
   "metadata": {},
   "source": [
    "#### Congratulations! You just made an autoregression model (AR)! 🎉"
   ]
  },
  {
   "cell_type": "markdown",
   "metadata": {},
   "source": [
    "#### Would your recommend anyone use your model to guide their investment decisions?"
   ]
  },
  {
   "cell_type": "markdown",
   "metadata": {},
   "source": [
    "The model looks like it performs pretty well, but I'd err on the side of caution because stocks can be very unpredictable."
   ]
  }
 ],
 "metadata": {
  "kernelspec": {
   "display_name": "Python 3",
   "language": "python",
   "name": "python3"
  },
  "language_info": {
   "codemirror_mode": {
    "name": "ipython",
    "version": 3
   },
   "file_extension": ".py",
   "mimetype": "text/x-python",
   "name": "python",
   "nbconvert_exporter": "python",
   "pygments_lexer": "ipython3",
   "version": "3.8.8"
  }
 },
 "nbformat": 4,
 "nbformat_minor": 4
}
