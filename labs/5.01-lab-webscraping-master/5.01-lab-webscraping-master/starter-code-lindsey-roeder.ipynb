{
 "cells": [
  {
   "cell_type": "markdown",
   "metadata": {},
   "source": [
    "# Webscraping lab\n",
    "\n",
    "Practice your webscraping and parsing skills! 🎉"
   ]
  },
  {
   "cell_type": "code",
   "execution_count": 1,
   "metadata": {},
   "outputs": [],
   "source": [
    "# Import libaries\n",
    "import pandas as pd\n",
    "import requests\n",
    "from bs4 import BeautifulSoup\n"
   ]
  },
  {
   "cell_type": "markdown",
   "metadata": {},
   "source": [
    "### Step 1: Create a soup object from the home page"
   ]
  },
  {
   "cell_type": "code",
   "execution_count": 2,
   "metadata": {},
   "outputs": [
    {
     "data": {
      "text/plain": [
       "<Response [200]>"
      ]
     },
     "execution_count": 2,
     "metadata": {},
     "output_type": "execute_result"
    }
   ],
   "source": [
    "url = 'https://pages.git.generalassemb.ly/rldaggie/for-scraping/'\n",
    "req = requests.get(url, timeout = 5)\n",
    "req"
   ]
  },
  {
   "cell_type": "code",
   "execution_count": 3,
   "metadata": {},
   "outputs": [
    {
     "data": {
      "text/plain": [
       "200"
      ]
     },
     "execution_count": 3,
     "metadata": {},
     "output_type": "execute_result"
    }
   ],
   "source": [
    "req.status_code"
   ]
  },
  {
   "cell_type": "code",
   "execution_count": 4,
   "metadata": {},
   "outputs": [
    {
     "data": {
      "text/plain": [
       "b'<!DOCTYPE html>\\n<html lang=\"en\">\\n  <head>\\n    <meta charset=\"utf-8\"/>\\n    <meta http-equiv=\"X-UA-Compatible\" content=\"IE=edge\"/>\\n    <meta name=\"viewport\" content=\"width=device-width, initial-scale=1.0\"/>\\n    <title>Nutrition Information</title>\\n    <link rel=\"stylesheet\" href=\"https://stackpath.bootstrapcdn.com/bootstrap/4.4.1/css/bootstrap.min.css\" integrity=\"sha384-Vkoo8x4CGsO3+Hhxv8T/Q5PaXtkKtu6ug5TOeNV6gBiFeWPGFN9MuhOf23Q9Ifjh\" crossorigin=\"anonymous\">\\n\\n  </head>\\n  <body>\\n    <header>\\n      <section class=\"container\">\\n        <nav role=\"navigation\" class=\"navbar navbar-expand-lg navbar-light bg-light\">\\n<a class=\"navbar-brand\" href=\"/\">Nutrition Information</a>        </nav>\\n      </section>\\n    </header>\\n    <main role=\"main\" class=\"container\">\\n      <br>\\n      <div class=\"alert alert-danger\">\\n        NOTE: This data is super old and rife with errors. It\\'s meant for scraping practice only.\\n      </div>\\n<table id=\"restaurants\" class=\"table\">\\n  <thead>\\n    <tr>\\n      <th>Name</th>\\n\\n      <th></th>\\n    </tr>\\n  </thead>\\n  <tbody>\\n    <tr>\\n      <td>\\n<a href=\"restaurants/1.html\">A&amp;W Restaurants</a>      </td>\\n    </tr>\\n    <tr>\\n      <td>\\n<a href=\"restaurants/2.html\">Applebee&#39;s</a>      </td>\\n    </tr>\\n    <tr>\\n      <td>\\n<a href=\"restaurants/3.html\">Arby&#39;s</a>      </td>\\n    </tr>\\n    <tr>\\n      <td>\\n<a href=\"restaurants/4.html\">Atlanta Bread Company</a>      </td>\\n    </tr>\\n    <tr>\\n      <td>\\n<a href=\"restaurants/5.html\">Bojangle&#39;s Famous Chicken &#39;n Biscuits</a>      </td>\\n    </tr>\\n    <tr>\\n      <td>\\n<a href=\"restaurants/6.html\">Buffalo Wild Wings</a>      </td>\\n    </tr>\\n    <tr>\\n      <td>\\n<a href=\"restaurants/7.html\">Burger King</a>      </td>\\n    </tr>\\n    <tr>\\n      <td>\\n<a href=\"restaurants/8.html\">Captain D&#39;s</a>      </td>\\n    </tr>\\n    <tr>\\n      <td>\\n<a href=\"restaurants/9.html\">Carl&#39;s Jr.</a>      </td>\\n    </tr>\\n    <tr>\\n      <td>\\n<a href=\"restaurants/10.html\">Charley&#39;s Grilled Subs</a>      </td>\\n    </tr>\\n    <tr>\\n      <td>\\n<a href=\"restaurants/11.html\">Chick-fil-A</a>      </td>\\n    </tr>\\n    <tr>\\n      <td>\\n<a href=\"restaurants/12.html\">Chili&#39;s</a>      </td>\\n    </tr>\\n    <tr>\\n      <td>\\n<a href=\"restaurants/13.html\">Chipotle Mexican Grill</a>      </td>\\n    </tr>\\n    <tr>\\n      <td>\\n<a href=\"restaurants/14.html\">Church&#39;s</a>      </td>\\n    </tr>\\n    <tr>\\n      <td>\\n<a href=\"restaurants/15.html\">Corner Bakery Cafe</a>      </td>\\n    </tr>\\n    <tr>\\n      <td>\\n<a href=\"restaurants/16.html\">Dairy Queen</a>      </td>\\n    </tr>\\n    <tr>\\n      <td>\\n<a href=\"restaurants/17.html\">Denny&#39;s</a>      </td>\\n    </tr>\\n    <tr>\\n      <td>\\n<a href=\"restaurants/18.html\">El Pollo Loco</a>      </td>\\n    </tr>\\n    <tr>\\n      <td>\\n<a href=\"restaurants/19.html\">FATZ</a>      </td>\\n    </tr>\\n    <tr>\\n      <td>\\n<a href=\"restaurants/20.html\">Fazoli&#39;s</a>      </td>\\n    </tr>\\n    <tr>\\n      <td>\\n<a href=\"restaurants/21.html\">Five Guys Burgers and Fries</a>      </td>\\n    </tr>\\n    <tr>\\n      <td>\\n<a href=\"restaurants/22.html\">Golden Chick</a>      </td>\\n    </tr>\\n    <tr>\\n      <td>\\n<a href=\"restaurants/23.html\">Hardee&#39;s</a>      </td>\\n    </tr>\\n    <tr>\\n      <td>\\n<a href=\"restaurants/24.html\">IHOP</a>      </td>\\n    </tr>\\n    <tr>\\n      <td>\\n<a href=\"restaurants/25.html\">In-N-Out Burger</a>      </td>\\n    </tr>\\n    <tr>\\n      <td>\\n<a href=\"restaurants/26.html\">Jack in the Box</a>      </td>\\n    </tr>\\n    <tr>\\n      <td>\\n<a href=\"restaurants/27.html\">Jimmy Johns</a>      </td>\\n    </tr>\\n    <tr>\\n      <td>\\n<a href=\"restaurants/28.html\">Joe&#39;s Crab Shack</a>      </td>\\n    </tr>\\n    <tr>\\n      <td>\\n<a href=\"restaurants/29.html\">KFC</a>      </td>\\n    </tr>\\n    <tr>\\n      <td>\\n<a href=\"restaurants/30.html\">McDonald&#39;s</a>      </td>\\n    </tr>\\n    <tr>\\n      <td>\\n<a href=\"restaurants/31.html\">O&#39;Charley&#39;s</a>      </td>\\n    </tr>\\n    <tr>\\n      <td>\\n<a href=\"restaurants/32.html\">Olive Garden</a>      </td>\\n    </tr>\\n    <tr>\\n      <td>\\n<a href=\"restaurants/33.html\">Outback Steakhouse</a>      </td>\\n    </tr>\\n    <tr>\\n      <td>\\n<a href=\"restaurants/34.html\">Panda Express</a>      </td>\\n    </tr>\\n    <tr>\\n      <td>\\n<a href=\"restaurants/35.html\">Panera Bread</a>      </td>\\n    </tr>\\n    <tr>\\n      <td>\\n<a href=\"restaurants/36.html\">Popeye&#39;s</a>      </td>\\n    </tr>\\n    <tr>\\n      <td>\\n<a href=\"restaurants/37.html\">Quiznos</a>      </td>\\n    </tr>\\n    <tr>\\n      <td>\\n<a href=\"restaurants/38.html\">Red Robin Gourmet Burgers</a>      </td>\\n    </tr>\\n    <tr>\\n      <td>\\n<a href=\"restaurants/39.html\">Romano&#39;s Macaroni Grill</a>      </td>\\n    </tr>\\n    <tr>\\n      <td>\\n<a href=\"restaurants/40.html\">Ruby Tuesday</a>      </td>\\n    </tr>\\n    <tr>\\n      <td>\\n<a href=\"restaurants/41.html\">Subway</a>      </td>\\n    </tr>\\n    <tr>\\n      <td>\\n<a href=\"restaurants/42.html\">Taco Bell</a>      </td>\\n    </tr>\\n    <tr>\\n      <td>\\n<a href=\"restaurants/43.html\">Taco Bueno</a>      </td>\\n    </tr>\\n    <tr>\\n      <td>\\n<a href=\"restaurants/44.html\">Wendy&#39;s</a>      </td>\\n    </tr>\\n  </tbody>\\n</table>    </main>\\n</body>\\n</html>\\n'"
      ]
     },
     "execution_count": 4,
     "metadata": {},
     "output_type": "execute_result"
    }
   ],
   "source": [
    "req.content"
   ]
  },
  {
   "cell_type": "code",
   "execution_count": 5,
   "metadata": {},
   "outputs": [],
   "source": [
    "soup = BeautifulSoup(req.content, 'lxml')"
   ]
  },
  {
   "cell_type": "markdown",
   "metadata": {},
   "source": [
    "### Step 2: Scrape the home page soup for every restaurant\n",
    "\n",
    "Note: Your best bet is to create a list of dictionaries, one for each restaurant. Each dictionary contains the restaurant's name and path from the `href`. The result of your scrape should look something like this:\n",
    "\n",
    "```python\n",
    "restaurants = [\n",
    "    {'name': 'A&W Restaurants', 'href': 'restaurants/1.html'}, \n",
    "    {'name': \"Applebee's\", 'href': 'restaurants/2.html'},\n",
    "    ...\n",
    "]\n",
    "```"
   ]
  },
  {
   "cell_type": "code",
   "execution_count": 6,
   "metadata": {},
   "outputs": [
    {
     "data": {
      "text/plain": [
       "[{'name': 'A&W Restaurants', 'href': 'restaurants/1.html'},\n",
       " {'name': \"Applebee's\", 'href': 'restaurants/2.html'},\n",
       " {'name': \"Arby's\", 'href': 'restaurants/3.html'},\n",
       " {'name': 'Atlanta Bread Company', 'href': 'restaurants/4.html'},\n",
       " {'name': \"Bojangle's Famous Chicken 'n Biscuits\",\n",
       "  'href': 'restaurants/5.html'},\n",
       " {'name': 'Buffalo Wild Wings', 'href': 'restaurants/6.html'},\n",
       " {'name': 'Burger King', 'href': 'restaurants/7.html'},\n",
       " {'name': \"Captain D's\", 'href': 'restaurants/8.html'},\n",
       " {'name': \"Carl's Jr.\", 'href': 'restaurants/9.html'},\n",
       " {'name': \"Charley's Grilled Subs\", 'href': 'restaurants/10.html'},\n",
       " {'name': 'Chick-fil-A', 'href': 'restaurants/11.html'},\n",
       " {'name': \"Chili's\", 'href': 'restaurants/12.html'},\n",
       " {'name': 'Chipotle Mexican Grill', 'href': 'restaurants/13.html'},\n",
       " {'name': \"Church's\", 'href': 'restaurants/14.html'},\n",
       " {'name': 'Corner Bakery Cafe', 'href': 'restaurants/15.html'},\n",
       " {'name': 'Dairy Queen', 'href': 'restaurants/16.html'},\n",
       " {'name': \"Denny's\", 'href': 'restaurants/17.html'},\n",
       " {'name': 'El Pollo Loco', 'href': 'restaurants/18.html'},\n",
       " {'name': 'FATZ', 'href': 'restaurants/19.html'},\n",
       " {'name': \"Fazoli's\", 'href': 'restaurants/20.html'},\n",
       " {'name': 'Five Guys Burgers and Fries', 'href': 'restaurants/21.html'},\n",
       " {'name': 'Golden Chick', 'href': 'restaurants/22.html'},\n",
       " {'name': \"Hardee's\", 'href': 'restaurants/23.html'},\n",
       " {'name': 'IHOP', 'href': 'restaurants/24.html'},\n",
       " {'name': 'In-N-Out Burger', 'href': 'restaurants/25.html'},\n",
       " {'name': 'Jack in the Box', 'href': 'restaurants/26.html'},\n",
       " {'name': 'Jimmy Johns', 'href': 'restaurants/27.html'},\n",
       " {'name': \"Joe's Crab Shack\", 'href': 'restaurants/28.html'},\n",
       " {'name': 'KFC', 'href': 'restaurants/29.html'},\n",
       " {'name': \"McDonald's\", 'href': 'restaurants/30.html'},\n",
       " {'name': \"O'Charley's\", 'href': 'restaurants/31.html'},\n",
       " {'name': 'Olive Garden', 'href': 'restaurants/32.html'},\n",
       " {'name': 'Outback Steakhouse', 'href': 'restaurants/33.html'},\n",
       " {'name': 'Panda Express', 'href': 'restaurants/34.html'},\n",
       " {'name': 'Panera Bread', 'href': 'restaurants/35.html'},\n",
       " {'name': \"Popeye's\", 'href': 'restaurants/36.html'},\n",
       " {'name': 'Quiznos', 'href': 'restaurants/37.html'},\n",
       " {'name': 'Red Robin Gourmet Burgers', 'href': 'restaurants/38.html'},\n",
       " {'name': \"Romano's Macaroni Grill\", 'href': 'restaurants/39.html'},\n",
       " {'name': 'Ruby Tuesday', 'href': 'restaurants/40.html'},\n",
       " {'name': 'Subway', 'href': 'restaurants/41.html'},\n",
       " {'name': 'Taco Bell', 'href': 'restaurants/42.html'},\n",
       " {'name': 'Taco Bueno', 'href': 'restaurants/43.html'},\n",
       " {'name': \"Wendy's\", 'href': 'restaurants/44.html'}]"
      ]
     },
     "execution_count": 6,
     "metadata": {},
     "output_type": "execute_result"
    }
   ],
   "source": [
    "# https://stackoverflow.com/questions/11716380/beautifulsoup-extract-text-from-anchor-tag\n",
    "\n",
    "restaurants = []\n",
    "for a in soup.find_all('a', href=True)[1:]:\n",
    "    restaurants.append({'name': a.contents[0], 'href': a['href']})\n",
    "    \n",
    "restaurants"
   ]
  },
  {
   "cell_type": "markdown",
   "metadata": {},
   "source": [
    "### Step 3: Using the `href`, scrape each restaurant's page and create a single list of food dictionaries.\n",
    "\n",
    "Your list of foods should look something like this:\n",
    "```python\n",
    "foods = [\n",
    "    {\n",
    "        'calories': '0',\n",
    "        'carbs': '0',\n",
    "        'category': 'Drinks',\n",
    "        'fat': '0',\n",
    "        'name': 'A&W® Diet Root Beer',\n",
    "        'restaurant': 'A&W Restaurants'\n",
    "    },\n",
    "    {\n",
    "        'calories': '0',\n",
    "        'carbs': '0',\n",
    "        'category': 'Drinks',\n",
    "        'fat': '0',\n",
    "        'name': 'A&W® Diet Root Beer',\n",
    "        'restaurant': 'A&W Restaurants'\n",
    "    },\n",
    "    ...\n",
    "]\n",
    "```\n",
    "\n",
    "**Note**: Remove extra white space from each category"
   ]
  },
  {
   "cell_type": "code",
   "execution_count": 7,
   "metadata": {},
   "outputs": [
    {
     "data": {
      "text/plain": [
       "{'restaurant': 'A&W Restaurants',\n",
       " 'category': 'Burgers',\n",
       " 'name': 'Original Bacon Double Cheeseburger',\n",
       " 'calories': '760',\n",
       " 'carbs': '45',\n",
       " 'fat': '45'}"
      ]
     },
     "execution_count": 7,
     "metadata": {},
     "output_type": "execute_result"
    }
   ],
   "source": [
    "# https://www.pluralsight.com/guides/extracting-data-html-beautifulsoup\n",
    "\n",
    "foods = []\n",
    "for r in restaurants:\n",
    "\n",
    "# loop through restaurant list to make beautiful soup object of each site\n",
    "    req2 = requests.get(f\"https://pages.git.generalassemb.ly/rldaggie/for-scraping/{r['href']}\", timeout = 5)\n",
    "    soup2 = BeautifulSoup(req2.content, 'lxml')\n",
    "\n",
    "# find food table and identify body\n",
    "    food_table = soup2.find('table', attrs={'class': 'table'})\n",
    "    food_table_data = food_table.tbody.find_all('tr')\n",
    "\n",
    "# loop through foods in table to pull each element into a dictionary then add to total foods list\n",
    "# headings = ['calories', 'carbs', 'category', 'fat', 'name', 'restaurant']\n",
    "    for food in food_table_data:\n",
    "        elements = food.find_all('td')\n",
    "        food_dict = {'restaurant': r['name'],\n",
    "                     'category': elements[1].text,\n",
    "                     'name': elements[0].text,\n",
    "                     'calories': elements[2].text,\n",
    "                     'carbs': elements[4].text,\n",
    "                     'fat': elements[3].text,\n",
    "                    }\n",
    "        foods.append(food_dict)\n",
    "foods[0]"
   ]
  },
  {
   "cell_type": "markdown",
   "metadata": {},
   "source": [
    "### Step 4: Create a pandas DataFrame from your list of foods\n",
    "\n",
    "**Note**: Your DataFrame should have 5,131 rows"
   ]
  },
  {
   "cell_type": "code",
   "execution_count": 8,
   "metadata": {},
   "outputs": [
    {
     "data": {
      "text/html": [
       "<div>\n",
       "<style scoped>\n",
       "    .dataframe tbody tr th:only-of-type {\n",
       "        vertical-align: middle;\n",
       "    }\n",
       "\n",
       "    .dataframe tbody tr th {\n",
       "        vertical-align: top;\n",
       "    }\n",
       "\n",
       "    .dataframe thead th {\n",
       "        text-align: right;\n",
       "    }\n",
       "</style>\n",
       "<table border=\"1\" class=\"dataframe\">\n",
       "  <thead>\n",
       "    <tr style=\"text-align: right;\">\n",
       "      <th></th>\n",
       "      <th>category</th>\n",
       "      <th>name</th>\n",
       "      <th>calories</th>\n",
       "      <th>carbs</th>\n",
       "      <th>fat</th>\n",
       "    </tr>\n",
       "    <tr>\n",
       "      <th>restaurant</th>\n",
       "      <th></th>\n",
       "      <th></th>\n",
       "      <th></th>\n",
       "      <th></th>\n",
       "      <th></th>\n",
       "    </tr>\n",
       "  </thead>\n",
       "  <tbody>\n",
       "    <tr>\n",
       "      <th>A&amp;W Restaurants</th>\n",
       "      <td>Burgers</td>\n",
       "      <td>Original Bacon Double Cheeseburger</td>\n",
       "      <td>760</td>\n",
       "      <td>45</td>\n",
       "      <td>45</td>\n",
       "    </tr>\n",
       "    <tr>\n",
       "      <th>A&amp;W Restaurants</th>\n",
       "      <td>Entrees</td>\n",
       "      <td>Coney (Chili) Dog</td>\n",
       "      <td>340</td>\n",
       "      <td>26</td>\n",
       "      <td>20</td>\n",
       "    </tr>\n",
       "    <tr>\n",
       "      <th>A&amp;W Restaurants</th>\n",
       "      <td>French Fries</td>\n",
       "      <td>Chili Fries</td>\n",
       "      <td>370</td>\n",
       "      <td>49</td>\n",
       "      <td>15</td>\n",
       "    </tr>\n",
       "    <tr>\n",
       "      <th>A&amp;W Restaurants</th>\n",
       "      <td>Shakes</td>\n",
       "      <td>Strawberry Milkshake (small)</td>\n",
       "      <td>670</td>\n",
       "      <td>90</td>\n",
       "      <td>29</td>\n",
       "    </tr>\n",
       "    <tr>\n",
       "      <th>A&amp;W Restaurants</th>\n",
       "      <td>Shakes</td>\n",
       "      <td>A&amp;W® Root Beer Freeze (large)</td>\n",
       "      <td>820</td>\n",
       "      <td>150</td>\n",
       "      <td>18</td>\n",
       "    </tr>\n",
       "    <tr>\n",
       "      <th>...</th>\n",
       "      <td>...</td>\n",
       "      <td>...</td>\n",
       "      <td>...</td>\n",
       "      <td>...</td>\n",
       "      <td>...</td>\n",
       "    </tr>\n",
       "    <tr>\n",
       "      <th>Wendy's</th>\n",
       "      <td>Shakes</td>\n",
       "      <td>Jr. Original Chocolate Frosty™</td>\n",
       "      <td>200</td>\n",
       "      <td>32</td>\n",
       "      <td>5</td>\n",
       "    </tr>\n",
       "    <tr>\n",
       "      <th>Wendy's</th>\n",
       "      <td>Wraps</td>\n",
       "      <td>Grilled Chicken Go Wrap</td>\n",
       "      <td>260</td>\n",
       "      <td>25</td>\n",
       "      <td>10</td>\n",
       "    </tr>\n",
       "    <tr>\n",
       "      <th>Wendy's</th>\n",
       "      <td>Sandwiches</td>\n",
       "      <td>Asiago Ranch Chicken Club</td>\n",
       "      <td>670</td>\n",
       "      <td>57</td>\n",
       "      <td>32</td>\n",
       "    </tr>\n",
       "    <tr>\n",
       "      <th>Wendy's</th>\n",
       "      <td>Wraps</td>\n",
       "      <td>Spicy Chicken Go Wrap</td>\n",
       "      <td>330</td>\n",
       "      <td>30</td>\n",
       "      <td>16</td>\n",
       "    </tr>\n",
       "    <tr>\n",
       "      <th>Wendy's</th>\n",
       "      <td>Shakes</td>\n",
       "      <td>Large Strawberry Frosty™ Shake</td>\n",
       "      <td>780</td>\n",
       "      <td>149</td>\n",
       "      <td>15</td>\n",
       "    </tr>\n",
       "  </tbody>\n",
       "</table>\n",
       "<p>5131 rows × 5 columns</p>\n",
       "</div>"
      ],
      "text/plain": [
       "                     category                                name calories  \\\n",
       "restaurant                                                                   \n",
       "A&W Restaurants       Burgers  Original Bacon Double Cheeseburger      760   \n",
       "A&W Restaurants       Entrees                   Coney (Chili) Dog      340   \n",
       "A&W Restaurants  French Fries                         Chili Fries      370   \n",
       "A&W Restaurants        Shakes        Strawberry Milkshake (small)      670   \n",
       "A&W Restaurants        Shakes       A&W® Root Beer Freeze (large)      820   \n",
       "...                       ...                                 ...      ...   \n",
       "Wendy's                Shakes      Jr. Original Chocolate Frosty™      200   \n",
       "Wendy's                 Wraps             Grilled Chicken Go Wrap      260   \n",
       "Wendy's            Sandwiches           Asiago Ranch Chicken Club      670   \n",
       "Wendy's                 Wraps               Spicy Chicken Go Wrap      330   \n",
       "Wendy's                Shakes      Large Strawberry Frosty™ Shake      780   \n",
       "\n",
       "                carbs fat  \n",
       "restaurant                 \n",
       "A&W Restaurants    45  45  \n",
       "A&W Restaurants    26  20  \n",
       "A&W Restaurants    49  15  \n",
       "A&W Restaurants    90  29  \n",
       "A&W Restaurants   150  18  \n",
       "...               ...  ..  \n",
       "Wendy's            32   5  \n",
       "Wendy's            25  10  \n",
       "Wendy's            57  32  \n",
       "Wendy's            30  16  \n",
       "Wendy's           149  15  \n",
       "\n",
       "[5131 rows x 5 columns]"
      ]
     },
     "execution_count": 8,
     "metadata": {},
     "output_type": "execute_result"
    }
   ],
   "source": [
    "food_df = pd.DataFrame(foods)\n",
    "food_df.set_index('restaurant', drop = True, inplace = True)\n",
    "food_df"
   ]
  },
  {
   "cell_type": "markdown",
   "metadata": {},
   "source": [
    "### Step 5: Export to csv\n",
    "\n",
    "**Note:** Don't export the index column from your DataFrame"
   ]
  },
  {
   "cell_type": "code",
   "execution_count": 9,
   "metadata": {},
   "outputs": [],
   "source": [
    "food_df.to_csv('foods.csv')"
   ]
  },
  {
   "cell_type": "markdown",
   "metadata": {},
   "source": [
    "### Step 6 Do the same thing as above, but use `pd.read_html()` to scrape the table from each page instead of BS4."
   ]
  },
  {
   "cell_type": "code",
   "execution_count": 10,
   "metadata": {},
   "outputs": [],
   "source": [
    "foods = []\n",
    "for r in restaurants:\n",
    "\n",
    "# loop through restaurant list to make beautiful soup object of each site\n",
    "    url = f\"https://pages.git.generalassemb.ly/rldaggie/for-scraping/{r['href']}\"\n",
    "    table = pd.read_html(url)[0]\n",
    "    table['restaurant'] = r['name']\n",
    "    foods.append(table)\n",
    "\n",
    "foods_df = pd.concat(foods)"
   ]
  },
  {
   "cell_type": "code",
   "execution_count": 11,
   "metadata": {},
   "outputs": [
    {
     "data": {
      "text/html": [
       "<div>\n",
       "<style scoped>\n",
       "    .dataframe tbody tr th:only-of-type {\n",
       "        vertical-align: middle;\n",
       "    }\n",
       "\n",
       "    .dataframe tbody tr th {\n",
       "        vertical-align: top;\n",
       "    }\n",
       "\n",
       "    .dataframe thead th {\n",
       "        text-align: right;\n",
       "    }\n",
       "</style>\n",
       "<table border=\"1\" class=\"dataframe\">\n",
       "  <thead>\n",
       "    <tr style=\"text-align: right;\">\n",
       "      <th></th>\n",
       "      <th>Name</th>\n",
       "      <th>Category</th>\n",
       "      <th>Calories</th>\n",
       "      <th>Fat</th>\n",
       "      <th>Carbs</th>\n",
       "    </tr>\n",
       "    <tr>\n",
       "      <th>restaurant</th>\n",
       "      <th></th>\n",
       "      <th></th>\n",
       "      <th></th>\n",
       "      <th></th>\n",
       "      <th></th>\n",
       "    </tr>\n",
       "  </thead>\n",
       "  <tbody>\n",
       "    <tr>\n",
       "      <th>A&amp;W Restaurants</th>\n",
       "      <td>Original Bacon Double Cheeseburger</td>\n",
       "      <td>Burgers</td>\n",
       "      <td>760</td>\n",
       "      <td>45</td>\n",
       "      <td>45</td>\n",
       "    </tr>\n",
       "    <tr>\n",
       "      <th>A&amp;W Restaurants</th>\n",
       "      <td>Coney (Chili) Dog</td>\n",
       "      <td>Entrees</td>\n",
       "      <td>340</td>\n",
       "      <td>20</td>\n",
       "      <td>26</td>\n",
       "    </tr>\n",
       "    <tr>\n",
       "      <th>A&amp;W Restaurants</th>\n",
       "      <td>Chili Fries</td>\n",
       "      <td>French Fries</td>\n",
       "      <td>370</td>\n",
       "      <td>15</td>\n",
       "      <td>49</td>\n",
       "    </tr>\n",
       "    <tr>\n",
       "      <th>A&amp;W Restaurants</th>\n",
       "      <td>Strawberry Milkshake (small)</td>\n",
       "      <td>Shakes</td>\n",
       "      <td>670</td>\n",
       "      <td>29</td>\n",
       "      <td>90</td>\n",
       "    </tr>\n",
       "    <tr>\n",
       "      <th>A&amp;W Restaurants</th>\n",
       "      <td>A&amp;W® Root Beer Freeze (large)</td>\n",
       "      <td>Shakes</td>\n",
       "      <td>820</td>\n",
       "      <td>18</td>\n",
       "      <td>150</td>\n",
       "    </tr>\n",
       "    <tr>\n",
       "      <th>...</th>\n",
       "      <td>...</td>\n",
       "      <td>...</td>\n",
       "      <td>...</td>\n",
       "      <td>...</td>\n",
       "      <td>...</td>\n",
       "    </tr>\n",
       "    <tr>\n",
       "      <th>Wendy's</th>\n",
       "      <td>Jr. Original Chocolate Frosty™</td>\n",
       "      <td>Shakes</td>\n",
       "      <td>200</td>\n",
       "      <td>5</td>\n",
       "      <td>32</td>\n",
       "    </tr>\n",
       "    <tr>\n",
       "      <th>Wendy's</th>\n",
       "      <td>Grilled Chicken Go Wrap</td>\n",
       "      <td>Wraps</td>\n",
       "      <td>260</td>\n",
       "      <td>10</td>\n",
       "      <td>25</td>\n",
       "    </tr>\n",
       "    <tr>\n",
       "      <th>Wendy's</th>\n",
       "      <td>Asiago Ranch Chicken Club</td>\n",
       "      <td>Sandwiches</td>\n",
       "      <td>670</td>\n",
       "      <td>32</td>\n",
       "      <td>57</td>\n",
       "    </tr>\n",
       "    <tr>\n",
       "      <th>Wendy's</th>\n",
       "      <td>Spicy Chicken Go Wrap</td>\n",
       "      <td>Wraps</td>\n",
       "      <td>330</td>\n",
       "      <td>16</td>\n",
       "      <td>30</td>\n",
       "    </tr>\n",
       "    <tr>\n",
       "      <th>Wendy's</th>\n",
       "      <td>Large Strawberry Frosty™ Shake</td>\n",
       "      <td>Shakes</td>\n",
       "      <td>780</td>\n",
       "      <td>15</td>\n",
       "      <td>149</td>\n",
       "    </tr>\n",
       "  </tbody>\n",
       "</table>\n",
       "<p>5131 rows × 5 columns</p>\n",
       "</div>"
      ],
      "text/plain": [
       "                                               Name      Category Calories  \\\n",
       "restaurant                                                                   \n",
       "A&W Restaurants  Original Bacon Double Cheeseburger       Burgers      760   \n",
       "A&W Restaurants                   Coney (Chili) Dog       Entrees      340   \n",
       "A&W Restaurants                         Chili Fries  French Fries      370   \n",
       "A&W Restaurants        Strawberry Milkshake (small)        Shakes      670   \n",
       "A&W Restaurants       A&W® Root Beer Freeze (large)        Shakes      820   \n",
       "...                                             ...           ...      ...   \n",
       "Wendy's              Jr. Original Chocolate Frosty™        Shakes      200   \n",
       "Wendy's                     Grilled Chicken Go Wrap         Wraps      260   \n",
       "Wendy's                   Asiago Ranch Chicken Club    Sandwiches      670   \n",
       "Wendy's                       Spicy Chicken Go Wrap         Wraps      330   \n",
       "Wendy's              Large Strawberry Frosty™ Shake        Shakes      780   \n",
       "\n",
       "                Fat Carbs  \n",
       "restaurant                 \n",
       "A&W Restaurants  45    45  \n",
       "A&W Restaurants  20    26  \n",
       "A&W Restaurants  15    49  \n",
       "A&W Restaurants  29    90  \n",
       "A&W Restaurants  18   150  \n",
       "...              ..   ...  \n",
       "Wendy's           5    32  \n",
       "Wendy's          10    25  \n",
       "Wendy's          32    57  \n",
       "Wendy's          16    30  \n",
       "Wendy's          15   149  \n",
       "\n",
       "[5131 rows x 5 columns]"
      ]
     },
     "execution_count": 11,
     "metadata": {},
     "output_type": "execute_result"
    }
   ],
   "source": [
    "foods_df.set_index('restaurant', inplace = True)\n",
    "foods_df"
   ]
  }
 ],
 "metadata": {
  "kernelspec": {
   "display_name": "Python 3",
   "language": "python",
   "name": "python3"
  },
  "language_info": {
   "codemirror_mode": {
    "name": "ipython",
    "version": 3
   },
   "file_extension": ".py",
   "mimetype": "text/x-python",
   "name": "python",
   "nbconvert_exporter": "python",
   "pygments_lexer": "ipython3",
   "version": "3.8.5"
  }
 },
 "nbformat": 4,
 "nbformat_minor": 4
}
